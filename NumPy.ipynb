{
 "cells": [
  {
   "cell_type": "code",
   "execution_count": 1,
   "id": "1a6beb44",
   "metadata": {},
   "outputs": [],
   "source": [
    "import numpy as np"
   ]
  },
  {
   "cell_type": "code",
   "execution_count": 2,
   "id": "54eeb056",
   "metadata": {},
   "outputs": [],
   "source": [
    "list = [1, 2, 3]"
   ]
  },
  {
   "cell_type": "code",
   "execution_count": 3,
   "id": "f56931f5",
   "metadata": {},
   "outputs": [
    {
     "data": {
      "text/plain": [
       "array([1, 2, 3])"
      ]
     },
     "execution_count": 3,
     "metadata": {},
     "output_type": "execute_result"
    }
   ],
   "source": [
    "np.array(list)"
   ]
  },
  {
   "cell_type": "code",
   "execution_count": 4,
   "id": "23a3621b",
   "metadata": {},
   "outputs": [
    {
     "data": {
      "text/plain": [
       "array([1, 2, 3])"
      ]
     },
     "execution_count": 4,
     "metadata": {},
     "output_type": "execute_result"
    }
   ],
   "source": [
    "np.array([1, 2, 3])"
   ]
  },
  {
   "cell_type": "code",
   "execution_count": 5,
   "id": "79c6bf22",
   "metadata": {},
   "outputs": [],
   "source": [
    "list_2d = [[1, 2, 4], [3, 5, 7], [6, 8, 10]]"
   ]
  },
  {
   "cell_type": "code",
   "execution_count": 6,
   "id": "d0320fb3",
   "metadata": {},
   "outputs": [
    {
     "data": {
      "text/plain": [
       "array([[ 1,  2,  4],\n",
       "       [ 3,  5,  7],\n",
       "       [ 6,  8, 10]])"
      ]
     },
     "execution_count": 6,
     "metadata": {},
     "output_type": "execute_result"
    }
   ],
   "source": [
    "np.array(list_2d)"
   ]
  },
  {
   "cell_type": "code",
   "execution_count": 7,
   "id": "8f26e2d4",
   "metadata": {},
   "outputs": [],
   "source": [
    "array_1 = np.arange(0, 100000, 2000)"
   ]
  },
  {
   "cell_type": "code",
   "execution_count": 8,
   "id": "a2b0eb66",
   "metadata": {},
   "outputs": [
    {
     "data": {
      "text/plain": [
       "50"
      ]
     },
     "execution_count": 8,
     "metadata": {},
     "output_type": "execute_result"
    }
   ],
   "source": [
    "array_1.size"
   ]
  },
  {
   "cell_type": "code",
   "execution_count": 9,
   "id": "7cebb45d",
   "metadata": {},
   "outputs": [],
   "source": [
    "array_1.resize(10, 5)"
   ]
  },
  {
   "cell_type": "code",
   "execution_count": 10,
   "id": "3fddf16c",
   "metadata": {},
   "outputs": [
    {
     "data": {
      "text/plain": [
       "array([[    0,  2000,  4000,  6000,  8000],\n",
       "       [10000, 12000, 14000, 16000, 18000],\n",
       "       [20000, 22000, 24000, 26000, 28000],\n",
       "       [30000, 32000, 34000, 36000, 38000],\n",
       "       [40000, 42000, 44000, 46000, 48000],\n",
       "       [50000, 52000, 54000, 56000, 58000],\n",
       "       [60000, 62000, 64000, 66000, 68000],\n",
       "       [70000, 72000, 74000, 76000, 78000],\n",
       "       [80000, 82000, 84000, 86000, 88000],\n",
       "       [90000, 92000, 94000, 96000, 98000]])"
      ]
     },
     "execution_count": 10,
     "metadata": {},
     "output_type": "execute_result"
    }
   ],
   "source": [
    "array_1"
   ]
  },
  {
   "cell_type": "code",
   "execution_count": 11,
   "id": "a40403ca",
   "metadata": {},
   "outputs": [
    {
     "data": {
      "text/plain": [
       "array([0., 0., 0., 0., 0., 0., 0., 0., 0., 0.])"
      ]
     },
     "execution_count": 11,
     "metadata": {},
     "output_type": "execute_result"
    }
   ],
   "source": [
    "np.zeros(10)"
   ]
  },
  {
   "cell_type": "code",
   "execution_count": 12,
   "id": "7519624b",
   "metadata": {},
   "outputs": [
    {
     "data": {
      "text/plain": [
       "array([[0., 0., 0., 0., 0., 0., 0., 0., 0., 0., 0.],\n",
       "       [0., 0., 0., 0., 0., 0., 0., 0., 0., 0., 0.],\n",
       "       [0., 0., 0., 0., 0., 0., 0., 0., 0., 0., 0.],\n",
       "       [0., 0., 0., 0., 0., 0., 0., 0., 0., 0., 0.],\n",
       "       [0., 0., 0., 0., 0., 0., 0., 0., 0., 0., 0.],\n",
       "       [0., 0., 0., 0., 0., 0., 0., 0., 0., 0., 0.],\n",
       "       [0., 0., 0., 0., 0., 0., 0., 0., 0., 0., 0.],\n",
       "       [0., 0., 0., 0., 0., 0., 0., 0., 0., 0., 0.],\n",
       "       [0., 0., 0., 0., 0., 0., 0., 0., 0., 0., 0.],\n",
       "       [0., 0., 0., 0., 0., 0., 0., 0., 0., 0., 0.]])"
      ]
     },
     "execution_count": 12,
     "metadata": {},
     "output_type": "execute_result"
    }
   ],
   "source": [
    "np.zeros((10, 11))"
   ]
  },
  {
   "cell_type": "code",
   "execution_count": 13,
   "id": "52da0478",
   "metadata": {},
   "outputs": [
    {
     "data": {
      "text/plain": [
       "array([[2., 2., 2., 2., 2., 2., 2., 2., 2., 2.],\n",
       "       [2., 2., 2., 2., 2., 2., 2., 2., 2., 2.],\n",
       "       [2., 2., 2., 2., 2., 2., 2., 2., 2., 2.],\n",
       "       [2., 2., 2., 2., 2., 2., 2., 2., 2., 2.],\n",
       "       [2., 2., 2., 2., 2., 2., 2., 2., 2., 2.],\n",
       "       [2., 2., 2., 2., 2., 2., 2., 2., 2., 2.],\n",
       "       [2., 2., 2., 2., 2., 2., 2., 2., 2., 2.],\n",
       "       [2., 2., 2., 2., 2., 2., 2., 2., 2., 2.],\n",
       "       [2., 2., 2., 2., 2., 2., 2., 2., 2., 2.],\n",
       "       [2., 2., 2., 2., 2., 2., 2., 2., 2., 2.]])"
      ]
     },
     "execution_count": 13,
     "metadata": {},
     "output_type": "execute_result"
    }
   ],
   "source": [
    "np.ones((10, 10))*2"
   ]
  },
  {
   "cell_type": "code",
   "execution_count": 14,
   "id": "83d50b70",
   "metadata": {},
   "outputs": [
    {
     "data": {
      "text/plain": [
       "array([0.        , 0.55555556, 1.11111111, 1.66666667, 2.22222222,\n",
       "       2.77777778, 3.33333333, 3.88888889, 4.44444444, 5.        ])"
      ]
     },
     "execution_count": 14,
     "metadata": {},
     "output_type": "execute_result"
    }
   ],
   "source": [
    "np.linspace(0, 5, 10)"
   ]
  },
  {
   "cell_type": "code",
   "execution_count": 15,
   "id": "fd4a391d",
   "metadata": {},
   "outputs": [
    {
     "data": {
      "text/plain": [
       "array([[12.,  0.,  0.,  0.,  0.,  0.,  0.,  0.,  0.,  0.],\n",
       "       [ 0., 12.,  0.,  0.,  0.,  0.,  0.,  0.,  0.,  0.],\n",
       "       [ 0.,  0., 12.,  0.,  0.,  0.,  0.,  0.,  0.,  0.],\n",
       "       [ 0.,  0.,  0., 12.,  0.,  0.,  0.,  0.,  0.,  0.],\n",
       "       [ 0.,  0.,  0.,  0., 12.,  0.,  0.,  0.,  0.,  0.],\n",
       "       [ 0.,  0.,  0.,  0.,  0., 12.,  0.,  0.,  0.,  0.],\n",
       "       [ 0.,  0.,  0.,  0.,  0.,  0., 12.,  0.,  0.,  0.],\n",
       "       [ 0.,  0.,  0.,  0.,  0.,  0.,  0., 12.,  0.,  0.],\n",
       "       [ 0.,  0.,  0.,  0.,  0.,  0.,  0.,  0., 12.,  0.],\n",
       "       [ 0.,  0.,  0.,  0.,  0.,  0.,  0.,  0.,  0., 12.]])"
      ]
     },
     "execution_count": 15,
     "metadata": {},
     "output_type": "execute_result"
    }
   ],
   "source": [
    "np.eye(10)*12"
   ]
  },
  {
   "cell_type": "code",
   "execution_count": 16,
   "id": "a4773938",
   "metadata": {},
   "outputs": [
    {
     "data": {
      "text/plain": [
       "array([[[0.5605584 , 0.11114547, 0.90019509, 0.06258929],\n",
       "        [0.70155885, 0.27694362, 0.19446846, 0.40686092],\n",
       "        [0.68333785, 0.03858134, 0.78322585, 0.85214351],\n",
       "        [0.57530037, 0.9661533 , 0.07093287, 0.36001238],\n",
       "        [0.06040733, 0.65456796, 0.61686924, 0.34779926]],\n",
       "\n",
       "       [[0.12138524, 0.94639981, 0.26349785, 0.79166325],\n",
       "        [0.45412618, 0.83749932, 0.41125058, 0.85226588],\n",
       "        [0.2061301 , 0.31133982, 0.29475623, 0.99762493],\n",
       "        [0.58240411, 0.32805383, 0.5506298 , 0.91658688],\n",
       "        [0.8583209 , 0.89284012, 0.46489961, 0.42966368]],\n",
       "\n",
       "       [[0.38133499, 0.13537594, 0.76739574, 0.4318699 ],\n",
       "        [0.5863513 , 0.32065941, 0.4517998 , 0.42286799],\n",
       "        [0.97716923, 0.47459265, 0.72672055, 0.4365226 ],\n",
       "        [0.78680644, 0.59362052, 0.17761114, 0.89381451],\n",
       "        [0.8026777 , 0.58796469, 0.15617622, 0.33717593]],\n",
       "\n",
       "       [[0.52774713, 0.01488648, 0.30377888, 0.83974459],\n",
       "        [0.54675198, 0.67762482, 0.14785057, 0.33797667],\n",
       "        [0.82702673, 0.55676607, 0.44394716, 0.11521972],\n",
       "        [0.94635503, 0.96460986, 0.62665684, 0.12069432],\n",
       "        [0.30688168, 0.962178  , 0.62203486, 0.80860014]],\n",
       "\n",
       "       [[0.65093464, 0.56218621, 0.37479185, 0.24169714],\n",
       "        [0.34517501, 0.96183409, 0.30611171, 0.25907805],\n",
       "        [0.56366399, 0.59345961, 0.02850045, 0.17553593],\n",
       "        [0.28328895, 0.67531003, 0.43420574, 0.82025855],\n",
       "        [0.853955  , 0.8269199 , 0.18572292, 0.84845766]]])"
      ]
     },
     "execution_count": 16,
     "metadata": {},
     "output_type": "execute_result"
    }
   ],
   "source": [
    "np.random.rand(5, 5, 4)"
   ]
  },
  {
   "cell_type": "code",
   "execution_count": 17,
   "id": "aeb144bf",
   "metadata": {},
   "outputs": [
    {
     "data": {
      "text/plain": [
       "array([[ 1.76991926, -1.48850291,  0.77864539,  0.85179695, -0.08189259,\n",
       "         0.02196509,  1.99350373, -0.1673022 , -0.27126149,  1.09721987,\n",
       "        -0.71184253, -0.01846402],\n",
       "       [-0.41313059,  1.07429298, -1.17472169,  0.82071439,  0.89062333,\n",
       "        -0.93287464,  0.35741637,  0.13207423,  0.96266345,  1.53137381,\n",
       "         2.51093405,  0.79691654],\n",
       "       [-0.25650628,  0.53981236,  0.51104785,  1.69487181,  0.2689382 ,\n",
       "         0.18289004,  0.17544977,  1.53290207, -0.25940991, -0.78044137,\n",
       "         0.5749802 ,  0.1364597 ],\n",
       "       [ 0.82746293,  0.0161632 ,  0.82967746,  0.58423832, -0.2394007 ,\n",
       "         0.03943294, -0.35369221,  0.43465001, -0.23664648,  0.27425821,\n",
       "        -1.03647641,  0.71270969],\n",
       "       [ 1.61215025, -0.29513774, -1.32229376,  0.94302896, -2.01364979,\n",
       "         0.05346138, -2.31027904,  0.5060893 , -2.23852999,  0.30980076,\n",
       "        -1.18750158, -0.43303899],\n",
       "       [ 1.31133143,  1.05042951, -1.57004305, -1.66200513, -0.77330297,\n",
       "        -1.19711687,  0.17068023,  0.42303054, -2.27782043,  0.62208483,\n",
       "         0.7768031 , -0.15229064],\n",
       "       [ 1.40162607,  0.80596533, -0.06273726,  1.14214347, -0.19312708,\n",
       "         0.69193837,  0.71088996,  0.89313212,  1.145372  ,  0.92813473,\n",
       "         0.02710917, -1.38123722],\n",
       "       [ 0.16055999, -0.7048776 ,  1.39923374,  1.30220762, -0.66575317,\n",
       "        -0.3253298 ,  0.46710817,  0.17252872,  0.03323574, -1.13479571,\n",
       "         1.61175931, -0.42104813],\n",
       "       [ 0.54324078, -0.03409229,  1.08853783, -0.72021874,  0.70364376,\n",
       "         0.23872195, -0.10396305, -0.06362855,  0.08978964, -0.18597924,\n",
       "         0.36600157,  0.66209461],\n",
       "       [-0.40757455,  0.00329494,  0.60757182, -1.83086492,  0.88841901,\n",
       "         1.17047638,  0.16956211,  1.28342219, -0.75196533,  0.17800123,\n",
       "         0.89933425,  0.61984203],\n",
       "       [ 0.42836768, -0.95162844,  0.07393594,  0.71542539,  1.03043587,\n",
       "        -2.06995234,  1.18321709,  1.49335952, -0.76830989,  1.55185027,\n",
       "        -1.05808459, -0.07558954],\n",
       "       [-1.05818364,  1.35514057,  0.13312778, -0.50979488,  1.21478612,\n",
       "        -1.90536965, -0.51545476,  0.13449467, -0.75995327, -0.04565221,\n",
       "         0.04545829,  1.25966589]])"
      ]
     },
     "execution_count": 17,
     "metadata": {},
     "output_type": "execute_result"
    }
   ],
   "source": [
    "np.random.randn(12, 12)\n",
    "#gaussian distribution, centered around 0"
   ]
  },
  {
   "cell_type": "code",
   "execution_count": 18,
   "id": "2a5c7087",
   "metadata": {},
   "outputs": [
    {
     "data": {
      "text/plain": [
       "array([[9, 5, 7],\n",
       "       [0, 6, 4]])"
      ]
     },
     "execution_count": 18,
     "metadata": {},
     "output_type": "execute_result"
    }
   ],
   "source": [
    "np.random.randint(0, 10, (2, 3), dtype = int)"
   ]
  },
  {
   "cell_type": "code",
   "execution_count": 19,
   "id": "d84e08a3",
   "metadata": {},
   "outputs": [
    {
     "data": {
      "text/plain": [
       "array([ 7, 31, 31,  4, 10,  1,  0, 28, 41, 23])"
      ]
     },
     "execution_count": 19,
     "metadata": {},
     "output_type": "execute_result"
    }
   ],
   "source": [
    "rand_int_array = np.random.randint(0, 50, 10)\n",
    "rand_int_array"
   ]
  },
  {
   "cell_type": "code",
   "execution_count": 20,
   "id": "b7fa0ac2",
   "metadata": {},
   "outputs": [
    {
     "data": {
      "text/plain": [
       "41"
      ]
     },
     "execution_count": 20,
     "metadata": {},
     "output_type": "execute_result"
    }
   ],
   "source": [
    "rand_int_array.max()\n"
   ]
  },
  {
   "cell_type": "code",
   "execution_count": 21,
   "id": "6ef3636d",
   "metadata": {},
   "outputs": [
    {
     "data": {
      "text/plain": [
       "0"
      ]
     },
     "execution_count": 21,
     "metadata": {},
     "output_type": "execute_result"
    }
   ],
   "source": [
    "rand_int_array.min()"
   ]
  },
  {
   "cell_type": "code",
   "execution_count": 22,
   "id": "6a259d9c",
   "metadata": {},
   "outputs": [
    {
     "data": {
      "text/plain": [
       "8"
      ]
     },
     "execution_count": 22,
     "metadata": {},
     "output_type": "execute_result"
    }
   ],
   "source": [
    "rand_int_array.argmax()"
   ]
  },
  {
   "cell_type": "code",
   "execution_count": 23,
   "id": "8fb02d84",
   "metadata": {},
   "outputs": [
    {
     "data": {
      "text/plain": [
       "6"
      ]
     },
     "execution_count": 23,
     "metadata": {},
     "output_type": "execute_result"
    }
   ],
   "source": [
    "rand_int_array.argmin()"
   ]
  },
  {
   "cell_type": "code",
   "execution_count": 24,
   "id": "ef195c97",
   "metadata": {},
   "outputs": [
    {
     "data": {
      "text/plain": [
       "dtype('int32')"
      ]
     },
     "execution_count": 24,
     "metadata": {},
     "output_type": "execute_result"
    }
   ],
   "source": [
    "rand_int_array.dtype"
   ]
  },
  {
   "cell_type": "code",
   "execution_count": 25,
   "id": "bfcad117",
   "metadata": {},
   "outputs": [],
   "source": [
    "import numpy.random as rand"
   ]
  },
  {
   "cell_type": "code",
   "execution_count": 26,
   "id": "bfddfcd6",
   "metadata": {},
   "outputs": [
    {
     "data": {
      "text/plain": [
       "array([7, 6, 6, 5, 6, 8, 2, 4, 5, 6])"
      ]
     },
     "execution_count": 26,
     "metadata": {},
     "output_type": "execute_result"
    }
   ],
   "source": [
    "rand.randint(1, 10, 10)"
   ]
  },
  {
   "cell_type": "raw",
   "id": "39016bca",
   "metadata": {},
   "source": []
  },
  {
   "cell_type": "code",
   "execution_count": 27,
   "id": "0ffd72d2",
   "metadata": {},
   "outputs": [],
   "source": [
    "sample_array_1D = np.arange(100)"
   ]
  },
  {
   "cell_type": "code",
   "execution_count": 28,
   "id": "e1b10982",
   "metadata": {},
   "outputs": [],
   "source": [
    "sample_array_2D = np.arange(0, 100).reshape(10, 10)"
   ]
  },
  {
   "cell_type": "code",
   "execution_count": 29,
   "id": "a5dcbd3e",
   "metadata": {},
   "outputs": [
    {
     "data": {
      "text/plain": [
       "array([ 0,  1,  2,  3,  4,  5,  6,  7,  8,  9, 10, 11, 12])"
      ]
     },
     "execution_count": 29,
     "metadata": {},
     "output_type": "execute_result"
    }
   ],
   "source": [
    "sample_array_1D[0:13]"
   ]
  },
  {
   "cell_type": "code",
   "execution_count": 30,
   "id": "5a48934d",
   "metadata": {},
   "outputs": [
    {
     "data": {
      "text/plain": [
       "array([[ 0,  1],\n",
       "       [10, 11],\n",
       "       [20, 21],\n",
       "       [30, 31],\n",
       "       [40, 41],\n",
       "       [50, 51],\n",
       "       [60, 61],\n",
       "       [70, 71],\n",
       "       [80, 81],\n",
       "       [90, 91]])"
      ]
     },
     "execution_count": 30,
     "metadata": {},
     "output_type": "execute_result"
    }
   ],
   "source": [
    "sample_array_2D[0:10, 0:2]"
   ]
  },
  {
   "cell_type": "code",
   "execution_count": 31,
   "id": "d3c85ac0",
   "metadata": {},
   "outputs": [],
   "source": [
    "sample_array_1D_slice = sample_array_1D[0:10]"
   ]
  },
  {
   "cell_type": "code",
   "execution_count": 32,
   "id": "5a8eb904",
   "metadata": {},
   "outputs": [],
   "source": [
    "sample_array_1D_slice[:] = 93"
   ]
  },
  {
   "cell_type": "code",
   "execution_count": 33,
   "id": "74911d0e",
   "metadata": {},
   "outputs": [
    {
     "data": {
      "text/plain": [
       "array([93, 93, 93, 93, 93, 93, 93, 93, 93, 93])"
      ]
     },
     "execution_count": 33,
     "metadata": {},
     "output_type": "execute_result"
    }
   ],
   "source": [
    "sample_array_1D_slice"
   ]
  },
  {
   "cell_type": "code",
   "execution_count": 34,
   "id": "0531db6b",
   "metadata": {},
   "outputs": [
    {
     "data": {
      "text/plain": [
       "array([93, 93, 93, 93, 93, 93, 93, 93, 93, 93, 10, 11, 12, 13, 14, 15, 16,\n",
       "       17, 18, 19, 20, 21, 22, 23, 24, 25, 26, 27, 28, 29, 30, 31, 32, 33,\n",
       "       34, 35, 36, 37, 38, 39, 40, 41, 42, 43, 44, 45, 46, 47, 48, 49, 50,\n",
       "       51, 52, 53, 54, 55, 56, 57, 58, 59, 60, 61, 62, 63, 64, 65, 66, 67,\n",
       "       68, 69, 70, 71, 72, 73, 74, 75, 76, 77, 78, 79, 80, 81, 82, 83, 84,\n",
       "       85, 86, 87, 88, 89, 90, 91, 92, 93, 94, 95, 96, 97, 98, 99])"
      ]
     },
     "execution_count": 34,
     "metadata": {},
     "output_type": "execute_result"
    }
   ],
   "source": [
    "sample_array_1D"
   ]
  },
  {
   "cell_type": "markdown",
   "id": "05b53058",
   "metadata": {},
   "source": [
    "Numpy do not create a copy, it creates a new refrence"
   ]
  },
  {
   "cell_type": "code",
   "execution_count": 35,
   "id": "f629cbde",
   "metadata": {},
   "outputs": [],
   "source": [
    "sample_array_1D_copy = sample_array_1D.copy()[0:10]"
   ]
  },
  {
   "cell_type": "code",
   "execution_count": 36,
   "id": "4a5e1298",
   "metadata": {},
   "outputs": [],
   "source": [
    "sample_array_1D_copy[:] = 9999"
   ]
  },
  {
   "cell_type": "code",
   "execution_count": 37,
   "id": "383647ad",
   "metadata": {},
   "outputs": [
    {
     "data": {
      "text/plain": [
       "array([9999, 9999, 9999, 9999, 9999, 9999, 9999, 9999, 9999, 9999])"
      ]
     },
     "execution_count": 37,
     "metadata": {},
     "output_type": "execute_result"
    }
   ],
   "source": [
    "sample_array_1D_copy"
   ]
  },
  {
   "cell_type": "code",
   "execution_count": 38,
   "id": "79539f8e",
   "metadata": {},
   "outputs": [
    {
     "data": {
      "text/plain": [
       "array([93, 93, 93, 93, 93, 93, 93, 93, 93, 93, 10, 11, 12, 13, 14, 15, 16,\n",
       "       17, 18, 19, 20, 21, 22, 23, 24, 25, 26, 27, 28, 29, 30, 31, 32, 33,\n",
       "       34, 35, 36, 37, 38, 39, 40, 41, 42, 43, 44, 45, 46, 47, 48, 49, 50,\n",
       "       51, 52, 53, 54, 55, 56, 57, 58, 59, 60, 61, 62, 63, 64, 65, 66, 67,\n",
       "       68, 69, 70, 71, 72, 73, 74, 75, 76, 77, 78, 79, 80, 81, 82, 83, 84,\n",
       "       85, 86, 87, 88, 89, 90, 91, 92, 93, 94, 95, 96, 97, 98, 99])"
      ]
     },
     "execution_count": 38,
     "metadata": {},
     "output_type": "execute_result"
    }
   ],
   "source": [
    "sample_array_1D"
   ]
  },
  {
   "cell_type": "markdown",
   "id": "97d81bc7",
   "metadata": {},
   "source": [
    "UCHANGED"
   ]
  },
  {
   "cell_type": "code",
   "execution_count": 39,
   "id": "8491aee9",
   "metadata": {},
   "outputs": [
    {
     "name": "stdout",
     "output_type": "stream",
     "text": [
      "9\n",
      "9\n"
     ]
    }
   ],
   "source": [
    "print(sample_array_2D[0, 9])\n",
    "#Single bracket method\n",
    "print(sample_array_2D[0][9])"
   ]
  },
  {
   "cell_type": "code",
   "execution_count": 40,
   "id": "da2e3285",
   "metadata": {},
   "outputs": [
    {
     "data": {
      "text/plain": [
       "array([[ 0,  1,  2,  3,  4,  5,  6,  7,  8,  9],\n",
       "       [10, 11, 12, 13, 14, 15, 16, 17, 18, 19],\n",
       "       [20, 21, 22, 23, 24, 25, 26, 27, 28, 29]])"
      ]
     },
     "execution_count": 40,
     "metadata": {},
     "output_type": "execute_result"
    }
   ],
   "source": [
    "sample_array_2D[0:3, 0:10]"
   ]
  },
  {
   "cell_type": "code",
   "execution_count": 48,
   "id": "5f67a225",
   "metadata": {},
   "outputs": [],
   "source": [
    "arr_2d = np.arange(5, 50, 5).reshape(3, 3)"
   ]
  },
  {
   "cell_type": "code",
   "execution_count": 51,
   "id": "5b6d4688",
   "metadata": {},
   "outputs": [
    {
     "data": {
      "text/plain": [
       "array([[ 5, 10, 15],\n",
       "       [20, 25, 30],\n",
       "       [35, 40, 45]])"
      ]
     },
     "execution_count": 51,
     "metadata": {},
     "output_type": "execute_result"
    }
   ],
   "source": [
    "arr_2d"
   ]
  },
  {
   "cell_type": "code",
   "execution_count": 52,
   "id": "99d00947",
   "metadata": {},
   "outputs": [
    {
     "data": {
      "text/plain": [
       "array([[20, 25, 30],\n",
       "       [35, 40, 45]])"
      ]
     },
     "execution_count": 52,
     "metadata": {},
     "output_type": "execute_result"
    }
   ],
   "source": [
    "arr_2d[1:, :]"
   ]
  },
  {
   "cell_type": "markdown",
   "id": "346c466a",
   "metadata": {},
   "source": [
    "Conditional Selection"
   ]
  },
  {
   "cell_type": "code",
   "execution_count": 53,
   "id": "79530780",
   "metadata": {},
   "outputs": [
    {
     "data": {
      "text/plain": [
       "array([ 1,  2,  3,  4,  5,  6,  7,  8,  9, 10])"
      ]
     },
     "execution_count": 53,
     "metadata": {},
     "output_type": "execute_result"
    }
   ],
   "source": [
    "arr = np.arange(1, 11)\n",
    "arr"
   ]
  },
  {
   "cell_type": "code",
   "execution_count": 55,
   "id": "4bbadc3e",
   "metadata": {},
   "outputs": [],
   "source": [
    "bool_array = arr == 6"
   ]
  },
  {
   "cell_type": "code",
   "execution_count": 56,
   "id": "7a6621ba",
   "metadata": {},
   "outputs": [
    {
     "data": {
      "text/plain": [
       "array([False, False, False, False, False,  True, False, False, False,\n",
       "       False])"
      ]
     },
     "execution_count": 56,
     "metadata": {},
     "output_type": "execute_result"
    }
   ],
   "source": [
    "bool_array"
   ]
  },
  {
   "cell_type": "code",
   "execution_count": 57,
   "id": "29b54985",
   "metadata": {},
   "outputs": [
    {
     "data": {
      "text/plain": [
       "array([ 6,  7,  8,  9, 10])"
      ]
     },
     "execution_count": 57,
     "metadata": {},
     "output_type": "execute_result"
    }
   ],
   "source": [
    "arr[arr > 5]"
   ]
  },
  {
   "cell_type": "code",
   "execution_count": 58,
   "id": "b9462b58",
   "metadata": {},
   "outputs": [
    {
     "data": {
      "text/plain": [
       "array([1, 2])"
      ]
     },
     "execution_count": 58,
     "metadata": {},
     "output_type": "execute_result"
    }
   ],
   "source": [
    "arr[arr < 3]"
   ]
  },
  {
   "cell_type": "code",
   "execution_count": 60,
   "id": "b6b7fb81",
   "metadata": {},
   "outputs": [
    {
     "data": {
      "text/plain": [
       "array([[ 0,  1,  2,  3,  4,  5,  6,  7,  8,  9],\n",
       "       [10, 11, 12, 13, 14, 15, 16, 17, 18, 19],\n",
       "       [20, 21, 22, 23, 24, 25, 26, 27, 28, 29],\n",
       "       [30, 31, 32, 33, 34, 35, 36, 37, 38, 39],\n",
       "       [40, 41, 42, 43, 44, 45, 46, 47, 48, 49]])"
      ]
     },
     "execution_count": 60,
     "metadata": {},
     "output_type": "execute_result"
    }
   ],
   "source": [
    "array_2d = np.arange(50).reshape(5, 10)\n",
    "array_2d"
   ]
  },
  {
   "cell_type": "code",
   "execution_count": 63,
   "id": "078b1244",
   "metadata": {},
   "outputs": [
    {
     "data": {
      "text/plain": [
       "array([[13, 14],\n",
       "       [23, 24]])"
      ]
     },
     "execution_count": 63,
     "metadata": {},
     "output_type": "execute_result"
    }
   ],
   "source": [
    "array_2d[1:3, 3:5]"
   ]
  },
  {
   "cell_type": "markdown",
   "id": "d1744a67",
   "metadata": {},
   "source": [
    "Array Operations"
   ]
  },
  {
   "cell_type": "code",
   "execution_count": 65,
   "id": "a2d71aef",
   "metadata": {},
   "outputs": [],
   "source": [
    "arr = np.arange(0,11)"
   ]
  },
  {
   "cell_type": "code",
   "execution_count": 66,
   "id": "42aaf6cb",
   "metadata": {},
   "outputs": [
    {
     "data": {
      "text/plain": [
       "array([ 0,  2,  4,  6,  8, 10, 12, 14, 16, 18, 20])"
      ]
     },
     "execution_count": 66,
     "metadata": {},
     "output_type": "execute_result"
    }
   ],
   "source": [
    "arr + arr"
   ]
  },
  {
   "cell_type": "code",
   "execution_count": 67,
   "id": "0b47fb04",
   "metadata": {},
   "outputs": [
    {
     "data": {
      "text/plain": [
       "array([100, 101, 102, 103, 104, 105, 106, 107, 108, 109, 110])"
      ]
     },
     "execution_count": 67,
     "metadata": {},
     "output_type": "execute_result"
    }
   ],
   "source": [
    "arr + 100"
   ]
  },
  {
   "cell_type": "code",
   "execution_count": 68,
   "id": "88c05ef1",
   "metadata": {},
   "outputs": [
    {
     "data": {
      "text/plain": [
       "array([  0,   1,   4,   9,  16,  25,  36,  49,  64,  81, 100])"
      ]
     },
     "execution_count": 68,
     "metadata": {},
     "output_type": "execute_result"
    }
   ],
   "source": [
    "arr * arr"
   ]
  },
  {
   "cell_type": "code",
   "execution_count": 69,
   "id": "9a992ada",
   "metadata": {},
   "outputs": [
    {
     "name": "stderr",
     "output_type": "stream",
     "text": [
      "C:\\Users\\Richter\\AppData\\Local\\Temp/ipykernel_19568/3001117470.py:1: RuntimeWarning: invalid value encountered in true_divide\n",
      "  arr / arr\n"
     ]
    },
    {
     "data": {
      "text/plain": [
       "array([nan,  1.,  1.,  1.,  1.,  1.,  1.,  1.,  1.,  1.,  1.])"
      ]
     },
     "execution_count": 69,
     "metadata": {},
     "output_type": "execute_result"
    }
   ],
   "source": [
    "arr / arr"
   ]
  },
  {
   "cell_type": "markdown",
   "id": "39905632",
   "metadata": {},
   "source": [
    "NaN"
   ]
  },
  {
   "cell_type": "code",
   "execution_count": 71,
   "id": "b70de4da",
   "metadata": {},
   "outputs": [
    {
     "data": {
      "text/plain": [
       "array([         1,          1,          4,         27,        256,\n",
       "             3125,      46656,     823543,   16777216,  387420489,\n",
       "       1410065408], dtype=int32)"
      ]
     },
     "execution_count": 71,
     "metadata": {},
     "output_type": "execute_result"
    }
   ],
   "source": [
    "arr ** arr"
   ]
  },
  {
   "cell_type": "code",
   "execution_count": 72,
   "id": "c288a76d",
   "metadata": {},
   "outputs": [
    {
     "data": {
      "text/plain": [
       "array([1.00000000e+00, 1.00000000e+00, 2.00000000e+00, 5.19615242e+00,\n",
       "       1.60000000e+01, 5.59016994e+01, 2.16000000e+02, 9.07492700e+02,\n",
       "       4.09600000e+03, 1.96830000e+04, 3.75508376e+04])"
      ]
     },
     "execution_count": 72,
     "metadata": {},
     "output_type": "execute_result"
    }
   ],
   "source": [
    "np.sqrt(arr**arr)"
   ]
  },
  {
   "cell_type": "code",
   "execution_count": 74,
   "id": "f8fd4b8e",
   "metadata": {},
   "outputs": [
    {
     "data": {
      "text/plain": [
       "array([1.00000000e+00, 2.71828183e+00, 7.38905610e+00, 2.00855369e+01,\n",
       "       5.45981500e+01, 1.48413159e+02, 4.03428793e+02, 1.09663316e+03,\n",
       "       2.98095799e+03, 8.10308393e+03, 2.20264658e+04])"
      ]
     },
     "execution_count": 74,
     "metadata": {},
     "output_type": "execute_result"
    }
   ],
   "source": [
    "np.exp(arr)"
   ]
  },
  {
   "cell_type": "code",
   "execution_count": 75,
   "id": "00a4c840",
   "metadata": {},
   "outputs": [
    {
     "data": {
      "text/plain": [
       "array([ 0.        ,  0.84147098,  0.90929743,  0.14112001, -0.7568025 ,\n",
       "       -0.95892427, -0.2794155 ,  0.6569866 ,  0.98935825,  0.41211849,\n",
       "       -0.54402111])"
      ]
     },
     "execution_count": 75,
     "metadata": {},
     "output_type": "execute_result"
    }
   ],
   "source": [
    "np.sin(arr)"
   ]
  },
  {
   "cell_type": "code",
   "execution_count": 81,
   "id": "c37f1b8c",
   "metadata": {},
   "outputs": [],
   "source": [
    "arr = np.arange(0, 365, 5)"
   ]
  },
  {
   "cell_type": "code",
   "execution_count": 79,
   "id": "e86fbb0e",
   "metadata": {},
   "outputs": [
    {
     "data": {
      "text/plain": [
       "array([ 0.00000000e+00, -9.58924275e-01, -5.44021111e-01,  6.50287840e-01,\n",
       "        9.12945251e-01, -1.32351750e-01, -9.88031624e-01, -4.28182669e-01,\n",
       "        7.45113160e-01,  8.50903525e-01, -2.62374854e-01, -9.99755173e-01,\n",
       "       -3.04810621e-01,  8.26828679e-01,  7.73890682e-01, -3.87781635e-01,\n",
       "       -9.93888654e-01, -1.76075620e-01,  8.93996664e-01,  6.83261715e-01,\n",
       "       -5.06365641e-01, -9.70535284e-01, -4.42426781e-02,  9.45435334e-01,\n",
       "        5.80611184e-01, -6.16040459e-01, -9.30105950e-01,  8.83686861e-02,\n",
       "        9.80239659e-01,  4.67745162e-01, -7.14876430e-01, -8.73311983e-01,\n",
       "        2.19425258e-01,  9.97797279e-01,  3.46649455e-01, -8.01134595e-01,\n",
       "       -8.01152636e-01,  3.46621180e-01,  9.97799279e-01,  2.19454668e-01,\n",
       "       -8.73297297e-01, -7.14897508e-01,  4.67718518e-01,  9.80245622e-01,\n",
       "        8.83987125e-02, -9.30094878e-01, -6.16064204e-01,  5.80586641e-01,\n",
       "        9.45445155e-01, -4.42125632e-02, -9.70528020e-01, -5.06391635e-01,\n",
       "        6.83239704e-01,  8.94010170e-01, -1.76045946e-01, -9.93885326e-01,\n",
       "       -3.87809421e-01,  7.73871590e-01,  8.26845634e-01, -3.04781911e-01,\n",
       "       -9.99755840e-01, -2.62403942e-01,  8.50887689e-01,  7.45133265e-01,\n",
       "       -4.28155428e-01, -9.88036273e-01, -1.32381629e-01,  9.12932949e-01,\n",
       "        6.50310740e-01, -5.43995817e-01, -9.58932825e-01, -3.01443534e-05])"
      ]
     },
     "execution_count": 79,
     "metadata": {},
     "output_type": "execute_result"
    }
   ],
   "source": [
    "np.sin(arr)"
   ]
  },
  {
   "cell_type": "code",
   "execution_count": null,
   "id": "22e2159c",
   "metadata": {},
   "outputs": [],
   "source": []
  }
 ],
 "metadata": {
  "kernelspec": {
   "display_name": "Python 3 (ipykernel)",
   "language": "python",
   "name": "python3"
  },
  "language_info": {
   "codemirror_mode": {
    "name": "ipython",
    "version": 3
   },
   "file_extension": ".py",
   "mimetype": "text/x-python",
   "name": "python",
   "nbconvert_exporter": "python",
   "pygments_lexer": "ipython3",
   "version": "3.9.7"
  }
 },
 "nbformat": 4,
 "nbformat_minor": 5
}
