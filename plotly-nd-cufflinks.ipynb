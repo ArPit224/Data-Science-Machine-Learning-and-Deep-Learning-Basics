{
 "cells": [
  {
   "cell_type": "code",
   "execution_count": 4,
   "metadata": {},
   "outputs": [],
   "source": [
    "import matplotlib.pyplot as plt\n",
    "import seaborn as sns"
   ]
  },
  {
   "cell_type": "code",
   "execution_count": 1,
   "metadata": {},
   "outputs": [
    {
     "ename": "ModuleNotFoundError",
     "evalue": "No module named 'chart_studio'",
     "output_type": "error",
     "traceback": [
      "\u001b[0;31m---------------------------------------------------------------------------\u001b[0m",
      "\u001b[0;31mModuleNotFoundError\u001b[0m                       Traceback (most recent call last)",
      "\u001b[1;32m/home/noir/Dokumente/GitHub/repos/Data Science, Machine Learning, and Deep Learning/plotly-nd-cufflinks.ipynb Zelle 2\u001b[0m in \u001b[0;36m<cell line: 5>\u001b[0;34m()\u001b[0m\n\u001b[1;32m      <a href='vscode-notebook-cell:/home/noir/Dokumente/GitHub/repos/Data%20Science%2C%20Machine%20Learning%2C%20and%20Deep%20Learning/plotly-nd-cufflinks.ipynb#W1sZmlsZQ%3D%3D?line=2'>3</a>\u001b[0m \u001b[39mimport\u001b[39;00m \u001b[39mmatplotlib\u001b[39;00m\u001b[39m.\u001b[39;00m\u001b[39mpyplot\u001b[39;00m \u001b[39mas\u001b[39;00m \u001b[39mplt\u001b[39;00m\n\u001b[1;32m      <a href='vscode-notebook-cell:/home/noir/Dokumente/GitHub/repos/Data%20Science%2C%20Machine%20Learning%2C%20and%20Deep%20Learning/plotly-nd-cufflinks.ipynb#W1sZmlsZQ%3D%3D?line=3'>4</a>\u001b[0m \u001b[39mimport\u001b[39;00m \u001b[39mseaborn\u001b[39;00m \u001b[39mas\u001b[39;00m \u001b[39msns\u001b[39;00m\n\u001b[0;32m----> <a href='vscode-notebook-cell:/home/noir/Dokumente/GitHub/repos/Data%20Science%2C%20Machine%20Learning%2C%20and%20Deep%20Learning/plotly-nd-cufflinks.ipynb#W1sZmlsZQ%3D%3D?line=4'>5</a>\u001b[0m \u001b[39mimport\u001b[39;00m \u001b[39mchart_studio\u001b[39;00m\u001b[39m.\u001b[39;00m\u001b[39mplotly\u001b[39;00m \u001b[39mas\u001b[39;00m \u001b[39mpy\u001b[39;00m\n\u001b[1;32m      <a href='vscode-notebook-cell:/home/noir/Dokumente/GitHub/repos/Data%20Science%2C%20Machine%20Learning%2C%20and%20Deep%20Learning/plotly-nd-cufflinks.ipynb#W1sZmlsZQ%3D%3D?line=5'>6</a>\u001b[0m \u001b[39mfrom\u001b[39;00m \u001b[39mplotly\u001b[39;00m\u001b[39m.\u001b[39;00m\u001b[39moffline\u001b[39;00m \u001b[39mimport\u001b[39;00m download_plotlyjs, init_notebook_mode, plot, iplot\n\u001b[1;32m      <a href='vscode-notebook-cell:/home/noir/Dokumente/GitHub/repos/Data%20Science%2C%20Machine%20Learning%2C%20and%20Deep%20Learning/plotly-nd-cufflinks.ipynb#W1sZmlsZQ%3D%3D?line=6'>7</a>\u001b[0m \u001b[39mimport\u001b[39;00m \u001b[39mcufflinks\u001b[39;00m \u001b[39mas\u001b[39;00m \u001b[39mcf\u001b[39;00m\n",
      "\u001b[0;31mModuleNotFoundError\u001b[0m: No module named 'chart_studio'"
     ]
    }
   ],
   "source": [
    "import pandas as pd\n",
    "import numpy as np\n",
    "import matplotlib.pyplot as plt\n",
    "import seaborn as sns\n",
    "import chart_studio.plotly as py\n",
    "from plotly.offline import download_plotlyjs, init_notebook_mode, plot, iplot\n",
    "import cufflinks as cf\n",
    "import math\n"
   ]
  },
  {
   "cell_type": "code",
   "execution_count": 14,
   "metadata": {},
   "outputs": [],
   "source": [
    "%matplotlib inline"
   ]
  },
  {
   "cell_type": "code",
   "execution_count": 9,
   "metadata": {},
   "outputs": [
    {
     "data": {
      "text/html": [
       "        <script type=\"text/javascript\">\n",
       "        window.PlotlyConfig = {MathJaxConfig: 'local'};\n",
       "        if (window.MathJax && window.MathJax.Hub && window.MathJax.Hub.Config) {window.MathJax.Hub.Config({SVG: {font: \"STIX-Web\"}});}\n",
       "        if (typeof require !== 'undefined') {\n",
       "        require.undef(\"plotly\");\n",
       "        requirejs.config({\n",
       "            paths: {\n",
       "                'plotly': ['https://cdn.plot.ly/plotly-2.12.1.min']\n",
       "            }\n",
       "        });\n",
       "        require(['plotly'], function(Plotly) {\n",
       "            window._Plotly = Plotly;\n",
       "        });\n",
       "        }\n",
       "        </script>\n",
       "        "
      ]
     },
     "metadata": {},
     "output_type": "display_data"
    }
   ],
   "source": [
    "init_notebook_mode(connected = True)"
   ]
  },
  {
   "cell_type": "code",
   "execution_count": 8,
   "metadata": {},
   "outputs": [
    {
     "data": {
      "text/html": [
       "        <script type=\"text/javascript\">\n",
       "        window.PlotlyConfig = {MathJaxConfig: 'local'};\n",
       "        if (window.MathJax && window.MathJax.Hub && window.MathJax.Hub.Config) {window.MathJax.Hub.Config({SVG: {font: \"STIX-Web\"}});}\n",
       "        if (typeof require !== 'undefined') {\n",
       "        require.undef(\"plotly\");\n",
       "        requirejs.config({\n",
       "            paths: {\n",
       "                'plotly': ['https://cdn.plot.ly/plotly-2.12.1.min']\n",
       "            }\n",
       "        });\n",
       "        require(['plotly'], function(Plotly) {\n",
       "            window._Plotly = Plotly;\n",
       "        });\n",
       "        }\n",
       "        </script>\n",
       "        "
      ]
     },
     "metadata": {},
     "output_type": "display_data"
    }
   ],
   "source": [
    "cf.go_offline()"
   ]
  },
  {
   "cell_type": "code",
   "execution_count": 4,
   "metadata": {},
   "outputs": [
    {
     "name": "stdout",
     "output_type": "stream",
     "text": [
      "5.9.0\n"
     ]
    }
   ],
   "source": [
    "from plotly import __version__\n",
    "print(__version__)"
   ]
  },
  {
   "cell_type": "code",
   "execution_count": 10,
   "metadata": {},
   "outputs": [
    {
     "data": {
      "text/html": [
       "<div>\n",
       "<style scoped>\n",
       "    .dataframe tbody tr th:only-of-type {\n",
       "        vertical-align: middle;\n",
       "    }\n",
       "\n",
       "    .dataframe tbody tr th {\n",
       "        vertical-align: top;\n",
       "    }\n",
       "\n",
       "    .dataframe thead th {\n",
       "        text-align: right;\n",
       "    }\n",
       "</style>\n",
       "<table border=\"1\" class=\"dataframe\">\n",
       "  <thead>\n",
       "    <tr style=\"text-align: right;\">\n",
       "      <th></th>\n",
       "      <th>A</th>\n",
       "      <th>B</th>\n",
       "      <th>C</th>\n",
       "      <th>D</th>\n",
       "    </tr>\n",
       "  </thead>\n",
       "  <tbody>\n",
       "    <tr>\n",
       "      <th>0</th>\n",
       "      <td>-0.494295</td>\n",
       "      <td>0.534228</td>\n",
       "      <td>-0.315449</td>\n",
       "      <td>0.089346</td>\n",
       "    </tr>\n",
       "    <tr>\n",
       "      <th>1</th>\n",
       "      <td>-0.161787</td>\n",
       "      <td>1.402700</td>\n",
       "      <td>-0.629495</td>\n",
       "      <td>-0.620418</td>\n",
       "    </tr>\n",
       "    <tr>\n",
       "      <th>2</th>\n",
       "      <td>-0.839060</td>\n",
       "      <td>-0.042319</td>\n",
       "      <td>0.240494</td>\n",
       "      <td>-0.061167</td>\n",
       "    </tr>\n",
       "    <tr>\n",
       "      <th>3</th>\n",
       "      <td>-0.028346</td>\n",
       "      <td>1.019315</td>\n",
       "      <td>-0.592038</td>\n",
       "      <td>-1.995464</td>\n",
       "    </tr>\n",
       "    <tr>\n",
       "      <th>4</th>\n",
       "      <td>-1.024116</td>\n",
       "      <td>0.190204</td>\n",
       "      <td>0.093099</td>\n",
       "      <td>0.593870</td>\n",
       "    </tr>\n",
       "    <tr>\n",
       "      <th>...</th>\n",
       "      <td>...</td>\n",
       "      <td>...</td>\n",
       "      <td>...</td>\n",
       "      <td>...</td>\n",
       "    </tr>\n",
       "    <tr>\n",
       "      <th>95</th>\n",
       "      <td>-1.284124</td>\n",
       "      <td>0.562442</td>\n",
       "      <td>-0.360501</td>\n",
       "      <td>-0.559040</td>\n",
       "    </tr>\n",
       "    <tr>\n",
       "      <th>96</th>\n",
       "      <td>0.892104</td>\n",
       "      <td>0.801511</td>\n",
       "      <td>1.153415</td>\n",
       "      <td>0.891009</td>\n",
       "    </tr>\n",
       "    <tr>\n",
       "      <th>97</th>\n",
       "      <td>0.962729</td>\n",
       "      <td>0.681395</td>\n",
       "      <td>-0.869963</td>\n",
       "      <td>-0.475113</td>\n",
       "    </tr>\n",
       "    <tr>\n",
       "      <th>98</th>\n",
       "      <td>-0.050464</td>\n",
       "      <td>0.077646</td>\n",
       "      <td>2.051072</td>\n",
       "      <td>-1.272055</td>\n",
       "    </tr>\n",
       "    <tr>\n",
       "      <th>99</th>\n",
       "      <td>1.751446</td>\n",
       "      <td>0.366393</td>\n",
       "      <td>1.234433</td>\n",
       "      <td>-0.875366</td>\n",
       "    </tr>\n",
       "  </tbody>\n",
       "</table>\n",
       "<p>100 rows × 4 columns</p>\n",
       "</div>"
      ],
      "text/plain": [
       "           A         B         C         D\n",
       "0  -0.494295  0.534228 -0.315449  0.089346\n",
       "1  -0.161787  1.402700 -0.629495 -0.620418\n",
       "2  -0.839060 -0.042319  0.240494 -0.061167\n",
       "3  -0.028346  1.019315 -0.592038 -1.995464\n",
       "4  -1.024116  0.190204  0.093099  0.593870\n",
       "..       ...       ...       ...       ...\n",
       "95 -1.284124  0.562442 -0.360501 -0.559040\n",
       "96  0.892104  0.801511  1.153415  0.891009\n",
       "97  0.962729  0.681395 -0.869963 -0.475113\n",
       "98 -0.050464  0.077646  2.051072 -1.272055\n",
       "99  1.751446  0.366393  1.234433 -0.875366\n",
       "\n",
       "[100 rows x 4 columns]"
      ]
     },
     "execution_count": 10,
     "metadata": {},
     "output_type": "execute_result"
    }
   ],
   "source": [
    "df = pd.DataFrame(np.random.randn(100, 4), columns = 'A B C D'.split())\n",
    "df"
   ]
  },
  {
   "cell_type": "code",
   "execution_count": 13,
   "metadata": {},
   "outputs": [
    {
     "data": {
      "text/html": [
       "<div>\n",
       "<style scoped>\n",
       "    .dataframe tbody tr th:only-of-type {\n",
       "        vertical-align: middle;\n",
       "    }\n",
       "\n",
       "    .dataframe tbody tr th {\n",
       "        vertical-align: top;\n",
       "    }\n",
       "\n",
       "    .dataframe thead th {\n",
       "        text-align: right;\n",
       "    }\n",
       "</style>\n",
       "<table border=\"1\" class=\"dataframe\">\n",
       "  <thead>\n",
       "    <tr style=\"text-align: right;\">\n",
       "      <th></th>\n",
       "      <th>Cat</th>\n",
       "      <th>values</th>\n",
       "    </tr>\n",
       "  </thead>\n",
       "  <tbody>\n",
       "    <tr>\n",
       "      <th>0</th>\n",
       "      <td>A</td>\n",
       "      <td>1</td>\n",
       "    </tr>\n",
       "    <tr>\n",
       "      <th>1</th>\n",
       "      <td>B</td>\n",
       "      <td>2</td>\n",
       "    </tr>\n",
       "    <tr>\n",
       "      <th>2</th>\n",
       "      <td>C</td>\n",
       "      <td>3</td>\n",
       "    </tr>\n",
       "    <tr>\n",
       "      <th>3</th>\n",
       "      <td>D</td>\n",
       "      <td>4</td>\n",
       "    </tr>\n",
       "  </tbody>\n",
       "</table>\n",
       "</div>"
      ],
      "text/plain": [
       "  Cat  values\n",
       "0   A       1\n",
       "1   B       2\n",
       "2   C       3\n",
       "3   D       4"
      ]
     },
     "execution_count": 13,
     "metadata": {},
     "output_type": "execute_result"
    }
   ],
   "source": [
    "df2 = pd.DataFrame({'Cat': ['A', 'B', 'C', 'D'], 'values': [1, 2, 3, 4]})\n",
    "df2"
   ]
  },
  {
   "cell_type": "code",
   "execution_count": 15,
   "metadata": {},
   "outputs": [
    {
     "data": {
      "text/plain": [
       "<AxesSubplot:>"
      ]
     },
     "execution_count": 15,
     "metadata": {},
     "output_type": "execute_result"
    },
    {
     "data": {
      "image/png": "[encoded data removed]",
      "text/plain": [
       "<Figure size 432x288 with 1 Axes>"
      ]
     },
     "metadata": {
      "needs_background": "light"
     },
     "output_type": "display_data"
    }
   ],
   "source": [
    "df.plot()"
   ]
  },
  {
   "cell_type": "code",
   "execution_count": 16,
   "metadata": {},
   "outputs": [
    {
     "data": {
      "application/vnd.plotly.v1+json": {
       "config": {
        "linkText": "Export to plot.ly",
        "plotlyServerURL": "https://plot.ly",
        "showLink": true
       },
       "data": [
        {
         "line": {
          "color": "rgba(255, 153, 51, 1.0)",
          "dash": "solid",
          "shape": "linear",
          "width": 1.3
         },
         "mode": "lines",
         "name": "A",
         "text": "",
         "type": "scatter",
         "x": [
          0,
          1,
          2,
          3,
          4,
          5,
          6,
          7,
          8,
          9,
          10,
          11,
          12,
          13,
          14,
          15,
          16,
          17,
          18,
          19,
          20,
          21,
          22,
          23,
          24,
          25,
          26,
          27,
          28,
          29,
          30,
          31,
          32,
          33,
          34,
          35,
          36,
          37,
          38,
          39,
          40,
          41,
          42,
          43,
          44,
          45,
          46,
          47,
          48,
          49,
          50,
          51,
          52,
          53,
          54,
          55,
          56,
          57,
          58,
          59,
          60,
          61,
          62,
          63,
          64,
          65,
          66,
          67,
          68,
          69,
          70,
          71,
          72,
          73,
          74,
          75,
          76,
          77,
          78,
          79,
          80,
          81,
          82,
          83,
          84,
          85,
          86,
          87,
          88,
          89,
          90,
          91,
          92,
          93,
          94,
          95,
          96,
          97,
          98,
          99
         ],
         "y": [
          -0.4942953176823016,
          -0.16178728762490022,
          -0.8390603474350155,
          -0.02834614733446766,
          -1.0241161439007027,
          -0.9179823556087278,
          -0.5270811295796719,
          0.27533957657120334,
          -0.5166194685975221,
          -1.0373363047670325,
          -0.07861749677191446,
          1.5208938679123218,
          -1.045419118852328,
          0.9577597313370604,
          -1.208814364572658,
          -0.9378190015267323,
          -0.15179128135226935,
          -0.36823942602092946,
          1.1801976171675,
          -0.11122333672212044,
          0.6014903130814289,
          1.2500633036329303,
          0.1819515234536075,
          -0.090011472030963,
          -0.6640883373039753,
          -2.3274427178266577,
          -0.7268755613223424,
          1.5467846684798305,
          1.0752380851138414,
          -0.4894197997176759,
          0.3958357693479593,
          0.44196600839681394,
          -0.3815767418951726,
          0.005070999414106161,
          1.6834912069917087,
          0.23933330837847944,
          0.5091389558013533,
          0.09842979261146152,
          -0.4499547611547523,
          -0.3463024203076845,
          0.5733040312105815,
          0.4332099472954645,
          1.2126318537230285,
          -1.190727520028816,
          -0.9073285189222283,
          1.4172606453447274,
          -0.6255530412469508,
          1.845694562361856,
          0.23847555300346618,
          0.6407587236980142,
          -1.0114360620177183,
          -0.5564814526573163,
          0.2546935905558053,
          -1.2695858243941578,
          1.8514492919366132,
          0.23523213662306688,
          -0.9291021799224172,
          0.040780225794706006,
          -2.096391112393384,
          -1.0160093775689543,
          0.5582814799467065,
          0.07613378337792231,
          -0.6538248733075313,
          1.5466824093846314,
          -0.9398066743878285,
          -1.0419175370218265,
          1.4001038558843346,
          -0.6184912302826338,
          -1.0297252079314425,
          -1.6621970043629886,
          0.21232562549579445,
          -0.1745745780404813,
          -1.2695458015265704,
          0.7721539642847285,
          0.684357453602497,
          -0.12012953623771906,
          1.6419455398398206,
          -0.8537595616075221,
          0.877407245152962,
          0.7671818773977611,
          -2.0579375560046227,
          1.2583085349685919,
          -0.06086249192674227,
          -0.5953435869818778,
          1.4104887511271211,
          2.664778128711753,
          0.1557542023501004,
          -2.57578177829515,
          1.6151325598363857,
          1.3949436887722926,
          -1.3499359854025543,
          -0.29763398924145984,
          0.8875033159886624,
          0.7132636066262454,
          -0.6568805732905527,
          -1.2841239429149591,
          0.8921044369350987,
          0.9627291060958764,
          -0.05046368624338138,
          1.7514462836643638
         ]
        },
        {
         "line": {
          "color": "rgba(55, 128, 191, 1.0)",
          "dash": "solid",
          "shape": "linear",
          "width": 1.3
         },
         "mode": "lines",
         "name": "B",
         "text": "",
         "type": "scatter",
         "x": [
          0,
          1,
          2,
          3,
          4,
          5,
          6,
          7,
          8,
          9,
          10,
          11,
          12,
          13,
          14,
          15,
          16,
          17,
          18,
          19,
          20,
          21,
          22,
          23,
          24,
          25,
          26,
          27,
          28,
          29,
          30,
          31,
          32,
          33,
          34,
          35,
          36,
          37,
          38,
          39,
          40,
          41,
          42,
          43,
          44,
          45,
          46,
          47,
          48,
          49,
          50,
          51,
          52,
          53,
          54,
          55,
          56,
          57,
          58,
          59,
          60,
          61,
          62,
          63,
          64,
          65,
          66,
          67,
          68,
          69,
          70,
          71,
          72,
          73,
          74,
          75,
          76,
          77,
          78,
          79,
          80,
          81,
          82,
          83,
          84,
          85,
          86,
          87,
          88,
          89,
          90,
          91,
          92,
          93,
          94,
          95,
          96,
          97,
          98,
          99
         ],
         "y": [
          0.5342279294184061,
          1.4027002947045557,
          -0.04231923805900977,
          1.0193152802393086,
          0.19020380468037196,
          -0.25101066852987897,
          -1.3234460500820229,
          -0.7102961177276159,
          -1.2188833252946112,
          -0.2509427527758014,
          -0.4972100597525194,
          0.9200068347409374,
          0.5305852426250938,
          -0.789776529741536,
          -0.3151413308369421,
          1.0419994560702541,
          -1.6726795721883483,
          -0.054232125771517876,
          -0.3475065821731161,
          1.8414299305336574,
          -1.0248321960310214,
          0.6227084515351512,
          -1.469308912354218,
          0.6206098026659517,
          -0.544776513549284,
          0.7443023664543984,
          0.9277564024175217,
          0.8844551169125096,
          -1.412910036443049,
          -0.3312102191817102,
          -0.5679771129167459,
          -0.09941752793468576,
          0.3414330320458227,
          -0.2736731821470112,
          -1.4022770009335412,
          -0.17736500238279326,
          1.3394257274647081,
          0.06039619665633815,
          1.0199651963358696,
          -0.0336855450777126,
          -1.4035988730083373,
          -0.8994101424761897,
          0.05546321719611497,
          -0.04208932606639428,
          -0.8557583994765704,
          1.254813606707856,
          -0.8322421898343253,
          0.7932220524954545,
          -0.9727067951156456,
          -0.6179395294940135,
          -0.2696732178209384,
          -1.7491173672878475,
          -1.1367140053446656,
          2.103923224946755,
          0.5662613882124462,
          0.09770870178985863,
          -1.3934372991820918,
          1.7677098016640478,
          -2.4399130575647536,
          0.9289580668517282,
          1.3016428729622989,
          0.6165389017341409,
          -0.7368996020135627,
          0.8627650858987035,
          0.3224902792829107,
          -0.1468242968561799,
          2.3285993867271073,
          -0.4042520600874832,
          -0.7950476123982081,
          0.5843407659871811,
          -0.26247330655892537,
          -0.6853914154352411,
          1.0510047593807925,
          -0.45651092843367985,
          0.13007583279119403,
          -0.5373558174283922,
          0.5358966029554065,
          -2.5861993641689094,
          0.31165828623633496,
          0.9828868313471093,
          -0.7547607087949244,
          0.3510646180511959,
          0.2644730431161891,
          -1.7922774328173583,
          0.9693804143743695,
          -1.574172648943034,
          -0.9835891522107112,
          -1.1537979278687105,
          1.4909807597293028,
          -0.4884412776593585,
          -2.5294774508653033,
          -0.021036511128168234,
          0.2125064824871628,
          -0.29345506255160564,
          0.6167073612975943,
          0.562442231779378,
          0.8015113723690133,
          0.6813952712182159,
          0.07764638774859549,
          0.3663927189774646
         ]
        },
        {
         "line": {
          "color": "rgba(50, 171, 96, 1.0)",
          "dash": "solid",
          "shape": "linear",
          "width": 1.3
         },
         "mode": "lines",
         "name": "C",
         "text": "",
         "type": "scatter",
         "x": [
          0,
          1,
          2,
          3,
          4,
          5,
          6,
          7,
          8,
          9,
          10,
          11,
          12,
          13,
          14,
          15,
          16,
          17,
          18,
          19,
          20,
          21,
          22,
          23,
          24,
          25,
          26,
          27,
          28,
          29,
          30,
          31,
          32,
          33,
          34,
          35,
          36,
          37,
          38,
          39,
          40,
          41,
          42,
          43,
          44,
          45,
          46,
          47,
          48,
          49,
          50,
          51,
          52,
          53,
          54,
          55,
          56,
          57,
          58,
          59,
          60,
          61,
          62,
          63,
          64,
          65,
          66,
          67,
          68,
          69,
          70,
          71,
          72,
          73,
          74,
          75,
          76,
          77,
          78,
          79,
          80,
          81,
          82,
          83,
          84,
          85,
          86,
          87,
          88,
          89,
          90,
          91,
          92,
          93,
          94,
          95,
          96,
          97,
          98,
          99
         ],
         "y": [
          -0.3154488270715505,
          -0.6294945796924227,
          0.240494226638103,
          -0.5920375461026449,
          0.09309885879647004,
          -1.1019609492773985,
          -0.4210043883064996,
          0.9526615224042668,
          -0.2593046690455147,
          -0.7305047003773976,
          -0.4262264747808937,
          0.5076016065228501,
          -1.3985876758475007,
          -0.5228902581395778,
          -1.3040135035012852,
          -0.04707911951866159,
          0.2060885042772829,
          -0.8984767044565156,
          -2.8906078209316797,
          0.24068438964349848,
          -1.2711346139838915,
          -1.457577570792992,
          -0.3461781262920315,
          0.4259201318688281,
          0.19087471555343147,
          1.0970132204947263,
          -0.3606090412326543,
          -0.7852660798035648,
          1.0502553283642908,
          0.05878978572241869,
          -0.5408678451828739,
          1.0985398262753236,
          -0.48136944833667866,
          0.9416352713130145,
          -1.3047599688825093,
          -0.17265730841419458,
          0.34203726912708876,
          0.25799089418144633,
          -0.07244038602533656,
          0.9552105010856232,
          0.6292561361822644,
          -0.45740120405831003,
          1.079499090782834,
          -0.182547956429989,
          -1.8773759903999565,
          0.23878966978855012,
          1.6741528539243862,
          -1.2715315023729938,
          -0.5624881368118058,
          -0.9671161028706979,
          -0.7431377779818199,
          0.5688190678127818,
          0.5845496311550398,
          1.1497182332398017,
          0.8993271512769057,
          0.9094995463207933,
          -0.3689534326970936,
          0.24283786202118357,
          -1.0776379779235257,
          -0.19536958675293167,
          0.10968378234211433,
          -1.1434277559936807,
          1.5381562561775182,
          -1.248551026292755,
          -2.2516620043508944,
          1.1484458551415926,
          0.07769139644046953,
          0.19592474611894195,
          2.754331062447277,
          1.3655138947005445,
          2.311129291317888,
          1.2526347174720331,
          0.25876470715185296,
          0.1432557461035415,
          -0.940231527434915,
          -2.2301388002370177,
          2.4585677766476417,
          0.10560525269650307,
          0.07534722210680579,
          -0.39838816671567784,
          -1.0708495374515463,
          -0.36890457211693456,
          0.6356702354895857,
          0.09833823679877067,
          -0.6762685596083686,
          -0.2956714552397667,
          -0.5490871826155951,
          0.877497035933541,
          -0.2614664701403081,
          0.111619887582688,
          -0.14687130934702486,
          -1.1556809445854956,
          -0.40525028885212905,
          -0.7317915435895866,
          0.7682147727575239,
          -0.3605008420803052,
          1.1534146755068944,
          -0.8699627356350427,
          2.051072094255719,
          1.2344327885983042
         ]
        },
        {
         "line": {
          "color": "rgba(128, 0, 128, 1.0)",
          "dash": "solid",
          "shape": "linear",
          "width": 1.3
         },
         "mode": "lines",
         "name": "D",
         "text": "",
         "type": "scatter",
         "x": [
          0,
          1,
          2,
          3,
          4,
          5,
          6,
          7,
          8,
          9,
          10,
          11,
          12,
          13,
          14,
          15,
          16,
          17,
          18,
          19,
          20,
          21,
          22,
          23,
          24,
          25,
          26,
          27,
          28,
          29,
          30,
          31,
          32,
          33,
          34,
          35,
          36,
          37,
          38,
          39,
          40,
          41,
          42,
          43,
          44,
          45,
          46,
          47,
          48,
          49,
          50,
          51,
          52,
          53,
          54,
          55,
          56,
          57,
          58,
          59,
          60,
          61,
          62,
          63,
          64,
          65,
          66,
          67,
          68,
          69,
          70,
          71,
          72,
          73,
          74,
          75,
          76,
          77,
          78,
          79,
          80,
          81,
          82,
          83,
          84,
          85,
          86,
          87,
          88,
          89,
          90,
          91,
          92,
          93,
          94,
          95,
          96,
          97,
          98,
          99
         ],
         "y": [
          0.08934616819792145,
          -0.6204177662393392,
          -0.061167053870507075,
          -1.9954641078568938,
          0.5938696697953778,
          -0.6442975580045824,
          0.6226665029655851,
          0.295140949870477,
          0.308708567544027,
          -0.9125985828200055,
          0.610770966709956,
          0.5987646054189169,
          0.21009247741684847,
          -0.6802679714516239,
          -0.7608509127932546,
          0.5320559406380219,
          -0.5615326209840743,
          -0.3993877889033179,
          0.29259458548270545,
          2.029917346891441,
          -0.0396315902605462,
          0.15452395897867943,
          -2.2245829693624626,
          0.40909587620174276,
          -0.2478688955915267,
          -0.9346271940807865,
          1.372179674705609,
          -0.22457233664380521,
          -0.05589696575465355,
          1.0883434385406532,
          -0.9101505457153852,
          -0.20755366822689525,
          0.21994202768015067,
          0.006737608398075186,
          -2.212126291556357,
          1.335188746887495,
          -0.617385824950108,
          -0.512088444121255,
          -0.423244789170961,
          -0.2846556567453891,
          -1.2178925184416742,
          1.5981771449346152,
          -0.49534070982276096,
          -0.3566476750472755,
          -0.24342544351884987,
          1.031775040784417,
          0.5165881961690759,
          0.51906391169398,
          0.9271136673110147,
          -2.0920736067913404,
          -0.45357514956011435,
          0.8889557485226732,
          -1.68681172378416,
          1.018734096060937,
          0.8841601433200967,
          0.8892055015007345,
          -1.4999204575957803,
          -0.05499430168331451,
          0.31522439576657757,
          -1.243036409570123,
          1.8191857121114723,
          -1.2340131740369849,
          -1.3578777167565985,
          -0.1509352090221654,
          -0.01751109767323108,
          1.7763548787620291,
          0.4157755299770914,
          0.6755657992344761,
          2.0549734801716784,
          0.9045794065202,
          -1.2473312016703293,
          0.415531775455957,
          1.0001415053194742,
          -0.09035832325362496,
          -1.6289133374595204,
          -0.6593886229424755,
          0.07236845245061095,
          -0.24264056064226458,
          0.2631193533891654,
          -0.6892966681325187,
          -0.37084686838446823,
          0.019817197356161057,
          1.6262058623062356,
          -1.1118601908680732,
          -0.5618850966586071,
          -0.18495045519069012,
          1.2689871205699828,
          0.6517269225416741,
          -1.2509489981146684,
          -1.191439119162852,
          -1.116401146492447,
          0.347450650534722,
          -0.22682743449130288,
          -0.24960401379258,
          0.02444021742102796,
          -0.5590396984737351,
          0.8910090366639997,
          -0.4751130654012434,
          -1.2720551299347036,
          -0.8753662135157493
         ]
        }
       ],
       "layout": {
        "legend": {
         "bgcolor": "#F5F6F9",
         "font": {
          "color": "#4D5663"
         }
        },
        "paper_bgcolor": "#F5F6F9",
        "plot_bgcolor": "#F5F6F9",
        "template": {
         "data": {
          "bar": [
           {
            "error_x": {
             "color": "#2a3f5f"
            },
            "error_y": {
             "color": "#2a3f5f"
            },
            "marker": {
             "line": {
              "color": "#E5ECF6",
              "width": 0.5
             },
             "pattern": {
              "fillmode": "overlay",
              "size": 10,
              "solidity": 0.2
             }
            },
            "type": "bar"
           }
          ],
          "barpolar": [
           {
            "marker": {
             "line": {
              "color": "#E5ECF6",
              "width": 0.5
             },
             "pattern": {
              "fillmode": "overlay",
              "size": 10,
              "solidity": 0.2
             }
            },
            "type": "barpolar"
           }
          ],
          "carpet": [
           {
            "aaxis": {
             "endlinecolor": "#2a3f5f",
             "gridcolor": "white",
             "linecolor": "white",
             "minorgridcolor": "white",
             "startlinecolor": "#2a3f5f"
            },
            "baxis": {
             "endlinecolor": "#2a3f5f",
             "gridcolor": "white",
             "linecolor": "white",
             "minorgridcolor": "white",
             "startlinecolor": "#2a3f5f"
            },
            "type": "carpet"
           }
          ],
          "choropleth": [
           {
            "colorbar": {
             "outlinewidth": 0,
             "ticks": ""
            },
            "type": "choropleth"
           }
          ],
          "contour": [
           {
            "colorbar": {
             "outlinewidth": 0,
             "ticks": ""
            },
            "colorscale": [
             [
              0,
              "#0d0887"
             ],
             [
              0.1111111111111111,
              "#46039f"
             ],
             [
              0.2222222222222222,
              "#7201a8"
             ],
             [
              0.3333333333333333,
              "#9c179e"
             ],
             [
              0.4444444444444444,
              "#bd3786"
             ],
             [
              0.5555555555555556,
              "#d8576b"
             ],
             [
              0.6666666666666666,
              "#ed7953"
             ],
             [
              0.7777777777777778,
              "#fb9f3a"
             ],
             [
              0.8888888888888888,
              "#fdca26"
             ],
             [
              1,
              "#f0f921"
             ]
            ],
            "type": "contour"
           }
          ],
          "contourcarpet": [
           {
            "colorbar": {
             "outlinewidth": 0,
             "ticks": ""
            },
            "type": "contourcarpet"
           }
          ],
          "heatmap": [
           {
            "colorbar": {
             "outlinewidth": 0,
             "ticks": ""
            },
            "colorscale": [
             [
              0,
              "#0d0887"
             ],
             [
              0.1111111111111111,
              "#46039f"
             ],
             [
              0.2222222222222222,
              "#7201a8"
             ],
             [
              0.3333333333333333,
              "#9c179e"
             ],
             [
              0.4444444444444444,
              "#bd3786"
             ],
             [
              0.5555555555555556,
              "#d8576b"
             ],
             [
              0.6666666666666666,
              "#ed7953"
             ],
             [
              0.7777777777777778,
              "#fb9f3a"
             ],
             [
              0.8888888888888888,
              "#fdca26"
             ],
             [
              1,
              "#f0f921"
             ]
            ],
            "type": "heatmap"
           }
          ],
          "heatmapgl": [
           {
            "colorbar": {
             "outlinewidth": 0,
             "ticks": ""
            },
            "colorscale": [
             [
              0,
              "#0d0887"
             ],
             [
              0.1111111111111111,
              "#46039f"
             ],
             [
              0.2222222222222222,
              "#7201a8"
             ],
             [
              0.3333333333333333,
              "#9c179e"
             ],
             [
              0.4444444444444444,
              "#bd3786"
             ],
             [
              0.5555555555555556,
              "#d8576b"
             ],
             [
              0.6666666666666666,
              "#ed7953"
             ],
             [
              0.7777777777777778,
              "#fb9f3a"
             ],
             [
              0.8888888888888888,
              "#fdca26"
             ],
             [
              1,
              "#f0f921"
             ]
            ],
            "type": "heatmapgl"
           }
          ],
          "histogram": [
           {
            "marker": {
             "pattern": {
              "fillmode": "overlay",
              "size": 10,
              "solidity": 0.2
             }
            },
            "type": "histogram"
           }
          ],
          "histogram2d": [
           {
            "colorbar": {
             "outlinewidth": 0,
             "ticks": ""
            },
            "colorscale": [
             [
              0,
              "#0d0887"
             ],
             [
              0.1111111111111111,
              "#46039f"
             ],
             [
              0.2222222222222222,
              "#7201a8"
             ],
             [
              0.3333333333333333,
              "#9c179e"
             ],
             [
              0.4444444444444444,
              "#bd3786"
             ],
             [
              0.5555555555555556,
              "#d8576b"
             ],
             [
              0.6666666666666666,
              "#ed7953"
             ],
             [
              0.7777777777777778,
              "#fb9f3a"
             ],
             [
              0.8888888888888888,
              "#fdca26"
             ],
             [
              1,
              "#f0f921"
             ]
            ],
            "type": "histogram2d"
           }
          ],
          "histogram2dcontour": [
           {
            "colorbar": {
             "outlinewidth": 0,
             "ticks": ""
            },
            "colorscale": [
             [
              0,
              "#0d0887"
             ],
             [
              0.1111111111111111,
              "#46039f"
             ],
             [
              0.2222222222222222,
              "#7201a8"
             ],
             [
              0.3333333333333333,
              "#9c179e"
             ],
             [
              0.4444444444444444,
              "#bd3786"
             ],
             [
              0.5555555555555556,
              "#d8576b"
             ],
             [
              0.6666666666666666,
              "#ed7953"
             ],
             [
              0.7777777777777778,
              "#fb9f3a"
             ],
             [
              0.8888888888888888,
              "#fdca26"
             ],
             [
              1,
              "#f0f921"
             ]
            ],
            "type": "histogram2dcontour"
           }
          ],
          "mesh3d": [
           {
            "colorbar": {
             "outlinewidth": 0,
             "ticks": ""
            },
            "type": "mesh3d"
           }
          ],
          "parcoords": [
           {
            "line": {
             "colorbar": {
              "outlinewidth": 0,
              "ticks": ""
             }
            },
            "type": "parcoords"
           }
          ],
          "pie": [
           {
            "automargin": true,
            "type": "pie"
           }
          ],
          "scatter": [
           {
            "fillpattern": {
             "fillmode": "overlay",
             "size": 10,
             "solidity": 0.2
            },
            "type": "scatter"
           }
          ],
          "scatter3d": [
           {
            "line": {
             "colorbar": {
              "outlinewidth": 0,
              "ticks": ""
             }
            },
            "marker": {
             "colorbar": {
              "outlinewidth": 0,
              "ticks": ""
             }
            },
            "type": "scatter3d"
           }
          ],
          "scattercarpet": [
           {
            "marker": {
             "colorbar": {
              "outlinewidth": 0,
              "ticks": ""
             }
            },
            "type": "scattercarpet"
           }
          ],
          "scattergeo": [
           {
            "marker": {
             "colorbar": {
              "outlinewidth": 0,
              "ticks": ""
             }
            },
            "type": "scattergeo"
           }
          ],
          "scattergl": [
           {
            "marker": {
             "colorbar": {
              "outlinewidth": 0,
              "ticks": ""
             }
            },
            "type": "scattergl"
           }
          ],
          "scattermapbox": [
           {
            "marker": {
             "colorbar": {
              "outlinewidth": 0,
              "ticks": ""
             }
            },
            "type": "scattermapbox"
           }
          ],
          "scatterpolar": [
           {
            "marker": {
             "colorbar": {
              "outlinewidth": 0,
              "ticks": ""
             }
            },
            "type": "scatterpolar"
           }
          ],
          "scatterpolargl": [
           {
            "marker": {
             "colorbar": {
              "outlinewidth": 0,
              "ticks": ""
             }
            },
            "type": "scatterpolargl"
           }
          ],
          "scatterternary": [
           {
            "marker": {
             "colorbar": {
              "outlinewidth": 0,
              "ticks": ""
             }
            },
            "type": "scatterternary"
           }
          ],
          "surface": [
           {
            "colorbar": {
             "outlinewidth": 0,
             "ticks": ""
            },
            "colorscale": [
             [
              0,
              "#0d0887"
             ],
             [
              0.1111111111111111,
              "#46039f"
             ],
             [
              0.2222222222222222,
              "#7201a8"
             ],
             [
              0.3333333333333333,
              "#9c179e"
             ],
             [
              0.4444444444444444,
              "#bd3786"
             ],
             [
              0.5555555555555556,
              "#d8576b"
             ],
             [
              0.6666666666666666,
              "#ed7953"
             ],
             [
              0.7777777777777778,
              "#fb9f3a"
             ],
             [
              0.8888888888888888,
              "#fdca26"
             ],
             [
              1,
              "#f0f921"
             ]
            ],
            "type": "surface"
           }
          ],
          "table": [
           {
            "cells": {
             "fill": {
              "color": "#EBF0F8"
             },
             "line": {
              "color": "white"
             }
            },
            "header": {
             "fill": {
              "color": "#C8D4E3"
             },
             "line": {
              "color": "white"
             }
            },
            "type": "table"
           }
          ]
         },
         "layout": {
          "annotationdefaults": {
           "arrowcolor": "#2a3f5f",
           "arrowhead": 0,
           "arrowwidth": 1
          },
          "autotypenumbers": "strict",
          "coloraxis": {
           "colorbar": {
            "outlinewidth": 0,
            "ticks": ""
           }
          },
          "colorscale": {
           "diverging": [
            [
             0,
             "#8e0152"
            ],
            [
             0.1,
             "#c51b7d"
            ],
            [
             0.2,
             "#de77ae"
            ],
            [
             0.3,
             "#f1b6da"
            ],
            [
             0.4,
             "#fde0ef"
            ],
            [
             0.5,
             "#f7f7f7"
            ],
            [
             0.6,
             "#e6f5d0"
            ],
            [
             0.7,
             "#b8e186"
            ],
            [
             0.8,
             "#7fbc41"
            ],
            [
             0.9,
             "#4d9221"
            ],
            [
             1,
             "#276419"
            ]
           ],
           "sequential": [
            [
             0,
             "#0d0887"
            ],
            [
             0.1111111111111111,
             "#46039f"
            ],
            [
             0.2222222222222222,
             "#7201a8"
            ],
            [
             0.3333333333333333,
             "#9c179e"
            ],
            [
             0.4444444444444444,
             "#bd3786"
            ],
            [
             0.5555555555555556,
             "#d8576b"
            ],
            [
             0.6666666666666666,
             "#ed7953"
            ],
            [
             0.7777777777777778,
             "#fb9f3a"
            ],
            [
             0.8888888888888888,
             "#fdca26"
            ],
            [
             1,
             "#f0f921"
            ]
           ],
           "sequentialminus": [
            [
             0,
             "#0d0887"
            ],
            [
             0.1111111111111111,
             "#46039f"
            ],
            [
             0.2222222222222222,
             "#7201a8"
            ],
            [
             0.3333333333333333,
             "#9c179e"
            ],
            [
             0.4444444444444444,
             "#bd3786"
            ],
            [
             0.5555555555555556,
             "#d8576b"
            ],
            [
             0.6666666666666666,
             "#ed7953"
            ],
            [
             0.7777777777777778,
             "#fb9f3a"
            ],
            [
             0.8888888888888888,
             "#fdca26"
            ],
            [
             1,
             "#f0f921"
            ]
           ]
          },
          "colorway": [
           "#636efa",
           "#EF553B",
           "#00cc96",
           "#ab63fa",
           "#FFA15A",
           "#19d3f3",
           "#FF6692",
           "#B6E880",
           "#FF97FF",
           "#FECB52"
          ],
          "font": {
           "color": "#2a3f5f"
          },
          "geo": {
           "bgcolor": "white",
           "lakecolor": "white",
           "landcolor": "#E5ECF6",
           "showlakes": true,
           "showland": true,
           "subunitcolor": "white"
          },
          "hoverlabel": {
           "align": "left"
          },
          "hovermode": "closest",
          "mapbox": {
           "style": "light"
          },
          "paper_bgcolor": "white",
          "plot_bgcolor": "#E5ECF6",
          "polar": {
           "angularaxis": {
            "gridcolor": "white",
            "linecolor": "white",
            "ticks": ""
           },
           "bgcolor": "#E5ECF6",
           "radialaxis": {
            "gridcolor": "white",
            "linecolor": "white",
            "ticks": ""
           }
          },
          "scene": {
           "xaxis": {
            "backgroundcolor": "#E5ECF6",
            "gridcolor": "white",
            "gridwidth": 2,
            "linecolor": "white",
            "showbackground": true,
            "ticks": "",
            "zerolinecolor": "white"
           },
           "yaxis": {
            "backgroundcolor": "#E5ECF6",
            "gridcolor": "white",
            "gridwidth": 2,
            "linecolor": "white",
            "showbackground": true,
            "ticks": "",
            "zerolinecolor": "white"
           },
           "zaxis": {
            "backgroundcolor": "#E5ECF6",
            "gridcolor": "white",
            "gridwidth": 2,
            "linecolor": "white",
            "showbackground": true,
            "ticks": "",
            "zerolinecolor": "white"
           }
          },
          "shapedefaults": {
           "line": {
            "color": "#2a3f5f"
           }
          },
          "ternary": {
           "aaxis": {
            "gridcolor": "white",
            "linecolor": "white",
            "ticks": ""
           },
           "baxis": {
            "gridcolor": "white",
            "linecolor": "white",
            "ticks": ""
           },
           "bgcolor": "#E5ECF6",
           "caxis": {
            "gridcolor": "white",
            "linecolor": "white",
            "ticks": ""
           }
          },
          "title": {
           "x": 0.05
          },
          "xaxis": {
           "automargin": true,
           "gridcolor": "white",
           "linecolor": "white",
           "ticks": "",
           "title": {
            "standoff": 15
           },
           "zerolinecolor": "white",
           "zerolinewidth": 2
          },
          "yaxis": {
           "automargin": true,
           "gridcolor": "white",
           "linecolor": "white",
           "ticks": "",
           "title": {
            "standoff": 15
           },
           "zerolinecolor": "white",
           "zerolinewidth": 2
          }
         }
        },
        "title": {
         "font": {
          "color": "#4D5663"
         }
        },
        "xaxis": {
         "gridcolor": "#E1E5ED",
         "showgrid": true,
         "tickfont": {
          "color": "#4D5663"
         },
         "title": {
          "font": {
           "color": "#4D5663"
          },
          "text": ""
         },
         "zerolinecolor": "#E1E5ED"
        },
        "yaxis": {
         "gridcolor": "#E1E5ED",
         "showgrid": true,
         "tickfont": {
          "color": "#4D5663"
         },
         "title": {
          "font": {
           "color": "#4D5663"
          },
          "text": ""
         },
         "zerolinecolor": "#E1E5ED"
        }
       }
      },
      "text/html": [
       "<div>                            <div id=\"889591ed-d1fc-4f13-b25d-33f831193f23\" class=\"plotly-graph-div\" style=\"height:525px; width:100%;\"></div>            <script type=\"text/javascript\">                require([\"plotly\"], function(Plotly) {                    window.PLOTLYENV=window.PLOTLYENV || {};\n",
       "                    window.PLOTLYENV.BASE_URL='https://plot.ly';                                    if (document.getElementById(\"889591ed-d1fc-4f13-b25d-33f831193f23\")) {                    Plotly.newPlot(                        \"889591ed-d1fc-4f13-b25d-33f831193f23\",                        [{\"line\":{\"color\":\"rgba(255, 153, 51, 1.0)\",\"dash\":\"solid\",\"shape\":\"linear\",\"width\":1.3},\"mode\":\"lines\",\"name\":\"A\",\"text\":\"\",\"x\":[0,1,2,3,4,5,6,7,8,9,10,11,12,13,14,15,16,17,18,19,20,21,22,23,24,25,26,27,28,29,30,31,32,33,34,35,36,37,38,39,40,41,42,43,44,45,46,47,48,49,50,51,52,53,54,55,56,57,58,59,60,61,62,63,64,65,66,67,68,69,70,71,72,73,74,75,76,77,78,79,80,81,82,83,84,85,86,87,88,89,90,91,92,93,94,95,96,97,98,99],\"y\":[-0.4942953176823016,-0.16178728762490022,-0.8390603474350155,-0.02834614733446766,-1.0241161439007027,-0.9179823556087278,-0.5270811295796719,0.27533957657120334,-0.5166194685975221,-1.0373363047670325,-0.07861749677191446,1.5208938679123218,-1.045419118852328,0.9577597313370604,-1.208814364572658,-0.9378190015267323,-0.15179128135226935,-0.36823942602092946,1.1801976171675,-0.11122333672212044,0.6014903130814289,1.2500633036329303,0.1819515234536075,-0.090011472030963,-0.6640883373039753,-2.3274427178266577,-0.7268755613223424,1.5467846684798305,1.0752380851138414,-0.4894197997176759,0.3958357693479593,0.44196600839681394,-0.3815767418951726,0.005070999414106161,1.6834912069917087,0.23933330837847944,0.5091389558013533,0.09842979261146152,-0.4499547611547523,-0.3463024203076845,0.5733040312105815,0.4332099472954645,1.2126318537230285,-1.190727520028816,-0.9073285189222283,1.4172606453447274,-0.6255530412469508,1.845694562361856,0.23847555300346618,0.6407587236980142,-1.0114360620177183,-0.5564814526573163,0.2546935905558053,-1.2695858243941578,1.8514492919366132,0.23523213662306688,-0.9291021799224172,0.040780225794706006,-2.096391112393384,-1.0160093775689543,0.5582814799467065,0.07613378337792231,-0.6538248733075313,1.5466824093846314,-0.9398066743878285,-1.0419175370218265,1.4001038558843346,-0.6184912302826338,-1.0297252079314425,-1.6621970043629886,0.21232562549579445,-0.1745745780404813,-1.2695458015265704,0.7721539642847285,0.684357453602497,-0.12012953623771906,1.6419455398398206,-0.8537595616075221,0.877407245152962,0.7671818773977611,-2.0579375560046227,1.2583085349685919,-0.06086249192674227,-0.5953435869818778,1.4104887511271211,2.664778128711753,0.1557542023501004,-2.57578177829515,1.6151325598363857,1.3949436887722926,-1.3499359854025543,-0.29763398924145984,0.8875033159886624,0.7132636066262454,-0.6568805732905527,-1.2841239429149591,0.8921044369350987,0.9627291060958764,-0.05046368624338138,1.7514462836643638],\"type\":\"scatter\"},{\"line\":{\"color\":\"rgba(55, 128, 191, 1.0)\",\"dash\":\"solid\",\"shape\":\"linear\",\"width\":1.3},\"mode\":\"lines\",\"name\":\"B\",\"text\":\"\",\"x\":[0,1,2,3,4,5,6,7,8,9,10,11,12,13,14,15,16,17,18,19,20,21,22,23,24,25,26,27,28,29,30,31,32,33,34,35,36,37,38,39,40,41,42,43,44,45,46,47,48,49,50,51,52,53,54,55,56,57,58,59,60,61,62,63,64,65,66,67,68,69,70,71,72,73,74,75,76,77,78,79,80,81,82,83,84,85,86,87,88,89,90,91,92,93,94,95,96,97,98,99],\"y\":[0.5342279294184061,1.4027002947045557,-0.04231923805900977,1.0193152802393086,0.19020380468037196,-0.25101066852987897,-1.3234460500820229,-0.7102961177276159,-1.2188833252946112,-0.2509427527758014,-0.4972100597525194,0.9200068347409374,0.5305852426250938,-0.789776529741536,-0.3151413308369421,1.0419994560702541,-1.6726795721883483,-0.054232125771517876,-0.3475065821731161,1.8414299305336574,-1.0248321960310214,0.6227084515351512,-1.469308912354218,0.6206098026659517,-0.544776513549284,0.7443023664543984,0.9277564024175217,0.8844551169125096,-1.412910036443049,-0.3312102191817102,-0.5679771129167459,-0.09941752793468576,0.3414330320458227,-0.2736731821470112,-1.4022770009335412,-0.17736500238279326,1.3394257274647081,0.06039619665633815,1.0199651963358696,-0.0336855450777126,-1.4035988730083373,-0.8994101424761897,0.05546321719611497,-0.04208932606639428,-0.8557583994765704,1.254813606707856,-0.8322421898343253,0.7932220524954545,-0.9727067951156456,-0.6179395294940135,-0.2696732178209384,-1.7491173672878475,-1.1367140053446656,2.103923224946755,0.5662613882124462,0.09770870178985863,-1.3934372991820918,1.7677098016640478,-2.4399130575647536,0.9289580668517282,1.3016428729622989,0.6165389017341409,-0.7368996020135627,0.8627650858987035,0.3224902792829107,-0.1468242968561799,2.3285993867271073,-0.4042520600874832,-0.7950476123982081,0.5843407659871811,-0.26247330655892537,-0.6853914154352411,1.0510047593807925,-0.45651092843367985,0.13007583279119403,-0.5373558174283922,0.5358966029554065,-2.5861993641689094,0.31165828623633496,0.9828868313471093,-0.7547607087949244,0.3510646180511959,0.2644730431161891,-1.7922774328173583,0.9693804143743695,-1.574172648943034,-0.9835891522107112,-1.1537979278687105,1.4909807597293028,-0.4884412776593585,-2.5294774508653033,-0.021036511128168234,0.2125064824871628,-0.29345506255160564,0.6167073612975943,0.562442231779378,0.8015113723690133,0.6813952712182159,0.07764638774859549,0.3663927189774646],\"type\":\"scatter\"},{\"line\":{\"color\":\"rgba(50, 171, 96, 1.0)\",\"dash\":\"solid\",\"shape\":\"linear\",\"width\":1.3},\"mode\":\"lines\",\"name\":\"C\",\"text\":\"\",\"x\":[0,1,2,3,4,5,6,7,8,9,10,11,12,13,14,15,16,17,18,19,20,21,22,23,24,25,26,27,28,29,30,31,32,33,34,35,36,37,38,39,40,41,42,43,44,45,46,47,48,49,50,51,52,53,54,55,56,57,58,59,60,61,62,63,64,65,66,67,68,69,70,71,72,73,74,75,76,77,78,79,80,81,82,83,84,85,86,87,88,89,90,91,92,93,94,95,96,97,98,99],\"y\":[-0.3154488270715505,-0.6294945796924227,0.240494226638103,-0.5920375461026449,0.09309885879647004,-1.1019609492773985,-0.4210043883064996,0.9526615224042668,-0.2593046690455147,-0.7305047003773976,-0.4262264747808937,0.5076016065228501,-1.3985876758475007,-0.5228902581395778,-1.3040135035012852,-0.04707911951866159,0.2060885042772829,-0.8984767044565156,-2.8906078209316797,0.24068438964349848,-1.2711346139838915,-1.457577570792992,-0.3461781262920315,0.4259201318688281,0.19087471555343147,1.0970132204947263,-0.3606090412326543,-0.7852660798035648,1.0502553283642908,0.05878978572241869,-0.5408678451828739,1.0985398262753236,-0.48136944833667866,0.9416352713130145,-1.3047599688825093,-0.17265730841419458,0.34203726912708876,0.25799089418144633,-0.07244038602533656,0.9552105010856232,0.6292561361822644,-0.45740120405831003,1.079499090782834,-0.182547956429989,-1.8773759903999565,0.23878966978855012,1.6741528539243862,-1.2715315023729938,-0.5624881368118058,-0.9671161028706979,-0.7431377779818199,0.5688190678127818,0.5845496311550398,1.1497182332398017,0.8993271512769057,0.9094995463207933,-0.3689534326970936,0.24283786202118357,-1.0776379779235257,-0.19536958675293167,0.10968378234211433,-1.1434277559936807,1.5381562561775182,-1.248551026292755,-2.2516620043508944,1.1484458551415926,0.07769139644046953,0.19592474611894195,2.754331062447277,1.3655138947005445,2.311129291317888,1.2526347174720331,0.25876470715185296,0.1432557461035415,-0.940231527434915,-2.2301388002370177,2.4585677766476417,0.10560525269650307,0.07534722210680579,-0.39838816671567784,-1.0708495374515463,-0.36890457211693456,0.6356702354895857,0.09833823679877067,-0.6762685596083686,-0.2956714552397667,-0.5490871826155951,0.877497035933541,-0.2614664701403081,0.111619887582688,-0.14687130934702486,-1.1556809445854956,-0.40525028885212905,-0.7317915435895866,0.7682147727575239,-0.3605008420803052,1.1534146755068944,-0.8699627356350427,2.051072094255719,1.2344327885983042],\"type\":\"scatter\"},{\"line\":{\"color\":\"rgba(128, 0, 128, 1.0)\",\"dash\":\"solid\",\"shape\":\"linear\",\"width\":1.3},\"mode\":\"lines\",\"name\":\"D\",\"text\":\"\",\"x\":[0,1,2,3,4,5,6,7,8,9,10,11,12,13,14,15,16,17,18,19,20,21,22,23,24,25,26,27,28,29,30,31,32,33,34,35,36,37,38,39,40,41,42,43,44,45,46,47,48,49,50,51,52,53,54,55,56,57,58,59,60,61,62,63,64,65,66,67,68,69,70,71,72,73,74,75,76,77,78,79,80,81,82,83,84,85,86,87,88,89,90,91,92,93,94,95,96,97,98,99],\"y\":[0.08934616819792145,-0.6204177662393392,-0.061167053870507075,-1.9954641078568938,0.5938696697953778,-0.6442975580045824,0.6226665029655851,0.295140949870477,0.308708567544027,-0.9125985828200055,0.610770966709956,0.5987646054189169,0.21009247741684847,-0.6802679714516239,-0.7608509127932546,0.5320559406380219,-0.5615326209840743,-0.3993877889033179,0.29259458548270545,2.029917346891441,-0.0396315902605462,0.15452395897867943,-2.2245829693624626,0.40909587620174276,-0.2478688955915267,-0.9346271940807865,1.372179674705609,-0.22457233664380521,-0.05589696575465355,1.0883434385406532,-0.9101505457153852,-0.20755366822689525,0.21994202768015067,0.006737608398075186,-2.212126291556357,1.335188746887495,-0.617385824950108,-0.512088444121255,-0.423244789170961,-0.2846556567453891,-1.2178925184416742,1.5981771449346152,-0.49534070982276096,-0.3566476750472755,-0.24342544351884987,1.031775040784417,0.5165881961690759,0.51906391169398,0.9271136673110147,-2.0920736067913404,-0.45357514956011435,0.8889557485226732,-1.68681172378416,1.018734096060937,0.8841601433200967,0.8892055015007345,-1.4999204575957803,-0.05499430168331451,0.31522439576657757,-1.243036409570123,1.8191857121114723,-1.2340131740369849,-1.3578777167565985,-0.1509352090221654,-0.01751109767323108,1.7763548787620291,0.4157755299770914,0.6755657992344761,2.0549734801716784,0.9045794065202,-1.2473312016703293,0.415531775455957,1.0001415053194742,-0.09035832325362496,-1.6289133374595204,-0.6593886229424755,0.07236845245061095,-0.24264056064226458,0.2631193533891654,-0.6892966681325187,-0.37084686838446823,0.019817197356161057,1.6262058623062356,-1.1118601908680732,-0.5618850966586071,-0.18495045519069012,1.2689871205699828,0.6517269225416741,-1.2509489981146684,-1.191439119162852,-1.116401146492447,0.347450650534722,-0.22682743449130288,-0.24960401379258,0.02444021742102796,-0.5590396984737351,0.8910090366639997,-0.4751130654012434,-1.2720551299347036,-0.8753662135157493],\"type\":\"scatter\"}],                        {\"legend\":{\"bgcolor\":\"#F5F6F9\",\"font\":{\"color\":\"#4D5663\"}},\"paper_bgcolor\":\"#F5F6F9\",\"plot_bgcolor\":\"#F5F6F9\",\"template\":{\"data\":{\"barpolar\":[{\"marker\":{\"line\":{\"color\":\"#E5ECF6\",\"width\":0.5},\"pattern\":{\"fillmode\":\"overlay\",\"size\":10,\"solidity\":0.2}},\"type\":\"barpolar\"}],\"bar\":[{\"error_x\":{\"color\":\"#2a3f5f\"},\"error_y\":{\"color\":\"#2a3f5f\"},\"marker\":{\"line\":{\"color\":\"#E5ECF6\",\"width\":0.5},\"pattern\":{\"fillmode\":\"overlay\",\"size\":10,\"solidity\":0.2}},\"type\":\"bar\"}],\"carpet\":[{\"aaxis\":{\"endlinecolor\":\"#2a3f5f\",\"gridcolor\":\"white\",\"linecolor\":\"white\",\"minorgridcolor\":\"white\",\"startlinecolor\":\"#2a3f5f\"},\"baxis\":{\"endlinecolor\":\"#2a3f5f\",\"gridcolor\":\"white\",\"linecolor\":\"white\",\"minorgridcolor\":\"white\",\"startlinecolor\":\"#2a3f5f\"},\"type\":\"carpet\"}],\"choropleth\":[{\"colorbar\":{\"outlinewidth\":0,\"ticks\":\"\"},\"type\":\"choropleth\"}],\"contourcarpet\":[{\"colorbar\":{\"outlinewidth\":0,\"ticks\":\"\"},\"type\":\"contourcarpet\"}],\"contour\":[{\"colorbar\":{\"outlinewidth\":0,\"ticks\":\"\"},\"colorscale\":[[0.0,\"#0d0887\"],[0.1111111111111111,\"#46039f\"],[0.2222222222222222,\"#7201a8\"],[0.3333333333333333,\"#9c179e\"],[0.4444444444444444,\"#bd3786\"],[0.5555555555555556,\"#d8576b\"],[0.6666666666666666,\"#ed7953\"],[0.7777777777777778,\"#fb9f3a\"],[0.8888888888888888,\"#fdca26\"],[1.0,\"#f0f921\"]],\"type\":\"contour\"}],\"heatmapgl\":[{\"colorbar\":{\"outlinewidth\":0,\"ticks\":\"\"},\"colorscale\":[[0.0,\"#0d0887\"],[0.1111111111111111,\"#46039f\"],[0.2222222222222222,\"#7201a8\"],[0.3333333333333333,\"#9c179e\"],[0.4444444444444444,\"#bd3786\"],[0.5555555555555556,\"#d8576b\"],[0.6666666666666666,\"#ed7953\"],[0.7777777777777778,\"#fb9f3a\"],[0.8888888888888888,\"#fdca26\"],[1.0,\"#f0f921\"]],\"type\":\"heatmapgl\"}],\"heatmap\":[{\"colorbar\":{\"outlinewidth\":0,\"ticks\":\"\"},\"colorscale\":[[0.0,\"#0d0887\"],[0.1111111111111111,\"#46039f\"],[0.2222222222222222,\"#7201a8\"],[0.3333333333333333,\"#9c179e\"],[0.4444444444444444,\"#bd3786\"],[0.5555555555555556,\"#d8576b\"],[0.6666666666666666,\"#ed7953\"],[0.7777777777777778,\"#fb9f3a\"],[0.8888888888888888,\"#fdca26\"],[1.0,\"#f0f921\"]],\"type\":\"heatmap\"}],\"histogram2dcontour\":[{\"colorbar\":{\"outlinewidth\":0,\"ticks\":\"\"},\"colorscale\":[[0.0,\"#0d0887\"],[0.1111111111111111,\"#46039f\"],[0.2222222222222222,\"#7201a8\"],[0.3333333333333333,\"#9c179e\"],[0.4444444444444444,\"#bd3786\"],[0.5555555555555556,\"#d8576b\"],[0.6666666666666666,\"#ed7953\"],[0.7777777777777778,\"#fb9f3a\"],[0.8888888888888888,\"#fdca26\"],[1.0,\"#f0f921\"]],\"type\":\"histogram2dcontour\"}],\"histogram2d\":[{\"colorbar\":{\"outlinewidth\":0,\"ticks\":\"\"},\"colorscale\":[[0.0,\"#0d0887\"],[0.1111111111111111,\"#46039f\"],[0.2222222222222222,\"#7201a8\"],[0.3333333333333333,\"#9c179e\"],[0.4444444444444444,\"#bd3786\"],[0.5555555555555556,\"#d8576b\"],[0.6666666666666666,\"#ed7953\"],[0.7777777777777778,\"#fb9f3a\"],[0.8888888888888888,\"#fdca26\"],[1.0,\"#f0f921\"]],\"type\":\"histogram2d\"}],\"histogram\":[{\"marker\":{\"pattern\":{\"fillmode\":\"overlay\",\"size\":10,\"solidity\":0.2}},\"type\":\"histogram\"}],\"mesh3d\":[{\"colorbar\":{\"outlinewidth\":0,\"ticks\":\"\"},\"type\":\"mesh3d\"}],\"parcoords\":[{\"line\":{\"colorbar\":{\"outlinewidth\":0,\"ticks\":\"\"}},\"type\":\"parcoords\"}],\"pie\":[{\"automargin\":true,\"type\":\"pie\"}],\"scatter3d\":[{\"line\":{\"colorbar\":{\"outlinewidth\":0,\"ticks\":\"\"}},\"marker\":{\"colorbar\":{\"outlinewidth\":0,\"ticks\":\"\"}},\"type\":\"scatter3d\"}],\"scattercarpet\":[{\"marker\":{\"colorbar\":{\"outlinewidth\":0,\"ticks\":\"\"}},\"type\":\"scattercarpet\"}],\"scattergeo\":[{\"marker\":{\"colorbar\":{\"outlinewidth\":0,\"ticks\":\"\"}},\"type\":\"scattergeo\"}],\"scattergl\":[{\"marker\":{\"colorbar\":{\"outlinewidth\":0,\"ticks\":\"\"}},\"type\":\"scattergl\"}],\"scattermapbox\":[{\"marker\":{\"colorbar\":{\"outlinewidth\":0,\"ticks\":\"\"}},\"type\":\"scattermapbox\"}],\"scatterpolargl\":[{\"marker\":{\"colorbar\":{\"outlinewidth\":0,\"ticks\":\"\"}},\"type\":\"scatterpolargl\"}],\"scatterpolar\":[{\"marker\":{\"colorbar\":{\"outlinewidth\":0,\"ticks\":\"\"}},\"type\":\"scatterpolar\"}],\"scatter\":[{\"fillpattern\":{\"fillmode\":\"overlay\",\"size\":10,\"solidity\":0.2},\"type\":\"scatter\"}],\"scatterternary\":[{\"marker\":{\"colorbar\":{\"outlinewidth\":0,\"ticks\":\"\"}},\"type\":\"scatterternary\"}],\"surface\":[{\"colorbar\":{\"outlinewidth\":0,\"ticks\":\"\"},\"colorscale\":[[0.0,\"#0d0887\"],[0.1111111111111111,\"#46039f\"],[0.2222222222222222,\"#7201a8\"],[0.3333333333333333,\"#9c179e\"],[0.4444444444444444,\"#bd3786\"],[0.5555555555555556,\"#d8576b\"],[0.6666666666666666,\"#ed7953\"],[0.7777777777777778,\"#fb9f3a\"],[0.8888888888888888,\"#fdca26\"],[1.0,\"#f0f921\"]],\"type\":\"surface\"}],\"table\":[{\"cells\":{\"fill\":{\"color\":\"#EBF0F8\"},\"line\":{\"color\":\"white\"}},\"header\":{\"fill\":{\"color\":\"#C8D4E3\"},\"line\":{\"color\":\"white\"}},\"type\":\"table\"}]},\"layout\":{\"annotationdefaults\":{\"arrowcolor\":\"#2a3f5f\",\"arrowhead\":0,\"arrowwidth\":1},\"autotypenumbers\":\"strict\",\"coloraxis\":{\"colorbar\":{\"outlinewidth\":0,\"ticks\":\"\"}},\"colorscale\":{\"diverging\":[[0,\"#8e0152\"],[0.1,\"#c51b7d\"],[0.2,\"#de77ae\"],[0.3,\"#f1b6da\"],[0.4,\"#fde0ef\"],[0.5,\"#f7f7f7\"],[0.6,\"#e6f5d0\"],[0.7,\"#b8e186\"],[0.8,\"#7fbc41\"],[0.9,\"#4d9221\"],[1,\"#276419\"]],\"sequential\":[[0.0,\"#0d0887\"],[0.1111111111111111,\"#46039f\"],[0.2222222222222222,\"#7201a8\"],[0.3333333333333333,\"#9c179e\"],[0.4444444444444444,\"#bd3786\"],[0.5555555555555556,\"#d8576b\"],[0.6666666666666666,\"#ed7953\"],[0.7777777777777778,\"#fb9f3a\"],[0.8888888888888888,\"#fdca26\"],[1.0,\"#f0f921\"]],\"sequentialminus\":[[0.0,\"#0d0887\"],[0.1111111111111111,\"#46039f\"],[0.2222222222222222,\"#7201a8\"],[0.3333333333333333,\"#9c179e\"],[0.4444444444444444,\"#bd3786\"],[0.5555555555555556,\"#d8576b\"],[0.6666666666666666,\"#ed7953\"],[0.7777777777777778,\"#fb9f3a\"],[0.8888888888888888,\"#fdca26\"],[1.0,\"#f0f921\"]]},\"colorway\":[\"#636efa\",\"#EF553B\",\"#00cc96\",\"#ab63fa\",\"#FFA15A\",\"#19d3f3\",\"#FF6692\",\"#B6E880\",\"#FF97FF\",\"#FECB52\"],\"font\":{\"color\":\"#2a3f5f\"},\"geo\":{\"bgcolor\":\"white\",\"lakecolor\":\"white\",\"landcolor\":\"#E5ECF6\",\"showlakes\":true,\"showland\":true,\"subunitcolor\":\"white\"},\"hoverlabel\":{\"align\":\"left\"},\"hovermode\":\"closest\",\"mapbox\":{\"style\":\"light\"},\"paper_bgcolor\":\"white\",\"plot_bgcolor\":\"#E5ECF6\",\"polar\":{\"angularaxis\":{\"gridcolor\":\"white\",\"linecolor\":\"white\",\"ticks\":\"\"},\"bgcolor\":\"#E5ECF6\",\"radialaxis\":{\"gridcolor\":\"white\",\"linecolor\":\"white\",\"ticks\":\"\"}},\"scene\":{\"xaxis\":{\"backgroundcolor\":\"#E5ECF6\",\"gridcolor\":\"white\",\"gridwidth\":2,\"linecolor\":\"white\",\"showbackground\":true,\"ticks\":\"\",\"zerolinecolor\":\"white\"},\"yaxis\":{\"backgroundcolor\":\"#E5ECF6\",\"gridcolor\":\"white\",\"gridwidth\":2,\"linecolor\":\"white\",\"showbackground\":true,\"ticks\":\"\",\"zerolinecolor\":\"white\"},\"zaxis\":{\"backgroundcolor\":\"#E5ECF6\",\"gridcolor\":\"white\",\"gridwidth\":2,\"linecolor\":\"white\",\"showbackground\":true,\"ticks\":\"\",\"zerolinecolor\":\"white\"}},\"shapedefaults\":{\"line\":{\"color\":\"#2a3f5f\"}},\"ternary\":{\"aaxis\":{\"gridcolor\":\"white\",\"linecolor\":\"white\",\"ticks\":\"\"},\"baxis\":{\"gridcolor\":\"white\",\"linecolor\":\"white\",\"ticks\":\"\"},\"bgcolor\":\"#E5ECF6\",\"caxis\":{\"gridcolor\":\"white\",\"linecolor\":\"white\",\"ticks\":\"\"}},\"title\":{\"x\":0.05},\"xaxis\":{\"automargin\":true,\"gridcolor\":\"white\",\"linecolor\":\"white\",\"ticks\":\"\",\"title\":{\"standoff\":15},\"zerolinecolor\":\"white\",\"zerolinewidth\":2},\"yaxis\":{\"automargin\":true,\"gridcolor\":\"white\",\"linecolor\":\"white\",\"ticks\":\"\",\"title\":{\"standoff\":15},\"zerolinecolor\":\"white\",\"zerolinewidth\":2}}},\"title\":{\"font\":{\"color\":\"#4D5663\"}},\"xaxis\":{\"gridcolor\":\"#E1E5ED\",\"showgrid\":true,\"tickfont\":{\"color\":\"#4D5663\"},\"title\":{\"font\":{\"color\":\"#4D5663\"},\"text\":\"\"},\"zerolinecolor\":\"#E1E5ED\"},\"yaxis\":{\"gridcolor\":\"#E1E5ED\",\"showgrid\":true,\"tickfont\":{\"color\":\"#4D5663\"},\"title\":{\"font\":{\"color\":\"#4D5663\"},\"text\":\"\"},\"zerolinecolor\":\"#E1E5ED\"}},                        {\"showLink\": true, \"linkText\": \"Export to plot.ly\", \"plotlyServerURL\": \"https://plot.ly\", \"responsive\": true}                    ).then(function(){\n",
       "                            \n",
       "var gd = document.getElementById('889591ed-d1fc-4f13-b25d-33f831193f23');\n",
       "var x = new MutationObserver(function (mutations, observer) {{\n",
       "        var display = window.getComputedStyle(gd).display;\n",
       "        if (!display || display === 'none') {{\n",
       "            console.log([gd, 'removed!']);\n",
       "            Plotly.purge(gd);\n",
       "            observer.disconnect();\n",
       "        }}\n",
       "}});\n",
       "\n",
       "// Listen for the removal of the full notebook cells\n",
       "var notebookContainer = gd.closest('#notebook-container');\n",
       "if (notebookContainer) {{\n",
       "    x.observe(notebookContainer, {childList: true});\n",
       "}}\n",
       "\n",
       "// Listen for the clearing of the current output cell\n",
       "var outputEl = gd.closest('.output');\n",
       "if (outputEl) {{\n",
       "    x.observe(outputEl, {childList: true});\n",
       "}}\n",
       "\n",
       "                        })                };                });            </script>        </div>"
      ]
     },
     "metadata": {},
     "output_type": "display_data"
    }
   ],
   "source": [
    "df.iplot()"
   ]
  },
  {
   "cell_type": "code",
   "execution_count": 19,
   "metadata": {},
   "outputs": [
    {
     "data": {
      "application/vnd.plotly.v1+json": {
       "config": {
        "linkText": "Export to plot.ly",
        "plotlyServerURL": "https://plot.ly",
        "showLink": true
       },
       "data": [
        {
         "line": {
          "color": "rgba(255, 153, 51, 1.0)",
          "dash": "solid",
          "shape": "linear",
          "width": 1.3
         },
         "marker": {
          "size": 12,
          "symbol": "circle"
         },
         "mode": "markers",
         "name": "B",
         "text": "",
         "type": "scatter",
         "x": [
          -0.4942953176823016,
          -0.16178728762490022,
          -0.8390603474350155,
          -0.02834614733446766,
          -1.0241161439007027,
          -0.9179823556087278,
          -0.5270811295796719,
          0.27533957657120334,
          -0.5166194685975221,
          -1.0373363047670325,
          -0.07861749677191446,
          1.5208938679123218,
          -1.045419118852328,
          0.9577597313370604,
          -1.208814364572658,
          -0.9378190015267323,
          -0.15179128135226935,
          -0.36823942602092946,
          1.1801976171675,
          -0.11122333672212044,
          0.6014903130814289,
          1.2500633036329303,
          0.1819515234536075,
          -0.090011472030963,
          -0.6640883373039753,
          -2.3274427178266577,
          -0.7268755613223424,
          1.5467846684798305,
          1.0752380851138414,
          -0.4894197997176759,
          0.3958357693479593,
          0.44196600839681394,
          -0.3815767418951726,
          0.005070999414106161,
          1.6834912069917087,
          0.23933330837847944,
          0.5091389558013533,
          0.09842979261146152,
          -0.4499547611547523,
          -0.3463024203076845,
          0.5733040312105815,
          0.4332099472954645,
          1.2126318537230285,
          -1.190727520028816,
          -0.9073285189222283,
          1.4172606453447274,
          -0.6255530412469508,
          1.845694562361856,
          0.23847555300346618,
          0.6407587236980142,
          -1.0114360620177183,
          -0.5564814526573163,
          0.2546935905558053,
          -1.2695858243941578,
          1.8514492919366132,
          0.23523213662306688,
          -0.9291021799224172,
          0.040780225794706006,
          -2.096391112393384,
          -1.0160093775689543,
          0.5582814799467065,
          0.07613378337792231,
          -0.6538248733075313,
          1.5466824093846314,
          -0.9398066743878285,
          -1.0419175370218265,
          1.4001038558843346,
          -0.6184912302826338,
          -1.0297252079314425,
          -1.6621970043629886,
          0.21232562549579445,
          -0.1745745780404813,
          -1.2695458015265704,
          0.7721539642847285,
          0.684357453602497,
          -0.12012953623771906,
          1.6419455398398206,
          -0.8537595616075221,
          0.877407245152962,
          0.7671818773977611,
          -2.0579375560046227,
          1.2583085349685919,
          -0.06086249192674227,
          -0.5953435869818778,
          1.4104887511271211,
          2.664778128711753,
          0.1557542023501004,
          -2.57578177829515,
          1.6151325598363857,
          1.3949436887722926,
          -1.3499359854025543,
          -0.29763398924145984,
          0.8875033159886624,
          0.7132636066262454,
          -0.6568805732905527,
          -1.2841239429149591,
          0.8921044369350987,
          0.9627291060958764,
          -0.05046368624338138,
          1.7514462836643638
         ],
         "y": [
          0.5342279294184061,
          1.4027002947045557,
          -0.04231923805900977,
          1.0193152802393086,
          0.19020380468037196,
          -0.25101066852987897,
          -1.3234460500820229,
          -0.7102961177276159,
          -1.2188833252946112,
          -0.2509427527758014,
          -0.4972100597525194,
          0.9200068347409374,
          0.5305852426250938,
          -0.789776529741536,
          -0.3151413308369421,
          1.0419994560702541,
          -1.6726795721883483,
          -0.054232125771517876,
          -0.3475065821731161,
          1.8414299305336574,
          -1.0248321960310214,
          0.6227084515351512,
          -1.469308912354218,
          0.6206098026659517,
          -0.544776513549284,
          0.7443023664543984,
          0.9277564024175217,
          0.8844551169125096,
          -1.412910036443049,
          -0.3312102191817102,
          -0.5679771129167459,
          -0.09941752793468576,
          0.3414330320458227,
          -0.2736731821470112,
          -1.4022770009335412,
          -0.17736500238279326,
          1.3394257274647081,
          0.06039619665633815,
          1.0199651963358696,
          -0.0336855450777126,
          -1.4035988730083373,
          -0.8994101424761897,
          0.05546321719611497,
          -0.04208932606639428,
          -0.8557583994765704,
          1.254813606707856,
          -0.8322421898343253,
          0.7932220524954545,
          -0.9727067951156456,
          -0.6179395294940135,
          -0.2696732178209384,
          -1.7491173672878475,
          -1.1367140053446656,
          2.103923224946755,
          0.5662613882124462,
          0.09770870178985863,
          -1.3934372991820918,
          1.7677098016640478,
          -2.4399130575647536,
          0.9289580668517282,
          1.3016428729622989,
          0.6165389017341409,
          -0.7368996020135627,
          0.8627650858987035,
          0.3224902792829107,
          -0.1468242968561799,
          2.3285993867271073,
          -0.4042520600874832,
          -0.7950476123982081,
          0.5843407659871811,
          -0.26247330655892537,
          -0.6853914154352411,
          1.0510047593807925,
          -0.45651092843367985,
          0.13007583279119403,
          -0.5373558174283922,
          0.5358966029554065,
          -2.5861993641689094,
          0.31165828623633496,
          0.9828868313471093,
          -0.7547607087949244,
          0.3510646180511959,
          0.2644730431161891,
          -1.7922774328173583,
          0.9693804143743695,
          -1.574172648943034,
          -0.9835891522107112,
          -1.1537979278687105,
          1.4909807597293028,
          -0.4884412776593585,
          -2.5294774508653033,
          -0.021036511128168234,
          0.2125064824871628,
          -0.29345506255160564,
          0.6167073612975943,
          0.562442231779378,
          0.8015113723690133,
          0.6813952712182159,
          0.07764638774859549,
          0.3663927189774646
         ]
        }
       ],
       "layout": {
        "legend": {
         "bgcolor": "#F5F6F9",
         "font": {
          "color": "#4D5663"
         }
        },
        "paper_bgcolor": "#F5F6F9",
        "plot_bgcolor": "#F5F6F9",
        "template": {
         "data": {
          "bar": [
           {
            "error_x": {
             "color": "#2a3f5f"
            },
            "error_y": {
             "color": "#2a3f5f"
            },
            "marker": {
             "line": {
              "color": "#E5ECF6",
              "width": 0.5
             },
             "pattern": {
              "fillmode": "overlay",
              "size": 10,
              "solidity": 0.2
             }
            },
            "type": "bar"
           }
          ],
          "barpolar": [
           {
            "marker": {
             "line": {
              "color": "#E5ECF6",
              "width": 0.5
             },
             "pattern": {
              "fillmode": "overlay",
              "size": 10,
              "solidity": 0.2
             }
            },
            "type": "barpolar"
           }
          ],
          "carpet": [
           {
            "aaxis": {
             "endlinecolor": "#2a3f5f",
             "gridcolor": "white",
             "linecolor": "white",
             "minorgridcolor": "white",
             "startlinecolor": "#2a3f5f"
            },
            "baxis": {
             "endlinecolor": "#2a3f5f",
             "gridcolor": "white",
             "linecolor": "white",
             "minorgridcolor": "white",
             "startlinecolor": "#2a3f5f"
            },
            "type": "carpet"
           }
          ],
          "choropleth": [
           {
            "colorbar": {
             "outlinewidth": 0,
             "ticks": ""
            },
            "type": "choropleth"
           }
          ],
          "contour": [
           {
            "colorbar": {
             "outlinewidth": 0,
             "ticks": ""
            },
            "colorscale": [
             [
              0,
              "#0d0887"
             ],
             [
              0.1111111111111111,
              "#46039f"
             ],
             [
              0.2222222222222222,
              "#7201a8"
             ],
             [
              0.3333333333333333,
              "#9c179e"
             ],
             [
              0.4444444444444444,
              "#bd3786"
             ],
             [
              0.5555555555555556,
              "#d8576b"
             ],
             [
              0.6666666666666666,
              "#ed7953"
             ],
             [
              0.7777777777777778,
              "#fb9f3a"
             ],
             [
              0.8888888888888888,
              "#fdca26"
             ],
             [
              1,
              "#f0f921"
             ]
            ],
            "type": "contour"
           }
          ],
          "contourcarpet": [
           {
            "colorbar": {
             "outlinewidth": 0,
             "ticks": ""
            },
            "type": "contourcarpet"
           }
          ],
          "heatmap": [
           {
            "colorbar": {
             "outlinewidth": 0,
             "ticks": ""
            },
            "colorscale": [
             [
              0,
              "#0d0887"
             ],
             [
              0.1111111111111111,
              "#46039f"
             ],
             [
              0.2222222222222222,
              "#7201a8"
             ],
             [
              0.3333333333333333,
              "#9c179e"
             ],
             [
              0.4444444444444444,
              "#bd3786"
             ],
             [
              0.5555555555555556,
              "#d8576b"
             ],
             [
              0.6666666666666666,
              "#ed7953"
             ],
             [
              0.7777777777777778,
              "#fb9f3a"
             ],
             [
              0.8888888888888888,
              "#fdca26"
             ],
             [
              1,
              "#f0f921"
             ]
            ],
            "type": "heatmap"
           }
          ],
          "heatmapgl": [
           {
            "colorbar": {
             "outlinewidth": 0,
             "ticks": ""
            },
            "colorscale": [
             [
              0,
              "#0d0887"
             ],
             [
              0.1111111111111111,
              "#46039f"
             ],
             [
              0.2222222222222222,
              "#7201a8"
             ],
             [
              0.3333333333333333,
              "#9c179e"
             ],
             [
              0.4444444444444444,
              "#bd3786"
             ],
             [
              0.5555555555555556,
              "#d8576b"
             ],
             [
              0.6666666666666666,
              "#ed7953"
             ],
             [
              0.7777777777777778,
              "#fb9f3a"
             ],
             [
              0.8888888888888888,
              "#fdca26"
             ],
             [
              1,
              "#f0f921"
             ]
            ],
            "type": "heatmapgl"
           }
          ],
          "histogram": [
           {
            "marker": {
             "pattern": {
              "fillmode": "overlay",
              "size": 10,
              "solidity": 0.2
             }
            },
            "type": "histogram"
           }
          ],
          "histogram2d": [
           {
            "colorbar": {
             "outlinewidth": 0,
             "ticks": ""
            },
            "colorscale": [
             [
              0,
              "#0d0887"
             ],
             [
              0.1111111111111111,
              "#46039f"
             ],
             [
              0.2222222222222222,
              "#7201a8"
             ],
             [
              0.3333333333333333,
              "#9c179e"
             ],
             [
              0.4444444444444444,
              "#bd3786"
             ],
             [
              0.5555555555555556,
              "#d8576b"
             ],
             [
              0.6666666666666666,
              "#ed7953"
             ],
             [
              0.7777777777777778,
              "#fb9f3a"
             ],
             [
              0.8888888888888888,
              "#fdca26"
             ],
             [
              1,
              "#f0f921"
             ]
            ],
            "type": "histogram2d"
           }
          ],
          "histogram2dcontour": [
           {
            "colorbar": {
             "outlinewidth": 0,
             "ticks": ""
            },
            "colorscale": [
             [
              0,
              "#0d0887"
             ],
             [
              0.1111111111111111,
              "#46039f"
             ],
             [
              0.2222222222222222,
              "#7201a8"
             ],
             [
              0.3333333333333333,
              "#9c179e"
             ],
             [
              0.4444444444444444,
              "#bd3786"
             ],
             [
              0.5555555555555556,
              "#d8576b"
             ],
             [
              0.6666666666666666,
              "#ed7953"
             ],
             [
              0.7777777777777778,
              "#fb9f3a"
             ],
             [
              0.8888888888888888,
              "#fdca26"
             ],
             [
              1,
              "#f0f921"
             ]
            ],
            "type": "histogram2dcontour"
           }
          ],
          "mesh3d": [
           {
            "colorbar": {
             "outlinewidth": 0,
             "ticks": ""
            },
            "type": "mesh3d"
           }
          ],
          "parcoords": [
           {
            "line": {
             "colorbar": {
              "outlinewidth": 0,
              "ticks": ""
             }
            },
            "type": "parcoords"
           }
          ],
          "pie": [
           {
            "automargin": true,
            "type": "pie"
           }
          ],
          "scatter": [
           {
            "fillpattern": {
             "fillmode": "overlay",
             "size": 10,
             "solidity": 0.2
            },
            "type": "scatter"
           }
          ],
          "scatter3d": [
           {
            "line": {
             "colorbar": {
              "outlinewidth": 0,
              "ticks": ""
             }
            },
            "marker": {
             "colorbar": {
              "outlinewidth": 0,
              "ticks": ""
             }
            },
            "type": "scatter3d"
           }
          ],
          "scattercarpet": [
           {
            "marker": {
             "colorbar": {
              "outlinewidth": 0,
              "ticks": ""
             }
            },
            "type": "scattercarpet"
           }
          ],
          "scattergeo": [
           {
            "marker": {
             "colorbar": {
              "outlinewidth": 0,
              "ticks": ""
             }
            },
            "type": "scattergeo"
           }
          ],
          "scattergl": [
           {
            "marker": {
             "colorbar": {
              "outlinewidth": 0,
              "ticks": ""
             }
            },
            "type": "scattergl"
           }
          ],
          "scattermapbox": [
           {
            "marker": {
             "colorbar": {
              "outlinewidth": 0,
              "ticks": ""
             }
            },
            "type": "scattermapbox"
           }
          ],
          "scatterpolar": [
           {
            "marker": {
             "colorbar": {
              "outlinewidth": 0,
              "ticks": ""
             }
            },
            "type": "scatterpolar"
           }
          ],
          "scatterpolargl": [
           {
            "marker": {
             "colorbar": {
              "outlinewidth": 0,
              "ticks": ""
             }
            },
            "type": "scatterpolargl"
           }
          ],
          "scatterternary": [
           {
            "marker": {
             "colorbar": {
              "outlinewidth": 0,
              "ticks": ""
             }
            },
            "type": "scatterternary"
           }
          ],
          "surface": [
           {
            "colorbar": {
             "outlinewidth": 0,
             "ticks": ""
            },
            "colorscale": [
             [
              0,
              "#0d0887"
             ],
             [
              0.1111111111111111,
              "#46039f"
             ],
             [
              0.2222222222222222,
              "#7201a8"
             ],
             [
              0.3333333333333333,
              "#9c179e"
             ],
             [
              0.4444444444444444,
              "#bd3786"
             ],
             [
              0.5555555555555556,
              "#d8576b"
             ],
             [
              0.6666666666666666,
              "#ed7953"
             ],
             [
              0.7777777777777778,
              "#fb9f3a"
             ],
             [
              0.8888888888888888,
              "#fdca26"
             ],
             [
              1,
              "#f0f921"
             ]
            ],
            "type": "surface"
           }
          ],
          "table": [
           {
            "cells": {
             "fill": {
              "color": "#EBF0F8"
             },
             "line": {
              "color": "white"
             }
            },
            "header": {
             "fill": {
              "color": "#C8D4E3"
             },
             "line": {
              "color": "white"
             }
            },
            "type": "table"
           }
          ]
         },
         "layout": {
          "annotationdefaults": {
           "arrowcolor": "#2a3f5f",
           "arrowhead": 0,
           "arrowwidth": 1
          },
          "autotypenumbers": "strict",
          "coloraxis": {
           "colorbar": {
            "outlinewidth": 0,
            "ticks": ""
           }
          },
          "colorscale": {
           "diverging": [
            [
             0,
             "#8e0152"
            ],
            [
             0.1,
             "#c51b7d"
            ],
            [
             0.2,
             "#de77ae"
            ],
            [
             0.3,
             "#f1b6da"
            ],
            [
             0.4,
             "#fde0ef"
            ],
            [
             0.5,
             "#f7f7f7"
            ],
            [
             0.6,
             "#e6f5d0"
            ],
            [
             0.7,
             "#b8e186"
            ],
            [
             0.8,
             "#7fbc41"
            ],
            [
             0.9,
             "#4d9221"
            ],
            [
             1,
             "#276419"
            ]
           ],
           "sequential": [
            [
             0,
             "#0d0887"
            ],
            [
             0.1111111111111111,
             "#46039f"
            ],
            [
             0.2222222222222222,
             "#7201a8"
            ],
            [
             0.3333333333333333,
             "#9c179e"
            ],
            [
             0.4444444444444444,
             "#bd3786"
            ],
            [
             0.5555555555555556,
             "#d8576b"
            ],
            [
             0.6666666666666666,
             "#ed7953"
            ],
            [
             0.7777777777777778,
             "#fb9f3a"
            ],
            [
             0.8888888888888888,
             "#fdca26"
            ],
            [
             1,
             "#f0f921"
            ]
           ],
           "sequentialminus": [
            [
             0,
             "#0d0887"
            ],
            [
             0.1111111111111111,
             "#46039f"
            ],
            [
             0.2222222222222222,
             "#7201a8"
            ],
            [
             0.3333333333333333,
             "#9c179e"
            ],
            [
             0.4444444444444444,
             "#bd3786"
            ],
            [
             0.5555555555555556,
             "#d8576b"
            ],
            [
             0.6666666666666666,
             "#ed7953"
            ],
            [
             0.7777777777777778,
             "#fb9f3a"
            ],
            [
             0.8888888888888888,
             "#fdca26"
            ],
            [
             1,
             "#f0f921"
            ]
           ]
          },
          "colorway": [
           "#636efa",
           "#EF553B",
           "#00cc96",
           "#ab63fa",
           "#FFA15A",
           "#19d3f3",
           "#FF6692",
           "#B6E880",
           "#FF97FF",
           "#FECB52"
          ],
          "font": {
           "color": "#2a3f5f"
          },
          "geo": {
           "bgcolor": "white",
           "lakecolor": "white",
           "landcolor": "#E5ECF6",
           "showlakes": true,
           "showland": true,
           "subunitcolor": "white"
          },
          "hoverlabel": {
           "align": "left"
          },
          "hovermode": "closest",
          "mapbox": {
           "style": "light"
          },
          "paper_bgcolor": "white",
          "plot_bgcolor": "#E5ECF6",
          "polar": {
           "angularaxis": {
            "gridcolor": "white",
            "linecolor": "white",
            "ticks": ""
           },
           "bgcolor": "#E5ECF6",
           "radialaxis": {
            "gridcolor": "white",
            "linecolor": "white",
            "ticks": ""
           }
          },
          "scene": {
           "xaxis": {
            "backgroundcolor": "#E5ECF6",
            "gridcolor": "white",
            "gridwidth": 2,
            "linecolor": "white",
            "showbackground": true,
            "ticks": "",
            "zerolinecolor": "white"
           },
           "yaxis": {
            "backgroundcolor": "#E5ECF6",
            "gridcolor": "white",
            "gridwidth": 2,
            "linecolor": "white",
            "showbackground": true,
            "ticks": "",
            "zerolinecolor": "white"
           },
           "zaxis": {
            "backgroundcolor": "#E5ECF6",
            "gridcolor": "white",
            "gridwidth": 2,
            "linecolor": "white",
            "showbackground": true,
            "ticks": "",
            "zerolinecolor": "white"
           }
          },
          "shapedefaults": {
           "line": {
            "color": "#2a3f5f"
           }
          },
          "ternary": {
           "aaxis": {
            "gridcolor": "white",
            "linecolor": "white",
            "ticks": ""
           },
           "baxis": {
            "gridcolor": "white",
            "linecolor": "white",
            "ticks": ""
           },
           "bgcolor": "#E5ECF6",
           "caxis": {
            "gridcolor": "white",
            "linecolor": "white",
            "ticks": ""
           }
          },
          "title": {
           "x": 0.05
          },
          "xaxis": {
           "automargin": true,
           "gridcolor": "white",
           "linecolor": "white",
           "ticks": "",
           "title": {
            "standoff": 15
           },
           "zerolinecolor": "white",
           "zerolinewidth": 2
          },
          "yaxis": {
           "automargin": true,
           "gridcolor": "white",
           "linecolor": "white",
           "ticks": "",
           "title": {
            "standoff": 15
           },
           "zerolinecolor": "white",
           "zerolinewidth": 2
          }
         }
        },
        "title": {
         "font": {
          "color": "#4D5663"
         }
        },
        "xaxis": {
         "gridcolor": "#E1E5ED",
         "showgrid": true,
         "tickfont": {
          "color": "#4D5663"
         },
         "title": {
          "font": {
           "color": "#4D5663"
          },
          "text": ""
         },
         "zerolinecolor": "#E1E5ED"
        },
        "yaxis": {
         "gridcolor": "#E1E5ED",
         "showgrid": true,
         "tickfont": {
          "color": "#4D5663"
         },
         "title": {
          "font": {
           "color": "#4D5663"
          },
          "text": ""
         },
         "zerolinecolor": "#E1E5ED"
        }
       }
      },
      "text/html": [
       "<div>                            <div id=\"6545b476-20b8-47bd-a7a1-421aa18f5033\" class=\"plotly-graph-div\" style=\"height:525px; width:100%;\"></div>            <script type=\"text/javascript\">                require([\"plotly\"], function(Plotly) {                    window.PLOTLYENV=window.PLOTLYENV || {};\n",
       "                    window.PLOTLYENV.BASE_URL='https://plot.ly';                                    if (document.getElementById(\"6545b476-20b8-47bd-a7a1-421aa18f5033\")) {                    Plotly.newPlot(                        \"6545b476-20b8-47bd-a7a1-421aa18f5033\",                        [{\"line\":{\"color\":\"rgba(255, 153, 51, 1.0)\",\"dash\":\"solid\",\"shape\":\"linear\",\"width\":1.3},\"marker\":{\"size\":12,\"symbol\":\"circle\"},\"mode\":\"markers\",\"name\":\"B\",\"text\":\"\",\"x\":[-0.4942953176823016,-0.16178728762490022,-0.8390603474350155,-0.02834614733446766,-1.0241161439007027,-0.9179823556087278,-0.5270811295796719,0.27533957657120334,-0.5166194685975221,-1.0373363047670325,-0.07861749677191446,1.5208938679123218,-1.045419118852328,0.9577597313370604,-1.208814364572658,-0.9378190015267323,-0.15179128135226935,-0.36823942602092946,1.1801976171675,-0.11122333672212044,0.6014903130814289,1.2500633036329303,0.1819515234536075,-0.090011472030963,-0.6640883373039753,-2.3274427178266577,-0.7268755613223424,1.5467846684798305,1.0752380851138414,-0.4894197997176759,0.3958357693479593,0.44196600839681394,-0.3815767418951726,0.005070999414106161,1.6834912069917087,0.23933330837847944,0.5091389558013533,0.09842979261146152,-0.4499547611547523,-0.3463024203076845,0.5733040312105815,0.4332099472954645,1.2126318537230285,-1.190727520028816,-0.9073285189222283,1.4172606453447274,-0.6255530412469508,1.845694562361856,0.23847555300346618,0.6407587236980142,-1.0114360620177183,-0.5564814526573163,0.2546935905558053,-1.2695858243941578,1.8514492919366132,0.23523213662306688,-0.9291021799224172,0.040780225794706006,-2.096391112393384,-1.0160093775689543,0.5582814799467065,0.07613378337792231,-0.6538248733075313,1.5466824093846314,-0.9398066743878285,-1.0419175370218265,1.4001038558843346,-0.6184912302826338,-1.0297252079314425,-1.6621970043629886,0.21232562549579445,-0.1745745780404813,-1.2695458015265704,0.7721539642847285,0.684357453602497,-0.12012953623771906,1.6419455398398206,-0.8537595616075221,0.877407245152962,0.7671818773977611,-2.0579375560046227,1.2583085349685919,-0.06086249192674227,-0.5953435869818778,1.4104887511271211,2.664778128711753,0.1557542023501004,-2.57578177829515,1.6151325598363857,1.3949436887722926,-1.3499359854025543,-0.29763398924145984,0.8875033159886624,0.7132636066262454,-0.6568805732905527,-1.2841239429149591,0.8921044369350987,0.9627291060958764,-0.05046368624338138,1.7514462836643638],\"y\":[0.5342279294184061,1.4027002947045557,-0.04231923805900977,1.0193152802393086,0.19020380468037196,-0.25101066852987897,-1.3234460500820229,-0.7102961177276159,-1.2188833252946112,-0.2509427527758014,-0.4972100597525194,0.9200068347409374,0.5305852426250938,-0.789776529741536,-0.3151413308369421,1.0419994560702541,-1.6726795721883483,-0.054232125771517876,-0.3475065821731161,1.8414299305336574,-1.0248321960310214,0.6227084515351512,-1.469308912354218,0.6206098026659517,-0.544776513549284,0.7443023664543984,0.9277564024175217,0.8844551169125096,-1.412910036443049,-0.3312102191817102,-0.5679771129167459,-0.09941752793468576,0.3414330320458227,-0.2736731821470112,-1.4022770009335412,-0.17736500238279326,1.3394257274647081,0.06039619665633815,1.0199651963358696,-0.0336855450777126,-1.4035988730083373,-0.8994101424761897,0.05546321719611497,-0.04208932606639428,-0.8557583994765704,1.254813606707856,-0.8322421898343253,0.7932220524954545,-0.9727067951156456,-0.6179395294940135,-0.2696732178209384,-1.7491173672878475,-1.1367140053446656,2.103923224946755,0.5662613882124462,0.09770870178985863,-1.3934372991820918,1.7677098016640478,-2.4399130575647536,0.9289580668517282,1.3016428729622989,0.6165389017341409,-0.7368996020135627,0.8627650858987035,0.3224902792829107,-0.1468242968561799,2.3285993867271073,-0.4042520600874832,-0.7950476123982081,0.5843407659871811,-0.26247330655892537,-0.6853914154352411,1.0510047593807925,-0.45651092843367985,0.13007583279119403,-0.5373558174283922,0.5358966029554065,-2.5861993641689094,0.31165828623633496,0.9828868313471093,-0.7547607087949244,0.3510646180511959,0.2644730431161891,-1.7922774328173583,0.9693804143743695,-1.574172648943034,-0.9835891522107112,-1.1537979278687105,1.4909807597293028,-0.4884412776593585,-2.5294774508653033,-0.021036511128168234,0.2125064824871628,-0.29345506255160564,0.6167073612975943,0.562442231779378,0.8015113723690133,0.6813952712182159,0.07764638774859549,0.3663927189774646],\"type\":\"scatter\"}],                        {\"legend\":{\"bgcolor\":\"#F5F6F9\",\"font\":{\"color\":\"#4D5663\"}},\"paper_bgcolor\":\"#F5F6F9\",\"plot_bgcolor\":\"#F5F6F9\",\"template\":{\"data\":{\"barpolar\":[{\"marker\":{\"line\":{\"color\":\"#E5ECF6\",\"width\":0.5},\"pattern\":{\"fillmode\":\"overlay\",\"size\":10,\"solidity\":0.2}},\"type\":\"barpolar\"}],\"bar\":[{\"error_x\":{\"color\":\"#2a3f5f\"},\"error_y\":{\"color\":\"#2a3f5f\"},\"marker\":{\"line\":{\"color\":\"#E5ECF6\",\"width\":0.5},\"pattern\":{\"fillmode\":\"overlay\",\"size\":10,\"solidity\":0.2}},\"type\":\"bar\"}],\"carpet\":[{\"aaxis\":{\"endlinecolor\":\"#2a3f5f\",\"gridcolor\":\"white\",\"linecolor\":\"white\",\"minorgridcolor\":\"white\",\"startlinecolor\":\"#2a3f5f\"},\"baxis\":{\"endlinecolor\":\"#2a3f5f\",\"gridcolor\":\"white\",\"linecolor\":\"white\",\"minorgridcolor\":\"white\",\"startlinecolor\":\"#2a3f5f\"},\"type\":\"carpet\"}],\"choropleth\":[{\"colorbar\":{\"outlinewidth\":0,\"ticks\":\"\"},\"type\":\"choropleth\"}],\"contourcarpet\":[{\"colorbar\":{\"outlinewidth\":0,\"ticks\":\"\"},\"type\":\"contourcarpet\"}],\"contour\":[{\"colorbar\":{\"outlinewidth\":0,\"ticks\":\"\"},\"colorscale\":[[0.0,\"#0d0887\"],[0.1111111111111111,\"#46039f\"],[0.2222222222222222,\"#7201a8\"],[0.3333333333333333,\"#9c179e\"],[0.4444444444444444,\"#bd3786\"],[0.5555555555555556,\"#d8576b\"],[0.6666666666666666,\"#ed7953\"],[0.7777777777777778,\"#fb9f3a\"],[0.8888888888888888,\"#fdca26\"],[1.0,\"#f0f921\"]],\"type\":\"contour\"}],\"heatmapgl\":[{\"colorbar\":{\"outlinewidth\":0,\"ticks\":\"\"},\"colorscale\":[[0.0,\"#0d0887\"],[0.1111111111111111,\"#46039f\"],[0.2222222222222222,\"#7201a8\"],[0.3333333333333333,\"#9c179e\"],[0.4444444444444444,\"#bd3786\"],[0.5555555555555556,\"#d8576b\"],[0.6666666666666666,\"#ed7953\"],[0.7777777777777778,\"#fb9f3a\"],[0.8888888888888888,\"#fdca26\"],[1.0,\"#f0f921\"]],\"type\":\"heatmapgl\"}],\"heatmap\":[{\"colorbar\":{\"outlinewidth\":0,\"ticks\":\"\"},\"colorscale\":[[0.0,\"#0d0887\"],[0.1111111111111111,\"#46039f\"],[0.2222222222222222,\"#7201a8\"],[0.3333333333333333,\"#9c179e\"],[0.4444444444444444,\"#bd3786\"],[0.5555555555555556,\"#d8576b\"],[0.6666666666666666,\"#ed7953\"],[0.7777777777777778,\"#fb9f3a\"],[0.8888888888888888,\"#fdca26\"],[1.0,\"#f0f921\"]],\"type\":\"heatmap\"}],\"histogram2dcontour\":[{\"colorbar\":{\"outlinewidth\":0,\"ticks\":\"\"},\"colorscale\":[[0.0,\"#0d0887\"],[0.1111111111111111,\"#46039f\"],[0.2222222222222222,\"#7201a8\"],[0.3333333333333333,\"#9c179e\"],[0.4444444444444444,\"#bd3786\"],[0.5555555555555556,\"#d8576b\"],[0.6666666666666666,\"#ed7953\"],[0.7777777777777778,\"#fb9f3a\"],[0.8888888888888888,\"#fdca26\"],[1.0,\"#f0f921\"]],\"type\":\"histogram2dcontour\"}],\"histogram2d\":[{\"colorbar\":{\"outlinewidth\":0,\"ticks\":\"\"},\"colorscale\":[[0.0,\"#0d0887\"],[0.1111111111111111,\"#46039f\"],[0.2222222222222222,\"#7201a8\"],[0.3333333333333333,\"#9c179e\"],[0.4444444444444444,\"#bd3786\"],[0.5555555555555556,\"#d8576b\"],[0.6666666666666666,\"#ed7953\"],[0.7777777777777778,\"#fb9f3a\"],[0.8888888888888888,\"#fdca26\"],[1.0,\"#f0f921\"]],\"type\":\"histogram2d\"}],\"histogram\":[{\"marker\":{\"pattern\":{\"fillmode\":\"overlay\",\"size\":10,\"solidity\":0.2}},\"type\":\"histogram\"}],\"mesh3d\":[{\"colorbar\":{\"outlinewidth\":0,\"ticks\":\"\"},\"type\":\"mesh3d\"}],\"parcoords\":[{\"line\":{\"colorbar\":{\"outlinewidth\":0,\"ticks\":\"\"}},\"type\":\"parcoords\"}],\"pie\":[{\"automargin\":true,\"type\":\"pie\"}],\"scatter3d\":[{\"line\":{\"colorbar\":{\"outlinewidth\":0,\"ticks\":\"\"}},\"marker\":{\"colorbar\":{\"outlinewidth\":0,\"ticks\":\"\"}},\"type\":\"scatter3d\"}],\"scattercarpet\":[{\"marker\":{\"colorbar\":{\"outlinewidth\":0,\"ticks\":\"\"}},\"type\":\"scattercarpet\"}],\"scattergeo\":[{\"marker\":{\"colorbar\":{\"outlinewidth\":0,\"ticks\":\"\"}},\"type\":\"scattergeo\"}],\"scattergl\":[{\"marker\":{\"colorbar\":{\"outlinewidth\":0,\"ticks\":\"\"}},\"type\":\"scattergl\"}],\"scattermapbox\":[{\"marker\":{\"colorbar\":{\"outlinewidth\":0,\"ticks\":\"\"}},\"type\":\"scattermapbox\"}],\"scatterpolargl\":[{\"marker\":{\"colorbar\":{\"outlinewidth\":0,\"ticks\":\"\"}},\"type\":\"scatterpolargl\"}],\"scatterpolar\":[{\"marker\":{\"colorbar\":{\"outlinewidth\":0,\"ticks\":\"\"}},\"type\":\"scatterpolar\"}],\"scatter\":[{\"fillpattern\":{\"fillmode\":\"overlay\",\"size\":10,\"solidity\":0.2},\"type\":\"scatter\"}],\"scatterternary\":[{\"marker\":{\"colorbar\":{\"outlinewidth\":0,\"ticks\":\"\"}},\"type\":\"scatterternary\"}],\"surface\":[{\"colorbar\":{\"outlinewidth\":0,\"ticks\":\"\"},\"colorscale\":[[0.0,\"#0d0887\"],[0.1111111111111111,\"#46039f\"],[0.2222222222222222,\"#7201a8\"],[0.3333333333333333,\"#9c179e\"],[0.4444444444444444,\"#bd3786\"],[0.5555555555555556,\"#d8576b\"],[0.6666666666666666,\"#ed7953\"],[0.7777777777777778,\"#fb9f3a\"],[0.8888888888888888,\"#fdca26\"],[1.0,\"#f0f921\"]],\"type\":\"surface\"}],\"table\":[{\"cells\":{\"fill\":{\"color\":\"#EBF0F8\"},\"line\":{\"color\":\"white\"}},\"header\":{\"fill\":{\"color\":\"#C8D4E3\"},\"line\":{\"color\":\"white\"}},\"type\":\"table\"}]},\"layout\":{\"annotationdefaults\":{\"arrowcolor\":\"#2a3f5f\",\"arrowhead\":0,\"arrowwidth\":1},\"autotypenumbers\":\"strict\",\"coloraxis\":{\"colorbar\":{\"outlinewidth\":0,\"ticks\":\"\"}},\"colorscale\":{\"diverging\":[[0,\"#8e0152\"],[0.1,\"#c51b7d\"],[0.2,\"#de77ae\"],[0.3,\"#f1b6da\"],[0.4,\"#fde0ef\"],[0.5,\"#f7f7f7\"],[0.6,\"#e6f5d0\"],[0.7,\"#b8e186\"],[0.8,\"#7fbc41\"],[0.9,\"#4d9221\"],[1,\"#276419\"]],\"sequential\":[[0.0,\"#0d0887\"],[0.1111111111111111,\"#46039f\"],[0.2222222222222222,\"#7201a8\"],[0.3333333333333333,\"#9c179e\"],[0.4444444444444444,\"#bd3786\"],[0.5555555555555556,\"#d8576b\"],[0.6666666666666666,\"#ed7953\"],[0.7777777777777778,\"#fb9f3a\"],[0.8888888888888888,\"#fdca26\"],[1.0,\"#f0f921\"]],\"sequentialminus\":[[0.0,\"#0d0887\"],[0.1111111111111111,\"#46039f\"],[0.2222222222222222,\"#7201a8\"],[0.3333333333333333,\"#9c179e\"],[0.4444444444444444,\"#bd3786\"],[0.5555555555555556,\"#d8576b\"],[0.6666666666666666,\"#ed7953\"],[0.7777777777777778,\"#fb9f3a\"],[0.8888888888888888,\"#fdca26\"],[1.0,\"#f0f921\"]]},\"colorway\":[\"#636efa\",\"#EF553B\",\"#00cc96\",\"#ab63fa\",\"#FFA15A\",\"#19d3f3\",\"#FF6692\",\"#B6E880\",\"#FF97FF\",\"#FECB52\"],\"font\":{\"color\":\"#2a3f5f\"},\"geo\":{\"bgcolor\":\"white\",\"lakecolor\":\"white\",\"landcolor\":\"#E5ECF6\",\"showlakes\":true,\"showland\":true,\"subunitcolor\":\"white\"},\"hoverlabel\":{\"align\":\"left\"},\"hovermode\":\"closest\",\"mapbox\":{\"style\":\"light\"},\"paper_bgcolor\":\"white\",\"plot_bgcolor\":\"#E5ECF6\",\"polar\":{\"angularaxis\":{\"gridcolor\":\"white\",\"linecolor\":\"white\",\"ticks\":\"\"},\"bgcolor\":\"#E5ECF6\",\"radialaxis\":{\"gridcolor\":\"white\",\"linecolor\":\"white\",\"ticks\":\"\"}},\"scene\":{\"xaxis\":{\"backgroundcolor\":\"#E5ECF6\",\"gridcolor\":\"white\",\"gridwidth\":2,\"linecolor\":\"white\",\"showbackground\":true,\"ticks\":\"\",\"zerolinecolor\":\"white\"},\"yaxis\":{\"backgroundcolor\":\"#E5ECF6\",\"gridcolor\":\"white\",\"gridwidth\":2,\"linecolor\":\"white\",\"showbackground\":true,\"ticks\":\"\",\"zerolinecolor\":\"white\"},\"zaxis\":{\"backgroundcolor\":\"#E5ECF6\",\"gridcolor\":\"white\",\"gridwidth\":2,\"linecolor\":\"white\",\"showbackground\":true,\"ticks\":\"\",\"zerolinecolor\":\"white\"}},\"shapedefaults\":{\"line\":{\"color\":\"#2a3f5f\"}},\"ternary\":{\"aaxis\":{\"gridcolor\":\"white\",\"linecolor\":\"white\",\"ticks\":\"\"},\"baxis\":{\"gridcolor\":\"white\",\"linecolor\":\"white\",\"ticks\":\"\"},\"bgcolor\":\"#E5ECF6\",\"caxis\":{\"gridcolor\":\"white\",\"linecolor\":\"white\",\"ticks\":\"\"}},\"title\":{\"x\":0.05},\"xaxis\":{\"automargin\":true,\"gridcolor\":\"white\",\"linecolor\":\"white\",\"ticks\":\"\",\"title\":{\"standoff\":15},\"zerolinecolor\":\"white\",\"zerolinewidth\":2},\"yaxis\":{\"automargin\":true,\"gridcolor\":\"white\",\"linecolor\":\"white\",\"ticks\":\"\",\"title\":{\"standoff\":15},\"zerolinecolor\":\"white\",\"zerolinewidth\":2}}},\"title\":{\"font\":{\"color\":\"#4D5663\"}},\"xaxis\":{\"gridcolor\":\"#E1E5ED\",\"showgrid\":true,\"tickfont\":{\"color\":\"#4D5663\"},\"title\":{\"font\":{\"color\":\"#4D5663\"},\"text\":\"\"},\"zerolinecolor\":\"#E1E5ED\"},\"yaxis\":{\"gridcolor\":\"#E1E5ED\",\"showgrid\":true,\"tickfont\":{\"color\":\"#4D5663\"},\"title\":{\"font\":{\"color\":\"#4D5663\"},\"text\":\"\"},\"zerolinecolor\":\"#E1E5ED\"}},                        {\"showLink\": true, \"linkText\": \"Export to plot.ly\", \"plotlyServerURL\": \"https://plot.ly\", \"responsive\": true}                    ).then(function(){\n",
       "                            \n",
       "var gd = document.getElementById('6545b476-20b8-47bd-a7a1-421aa18f5033');\n",
       "var x = new MutationObserver(function (mutations, observer) {{\n",
       "        var display = window.getComputedStyle(gd).display;\n",
       "        if (!display || display === 'none') {{\n",
       "            console.log([gd, 'removed!']);\n",
       "            Plotly.purge(gd);\n",
       "            observer.disconnect();\n",
       "        }}\n",
       "}});\n",
       "\n",
       "// Listen for the removal of the full notebook cells\n",
       "var notebookContainer = gd.closest('#notebook-container');\n",
       "if (notebookContainer) {{\n",
       "    x.observe(notebookContainer, {childList: true});\n",
       "}}\n",
       "\n",
       "// Listen for the clearing of the current output cell\n",
       "var outputEl = gd.closest('.output');\n",
       "if (outputEl) {{\n",
       "    x.observe(outputEl, {childList: true});\n",
       "}}\n",
       "\n",
       "                        })                };                });            </script>        </div>"
      ]
     },
     "metadata": {},
     "output_type": "display_data"
    }
   ],
   "source": [
    "df.iplot(kind = 'scatter', x = 'A', y = 'B', mode = 'markers')"
   ]
  },
  {
   "cell_type": "code",
   "execution_count": 22,
   "metadata": {},
   "outputs": [
    {
     "data": {
      "text/html": [
       "<div>\n",
       "<style scoped>\n",
       "    .dataframe tbody tr th:only-of-type {\n",
       "        vertical-align: middle;\n",
       "    }\n",
       "\n",
       "    .dataframe tbody tr th {\n",
       "        vertical-align: top;\n",
       "    }\n",
       "\n",
       "    .dataframe thead th {\n",
       "        text-align: right;\n",
       "    }\n",
       "</style>\n",
       "<table border=\"1\" class=\"dataframe\">\n",
       "  <thead>\n",
       "    <tr style=\"text-align: right;\">\n",
       "      <th></th>\n",
       "      <th>Cat</th>\n",
       "      <th>values</th>\n",
       "    </tr>\n",
       "  </thead>\n",
       "  <tbody>\n",
       "    <tr>\n",
       "      <th>0</th>\n",
       "      <td>A</td>\n",
       "      <td>1</td>\n",
       "    </tr>\n",
       "    <tr>\n",
       "      <th>1</th>\n",
       "      <td>B</td>\n",
       "      <td>2</td>\n",
       "    </tr>\n",
       "    <tr>\n",
       "      <th>2</th>\n",
       "      <td>C</td>\n",
       "      <td>3</td>\n",
       "    </tr>\n",
       "    <tr>\n",
       "      <th>3</th>\n",
       "      <td>D</td>\n",
       "      <td>4</td>\n",
       "    </tr>\n",
       "  </tbody>\n",
       "</table>\n",
       "</div>"
      ],
      "text/plain": [
       "  Cat  values\n",
       "0   A       1\n",
       "1   B       2\n",
       "2   C       3\n",
       "3   D       4"
      ]
     },
     "execution_count": 22,
     "metadata": {},
     "output_type": "execute_result"
    }
   ],
   "source": [
    "df2"
   ]
  },
  {
   "cell_type": "code",
   "execution_count": 24,
   "metadata": {},
   "outputs": [
    {
     "data": {
      "application/vnd.plotly.v1+json": {
       "config": {
        "linkText": "Export to plot.ly",
        "plotlyServerURL": "https://plot.ly",
        "showLink": true
       },
       "data": [
        {
         "marker": {
          "color": "rgba(255, 153, 51, 0.6)",
          "line": {
           "color": "rgba(255, 153, 51, 1.0)",
           "width": 1
          }
         },
         "name": "values",
         "orientation": "v",
         "text": "",
         "type": "bar",
         "x": [
          "A",
          "B",
          "C",
          "D"
         ],
         "y": [
          1,
          2,
          3,
          4
         ]
        }
       ],
       "layout": {
        "legend": {
         "bgcolor": "#F5F6F9",
         "font": {
          "color": "#4D5663"
         }
        },
        "paper_bgcolor": "#F5F6F9",
        "plot_bgcolor": "#F5F6F9",
        "template": {
         "data": {
          "bar": [
           {
            "error_x": {
             "color": "#2a3f5f"
            },
            "error_y": {
             "color": "#2a3f5f"
            },
            "marker": {
             "line": {
              "color": "#E5ECF6",
              "width": 0.5
             },
             "pattern": {
              "fillmode": "overlay",
              "size": 10,
              "solidity": 0.2
             }
            },
            "type": "bar"
           }
          ],
          "barpolar": [
           {
            "marker": {
             "line": {
              "color": "#E5ECF6",
              "width": 0.5
             },
             "pattern": {
              "fillmode": "overlay",
              "size": 10,
              "solidity": 0.2
             }
            },
            "type": "barpolar"
           }
          ],
          "carpet": [
           {
            "aaxis": {
             "endlinecolor": "#2a3f5f",
             "gridcolor": "white",
             "linecolor": "white",
             "minorgridcolor": "white",
             "startlinecolor": "#2a3f5f"
            },
            "baxis": {
             "endlinecolor": "#2a3f5f",
             "gridcolor": "white",
             "linecolor": "white",
             "minorgridcolor": "white",
             "startlinecolor": "#2a3f5f"
            },
            "type": "carpet"
           }
          ],
          "choropleth": [
           {
            "colorbar": {
             "outlinewidth": 0,
             "ticks": ""
            },
            "type": "choropleth"
           }
          ],
          "contour": [
           {
            "colorbar": {
             "outlinewidth": 0,
             "ticks": ""
            },
            "colorscale": [
             [
              0,
              "#0d0887"
             ],
             [
              0.1111111111111111,
              "#46039f"
             ],
             [
              0.2222222222222222,
              "#7201a8"
             ],
             [
              0.3333333333333333,
              "#9c179e"
             ],
             [
              0.4444444444444444,
              "#bd3786"
             ],
             [
              0.5555555555555556,
              "#d8576b"
             ],
             [
              0.6666666666666666,
              "#ed7953"
             ],
             [
              0.7777777777777778,
              "#fb9f3a"
             ],
             [
              0.8888888888888888,
              "#fdca26"
             ],
             [
              1,
              "#f0f921"
             ]
            ],
            "type": "contour"
           }
          ],
          "contourcarpet": [
           {
            "colorbar": {
             "outlinewidth": 0,
             "ticks": ""
            },
            "type": "contourcarpet"
           }
          ],
          "heatmap": [
           {
            "colorbar": {
             "outlinewidth": 0,
             "ticks": ""
            },
            "colorscale": [
             [
              0,
              "#0d0887"
             ],
             [
              0.1111111111111111,
              "#46039f"
             ],
             [
              0.2222222222222222,
              "#7201a8"
             ],
             [
              0.3333333333333333,
              "#9c179e"
             ],
             [
              0.4444444444444444,
              "#bd3786"
             ],
             [
              0.5555555555555556,
              "#d8576b"
             ],
             [
              0.6666666666666666,
              "#ed7953"
             ],
             [
              0.7777777777777778,
              "#fb9f3a"
             ],
             [
              0.8888888888888888,
              "#fdca26"
             ],
             [
              1,
              "#f0f921"
             ]
            ],
            "type": "heatmap"
           }
          ],
          "heatmapgl": [
           {
            "colorbar": {
             "outlinewidth": 0,
             "ticks": ""
            },
            "colorscale": [
             [
              0,
              "#0d0887"
             ],
             [
              0.1111111111111111,
              "#46039f"
             ],
             [
              0.2222222222222222,
              "#7201a8"
             ],
             [
              0.3333333333333333,
              "#9c179e"
             ],
             [
              0.4444444444444444,
              "#bd3786"
             ],
             [
              0.5555555555555556,
              "#d8576b"
             ],
             [
              0.6666666666666666,
              "#ed7953"
             ],
             [
              0.7777777777777778,
              "#fb9f3a"
             ],
             [
              0.8888888888888888,
              "#fdca26"
             ],
             [
              1,
              "#f0f921"
             ]
            ],
            "type": "heatmapgl"
           }
          ],
          "histogram": [
           {
            "marker": {
             "pattern": {
              "fillmode": "overlay",
              "size": 10,
              "solidity": 0.2
             }
            },
            "type": "histogram"
           }
          ],
          "histogram2d": [
           {
            "colorbar": {
             "outlinewidth": 0,
             "ticks": ""
            },
            "colorscale": [
             [
              0,
              "#0d0887"
             ],
             [
              0.1111111111111111,
              "#46039f"
             ],
             [
              0.2222222222222222,
              "#7201a8"
             ],
             [
              0.3333333333333333,
              "#9c179e"
             ],
             [
              0.4444444444444444,
              "#bd3786"
             ],
             [
              0.5555555555555556,
              "#d8576b"
             ],
             [
              0.6666666666666666,
              "#ed7953"
             ],
             [
              0.7777777777777778,
              "#fb9f3a"
             ],
             [
              0.8888888888888888,
              "#fdca26"
             ],
             [
              1,
              "#f0f921"
             ]
            ],
            "type": "histogram2d"
           }
          ],
          "histogram2dcontour": [
           {
            "colorbar": {
             "outlinewidth": 0,
             "ticks": ""
            },
            "colorscale": [
             [
              0,
              "#0d0887"
             ],
             [
              0.1111111111111111,
              "#46039f"
             ],
             [
              0.2222222222222222,
              "#7201a8"
             ],
             [
              0.3333333333333333,
              "#9c179e"
             ],
             [
              0.4444444444444444,
              "#bd3786"
             ],
             [
              0.5555555555555556,
              "#d8576b"
             ],
             [
              0.6666666666666666,
              "#ed7953"
             ],
             [
              0.7777777777777778,
              "#fb9f3a"
             ],
             [
              0.8888888888888888,
              "#fdca26"
             ],
             [
              1,
              "#f0f921"
             ]
            ],
            "type": "histogram2dcontour"
           }
          ],
          "mesh3d": [
           {
            "colorbar": {
             "outlinewidth": 0,
             "ticks": ""
            },
            "type": "mesh3d"
           }
          ],
          "parcoords": [
           {
            "line": {
             "colorbar": {
              "outlinewidth": 0,
              "ticks": ""
             }
            },
            "type": "parcoords"
           }
          ],
          "pie": [
           {
            "automargin": true,
            "type": "pie"
           }
          ],
          "scatter": [
           {
            "fillpattern": {
             "fillmode": "overlay",
             "size": 10,
             "solidity": 0.2
            },
            "type": "scatter"
           }
          ],
          "scatter3d": [
           {
            "line": {
             "colorbar": {
              "outlinewidth": 0,
              "ticks": ""
             }
            },
            "marker": {
             "colorbar": {
              "outlinewidth": 0,
              "ticks": ""
             }
            },
            "type": "scatter3d"
           }
          ],
          "scattercarpet": [
           {
            "marker": {
             "colorbar": {
              "outlinewidth": 0,
              "ticks": ""
             }
            },
            "type": "scattercarpet"
           }
          ],
          "scattergeo": [
           {
            "marker": {
             "colorbar": {
              "outlinewidth": 0,
              "ticks": ""
             }
            },
            "type": "scattergeo"
           }
          ],
          "scattergl": [
           {
            "marker": {
             "colorbar": {
              "outlinewidth": 0,
              "ticks": ""
             }
            },
            "type": "scattergl"
           }
          ],
          "scattermapbox": [
           {
            "marker": {
             "colorbar": {
              "outlinewidth": 0,
              "ticks": ""
             }
            },
            "type": "scattermapbox"
           }
          ],
          "scatterpolar": [
           {
            "marker": {
             "colorbar": {
              "outlinewidth": 0,
              "ticks": ""
             }
            },
            "type": "scatterpolar"
           }
          ],
          "scatterpolargl": [
           {
            "marker": {
             "colorbar": {
              "outlinewidth": 0,
              "ticks": ""
             }
            },
            "type": "scatterpolargl"
           }
          ],
          "scatterternary": [
           {
            "marker": {
             "colorbar": {
              "outlinewidth": 0,
              "ticks": ""
             }
            },
            "type": "scatterternary"
           }
          ],
          "surface": [
           {
            "colorbar": {
             "outlinewidth": 0,
             "ticks": ""
            },
            "colorscale": [
             [
              0,
              "#0d0887"
             ],
             [
              0.1111111111111111,
              "#46039f"
             ],
             [
              0.2222222222222222,
              "#7201a8"
             ],
             [
              0.3333333333333333,
              "#9c179e"
             ],
             [
              0.4444444444444444,
              "#bd3786"
             ],
             [
              0.5555555555555556,
              "#d8576b"
             ],
             [
              0.6666666666666666,
              "#ed7953"
             ],
             [
              0.7777777777777778,
              "#fb9f3a"
             ],
             [
              0.8888888888888888,
              "#fdca26"
             ],
             [
              1,
              "#f0f921"
             ]
            ],
            "type": "surface"
           }
          ],
          "table": [
           {
            "cells": {
             "fill": {
              "color": "#EBF0F8"
             },
             "line": {
              "color": "white"
             }
            },
            "header": {
             "fill": {
              "color": "#C8D4E3"
             },
             "line": {
              "color": "white"
             }
            },
            "type": "table"
           }
          ]
         },
         "layout": {
          "annotationdefaults": {
           "arrowcolor": "#2a3f5f",
           "arrowhead": 0,
           "arrowwidth": 1
          },
          "autotypenumbers": "strict",
          "coloraxis": {
           "colorbar": {
            "outlinewidth": 0,
            "ticks": ""
           }
          },
          "colorscale": {
           "diverging": [
            [
             0,
             "#8e0152"
            ],
            [
             0.1,
             "#c51b7d"
            ],
            [
             0.2,
             "#de77ae"
            ],
            [
             0.3,
             "#f1b6da"
            ],
            [
             0.4,
             "#fde0ef"
            ],
            [
             0.5,
             "#f7f7f7"
            ],
            [
             0.6,
             "#e6f5d0"
            ],
            [
             0.7,
             "#b8e186"
            ],
            [
             0.8,
             "#7fbc41"
            ],
            [
             0.9,
             "#4d9221"
            ],
            [
             1,
             "#276419"
            ]
           ],
           "sequential": [
            [
             0,
             "#0d0887"
            ],
            [
             0.1111111111111111,
             "#46039f"
            ],
            [
             0.2222222222222222,
             "#7201a8"
            ],
            [
             0.3333333333333333,
             "#9c179e"
            ],
            [
             0.4444444444444444,
             "#bd3786"
            ],
            [
             0.5555555555555556,
             "#d8576b"
            ],
            [
             0.6666666666666666,
             "#ed7953"
            ],
            [
             0.7777777777777778,
             "#fb9f3a"
            ],
            [
             0.8888888888888888,
             "#fdca26"
            ],
            [
             1,
             "#f0f921"
            ]
           ],
           "sequentialminus": [
            [
             0,
             "#0d0887"
            ],
            [
             0.1111111111111111,
             "#46039f"
            ],
            [
             0.2222222222222222,
             "#7201a8"
            ],
            [
             0.3333333333333333,
             "#9c179e"
            ],
            [
             0.4444444444444444,
             "#bd3786"
            ],
            [
             0.5555555555555556,
             "#d8576b"
            ],
            [
             0.6666666666666666,
             "#ed7953"
            ],
            [
             0.7777777777777778,
             "#fb9f3a"
            ],
            [
             0.8888888888888888,
             "#fdca26"
            ],
            [
             1,
             "#f0f921"
            ]
           ]
          },
          "colorway": [
           "#636efa",
           "#EF553B",
           "#00cc96",
           "#ab63fa",
           "#FFA15A",
           "#19d3f3",
           "#FF6692",
           "#B6E880",
           "#FF97FF",
           "#FECB52"
          ],
          "font": {
           "color": "#2a3f5f"
          },
          "geo": {
           "bgcolor": "white",
           "lakecolor": "white",
           "landcolor": "#E5ECF6",
           "showlakes": true,
           "showland": true,
           "subunitcolor": "white"
          },
          "hoverlabel": {
           "align": "left"
          },
          "hovermode": "closest",
          "mapbox": {
           "style": "light"
          },
          "paper_bgcolor": "white",
          "plot_bgcolor": "#E5ECF6",
          "polar": {
           "angularaxis": {
            "gridcolor": "white",
            "linecolor": "white",
            "ticks": ""
           },
           "bgcolor": "#E5ECF6",
           "radialaxis": {
            "gridcolor": "white",
            "linecolor": "white",
            "ticks": ""
           }
          },
          "scene": {
           "xaxis": {
            "backgroundcolor": "#E5ECF6",
            "gridcolor": "white",
            "gridwidth": 2,
            "linecolor": "white",
            "showbackground": true,
            "ticks": "",
            "zerolinecolor": "white"
           },
           "yaxis": {
            "backgroundcolor": "#E5ECF6",
            "gridcolor": "white",
            "gridwidth": 2,
            "linecolor": "white",
            "showbackground": true,
            "ticks": "",
            "zerolinecolor": "white"
           },
           "zaxis": {
            "backgroundcolor": "#E5ECF6",
            "gridcolor": "white",
            "gridwidth": 2,
            "linecolor": "white",
            "showbackground": true,
            "ticks": "",
            "zerolinecolor": "white"
           }
          },
          "shapedefaults": {
           "line": {
            "color": "#2a3f5f"
           }
          },
          "ternary": {
           "aaxis": {
            "gridcolor": "white",
            "linecolor": "white",
            "ticks": ""
           },
           "baxis": {
            "gridcolor": "white",
            "linecolor": "white",
            "ticks": ""
           },
           "bgcolor": "#E5ECF6",
           "caxis": {
            "gridcolor": "white",
            "linecolor": "white",
            "ticks": ""
           }
          },
          "title": {
           "x": 0.05
          },
          "xaxis": {
           "automargin": true,
           "gridcolor": "white",
           "linecolor": "white",
           "ticks": "",
           "title": {
            "standoff": 15
           },
           "zerolinecolor": "white",
           "zerolinewidth": 2
          },
          "yaxis": {
           "automargin": true,
           "gridcolor": "white",
           "linecolor": "white",
           "ticks": "",
           "title": {
            "standoff": 15
           },
           "zerolinecolor": "white",
           "zerolinewidth": 2
          }
         }
        },
        "title": {
         "font": {
          "color": "#4D5663"
         }
        },
        "xaxis": {
         "gridcolor": "#E1E5ED",
         "showgrid": true,
         "tickfont": {
          "color": "#4D5663"
         },
         "title": {
          "font": {
           "color": "#4D5663"
          },
          "text": ""
         },
         "zerolinecolor": "#E1E5ED"
        },
        "yaxis": {
         "gridcolor": "#E1E5ED",
         "showgrid": true,
         "tickfont": {
          "color": "#4D5663"
         },
         "title": {
          "font": {
           "color": "#4D5663"
          },
          "text": ""
         },
         "zerolinecolor": "#E1E5ED"
        }
       }
      },
      "text/html": [
       "<div>                            <div id=\"08798b38-9a8f-4da2-8dde-2ea466290be8\" class=\"plotly-graph-div\" style=\"height:525px; width:100%;\"></div>            <script type=\"text/javascript\">                require([\"plotly\"], function(Plotly) {                    window.PLOTLYENV=window.PLOTLYENV || {};\n",
       "                    window.PLOTLYENV.BASE_URL='https://plot.ly';                                    if (document.getElementById(\"08798b38-9a8f-4da2-8dde-2ea466290be8\")) {                    Plotly.newPlot(                        \"08798b38-9a8f-4da2-8dde-2ea466290be8\",                        [{\"marker\":{\"color\":\"rgba(255, 153, 51, 0.6)\",\"line\":{\"color\":\"rgba(255, 153, 51, 1.0)\",\"width\":1}},\"name\":\"values\",\"orientation\":\"v\",\"text\":\"\",\"x\":[\"A\",\"B\",\"C\",\"D\"],\"y\":[1,2,3,4],\"type\":\"bar\"}],                        {\"legend\":{\"bgcolor\":\"#F5F6F9\",\"font\":{\"color\":\"#4D5663\"}},\"paper_bgcolor\":\"#F5F6F9\",\"plot_bgcolor\":\"#F5F6F9\",\"template\":{\"data\":{\"barpolar\":[{\"marker\":{\"line\":{\"color\":\"#E5ECF6\",\"width\":0.5},\"pattern\":{\"fillmode\":\"overlay\",\"size\":10,\"solidity\":0.2}},\"type\":\"barpolar\"}],\"bar\":[{\"error_x\":{\"color\":\"#2a3f5f\"},\"error_y\":{\"color\":\"#2a3f5f\"},\"marker\":{\"line\":{\"color\":\"#E5ECF6\",\"width\":0.5},\"pattern\":{\"fillmode\":\"overlay\",\"size\":10,\"solidity\":0.2}},\"type\":\"bar\"}],\"carpet\":[{\"aaxis\":{\"endlinecolor\":\"#2a3f5f\",\"gridcolor\":\"white\",\"linecolor\":\"white\",\"minorgridcolor\":\"white\",\"startlinecolor\":\"#2a3f5f\"},\"baxis\":{\"endlinecolor\":\"#2a3f5f\",\"gridcolor\":\"white\",\"linecolor\":\"white\",\"minorgridcolor\":\"white\",\"startlinecolor\":\"#2a3f5f\"},\"type\":\"carpet\"}],\"choropleth\":[{\"colorbar\":{\"outlinewidth\":0,\"ticks\":\"\"},\"type\":\"choropleth\"}],\"contourcarpet\":[{\"colorbar\":{\"outlinewidth\":0,\"ticks\":\"\"},\"type\":\"contourcarpet\"}],\"contour\":[{\"colorbar\":{\"outlinewidth\":0,\"ticks\":\"\"},\"colorscale\":[[0.0,\"#0d0887\"],[0.1111111111111111,\"#46039f\"],[0.2222222222222222,\"#7201a8\"],[0.3333333333333333,\"#9c179e\"],[0.4444444444444444,\"#bd3786\"],[0.5555555555555556,\"#d8576b\"],[0.6666666666666666,\"#ed7953\"],[0.7777777777777778,\"#fb9f3a\"],[0.8888888888888888,\"#fdca26\"],[1.0,\"#f0f921\"]],\"type\":\"contour\"}],\"heatmapgl\":[{\"colorbar\":{\"outlinewidth\":0,\"ticks\":\"\"},\"colorscale\":[[0.0,\"#0d0887\"],[0.1111111111111111,\"#46039f\"],[0.2222222222222222,\"#7201a8\"],[0.3333333333333333,\"#9c179e\"],[0.4444444444444444,\"#bd3786\"],[0.5555555555555556,\"#d8576b\"],[0.6666666666666666,\"#ed7953\"],[0.7777777777777778,\"#fb9f3a\"],[0.8888888888888888,\"#fdca26\"],[1.0,\"#f0f921\"]],\"type\":\"heatmapgl\"}],\"heatmap\":[{\"colorbar\":{\"outlinewidth\":0,\"ticks\":\"\"},\"colorscale\":[[0.0,\"#0d0887\"],[0.1111111111111111,\"#46039f\"],[0.2222222222222222,\"#7201a8\"],[0.3333333333333333,\"#9c179e\"],[0.4444444444444444,\"#bd3786\"],[0.5555555555555556,\"#d8576b\"],[0.6666666666666666,\"#ed7953\"],[0.7777777777777778,\"#fb9f3a\"],[0.8888888888888888,\"#fdca26\"],[1.0,\"#f0f921\"]],\"type\":\"heatmap\"}],\"histogram2dcontour\":[{\"colorbar\":{\"outlinewidth\":0,\"ticks\":\"\"},\"colorscale\":[[0.0,\"#0d0887\"],[0.1111111111111111,\"#46039f\"],[0.2222222222222222,\"#7201a8\"],[0.3333333333333333,\"#9c179e\"],[0.4444444444444444,\"#bd3786\"],[0.5555555555555556,\"#d8576b\"],[0.6666666666666666,\"#ed7953\"],[0.7777777777777778,\"#fb9f3a\"],[0.8888888888888888,\"#fdca26\"],[1.0,\"#f0f921\"]],\"type\":\"histogram2dcontour\"}],\"histogram2d\":[{\"colorbar\":{\"outlinewidth\":0,\"ticks\":\"\"},\"colorscale\":[[0.0,\"#0d0887\"],[0.1111111111111111,\"#46039f\"],[0.2222222222222222,\"#7201a8\"],[0.3333333333333333,\"#9c179e\"],[0.4444444444444444,\"#bd3786\"],[0.5555555555555556,\"#d8576b\"],[0.6666666666666666,\"#ed7953\"],[0.7777777777777778,\"#fb9f3a\"],[0.8888888888888888,\"#fdca26\"],[1.0,\"#f0f921\"]],\"type\":\"histogram2d\"}],\"histogram\":[{\"marker\":{\"pattern\":{\"fillmode\":\"overlay\",\"size\":10,\"solidity\":0.2}},\"type\":\"histogram\"}],\"mesh3d\":[{\"colorbar\":{\"outlinewidth\":0,\"ticks\":\"\"},\"type\":\"mesh3d\"}],\"parcoords\":[{\"line\":{\"colorbar\":{\"outlinewidth\":0,\"ticks\":\"\"}},\"type\":\"parcoords\"}],\"pie\":[{\"automargin\":true,\"type\":\"pie\"}],\"scatter3d\":[{\"line\":{\"colorbar\":{\"outlinewidth\":0,\"ticks\":\"\"}},\"marker\":{\"colorbar\":{\"outlinewidth\":0,\"ticks\":\"\"}},\"type\":\"scatter3d\"}],\"scattercarpet\":[{\"marker\":{\"colorbar\":{\"outlinewidth\":0,\"ticks\":\"\"}},\"type\":\"scattercarpet\"}],\"scattergeo\":[{\"marker\":{\"colorbar\":{\"outlinewidth\":0,\"ticks\":\"\"}},\"type\":\"scattergeo\"}],\"scattergl\":[{\"marker\":{\"colorbar\":{\"outlinewidth\":0,\"ticks\":\"\"}},\"type\":\"scattergl\"}],\"scattermapbox\":[{\"marker\":{\"colorbar\":{\"outlinewidth\":0,\"ticks\":\"\"}},\"type\":\"scattermapbox\"}],\"scatterpolargl\":[{\"marker\":{\"colorbar\":{\"outlinewidth\":0,\"ticks\":\"\"}},\"type\":\"scatterpolargl\"}],\"scatterpolar\":[{\"marker\":{\"colorbar\":{\"outlinewidth\":0,\"ticks\":\"\"}},\"type\":\"scatterpolar\"}],\"scatter\":[{\"fillpattern\":{\"fillmode\":\"overlay\",\"size\":10,\"solidity\":0.2},\"type\":\"scatter\"}],\"scatterternary\":[{\"marker\":{\"colorbar\":{\"outlinewidth\":0,\"ticks\":\"\"}},\"type\":\"scatterternary\"}],\"surface\":[{\"colorbar\":{\"outlinewidth\":0,\"ticks\":\"\"},\"colorscale\":[[0.0,\"#0d0887\"],[0.1111111111111111,\"#46039f\"],[0.2222222222222222,\"#7201a8\"],[0.3333333333333333,\"#9c179e\"],[0.4444444444444444,\"#bd3786\"],[0.5555555555555556,\"#d8576b\"],[0.6666666666666666,\"#ed7953\"],[0.7777777777777778,\"#fb9f3a\"],[0.8888888888888888,\"#fdca26\"],[1.0,\"#f0f921\"]],\"type\":\"surface\"}],\"table\":[{\"cells\":{\"fill\":{\"color\":\"#EBF0F8\"},\"line\":{\"color\":\"white\"}},\"header\":{\"fill\":{\"color\":\"#C8D4E3\"},\"line\":{\"color\":\"white\"}},\"type\":\"table\"}]},\"layout\":{\"annotationdefaults\":{\"arrowcolor\":\"#2a3f5f\",\"arrowhead\":0,\"arrowwidth\":1},\"autotypenumbers\":\"strict\",\"coloraxis\":{\"colorbar\":{\"outlinewidth\":0,\"ticks\":\"\"}},\"colorscale\":{\"diverging\":[[0,\"#8e0152\"],[0.1,\"#c51b7d\"],[0.2,\"#de77ae\"],[0.3,\"#f1b6da\"],[0.4,\"#fde0ef\"],[0.5,\"#f7f7f7\"],[0.6,\"#e6f5d0\"],[0.7,\"#b8e186\"],[0.8,\"#7fbc41\"],[0.9,\"#4d9221\"],[1,\"#276419\"]],\"sequential\":[[0.0,\"#0d0887\"],[0.1111111111111111,\"#46039f\"],[0.2222222222222222,\"#7201a8\"],[0.3333333333333333,\"#9c179e\"],[0.4444444444444444,\"#bd3786\"],[0.5555555555555556,\"#d8576b\"],[0.6666666666666666,\"#ed7953\"],[0.7777777777777778,\"#fb9f3a\"],[0.8888888888888888,\"#fdca26\"],[1.0,\"#f0f921\"]],\"sequentialminus\":[[0.0,\"#0d0887\"],[0.1111111111111111,\"#46039f\"],[0.2222222222222222,\"#7201a8\"],[0.3333333333333333,\"#9c179e\"],[0.4444444444444444,\"#bd3786\"],[0.5555555555555556,\"#d8576b\"],[0.6666666666666666,\"#ed7953\"],[0.7777777777777778,\"#fb9f3a\"],[0.8888888888888888,\"#fdca26\"],[1.0,\"#f0f921\"]]},\"colorway\":[\"#636efa\",\"#EF553B\",\"#00cc96\",\"#ab63fa\",\"#FFA15A\",\"#19d3f3\",\"#FF6692\",\"#B6E880\",\"#FF97FF\",\"#FECB52\"],\"font\":{\"color\":\"#2a3f5f\"},\"geo\":{\"bgcolor\":\"white\",\"lakecolor\":\"white\",\"landcolor\":\"#E5ECF6\",\"showlakes\":true,\"showland\":true,\"subunitcolor\":\"white\"},\"hoverlabel\":{\"align\":\"left\"},\"hovermode\":\"closest\",\"mapbox\":{\"style\":\"light\"},\"paper_bgcolor\":\"white\",\"plot_bgcolor\":\"#E5ECF6\",\"polar\":{\"angularaxis\":{\"gridcolor\":\"white\",\"linecolor\":\"white\",\"ticks\":\"\"},\"bgcolor\":\"#E5ECF6\",\"radialaxis\":{\"gridcolor\":\"white\",\"linecolor\":\"white\",\"ticks\":\"\"}},\"scene\":{\"xaxis\":{\"backgroundcolor\":\"#E5ECF6\",\"gridcolor\":\"white\",\"gridwidth\":2,\"linecolor\":\"white\",\"showbackground\":true,\"ticks\":\"\",\"zerolinecolor\":\"white\"},\"yaxis\":{\"backgroundcolor\":\"#E5ECF6\",\"gridcolor\":\"white\",\"gridwidth\":2,\"linecolor\":\"white\",\"showbackground\":true,\"ticks\":\"\",\"zerolinecolor\":\"white\"},\"zaxis\":{\"backgroundcolor\":\"#E5ECF6\",\"gridcolor\":\"white\",\"gridwidth\":2,\"linecolor\":\"white\",\"showbackground\":true,\"ticks\":\"\",\"zerolinecolor\":\"white\"}},\"shapedefaults\":{\"line\":{\"color\":\"#2a3f5f\"}},\"ternary\":{\"aaxis\":{\"gridcolor\":\"white\",\"linecolor\":\"white\",\"ticks\":\"\"},\"baxis\":{\"gridcolor\":\"white\",\"linecolor\":\"white\",\"ticks\":\"\"},\"bgcolor\":\"#E5ECF6\",\"caxis\":{\"gridcolor\":\"white\",\"linecolor\":\"white\",\"ticks\":\"\"}},\"title\":{\"x\":0.05},\"xaxis\":{\"automargin\":true,\"gridcolor\":\"white\",\"linecolor\":\"white\",\"ticks\":\"\",\"title\":{\"standoff\":15},\"zerolinecolor\":\"white\",\"zerolinewidth\":2},\"yaxis\":{\"automargin\":true,\"gridcolor\":\"white\",\"linecolor\":\"white\",\"ticks\":\"\",\"title\":{\"standoff\":15},\"zerolinecolor\":\"white\",\"zerolinewidth\":2}}},\"title\":{\"font\":{\"color\":\"#4D5663\"}},\"xaxis\":{\"gridcolor\":\"#E1E5ED\",\"showgrid\":true,\"tickfont\":{\"color\":\"#4D5663\"},\"title\":{\"font\":{\"color\":\"#4D5663\"},\"text\":\"\"},\"zerolinecolor\":\"#E1E5ED\"},\"yaxis\":{\"gridcolor\":\"#E1E5ED\",\"showgrid\":true,\"tickfont\":{\"color\":\"#4D5663\"},\"title\":{\"font\":{\"color\":\"#4D5663\"},\"text\":\"\"},\"zerolinecolor\":\"#E1E5ED\"}},                        {\"showLink\": true, \"linkText\": \"Export to plot.ly\", \"plotlyServerURL\": \"https://plot.ly\", \"responsive\": true}                    ).then(function(){\n",
       "                            \n",
       "var gd = document.getElementById('08798b38-9a8f-4da2-8dde-2ea466290be8');\n",
       "var x = new MutationObserver(function (mutations, observer) {{\n",
       "        var display = window.getComputedStyle(gd).display;\n",
       "        if (!display || display === 'none') {{\n",
       "            console.log([gd, 'removed!']);\n",
       "            Plotly.purge(gd);\n",
       "            observer.disconnect();\n",
       "        }}\n",
       "}});\n",
       "\n",
       "// Listen for the removal of the full notebook cells\n",
       "var notebookContainer = gd.closest('#notebook-container');\n",
       "if (notebookContainer) {{\n",
       "    x.observe(notebookContainer, {childList: true});\n",
       "}}\n",
       "\n",
       "// Listen for the clearing of the current output cell\n",
       "var outputEl = gd.closest('.output');\n",
       "if (outputEl) {{\n",
       "    x.observe(outputEl, {childList: true});\n",
       "}}\n",
       "\n",
       "                        })                };                });            </script>        </div>"
      ]
     },
     "metadata": {},
     "output_type": "display_data"
    }
   ],
   "source": [
    "df2.iplot(kind = 'bar', x = 'Cat', y = 'values')"
   ]
  },
  {
   "cell_type": "code",
   "execution_count": 29,
   "metadata": {},
   "outputs": [
    {
     "data": {
      "application/vnd.plotly.v1+json": {
       "config": {
        "linkText": "Export to plot.ly",
        "plotlyServerURL": "https://plot.ly",
        "showLink": true
       },
       "data": [
        {
         "marker": {
          "color": "rgba(255, 153, 51, 0.6)",
          "line": {
           "color": "rgba(255, 153, 51, 1.0)",
           "width": 1
          }
         },
         "name": "None",
         "orientation": "v",
         "text": "",
         "type": "bar",
         "x": [
          "A",
          "B",
          "C",
          "D"
         ],
         "y": [
          1.129730114614281,
          -6.59345898895944,
          -3.7781052680214833,
          -8.052521013816193
         ]
        }
       ],
       "layout": {
        "legend": {
         "bgcolor": "#F5F6F9",
         "font": {
          "color": "#4D5663"
         }
        },
        "paper_bgcolor": "#F5F6F9",
        "plot_bgcolor": "#F5F6F9",
        "template": {
         "data": {
          "bar": [
           {
            "error_x": {
             "color": "#2a3f5f"
            },
            "error_y": {
             "color": "#2a3f5f"
            },
            "marker": {
             "line": {
              "color": "#E5ECF6",
              "width": 0.5
             },
             "pattern": {
              "fillmode": "overlay",
              "size": 10,
              "solidity": 0.2
             }
            },
            "type": "bar"
           }
          ],
          "barpolar": [
           {
            "marker": {
             "line": {
              "color": "#E5ECF6",
              "width": 0.5
             },
             "pattern": {
              "fillmode": "overlay",
              "size": 10,
              "solidity": 0.2
             }
            },
            "type": "barpolar"
           }
          ],
          "carpet": [
           {
            "aaxis": {
             "endlinecolor": "#2a3f5f",
             "gridcolor": "white",
             "linecolor": "white",
             "minorgridcolor": "white",
             "startlinecolor": "#2a3f5f"
            },
            "baxis": {
             "endlinecolor": "#2a3f5f",
             "gridcolor": "white",
             "linecolor": "white",
             "minorgridcolor": "white",
             "startlinecolor": "#2a3f5f"
            },
            "type": "carpet"
           }
          ],
          "choropleth": [
           {
            "colorbar": {
             "outlinewidth": 0,
             "ticks": ""
            },
            "type": "choropleth"
           }
          ],
          "contour": [
           {
            "colorbar": {
             "outlinewidth": 0,
             "ticks": ""
            },
            "colorscale": [
             [
              0,
              "#0d0887"
             ],
             [
              0.1111111111111111,
              "#46039f"
             ],
             [
              0.2222222222222222,
              "#7201a8"
             ],
             [
              0.3333333333333333,
              "#9c179e"
             ],
             [
              0.4444444444444444,
              "#bd3786"
             ],
             [
              0.5555555555555556,
              "#d8576b"
             ],
             [
              0.6666666666666666,
              "#ed7953"
             ],
             [
              0.7777777777777778,
              "#fb9f3a"
             ],
             [
              0.8888888888888888,
              "#fdca26"
             ],
             [
              1,
              "#f0f921"
             ]
            ],
            "type": "contour"
           }
          ],
          "contourcarpet": [
           {
            "colorbar": {
             "outlinewidth": 0,
             "ticks": ""
            },
            "type": "contourcarpet"
           }
          ],
          "heatmap": [
           {
            "colorbar": {
             "outlinewidth": 0,
             "ticks": ""
            },
            "colorscale": [
             [
              0,
              "#0d0887"
             ],
             [
              0.1111111111111111,
              "#46039f"
             ],
             [
              0.2222222222222222,
              "#7201a8"
             ],
             [
              0.3333333333333333,
              "#9c179e"
             ],
             [
              0.4444444444444444,
              "#bd3786"
             ],
             [
              0.5555555555555556,
              "#d8576b"
             ],
             [
              0.6666666666666666,
              "#ed7953"
             ],
             [
              0.7777777777777778,
              "#fb9f3a"
             ],
             [
              0.8888888888888888,
              "#fdca26"
             ],
             [
              1,
              "#f0f921"
             ]
            ],
            "type": "heatmap"
           }
          ],
          "heatmapgl": [
           {
            "colorbar": {
             "outlinewidth": 0,
             "ticks": ""
            },
            "colorscale": [
             [
              0,
              "#0d0887"
             ],
             [
              0.1111111111111111,
              "#46039f"
             ],
             [
              0.2222222222222222,
              "#7201a8"
             ],
             [
              0.3333333333333333,
              "#9c179e"
             ],
             [
              0.4444444444444444,
              "#bd3786"
             ],
             [
              0.5555555555555556,
              "#d8576b"
             ],
             [
              0.6666666666666666,
              "#ed7953"
             ],
             [
              0.7777777777777778,
              "#fb9f3a"
             ],
             [
              0.8888888888888888,
              "#fdca26"
             ],
             [
              1,
              "#f0f921"
             ]
            ],
            "type": "heatmapgl"
           }
          ],
          "histogram": [
           {
            "marker": {
             "pattern": {
              "fillmode": "overlay",
              "size": 10,
              "solidity": 0.2
             }
            },
            "type": "histogram"
           }
          ],
          "histogram2d": [
           {
            "colorbar": {
             "outlinewidth": 0,
             "ticks": ""
            },
            "colorscale": [
             [
              0,
              "#0d0887"
             ],
             [
              0.1111111111111111,
              "#46039f"
             ],
             [
              0.2222222222222222,
              "#7201a8"
             ],
             [
              0.3333333333333333,
              "#9c179e"
             ],
             [
              0.4444444444444444,
              "#bd3786"
             ],
             [
              0.5555555555555556,
              "#d8576b"
             ],
             [
              0.6666666666666666,
              "#ed7953"
             ],
             [
              0.7777777777777778,
              "#fb9f3a"
             ],
             [
              0.8888888888888888,
              "#fdca26"
             ],
             [
              1,
              "#f0f921"
             ]
            ],
            "type": "histogram2d"
           }
          ],
          "histogram2dcontour": [
           {
            "colorbar": {
             "outlinewidth": 0,
             "ticks": ""
            },
            "colorscale": [
             [
              0,
              "#0d0887"
             ],
             [
              0.1111111111111111,
              "#46039f"
             ],
             [
              0.2222222222222222,
              "#7201a8"
             ],
             [
              0.3333333333333333,
              "#9c179e"
             ],
             [
              0.4444444444444444,
              "#bd3786"
             ],
             [
              0.5555555555555556,
              "#d8576b"
             ],
             [
              0.6666666666666666,
              "#ed7953"
             ],
             [
              0.7777777777777778,
              "#fb9f3a"
             ],
             [
              0.8888888888888888,
              "#fdca26"
             ],
             [
              1,
              "#f0f921"
             ]
            ],
            "type": "histogram2dcontour"
           }
          ],
          "mesh3d": [
           {
            "colorbar": {
             "outlinewidth": 0,
             "ticks": ""
            },
            "type": "mesh3d"
           }
          ],
          "parcoords": [
           {
            "line": {
             "colorbar": {
              "outlinewidth": 0,
              "ticks": ""
             }
            },
            "type": "parcoords"
           }
          ],
          "pie": [
           {
            "automargin": true,
            "type": "pie"
           }
          ],
          "scatter": [
           {
            "fillpattern": {
             "fillmode": "overlay",
             "size": 10,
             "solidity": 0.2
            },
            "type": "scatter"
           }
          ],
          "scatter3d": [
           {
            "line": {
             "colorbar": {
              "outlinewidth": 0,
              "ticks": ""
             }
            },
            "marker": {
             "colorbar": {
              "outlinewidth": 0,
              "ticks": ""
             }
            },
            "type": "scatter3d"
           }
          ],
          "scattercarpet": [
           {
            "marker": {
             "colorbar": {
              "outlinewidth": 0,
              "ticks": ""
             }
            },
            "type": "scattercarpet"
           }
          ],
          "scattergeo": [
           {
            "marker": {
             "colorbar": {
              "outlinewidth": 0,
              "ticks": ""
             }
            },
            "type": "scattergeo"
           }
          ],
          "scattergl": [
           {
            "marker": {
             "colorbar": {
              "outlinewidth": 0,
              "ticks": ""
             }
            },
            "type": "scattergl"
           }
          ],
          "scattermapbox": [
           {
            "marker": {
             "colorbar": {
              "outlinewidth": 0,
              "ticks": ""
             }
            },
            "type": "scattermapbox"
           }
          ],
          "scatterpolar": [
           {
            "marker": {
             "colorbar": {
              "outlinewidth": 0,
              "ticks": ""
             }
            },
            "type": "scatterpolar"
           }
          ],
          "scatterpolargl": [
           {
            "marker": {
             "colorbar": {
              "outlinewidth": 0,
              "ticks": ""
             }
            },
            "type": "scatterpolargl"
           }
          ],
          "scatterternary": [
           {
            "marker": {
             "colorbar": {
              "outlinewidth": 0,
              "ticks": ""
             }
            },
            "type": "scatterternary"
           }
          ],
          "surface": [
           {
            "colorbar": {
             "outlinewidth": 0,
             "ticks": ""
            },
            "colorscale": [
             [
              0,
              "#0d0887"
             ],
             [
              0.1111111111111111,
              "#46039f"
             ],
             [
              0.2222222222222222,
              "#7201a8"
             ],
             [
              0.3333333333333333,
              "#9c179e"
             ],
             [
              0.4444444444444444,
              "#bd3786"
             ],
             [
              0.5555555555555556,
              "#d8576b"
             ],
             [
              0.6666666666666666,
              "#ed7953"
             ],
             [
              0.7777777777777778,
              "#fb9f3a"
             ],
             [
              0.8888888888888888,
              "#fdca26"
             ],
             [
              1,
              "#f0f921"
             ]
            ],
            "type": "surface"
           }
          ],
          "table": [
           {
            "cells": {
             "fill": {
              "color": "#EBF0F8"
             },
             "line": {
              "color": "white"
             }
            },
            "header": {
             "fill": {
              "color": "#C8D4E3"
             },
             "line": {
              "color": "white"
             }
            },
            "type": "table"
           }
          ]
         },
         "layout": {
          "annotationdefaults": {
           "arrowcolor": "#2a3f5f",
           "arrowhead": 0,
           "arrowwidth": 1
          },
          "autotypenumbers": "strict",
          "coloraxis": {
           "colorbar": {
            "outlinewidth": 0,
            "ticks": ""
           }
          },
          "colorscale": {
           "diverging": [
            [
             0,
             "#8e0152"
            ],
            [
             0.1,
             "#c51b7d"
            ],
            [
             0.2,
             "#de77ae"
            ],
            [
             0.3,
             "#f1b6da"
            ],
            [
             0.4,
             "#fde0ef"
            ],
            [
             0.5,
             "#f7f7f7"
            ],
            [
             0.6,
             "#e6f5d0"
            ],
            [
             0.7,
             "#b8e186"
            ],
            [
             0.8,
             "#7fbc41"
            ],
            [
             0.9,
             "#4d9221"
            ],
            [
             1,
             "#276419"
            ]
           ],
           "sequential": [
            [
             0,
             "#0d0887"
            ],
            [
             0.1111111111111111,
             "#46039f"
            ],
            [
             0.2222222222222222,
             "#7201a8"
            ],
            [
             0.3333333333333333,
             "#9c179e"
            ],
            [
             0.4444444444444444,
             "#bd3786"
            ],
            [
             0.5555555555555556,
             "#d8576b"
            ],
            [
             0.6666666666666666,
             "#ed7953"
            ],
            [
             0.7777777777777778,
             "#fb9f3a"
            ],
            [
             0.8888888888888888,
             "#fdca26"
            ],
            [
             1,
             "#f0f921"
            ]
           ],
           "sequentialminus": [
            [
             0,
             "#0d0887"
            ],
            [
             0.1111111111111111,
             "#46039f"
            ],
            [
             0.2222222222222222,
             "#7201a8"
            ],
            [
             0.3333333333333333,
             "#9c179e"
            ],
            [
             0.4444444444444444,
             "#bd3786"
            ],
            [
             0.5555555555555556,
             "#d8576b"
            ],
            [
             0.6666666666666666,
             "#ed7953"
            ],
            [
             0.7777777777777778,
             "#fb9f3a"
            ],
            [
             0.8888888888888888,
             "#fdca26"
            ],
            [
             1,
             "#f0f921"
            ]
           ]
          },
          "colorway": [
           "#636efa",
           "#EF553B",
           "#00cc96",
           "#ab63fa",
           "#FFA15A",
           "#19d3f3",
           "#FF6692",
           "#B6E880",
           "#FF97FF",
           "#FECB52"
          ],
          "font": {
           "color": "#2a3f5f"
          },
          "geo": {
           "bgcolor": "white",
           "lakecolor": "white",
           "landcolor": "#E5ECF6",
           "showlakes": true,
           "showland": true,
           "subunitcolor": "white"
          },
          "hoverlabel": {
           "align": "left"
          },
          "hovermode": "closest",
          "mapbox": {
           "style": "light"
          },
          "paper_bgcolor": "white",
          "plot_bgcolor": "#E5ECF6",
          "polar": {
           "angularaxis": {
            "gridcolor": "white",
            "linecolor": "white",
            "ticks": ""
           },
           "bgcolor": "#E5ECF6",
           "radialaxis": {
            "gridcolor": "white",
            "linecolor": "white",
            "ticks": ""
           }
          },
          "scene": {
           "xaxis": {
            "backgroundcolor": "#E5ECF6",
            "gridcolor": "white",
            "gridwidth": 2,
            "linecolor": "white",
            "showbackground": true,
            "ticks": "",
            "zerolinecolor": "white"
           },
           "yaxis": {
            "backgroundcolor": "#E5ECF6",
            "gridcolor": "white",
            "gridwidth": 2,
            "linecolor": "white",
            "showbackground": true,
            "ticks": "",
            "zerolinecolor": "white"
           },
           "zaxis": {
            "backgroundcolor": "#E5ECF6",
            "gridcolor": "white",
            "gridwidth": 2,
            "linecolor": "white",
            "showbackground": true,
            "ticks": "",
            "zerolinecolor": "white"
           }
          },
          "shapedefaults": {
           "line": {
            "color": "#2a3f5f"
           }
          },
          "ternary": {
           "aaxis": {
            "gridcolor": "white",
            "linecolor": "white",
            "ticks": ""
           },
           "baxis": {
            "gridcolor": "white",
            "linecolor": "white",
            "ticks": ""
           },
           "bgcolor": "#E5ECF6",
           "caxis": {
            "gridcolor": "white",
            "linecolor": "white",
            "ticks": ""
           }
          },
          "title": {
           "x": 0.05
          },
          "xaxis": {
           "automargin": true,
           "gridcolor": "white",
           "linecolor": "white",
           "ticks": "",
           "title": {
            "standoff": 15
           },
           "zerolinecolor": "white",
           "zerolinewidth": 2
          },
          "yaxis": {
           "automargin": true,
           "gridcolor": "white",
           "linecolor": "white",
           "ticks": "",
           "title": {
            "standoff": 15
           },
           "zerolinecolor": "white",
           "zerolinewidth": 2
          }
         }
        },
        "title": {
         "font": {
          "color": "#4D5663"
         }
        },
        "xaxis": {
         "gridcolor": "#E1E5ED",
         "showgrid": true,
         "tickfont": {
          "color": "#4D5663"
         },
         "title": {
          "font": {
           "color": "#4D5663"
          },
          "text": ""
         },
         "zerolinecolor": "#E1E5ED"
        },
        "yaxis": {
         "gridcolor": "#E1E5ED",
         "showgrid": true,
         "tickfont": {
          "color": "#4D5663"
         },
         "title": {
          "font": {
           "color": "#4D5663"
          },
          "text": ""
         },
         "zerolinecolor": "#E1E5ED"
        }
       }
      },
      "text/html": [
       "<div>                            <div id=\"53da6d2f-51c6-4e07-8749-ebc7a0c108bb\" class=\"plotly-graph-div\" style=\"height:525px; width:100%;\"></div>            <script type=\"text/javascript\">                require([\"plotly\"], function(Plotly) {                    window.PLOTLYENV=window.PLOTLYENV || {};\n",
       "                    window.PLOTLYENV.BASE_URL='https://plot.ly';                                    if (document.getElementById(\"53da6d2f-51c6-4e07-8749-ebc7a0c108bb\")) {                    Plotly.newPlot(                        \"53da6d2f-51c6-4e07-8749-ebc7a0c108bb\",                        [{\"marker\":{\"color\":\"rgba(255, 153, 51, 0.6)\",\"line\":{\"color\":\"rgba(255, 153, 51, 1.0)\",\"width\":1}},\"name\":\"None\",\"orientation\":\"v\",\"text\":\"\",\"x\":[\"A\",\"B\",\"C\",\"D\"],\"y\":[1.129730114614281,-6.59345898895944,-3.7781052680214833,-8.052521013816193],\"type\":\"bar\"}],                        {\"legend\":{\"bgcolor\":\"#F5F6F9\",\"font\":{\"color\":\"#4D5663\"}},\"paper_bgcolor\":\"#F5F6F9\",\"plot_bgcolor\":\"#F5F6F9\",\"template\":{\"data\":{\"barpolar\":[{\"marker\":{\"line\":{\"color\":\"#E5ECF6\",\"width\":0.5},\"pattern\":{\"fillmode\":\"overlay\",\"size\":10,\"solidity\":0.2}},\"type\":\"barpolar\"}],\"bar\":[{\"error_x\":{\"color\":\"#2a3f5f\"},\"error_y\":{\"color\":\"#2a3f5f\"},\"marker\":{\"line\":{\"color\":\"#E5ECF6\",\"width\":0.5},\"pattern\":{\"fillmode\":\"overlay\",\"size\":10,\"solidity\":0.2}},\"type\":\"bar\"}],\"carpet\":[{\"aaxis\":{\"endlinecolor\":\"#2a3f5f\",\"gridcolor\":\"white\",\"linecolor\":\"white\",\"minorgridcolor\":\"white\",\"startlinecolor\":\"#2a3f5f\"},\"baxis\":{\"endlinecolor\":\"#2a3f5f\",\"gridcolor\":\"white\",\"linecolor\":\"white\",\"minorgridcolor\":\"white\",\"startlinecolor\":\"#2a3f5f\"},\"type\":\"carpet\"}],\"choropleth\":[{\"colorbar\":{\"outlinewidth\":0,\"ticks\":\"\"},\"type\":\"choropleth\"}],\"contourcarpet\":[{\"colorbar\":{\"outlinewidth\":0,\"ticks\":\"\"},\"type\":\"contourcarpet\"}],\"contour\":[{\"colorbar\":{\"outlinewidth\":0,\"ticks\":\"\"},\"colorscale\":[[0.0,\"#0d0887\"],[0.1111111111111111,\"#46039f\"],[0.2222222222222222,\"#7201a8\"],[0.3333333333333333,\"#9c179e\"],[0.4444444444444444,\"#bd3786\"],[0.5555555555555556,\"#d8576b\"],[0.6666666666666666,\"#ed7953\"],[0.7777777777777778,\"#fb9f3a\"],[0.8888888888888888,\"#fdca26\"],[1.0,\"#f0f921\"]],\"type\":\"contour\"}],\"heatmapgl\":[{\"colorbar\":{\"outlinewidth\":0,\"ticks\":\"\"},\"colorscale\":[[0.0,\"#0d0887\"],[0.1111111111111111,\"#46039f\"],[0.2222222222222222,\"#7201a8\"],[0.3333333333333333,\"#9c179e\"],[0.4444444444444444,\"#bd3786\"],[0.5555555555555556,\"#d8576b\"],[0.6666666666666666,\"#ed7953\"],[0.7777777777777778,\"#fb9f3a\"],[0.8888888888888888,\"#fdca26\"],[1.0,\"#f0f921\"]],\"type\":\"heatmapgl\"}],\"heatmap\":[{\"colorbar\":{\"outlinewidth\":0,\"ticks\":\"\"},\"colorscale\":[[0.0,\"#0d0887\"],[0.1111111111111111,\"#46039f\"],[0.2222222222222222,\"#7201a8\"],[0.3333333333333333,\"#9c179e\"],[0.4444444444444444,\"#bd3786\"],[0.5555555555555556,\"#d8576b\"],[0.6666666666666666,\"#ed7953\"],[0.7777777777777778,\"#fb9f3a\"],[0.8888888888888888,\"#fdca26\"],[1.0,\"#f0f921\"]],\"type\":\"heatmap\"}],\"histogram2dcontour\":[{\"colorbar\":{\"outlinewidth\":0,\"ticks\":\"\"},\"colorscale\":[[0.0,\"#0d0887\"],[0.1111111111111111,\"#46039f\"],[0.2222222222222222,\"#7201a8\"],[0.3333333333333333,\"#9c179e\"],[0.4444444444444444,\"#bd3786\"],[0.5555555555555556,\"#d8576b\"],[0.6666666666666666,\"#ed7953\"],[0.7777777777777778,\"#fb9f3a\"],[0.8888888888888888,\"#fdca26\"],[1.0,\"#f0f921\"]],\"type\":\"histogram2dcontour\"}],\"histogram2d\":[{\"colorbar\":{\"outlinewidth\":0,\"ticks\":\"\"},\"colorscale\":[[0.0,\"#0d0887\"],[0.1111111111111111,\"#46039f\"],[0.2222222222222222,\"#7201a8\"],[0.3333333333333333,\"#9c179e\"],[0.4444444444444444,\"#bd3786\"],[0.5555555555555556,\"#d8576b\"],[0.6666666666666666,\"#ed7953\"],[0.7777777777777778,\"#fb9f3a\"],[0.8888888888888888,\"#fdca26\"],[1.0,\"#f0f921\"]],\"type\":\"histogram2d\"}],\"histogram\":[{\"marker\":{\"pattern\":{\"fillmode\":\"overlay\",\"size\":10,\"solidity\":0.2}},\"type\":\"histogram\"}],\"mesh3d\":[{\"colorbar\":{\"outlinewidth\":0,\"ticks\":\"\"},\"type\":\"mesh3d\"}],\"parcoords\":[{\"line\":{\"colorbar\":{\"outlinewidth\":0,\"ticks\":\"\"}},\"type\":\"parcoords\"}],\"pie\":[{\"automargin\":true,\"type\":\"pie\"}],\"scatter3d\":[{\"line\":{\"colorbar\":{\"outlinewidth\":0,\"ticks\":\"\"}},\"marker\":{\"colorbar\":{\"outlinewidth\":0,\"ticks\":\"\"}},\"type\":\"scatter3d\"}],\"scattercarpet\":[{\"marker\":{\"colorbar\":{\"outlinewidth\":0,\"ticks\":\"\"}},\"type\":\"scattercarpet\"}],\"scattergeo\":[{\"marker\":{\"colorbar\":{\"outlinewidth\":0,\"ticks\":\"\"}},\"type\":\"scattergeo\"}],\"scattergl\":[{\"marker\":{\"colorbar\":{\"outlinewidth\":0,\"ticks\":\"\"}},\"type\":\"scattergl\"}],\"scattermapbox\":[{\"marker\":{\"colorbar\":{\"outlinewidth\":0,\"ticks\":\"\"}},\"type\":\"scattermapbox\"}],\"scatterpolargl\":[{\"marker\":{\"colorbar\":{\"outlinewidth\":0,\"ticks\":\"\"}},\"type\":\"scatterpolargl\"}],\"scatterpolar\":[{\"marker\":{\"colorbar\":{\"outlinewidth\":0,\"ticks\":\"\"}},\"type\":\"scatterpolar\"}],\"scatter\":[{\"fillpattern\":{\"fillmode\":\"overlay\",\"size\":10,\"solidity\":0.2},\"type\":\"scatter\"}],\"scatterternary\":[{\"marker\":{\"colorbar\":{\"outlinewidth\":0,\"ticks\":\"\"}},\"type\":\"scatterternary\"}],\"surface\":[{\"colorbar\":{\"outlinewidth\":0,\"ticks\":\"\"},\"colorscale\":[[0.0,\"#0d0887\"],[0.1111111111111111,\"#46039f\"],[0.2222222222222222,\"#7201a8\"],[0.3333333333333333,\"#9c179e\"],[0.4444444444444444,\"#bd3786\"],[0.5555555555555556,\"#d8576b\"],[0.6666666666666666,\"#ed7953\"],[0.7777777777777778,\"#fb9f3a\"],[0.8888888888888888,\"#fdca26\"],[1.0,\"#f0f921\"]],\"type\":\"surface\"}],\"table\":[{\"cells\":{\"fill\":{\"color\":\"#EBF0F8\"},\"line\":{\"color\":\"white\"}},\"header\":{\"fill\":{\"color\":\"#C8D4E3\"},\"line\":{\"color\":\"white\"}},\"type\":\"table\"}]},\"layout\":{\"annotationdefaults\":{\"arrowcolor\":\"#2a3f5f\",\"arrowhead\":0,\"arrowwidth\":1},\"autotypenumbers\":\"strict\",\"coloraxis\":{\"colorbar\":{\"outlinewidth\":0,\"ticks\":\"\"}},\"colorscale\":{\"diverging\":[[0,\"#8e0152\"],[0.1,\"#c51b7d\"],[0.2,\"#de77ae\"],[0.3,\"#f1b6da\"],[0.4,\"#fde0ef\"],[0.5,\"#f7f7f7\"],[0.6,\"#e6f5d0\"],[0.7,\"#b8e186\"],[0.8,\"#7fbc41\"],[0.9,\"#4d9221\"],[1,\"#276419\"]],\"sequential\":[[0.0,\"#0d0887\"],[0.1111111111111111,\"#46039f\"],[0.2222222222222222,\"#7201a8\"],[0.3333333333333333,\"#9c179e\"],[0.4444444444444444,\"#bd3786\"],[0.5555555555555556,\"#d8576b\"],[0.6666666666666666,\"#ed7953\"],[0.7777777777777778,\"#fb9f3a\"],[0.8888888888888888,\"#fdca26\"],[1.0,\"#f0f921\"]],\"sequentialminus\":[[0.0,\"#0d0887\"],[0.1111111111111111,\"#46039f\"],[0.2222222222222222,\"#7201a8\"],[0.3333333333333333,\"#9c179e\"],[0.4444444444444444,\"#bd3786\"],[0.5555555555555556,\"#d8576b\"],[0.6666666666666666,\"#ed7953\"],[0.7777777777777778,\"#fb9f3a\"],[0.8888888888888888,\"#fdca26\"],[1.0,\"#f0f921\"]]},\"colorway\":[\"#636efa\",\"#EF553B\",\"#00cc96\",\"#ab63fa\",\"#FFA15A\",\"#19d3f3\",\"#FF6692\",\"#B6E880\",\"#FF97FF\",\"#FECB52\"],\"font\":{\"color\":\"#2a3f5f\"},\"geo\":{\"bgcolor\":\"white\",\"lakecolor\":\"white\",\"landcolor\":\"#E5ECF6\",\"showlakes\":true,\"showland\":true,\"subunitcolor\":\"white\"},\"hoverlabel\":{\"align\":\"left\"},\"hovermode\":\"closest\",\"mapbox\":{\"style\":\"light\"},\"paper_bgcolor\":\"white\",\"plot_bgcolor\":\"#E5ECF6\",\"polar\":{\"angularaxis\":{\"gridcolor\":\"white\",\"linecolor\":\"white\",\"ticks\":\"\"},\"bgcolor\":\"#E5ECF6\",\"radialaxis\":{\"gridcolor\":\"white\",\"linecolor\":\"white\",\"ticks\":\"\"}},\"scene\":{\"xaxis\":{\"backgroundcolor\":\"#E5ECF6\",\"gridcolor\":\"white\",\"gridwidth\":2,\"linecolor\":\"white\",\"showbackground\":true,\"ticks\":\"\",\"zerolinecolor\":\"white\"},\"yaxis\":{\"backgroundcolor\":\"#E5ECF6\",\"gridcolor\":\"white\",\"gridwidth\":2,\"linecolor\":\"white\",\"showbackground\":true,\"ticks\":\"\",\"zerolinecolor\":\"white\"},\"zaxis\":{\"backgroundcolor\":\"#E5ECF6\",\"gridcolor\":\"white\",\"gridwidth\":2,\"linecolor\":\"white\",\"showbackground\":true,\"ticks\":\"\",\"zerolinecolor\":\"white\"}},\"shapedefaults\":{\"line\":{\"color\":\"#2a3f5f\"}},\"ternary\":{\"aaxis\":{\"gridcolor\":\"white\",\"linecolor\":\"white\",\"ticks\":\"\"},\"baxis\":{\"gridcolor\":\"white\",\"linecolor\":\"white\",\"ticks\":\"\"},\"bgcolor\":\"#E5ECF6\",\"caxis\":{\"gridcolor\":\"white\",\"linecolor\":\"white\",\"ticks\":\"\"}},\"title\":{\"x\":0.05},\"xaxis\":{\"automargin\":true,\"gridcolor\":\"white\",\"linecolor\":\"white\",\"ticks\":\"\",\"title\":{\"standoff\":15},\"zerolinecolor\":\"white\",\"zerolinewidth\":2},\"yaxis\":{\"automargin\":true,\"gridcolor\":\"white\",\"linecolor\":\"white\",\"ticks\":\"\",\"title\":{\"standoff\":15},\"zerolinecolor\":\"white\",\"zerolinewidth\":2}}},\"title\":{\"font\":{\"color\":\"#4D5663\"}},\"xaxis\":{\"gridcolor\":\"#E1E5ED\",\"showgrid\":true,\"tickfont\":{\"color\":\"#4D5663\"},\"title\":{\"font\":{\"color\":\"#4D5663\"},\"text\":\"\"},\"zerolinecolor\":\"#E1E5ED\"},\"yaxis\":{\"gridcolor\":\"#E1E5ED\",\"showgrid\":true,\"tickfont\":{\"color\":\"#4D5663\"},\"title\":{\"font\":{\"color\":\"#4D5663\"},\"text\":\"\"},\"zerolinecolor\":\"#E1E5ED\"}},                        {\"showLink\": true, \"linkText\": \"Export to plot.ly\", \"plotlyServerURL\": \"https://plot.ly\", \"responsive\": true}                    ).then(function(){\n",
       "                            \n",
       "var gd = document.getElementById('53da6d2f-51c6-4e07-8749-ebc7a0c108bb');\n",
       "var x = new MutationObserver(function (mutations, observer) {{\n",
       "        var display = window.getComputedStyle(gd).display;\n",
       "        if (!display || display === 'none') {{\n",
       "            console.log([gd, 'removed!']);\n",
       "            Plotly.purge(gd);\n",
       "            observer.disconnect();\n",
       "        }}\n",
       "}});\n",
       "\n",
       "// Listen for the removal of the full notebook cells\n",
       "var notebookContainer = gd.closest('#notebook-container');\n",
       "if (notebookContainer) {{\n",
       "    x.observe(notebookContainer, {childList: true});\n",
       "}}\n",
       "\n",
       "// Listen for the clearing of the current output cell\n",
       "var outputEl = gd.closest('.output');\n",
       "if (outputEl) {{\n",
       "    x.observe(outputEl, {childList: true});\n",
       "}}\n",
       "\n",
       "                        })                };                });            </script>        </div>"
      ]
     },
     "metadata": {},
     "output_type": "display_data"
    }
   ],
   "source": [
    "df.sum().iplot(kind = 'bar')"
   ]
  },
  {
   "cell_type": "code",
   "execution_count": 32,
   "metadata": {},
   "outputs": [
    {
     "data": {
      "text/html": [
       "<div>\n",
       "<style scoped>\n",
       "    .dataframe tbody tr th:only-of-type {\n",
       "        vertical-align: middle;\n",
       "    }\n",
       "\n",
       "    .dataframe tbody tr th {\n",
       "        vertical-align: top;\n",
       "    }\n",
       "\n",
       "    .dataframe thead th {\n",
       "        text-align: right;\n",
       "    }\n",
       "</style>\n",
       "<table border=\"1\" class=\"dataframe\">\n",
       "  <thead>\n",
       "    <tr style=\"text-align: right;\">\n",
       "      <th></th>\n",
       "      <th>B</th>\n",
       "      <th>C</th>\n",
       "      <th>D</th>\n",
       "    </tr>\n",
       "    <tr>\n",
       "      <th>A</th>\n",
       "      <th></th>\n",
       "      <th></th>\n",
       "      <th></th>\n",
       "    </tr>\n",
       "  </thead>\n",
       "  <tbody>\n",
       "    <tr>\n",
       "      <th>-2.575782</th>\n",
       "      <td>1</td>\n",
       "      <td>1</td>\n",
       "      <td>1</td>\n",
       "    </tr>\n",
       "    <tr>\n",
       "      <th>-2.327443</th>\n",
       "      <td>1</td>\n",
       "      <td>1</td>\n",
       "      <td>1</td>\n",
       "    </tr>\n",
       "    <tr>\n",
       "      <th>-2.096391</th>\n",
       "      <td>1</td>\n",
       "      <td>1</td>\n",
       "      <td>1</td>\n",
       "    </tr>\n",
       "    <tr>\n",
       "      <th>-2.057938</th>\n",
       "      <td>1</td>\n",
       "      <td>1</td>\n",
       "      <td>1</td>\n",
       "    </tr>\n",
       "    <tr>\n",
       "      <th>-1.662197</th>\n",
       "      <td>1</td>\n",
       "      <td>1</td>\n",
       "      <td>1</td>\n",
       "    </tr>\n",
       "    <tr>\n",
       "      <th>...</th>\n",
       "      <td>...</td>\n",
       "      <td>...</td>\n",
       "      <td>...</td>\n",
       "    </tr>\n",
       "    <tr>\n",
       "      <th>1.683491</th>\n",
       "      <td>1</td>\n",
       "      <td>1</td>\n",
       "      <td>1</td>\n",
       "    </tr>\n",
       "    <tr>\n",
       "      <th>1.751446</th>\n",
       "      <td>1</td>\n",
       "      <td>1</td>\n",
       "      <td>1</td>\n",
       "    </tr>\n",
       "    <tr>\n",
       "      <th>1.845695</th>\n",
       "      <td>1</td>\n",
       "      <td>1</td>\n",
       "      <td>1</td>\n",
       "    </tr>\n",
       "    <tr>\n",
       "      <th>1.851449</th>\n",
       "      <td>1</td>\n",
       "      <td>1</td>\n",
       "      <td>1</td>\n",
       "    </tr>\n",
       "    <tr>\n",
       "      <th>2.664778</th>\n",
       "      <td>1</td>\n",
       "      <td>1</td>\n",
       "      <td>1</td>\n",
       "    </tr>\n",
       "  </tbody>\n",
       "</table>\n",
       "<p>100 rows × 3 columns</p>\n",
       "</div>"
      ],
      "text/plain": [
       "           B  C  D\n",
       "A                 \n",
       "-2.575782  1  1  1\n",
       "-2.327443  1  1  1\n",
       "-2.096391  1  1  1\n",
       "-2.057938  1  1  1\n",
       "-1.662197  1  1  1\n",
       "...       .. .. ..\n",
       " 1.683491  1  1  1\n",
       " 1.751446  1  1  1\n",
       " 1.845695  1  1  1\n",
       " 1.851449  1  1  1\n",
       " 2.664778  1  1  1\n",
       "\n",
       "[100 rows x 3 columns]"
      ]
     },
     "execution_count": 32,
     "metadata": {},
     "output_type": "execute_result"
    }
   ],
   "source": [
    "df.groupby('A').count()"
   ]
  },
  {
   "cell_type": "code",
   "execution_count": 33,
   "metadata": {},
   "outputs": [
    {
     "data": {
      "application/vnd.plotly.v1+json": {
       "config": {
        "linkText": "Export to plot.ly",
        "plotlyServerURL": "https://plot.ly",
        "showLink": true
       },
       "data": [
        {
         "boxpoints": false,
         "line": {
          "width": 1.3
         },
         "marker": {
          "color": "rgba(255, 153, 51, 1.0)"
         },
         "name": "A",
         "orientation": "v",
         "type": "box",
         "y": [
          -0.4942953176823016,
          -0.16178728762490022,
          -0.8390603474350155,
          -0.02834614733446766,
          -1.0241161439007027,
          -0.9179823556087278,
          -0.5270811295796719,
          0.27533957657120334,
          -0.5166194685975221,
          -1.0373363047670325,
          -0.07861749677191446,
          1.5208938679123218,
          -1.045419118852328,
          0.9577597313370604,
          -1.208814364572658,
          -0.9378190015267323,
          -0.15179128135226935,
          -0.36823942602092946,
          1.1801976171675,
          -0.11122333672212044,
          0.6014903130814289,
          1.2500633036329303,
          0.1819515234536075,
          -0.090011472030963,
          -0.6640883373039753,
          -2.3274427178266577,
          -0.7268755613223424,
          1.5467846684798305,
          1.0752380851138414,
          -0.4894197997176759,
          0.3958357693479593,
          0.44196600839681394,
          -0.3815767418951726,
          0.005070999414106161,
          1.6834912069917087,
          0.23933330837847944,
          0.5091389558013533,
          0.09842979261146152,
          -0.4499547611547523,
          -0.3463024203076845,
          0.5733040312105815,
          0.4332099472954645,
          1.2126318537230285,
          -1.190727520028816,
          -0.9073285189222283,
          1.4172606453447274,
          -0.6255530412469508,
          1.845694562361856,
          0.23847555300346618,
          0.6407587236980142,
          -1.0114360620177183,
          -0.5564814526573163,
          0.2546935905558053,
          -1.2695858243941578,
          1.8514492919366132,
          0.23523213662306688,
          -0.9291021799224172,
          0.040780225794706006,
          -2.096391112393384,
          -1.0160093775689543,
          0.5582814799467065,
          0.07613378337792231,
          -0.6538248733075313,
          1.5466824093846314,
          -0.9398066743878285,
          -1.0419175370218265,
          1.4001038558843346,
          -0.6184912302826338,
          -1.0297252079314425,
          -1.6621970043629886,
          0.21232562549579445,
          -0.1745745780404813,
          -1.2695458015265704,
          0.7721539642847285,
          0.684357453602497,
          -0.12012953623771906,
          1.6419455398398206,
          -0.8537595616075221,
          0.877407245152962,
          0.7671818773977611,
          -2.0579375560046227,
          1.2583085349685919,
          -0.06086249192674227,
          -0.5953435869818778,
          1.4104887511271211,
          2.664778128711753,
          0.1557542023501004,
          -2.57578177829515,
          1.6151325598363857,
          1.3949436887722926,
          -1.3499359854025543,
          -0.29763398924145984,
          0.8875033159886624,
          0.7132636066262454,
          -0.6568805732905527,
          -1.2841239429149591,
          0.8921044369350987,
          0.9627291060958764,
          -0.05046368624338138,
          1.7514462836643638
         ]
        },
        {
         "boxpoints": false,
         "line": {
          "width": 1.3
         },
         "marker": {
          "color": "rgba(55, 128, 191, 1.0)"
         },
         "name": "B",
         "orientation": "v",
         "type": "box",
         "y": [
          0.5342279294184061,
          1.4027002947045557,
          -0.04231923805900977,
          1.0193152802393086,
          0.19020380468037196,
          -0.25101066852987897,
          -1.3234460500820229,
          -0.7102961177276159,
          -1.2188833252946112,
          -0.2509427527758014,
          -0.4972100597525194,
          0.9200068347409374,
          0.5305852426250938,
          -0.789776529741536,
          -0.3151413308369421,
          1.0419994560702541,
          -1.6726795721883483,
          -0.054232125771517876,
          -0.3475065821731161,
          1.8414299305336574,
          -1.0248321960310214,
          0.6227084515351512,
          -1.469308912354218,
          0.6206098026659517,
          -0.544776513549284,
          0.7443023664543984,
          0.9277564024175217,
          0.8844551169125096,
          -1.412910036443049,
          -0.3312102191817102,
          -0.5679771129167459,
          -0.09941752793468576,
          0.3414330320458227,
          -0.2736731821470112,
          -1.4022770009335412,
          -0.17736500238279326,
          1.3394257274647081,
          0.06039619665633815,
          1.0199651963358696,
          -0.0336855450777126,
          -1.4035988730083373,
          -0.8994101424761897,
          0.05546321719611497,
          -0.04208932606639428,
          -0.8557583994765704,
          1.254813606707856,
          -0.8322421898343253,
          0.7932220524954545,
          -0.9727067951156456,
          -0.6179395294940135,
          -0.2696732178209384,
          -1.7491173672878475,
          -1.1367140053446656,
          2.103923224946755,
          0.5662613882124462,
          0.09770870178985863,
          -1.3934372991820918,
          1.7677098016640478,
          -2.4399130575647536,
          0.9289580668517282,
          1.3016428729622989,
          0.6165389017341409,
          -0.7368996020135627,
          0.8627650858987035,
          0.3224902792829107,
          -0.1468242968561799,
          2.3285993867271073,
          -0.4042520600874832,
          -0.7950476123982081,
          0.5843407659871811,
          -0.26247330655892537,
          -0.6853914154352411,
          1.0510047593807925,
          -0.45651092843367985,
          0.13007583279119403,
          -0.5373558174283922,
          0.5358966029554065,
          -2.5861993641689094,
          0.31165828623633496,
          0.9828868313471093,
          -0.7547607087949244,
          0.3510646180511959,
          0.2644730431161891,
          -1.7922774328173583,
          0.9693804143743695,
          -1.574172648943034,
          -0.9835891522107112,
          -1.1537979278687105,
          1.4909807597293028,
          -0.4884412776593585,
          -2.5294774508653033,
          -0.021036511128168234,
          0.2125064824871628,
          -0.29345506255160564,
          0.6167073612975943,
          0.562442231779378,
          0.8015113723690133,
          0.6813952712182159,
          0.07764638774859549,
          0.3663927189774646
         ]
        },
        {
         "boxpoints": false,
         "line": {
          "width": 1.3
         },
         "marker": {
          "color": "rgba(50, 171, 96, 1.0)"
         },
         "name": "C",
         "orientation": "v",
         "type": "box",
         "y": [
          -0.3154488270715505,
          -0.6294945796924227,
          0.240494226638103,
          -0.5920375461026449,
          0.09309885879647004,
          -1.1019609492773985,
          -0.4210043883064996,
          0.9526615224042668,
          -0.2593046690455147,
          -0.7305047003773976,
          -0.4262264747808937,
          0.5076016065228501,
          -1.3985876758475007,
          -0.5228902581395778,
          -1.3040135035012852,
          -0.04707911951866159,
          0.2060885042772829,
          -0.8984767044565156,
          -2.8906078209316797,
          0.24068438964349848,
          -1.2711346139838915,
          -1.457577570792992,
          -0.3461781262920315,
          0.4259201318688281,
          0.19087471555343147,
          1.0970132204947263,
          -0.3606090412326543,
          -0.7852660798035648,
          1.0502553283642908,
          0.05878978572241869,
          -0.5408678451828739,
          1.0985398262753236,
          -0.48136944833667866,
          0.9416352713130145,
          -1.3047599688825093,
          -0.17265730841419458,
          0.34203726912708876,
          0.25799089418144633,
          -0.07244038602533656,
          0.9552105010856232,
          0.6292561361822644,
          -0.45740120405831003,
          1.079499090782834,
          -0.182547956429989,
          -1.8773759903999565,
          0.23878966978855012,
          1.6741528539243862,
          -1.2715315023729938,
          -0.5624881368118058,
          -0.9671161028706979,
          -0.7431377779818199,
          0.5688190678127818,
          0.5845496311550398,
          1.1497182332398017,
          0.8993271512769057,
          0.9094995463207933,
          -0.3689534326970936,
          0.24283786202118357,
          -1.0776379779235257,
          -0.19536958675293167,
          0.10968378234211433,
          -1.1434277559936807,
          1.5381562561775182,
          -1.248551026292755,
          -2.2516620043508944,
          1.1484458551415926,
          0.07769139644046953,
          0.19592474611894195,
          2.754331062447277,
          1.3655138947005445,
          2.311129291317888,
          1.2526347174720331,
          0.25876470715185296,
          0.1432557461035415,
          -0.940231527434915,
          -2.2301388002370177,
          2.4585677766476417,
          0.10560525269650307,
          0.07534722210680579,
          -0.39838816671567784,
          -1.0708495374515463,
          -0.36890457211693456,
          0.6356702354895857,
          0.09833823679877067,
          -0.6762685596083686,
          -0.2956714552397667,
          -0.5490871826155951,
          0.877497035933541,
          -0.2614664701403081,
          0.111619887582688,
          -0.14687130934702486,
          -1.1556809445854956,
          -0.40525028885212905,
          -0.7317915435895866,
          0.7682147727575239,
          -0.3605008420803052,
          1.1534146755068944,
          -0.8699627356350427,
          2.051072094255719,
          1.2344327885983042
         ]
        },
        {
         "boxpoints": false,
         "line": {
          "width": 1.3
         },
         "marker": {
          "color": "rgba(128, 0, 128, 1.0)"
         },
         "name": "D",
         "orientation": "v",
         "type": "box",
         "y": [
          0.08934616819792145,
          -0.6204177662393392,
          -0.061167053870507075,
          -1.9954641078568938,
          0.5938696697953778,
          -0.6442975580045824,
          0.6226665029655851,
          0.295140949870477,
          0.308708567544027,
          -0.9125985828200055,
          0.610770966709956,
          0.5987646054189169,
          0.21009247741684847,
          -0.6802679714516239,
          -0.7608509127932546,
          0.5320559406380219,
          -0.5615326209840743,
          -0.3993877889033179,
          0.29259458548270545,
          2.029917346891441,
          -0.0396315902605462,
          0.15452395897867943,
          -2.2245829693624626,
          0.40909587620174276,
          -0.2478688955915267,
          -0.9346271940807865,
          1.372179674705609,
          -0.22457233664380521,
          -0.05589696575465355,
          1.0883434385406532,
          -0.9101505457153852,
          -0.20755366822689525,
          0.21994202768015067,
          0.006737608398075186,
          -2.212126291556357,
          1.335188746887495,
          -0.617385824950108,
          -0.512088444121255,
          -0.423244789170961,
          -0.2846556567453891,
          -1.2178925184416742,
          1.5981771449346152,
          -0.49534070982276096,
          -0.3566476750472755,
          -0.24342544351884987,
          1.031775040784417,
          0.5165881961690759,
          0.51906391169398,
          0.9271136673110147,
          -2.0920736067913404,
          -0.45357514956011435,
          0.8889557485226732,
          -1.68681172378416,
          1.018734096060937,
          0.8841601433200967,
          0.8892055015007345,
          -1.4999204575957803,
          -0.05499430168331451,
          0.31522439576657757,
          -1.243036409570123,
          1.8191857121114723,
          -1.2340131740369849,
          -1.3578777167565985,
          -0.1509352090221654,
          -0.01751109767323108,
          1.7763548787620291,
          0.4157755299770914,
          0.6755657992344761,
          2.0549734801716784,
          0.9045794065202,
          -1.2473312016703293,
          0.415531775455957,
          1.0001415053194742,
          -0.09035832325362496,
          -1.6289133374595204,
          -0.6593886229424755,
          0.07236845245061095,
          -0.24264056064226458,
          0.2631193533891654,
          -0.6892966681325187,
          -0.37084686838446823,
          0.019817197356161057,
          1.6262058623062356,
          -1.1118601908680732,
          -0.5618850966586071,
          -0.18495045519069012,
          1.2689871205699828,
          0.6517269225416741,
          -1.2509489981146684,
          -1.191439119162852,
          -1.116401146492447,
          0.347450650534722,
          -0.22682743449130288,
          -0.24960401379258,
          0.02444021742102796,
          -0.5590396984737351,
          0.8910090366639997,
          -0.4751130654012434,
          -1.2720551299347036,
          -0.8753662135157493
         ]
        }
       ],
       "layout": {
        "legend": {
         "bgcolor": "#F5F6F9",
         "font": {
          "color": "#4D5663"
         }
        },
        "paper_bgcolor": "#F5F6F9",
        "plot_bgcolor": "#F5F6F9",
        "template": {
         "data": {
          "bar": [
           {
            "error_x": {
             "color": "#2a3f5f"
            },
            "error_y": {
             "color": "#2a3f5f"
            },
            "marker": {
             "line": {
              "color": "#E5ECF6",
              "width": 0.5
             },
             "pattern": {
              "fillmode": "overlay",
              "size": 10,
              "solidity": 0.2
             }
            },
            "type": "bar"
           }
          ],
          "barpolar": [
           {
            "marker": {
             "line": {
              "color": "#E5ECF6",
              "width": 0.5
             },
             "pattern": {
              "fillmode": "overlay",
              "size": 10,
              "solidity": 0.2
             }
            },
            "type": "barpolar"
           }
          ],
          "carpet": [
           {
            "aaxis": {
             "endlinecolor": "#2a3f5f",
             "gridcolor": "white",
             "linecolor": "white",
             "minorgridcolor": "white",
             "startlinecolor": "#2a3f5f"
            },
            "baxis": {
             "endlinecolor": "#2a3f5f",
             "gridcolor": "white",
             "linecolor": "white",
             "minorgridcolor": "white",
             "startlinecolor": "#2a3f5f"
            },
            "type": "carpet"
           }
          ],
          "choropleth": [
           {
            "colorbar": {
             "outlinewidth": 0,
             "ticks": ""
            },
            "type": "choropleth"
           }
          ],
          "contour": [
           {
            "colorbar": {
             "outlinewidth": 0,
             "ticks": ""
            },
            "colorscale": [
             [
              0,
              "#0d0887"
             ],
             [
              0.1111111111111111,
              "#46039f"
             ],
             [
              0.2222222222222222,
              "#7201a8"
             ],
             [
              0.3333333333333333,
              "#9c179e"
             ],
             [
              0.4444444444444444,
              "#bd3786"
             ],
             [
              0.5555555555555556,
              "#d8576b"
             ],
             [
              0.6666666666666666,
              "#ed7953"
             ],
             [
              0.7777777777777778,
              "#fb9f3a"
             ],
             [
              0.8888888888888888,
              "#fdca26"
             ],
             [
              1,
              "#f0f921"
             ]
            ],
            "type": "contour"
           }
          ],
          "contourcarpet": [
           {
            "colorbar": {
             "outlinewidth": 0,
             "ticks": ""
            },
            "type": "contourcarpet"
           }
          ],
          "heatmap": [
           {
            "colorbar": {
             "outlinewidth": 0,
             "ticks": ""
            },
            "colorscale": [
             [
              0,
              "#0d0887"
             ],
             [
              0.1111111111111111,
              "#46039f"
             ],
             [
              0.2222222222222222,
              "#7201a8"
             ],
             [
              0.3333333333333333,
              "#9c179e"
             ],
             [
              0.4444444444444444,
              "#bd3786"
             ],
             [
              0.5555555555555556,
              "#d8576b"
             ],
             [
              0.6666666666666666,
              "#ed7953"
             ],
             [
              0.7777777777777778,
              "#fb9f3a"
             ],
             [
              0.8888888888888888,
              "#fdca26"
             ],
             [
              1,
              "#f0f921"
             ]
            ],
            "type": "heatmap"
           }
          ],
          "heatmapgl": [
           {
            "colorbar": {
             "outlinewidth": 0,
             "ticks": ""
            },
            "colorscale": [
             [
              0,
              "#0d0887"
             ],
             [
              0.1111111111111111,
              "#46039f"
             ],
             [
              0.2222222222222222,
              "#7201a8"
             ],
             [
              0.3333333333333333,
              "#9c179e"
             ],
             [
              0.4444444444444444,
              "#bd3786"
             ],
             [
              0.5555555555555556,
              "#d8576b"
             ],
             [
              0.6666666666666666,
              "#ed7953"
             ],
             [
              0.7777777777777778,
              "#fb9f3a"
             ],
             [
              0.8888888888888888,
              "#fdca26"
             ],
             [
              1,
              "#f0f921"
             ]
            ],
            "type": "heatmapgl"
           }
          ],
          "histogram": [
           {
            "marker": {
             "pattern": {
              "fillmode": "overlay",
              "size": 10,
              "solidity": 0.2
             }
            },
            "type": "histogram"
           }
          ],
          "histogram2d": [
           {
            "colorbar": {
             "outlinewidth": 0,
             "ticks": ""
            },
            "colorscale": [
             [
              0,
              "#0d0887"
             ],
             [
              0.1111111111111111,
              "#46039f"
             ],
             [
              0.2222222222222222,
              "#7201a8"
             ],
             [
              0.3333333333333333,
              "#9c179e"
             ],
             [
              0.4444444444444444,
              "#bd3786"
             ],
             [
              0.5555555555555556,
              "#d8576b"
             ],
             [
              0.6666666666666666,
              "#ed7953"
             ],
             [
              0.7777777777777778,
              "#fb9f3a"
             ],
             [
              0.8888888888888888,
              "#fdca26"
             ],
             [
              1,
              "#f0f921"
             ]
            ],
            "type": "histogram2d"
           }
          ],
          "histogram2dcontour": [
           {
            "colorbar": {
             "outlinewidth": 0,
             "ticks": ""
            },
            "colorscale": [
             [
              0,
              "#0d0887"
             ],
             [
              0.1111111111111111,
              "#46039f"
             ],
             [
              0.2222222222222222,
              "#7201a8"
             ],
             [
              0.3333333333333333,
              "#9c179e"
             ],
             [
              0.4444444444444444,
              "#bd3786"
             ],
             [
              0.5555555555555556,
              "#d8576b"
             ],
             [
              0.6666666666666666,
              "#ed7953"
             ],
             [
              0.7777777777777778,
              "#fb9f3a"
             ],
             [
              0.8888888888888888,
              "#fdca26"
             ],
             [
              1,
              "#f0f921"
             ]
            ],
            "type": "histogram2dcontour"
           }
          ],
          "mesh3d": [
           {
            "colorbar": {
             "outlinewidth": 0,
             "ticks": ""
            },
            "type": "mesh3d"
           }
          ],
          "parcoords": [
           {
            "line": {
             "colorbar": {
              "outlinewidth": 0,
              "ticks": ""
             }
            },
            "type": "parcoords"
           }
          ],
          "pie": [
           {
            "automargin": true,
            "type": "pie"
           }
          ],
          "scatter": [
           {
            "fillpattern": {
             "fillmode": "overlay",
             "size": 10,
             "solidity": 0.2
            },
            "type": "scatter"
           }
          ],
          "scatter3d": [
           {
            "line": {
             "colorbar": {
              "outlinewidth": 0,
              "ticks": ""
             }
            },
            "marker": {
             "colorbar": {
              "outlinewidth": 0,
              "ticks": ""
             }
            },
            "type": "scatter3d"
           }
          ],
          "scattercarpet": [
           {
            "marker": {
             "colorbar": {
              "outlinewidth": 0,
              "ticks": ""
             }
            },
            "type": "scattercarpet"
           }
          ],
          "scattergeo": [
           {
            "marker": {
             "colorbar": {
              "outlinewidth": 0,
              "ticks": ""
             }
            },
            "type": "scattergeo"
           }
          ],
          "scattergl": [
           {
            "marker": {
             "colorbar": {
              "outlinewidth": 0,
              "ticks": ""
             }
            },
            "type": "scattergl"
           }
          ],
          "scattermapbox": [
           {
            "marker": {
             "colorbar": {
              "outlinewidth": 0,
              "ticks": ""
             }
            },
            "type": "scattermapbox"
           }
          ],
          "scatterpolar": [
           {
            "marker": {
             "colorbar": {
              "outlinewidth": 0,
              "ticks": ""
             }
            },
            "type": "scatterpolar"
           }
          ],
          "scatterpolargl": [
           {
            "marker": {
             "colorbar": {
              "outlinewidth": 0,
              "ticks": ""
             }
            },
            "type": "scatterpolargl"
           }
          ],
          "scatterternary": [
           {
            "marker": {
             "colorbar": {
              "outlinewidth": 0,
              "ticks": ""
             }
            },
            "type": "scatterternary"
           }
          ],
          "surface": [
           {
            "colorbar": {
             "outlinewidth": 0,
             "ticks": ""
            },
            "colorscale": [
             [
              0,
              "#0d0887"
             ],
             [
              0.1111111111111111,
              "#46039f"
             ],
             [
              0.2222222222222222,
              "#7201a8"
             ],
             [
              0.3333333333333333,
              "#9c179e"
             ],
             [
              0.4444444444444444,
              "#bd3786"
             ],
             [
              0.5555555555555556,
              "#d8576b"
             ],
             [
              0.6666666666666666,
              "#ed7953"
             ],
             [
              0.7777777777777778,
              "#fb9f3a"
             ],
             [
              0.8888888888888888,
              "#fdca26"
             ],
             [
              1,
              "#f0f921"
             ]
            ],
            "type": "surface"
           }
          ],
          "table": [
           {
            "cells": {
             "fill": {
              "color": "#EBF0F8"
             },
             "line": {
              "color": "white"
             }
            },
            "header": {
             "fill": {
              "color": "#C8D4E3"
             },
             "line": {
              "color": "white"
             }
            },
            "type": "table"
           }
          ]
         },
         "layout": {
          "annotationdefaults": {
           "arrowcolor": "#2a3f5f",
           "arrowhead": 0,
           "arrowwidth": 1
          },
          "autotypenumbers": "strict",
          "coloraxis": {
           "colorbar": {
            "outlinewidth": 0,
            "ticks": ""
           }
          },
          "colorscale": {
           "diverging": [
            [
             0,
             "#8e0152"
            ],
            [
             0.1,
             "#c51b7d"
            ],
            [
             0.2,
             "#de77ae"
            ],
            [
             0.3,
             "#f1b6da"
            ],
            [
             0.4,
             "#fde0ef"
            ],
            [
             0.5,
             "#f7f7f7"
            ],
            [
             0.6,
             "#e6f5d0"
            ],
            [
             0.7,
             "#b8e186"
            ],
            [
             0.8,
             "#7fbc41"
            ],
            [
             0.9,
             "#4d9221"
            ],
            [
             1,
             "#276419"
            ]
           ],
           "sequential": [
            [
             0,
             "#0d0887"
            ],
            [
             0.1111111111111111,
             "#46039f"
            ],
            [
             0.2222222222222222,
             "#7201a8"
            ],
            [
             0.3333333333333333,
             "#9c179e"
            ],
            [
             0.4444444444444444,
             "#bd3786"
            ],
            [
             0.5555555555555556,
             "#d8576b"
            ],
            [
             0.6666666666666666,
             "#ed7953"
            ],
            [
             0.7777777777777778,
             "#fb9f3a"
            ],
            [
             0.8888888888888888,
             "#fdca26"
            ],
            [
             1,
             "#f0f921"
            ]
           ],
           "sequentialminus": [
            [
             0,
             "#0d0887"
            ],
            [
             0.1111111111111111,
             "#46039f"
            ],
            [
             0.2222222222222222,
             "#7201a8"
            ],
            [
             0.3333333333333333,
             "#9c179e"
            ],
            [
             0.4444444444444444,
             "#bd3786"
            ],
            [
             0.5555555555555556,
             "#d8576b"
            ],
            [
             0.6666666666666666,
             "#ed7953"
            ],
            [
             0.7777777777777778,
             "#fb9f3a"
            ],
            [
             0.8888888888888888,
             "#fdca26"
            ],
            [
             1,
             "#f0f921"
            ]
           ]
          },
          "colorway": [
           "#636efa",
           "#EF553B",
           "#00cc96",
           "#ab63fa",
           "#FFA15A",
           "#19d3f3",
           "#FF6692",
           "#B6E880",
           "#FF97FF",
           "#FECB52"
          ],
          "font": {
           "color": "#2a3f5f"
          },
          "geo": {
           "bgcolor": "white",
           "lakecolor": "white",
           "landcolor": "#E5ECF6",
           "showlakes": true,
           "showland": true,
           "subunitcolor": "white"
          },
          "hoverlabel": {
           "align": "left"
          },
          "hovermode": "closest",
          "mapbox": {
           "style": "light"
          },
          "paper_bgcolor": "white",
          "plot_bgcolor": "#E5ECF6",
          "polar": {
           "angularaxis": {
            "gridcolor": "white",
            "linecolor": "white",
            "ticks": ""
           },
           "bgcolor": "#E5ECF6",
           "radialaxis": {
            "gridcolor": "white",
            "linecolor": "white",
            "ticks": ""
           }
          },
          "scene": {
           "xaxis": {
            "backgroundcolor": "#E5ECF6",
            "gridcolor": "white",
            "gridwidth": 2,
            "linecolor": "white",
            "showbackground": true,
            "ticks": "",
            "zerolinecolor": "white"
           },
           "yaxis": {
            "backgroundcolor": "#E5ECF6",
            "gridcolor": "white",
            "gridwidth": 2,
            "linecolor": "white",
            "showbackground": true,
            "ticks": "",
            "zerolinecolor": "white"
           },
           "zaxis": {
            "backgroundcolor": "#E5ECF6",
            "gridcolor": "white",
            "gridwidth": 2,
            "linecolor": "white",
            "showbackground": true,
            "ticks": "",
            "zerolinecolor": "white"
           }
          },
          "shapedefaults": {
           "line": {
            "color": "#2a3f5f"
           }
          },
          "ternary": {
           "aaxis": {
            "gridcolor": "white",
            "linecolor": "white",
            "ticks": ""
           },
           "baxis": {
            "gridcolor": "white",
            "linecolor": "white",
            "ticks": ""
           },
           "bgcolor": "#E5ECF6",
           "caxis": {
            "gridcolor": "white",
            "linecolor": "white",
            "ticks": ""
           }
          },
          "title": {
           "x": 0.05
          },
          "xaxis": {
           "automargin": true,
           "gridcolor": "white",
           "linecolor": "white",
           "ticks": "",
           "title": {
            "standoff": 15
           },
           "zerolinecolor": "white",
           "zerolinewidth": 2
          },
          "yaxis": {
           "automargin": true,
           "gridcolor": "white",
           "linecolor": "white",
           "ticks": "",
           "title": {
            "standoff": 15
           },
           "zerolinecolor": "white",
           "zerolinewidth": 2
          }
         }
        },
        "title": {
         "font": {
          "color": "#4D5663"
         }
        },
        "xaxis": {
         "gridcolor": "#E1E5ED",
         "showgrid": true,
         "tickfont": {
          "color": "#4D5663"
         },
         "title": {
          "font": {
           "color": "#4D5663"
          },
          "text": ""
         },
         "zerolinecolor": "#E1E5ED"
        },
        "yaxis": {
         "gridcolor": "#E1E5ED",
         "showgrid": true,
         "tickfont": {
          "color": "#4D5663"
         },
         "title": {
          "font": {
           "color": "#4D5663"
          },
          "text": ""
         },
         "zerolinecolor": "#E1E5ED"
        }
       }
      },
      "text/html": [
       "<div>                            <div id=\"b082469c-4897-4dc8-8730-99ada22bd834\" class=\"plotly-graph-div\" style=\"height:525px; width:100%;\"></div>            <script type=\"text/javascript\">                require([\"plotly\"], function(Plotly) {                    window.PLOTLYENV=window.PLOTLYENV || {};\n",
       "                    window.PLOTLYENV.BASE_URL='https://plot.ly';                                    if (document.getElementById(\"b082469c-4897-4dc8-8730-99ada22bd834\")) {                    Plotly.newPlot(                        \"b082469c-4897-4dc8-8730-99ada22bd834\",                        [{\"boxpoints\":false,\"line\":{\"width\":1.3},\"marker\":{\"color\":\"rgba(255, 153, 51, 1.0)\"},\"name\":\"A\",\"orientation\":\"v\",\"y\":[-0.4942953176823016,-0.16178728762490022,-0.8390603474350155,-0.02834614733446766,-1.0241161439007027,-0.9179823556087278,-0.5270811295796719,0.27533957657120334,-0.5166194685975221,-1.0373363047670325,-0.07861749677191446,1.5208938679123218,-1.045419118852328,0.9577597313370604,-1.208814364572658,-0.9378190015267323,-0.15179128135226935,-0.36823942602092946,1.1801976171675,-0.11122333672212044,0.6014903130814289,1.2500633036329303,0.1819515234536075,-0.090011472030963,-0.6640883373039753,-2.3274427178266577,-0.7268755613223424,1.5467846684798305,1.0752380851138414,-0.4894197997176759,0.3958357693479593,0.44196600839681394,-0.3815767418951726,0.005070999414106161,1.6834912069917087,0.23933330837847944,0.5091389558013533,0.09842979261146152,-0.4499547611547523,-0.3463024203076845,0.5733040312105815,0.4332099472954645,1.2126318537230285,-1.190727520028816,-0.9073285189222283,1.4172606453447274,-0.6255530412469508,1.845694562361856,0.23847555300346618,0.6407587236980142,-1.0114360620177183,-0.5564814526573163,0.2546935905558053,-1.2695858243941578,1.8514492919366132,0.23523213662306688,-0.9291021799224172,0.040780225794706006,-2.096391112393384,-1.0160093775689543,0.5582814799467065,0.07613378337792231,-0.6538248733075313,1.5466824093846314,-0.9398066743878285,-1.0419175370218265,1.4001038558843346,-0.6184912302826338,-1.0297252079314425,-1.6621970043629886,0.21232562549579445,-0.1745745780404813,-1.2695458015265704,0.7721539642847285,0.684357453602497,-0.12012953623771906,1.6419455398398206,-0.8537595616075221,0.877407245152962,0.7671818773977611,-2.0579375560046227,1.2583085349685919,-0.06086249192674227,-0.5953435869818778,1.4104887511271211,2.664778128711753,0.1557542023501004,-2.57578177829515,1.6151325598363857,1.3949436887722926,-1.3499359854025543,-0.29763398924145984,0.8875033159886624,0.7132636066262454,-0.6568805732905527,-1.2841239429149591,0.8921044369350987,0.9627291060958764,-0.05046368624338138,1.7514462836643638],\"type\":\"box\"},{\"boxpoints\":false,\"line\":{\"width\":1.3},\"marker\":{\"color\":\"rgba(55, 128, 191, 1.0)\"},\"name\":\"B\",\"orientation\":\"v\",\"y\":[0.5342279294184061,1.4027002947045557,-0.04231923805900977,1.0193152802393086,0.19020380468037196,-0.25101066852987897,-1.3234460500820229,-0.7102961177276159,-1.2188833252946112,-0.2509427527758014,-0.4972100597525194,0.9200068347409374,0.5305852426250938,-0.789776529741536,-0.3151413308369421,1.0419994560702541,-1.6726795721883483,-0.054232125771517876,-0.3475065821731161,1.8414299305336574,-1.0248321960310214,0.6227084515351512,-1.469308912354218,0.6206098026659517,-0.544776513549284,0.7443023664543984,0.9277564024175217,0.8844551169125096,-1.412910036443049,-0.3312102191817102,-0.5679771129167459,-0.09941752793468576,0.3414330320458227,-0.2736731821470112,-1.4022770009335412,-0.17736500238279326,1.3394257274647081,0.06039619665633815,1.0199651963358696,-0.0336855450777126,-1.4035988730083373,-0.8994101424761897,0.05546321719611497,-0.04208932606639428,-0.8557583994765704,1.254813606707856,-0.8322421898343253,0.7932220524954545,-0.9727067951156456,-0.6179395294940135,-0.2696732178209384,-1.7491173672878475,-1.1367140053446656,2.103923224946755,0.5662613882124462,0.09770870178985863,-1.3934372991820918,1.7677098016640478,-2.4399130575647536,0.9289580668517282,1.3016428729622989,0.6165389017341409,-0.7368996020135627,0.8627650858987035,0.3224902792829107,-0.1468242968561799,2.3285993867271073,-0.4042520600874832,-0.7950476123982081,0.5843407659871811,-0.26247330655892537,-0.6853914154352411,1.0510047593807925,-0.45651092843367985,0.13007583279119403,-0.5373558174283922,0.5358966029554065,-2.5861993641689094,0.31165828623633496,0.9828868313471093,-0.7547607087949244,0.3510646180511959,0.2644730431161891,-1.7922774328173583,0.9693804143743695,-1.574172648943034,-0.9835891522107112,-1.1537979278687105,1.4909807597293028,-0.4884412776593585,-2.5294774508653033,-0.021036511128168234,0.2125064824871628,-0.29345506255160564,0.6167073612975943,0.562442231779378,0.8015113723690133,0.6813952712182159,0.07764638774859549,0.3663927189774646],\"type\":\"box\"},{\"boxpoints\":false,\"line\":{\"width\":1.3},\"marker\":{\"color\":\"rgba(50, 171, 96, 1.0)\"},\"name\":\"C\",\"orientation\":\"v\",\"y\":[-0.3154488270715505,-0.6294945796924227,0.240494226638103,-0.5920375461026449,0.09309885879647004,-1.1019609492773985,-0.4210043883064996,0.9526615224042668,-0.2593046690455147,-0.7305047003773976,-0.4262264747808937,0.5076016065228501,-1.3985876758475007,-0.5228902581395778,-1.3040135035012852,-0.04707911951866159,0.2060885042772829,-0.8984767044565156,-2.8906078209316797,0.24068438964349848,-1.2711346139838915,-1.457577570792992,-0.3461781262920315,0.4259201318688281,0.19087471555343147,1.0970132204947263,-0.3606090412326543,-0.7852660798035648,1.0502553283642908,0.05878978572241869,-0.5408678451828739,1.0985398262753236,-0.48136944833667866,0.9416352713130145,-1.3047599688825093,-0.17265730841419458,0.34203726912708876,0.25799089418144633,-0.07244038602533656,0.9552105010856232,0.6292561361822644,-0.45740120405831003,1.079499090782834,-0.182547956429989,-1.8773759903999565,0.23878966978855012,1.6741528539243862,-1.2715315023729938,-0.5624881368118058,-0.9671161028706979,-0.7431377779818199,0.5688190678127818,0.5845496311550398,1.1497182332398017,0.8993271512769057,0.9094995463207933,-0.3689534326970936,0.24283786202118357,-1.0776379779235257,-0.19536958675293167,0.10968378234211433,-1.1434277559936807,1.5381562561775182,-1.248551026292755,-2.2516620043508944,1.1484458551415926,0.07769139644046953,0.19592474611894195,2.754331062447277,1.3655138947005445,2.311129291317888,1.2526347174720331,0.25876470715185296,0.1432557461035415,-0.940231527434915,-2.2301388002370177,2.4585677766476417,0.10560525269650307,0.07534722210680579,-0.39838816671567784,-1.0708495374515463,-0.36890457211693456,0.6356702354895857,0.09833823679877067,-0.6762685596083686,-0.2956714552397667,-0.5490871826155951,0.877497035933541,-0.2614664701403081,0.111619887582688,-0.14687130934702486,-1.1556809445854956,-0.40525028885212905,-0.7317915435895866,0.7682147727575239,-0.3605008420803052,1.1534146755068944,-0.8699627356350427,2.051072094255719,1.2344327885983042],\"type\":\"box\"},{\"boxpoints\":false,\"line\":{\"width\":1.3},\"marker\":{\"color\":\"rgba(128, 0, 128, 1.0)\"},\"name\":\"D\",\"orientation\":\"v\",\"y\":[0.08934616819792145,-0.6204177662393392,-0.061167053870507075,-1.9954641078568938,0.5938696697953778,-0.6442975580045824,0.6226665029655851,0.295140949870477,0.308708567544027,-0.9125985828200055,0.610770966709956,0.5987646054189169,0.21009247741684847,-0.6802679714516239,-0.7608509127932546,0.5320559406380219,-0.5615326209840743,-0.3993877889033179,0.29259458548270545,2.029917346891441,-0.0396315902605462,0.15452395897867943,-2.2245829693624626,0.40909587620174276,-0.2478688955915267,-0.9346271940807865,1.372179674705609,-0.22457233664380521,-0.05589696575465355,1.0883434385406532,-0.9101505457153852,-0.20755366822689525,0.21994202768015067,0.006737608398075186,-2.212126291556357,1.335188746887495,-0.617385824950108,-0.512088444121255,-0.423244789170961,-0.2846556567453891,-1.2178925184416742,1.5981771449346152,-0.49534070982276096,-0.3566476750472755,-0.24342544351884987,1.031775040784417,0.5165881961690759,0.51906391169398,0.9271136673110147,-2.0920736067913404,-0.45357514956011435,0.8889557485226732,-1.68681172378416,1.018734096060937,0.8841601433200967,0.8892055015007345,-1.4999204575957803,-0.05499430168331451,0.31522439576657757,-1.243036409570123,1.8191857121114723,-1.2340131740369849,-1.3578777167565985,-0.1509352090221654,-0.01751109767323108,1.7763548787620291,0.4157755299770914,0.6755657992344761,2.0549734801716784,0.9045794065202,-1.2473312016703293,0.415531775455957,1.0001415053194742,-0.09035832325362496,-1.6289133374595204,-0.6593886229424755,0.07236845245061095,-0.24264056064226458,0.2631193533891654,-0.6892966681325187,-0.37084686838446823,0.019817197356161057,1.6262058623062356,-1.1118601908680732,-0.5618850966586071,-0.18495045519069012,1.2689871205699828,0.6517269225416741,-1.2509489981146684,-1.191439119162852,-1.116401146492447,0.347450650534722,-0.22682743449130288,-0.24960401379258,0.02444021742102796,-0.5590396984737351,0.8910090366639997,-0.4751130654012434,-1.2720551299347036,-0.8753662135157493],\"type\":\"box\"}],                        {\"legend\":{\"bgcolor\":\"#F5F6F9\",\"font\":{\"color\":\"#4D5663\"}},\"paper_bgcolor\":\"#F5F6F9\",\"plot_bgcolor\":\"#F5F6F9\",\"template\":{\"data\":{\"barpolar\":[{\"marker\":{\"line\":{\"color\":\"#E5ECF6\",\"width\":0.5},\"pattern\":{\"fillmode\":\"overlay\",\"size\":10,\"solidity\":0.2}},\"type\":\"barpolar\"}],\"bar\":[{\"error_x\":{\"color\":\"#2a3f5f\"},\"error_y\":{\"color\":\"#2a3f5f\"},\"marker\":{\"line\":{\"color\":\"#E5ECF6\",\"width\":0.5},\"pattern\":{\"fillmode\":\"overlay\",\"size\":10,\"solidity\":0.2}},\"type\":\"bar\"}],\"carpet\":[{\"aaxis\":{\"endlinecolor\":\"#2a3f5f\",\"gridcolor\":\"white\",\"linecolor\":\"white\",\"minorgridcolor\":\"white\",\"startlinecolor\":\"#2a3f5f\"},\"baxis\":{\"endlinecolor\":\"#2a3f5f\",\"gridcolor\":\"white\",\"linecolor\":\"white\",\"minorgridcolor\":\"white\",\"startlinecolor\":\"#2a3f5f\"},\"type\":\"carpet\"}],\"choropleth\":[{\"colorbar\":{\"outlinewidth\":0,\"ticks\":\"\"},\"type\":\"choropleth\"}],\"contourcarpet\":[{\"colorbar\":{\"outlinewidth\":0,\"ticks\":\"\"},\"type\":\"contourcarpet\"}],\"contour\":[{\"colorbar\":{\"outlinewidth\":0,\"ticks\":\"\"},\"colorscale\":[[0.0,\"#0d0887\"],[0.1111111111111111,\"#46039f\"],[0.2222222222222222,\"#7201a8\"],[0.3333333333333333,\"#9c179e\"],[0.4444444444444444,\"#bd3786\"],[0.5555555555555556,\"#d8576b\"],[0.6666666666666666,\"#ed7953\"],[0.7777777777777778,\"#fb9f3a\"],[0.8888888888888888,\"#fdca26\"],[1.0,\"#f0f921\"]],\"type\":\"contour\"}],\"heatmapgl\":[{\"colorbar\":{\"outlinewidth\":0,\"ticks\":\"\"},\"colorscale\":[[0.0,\"#0d0887\"],[0.1111111111111111,\"#46039f\"],[0.2222222222222222,\"#7201a8\"],[0.3333333333333333,\"#9c179e\"],[0.4444444444444444,\"#bd3786\"],[0.5555555555555556,\"#d8576b\"],[0.6666666666666666,\"#ed7953\"],[0.7777777777777778,\"#fb9f3a\"],[0.8888888888888888,\"#fdca26\"],[1.0,\"#f0f921\"]],\"type\":\"heatmapgl\"}],\"heatmap\":[{\"colorbar\":{\"outlinewidth\":0,\"ticks\":\"\"},\"colorscale\":[[0.0,\"#0d0887\"],[0.1111111111111111,\"#46039f\"],[0.2222222222222222,\"#7201a8\"],[0.3333333333333333,\"#9c179e\"],[0.4444444444444444,\"#bd3786\"],[0.5555555555555556,\"#d8576b\"],[0.6666666666666666,\"#ed7953\"],[0.7777777777777778,\"#fb9f3a\"],[0.8888888888888888,\"#fdca26\"],[1.0,\"#f0f921\"]],\"type\":\"heatmap\"}],\"histogram2dcontour\":[{\"colorbar\":{\"outlinewidth\":0,\"ticks\":\"\"},\"colorscale\":[[0.0,\"#0d0887\"],[0.1111111111111111,\"#46039f\"],[0.2222222222222222,\"#7201a8\"],[0.3333333333333333,\"#9c179e\"],[0.4444444444444444,\"#bd3786\"],[0.5555555555555556,\"#d8576b\"],[0.6666666666666666,\"#ed7953\"],[0.7777777777777778,\"#fb9f3a\"],[0.8888888888888888,\"#fdca26\"],[1.0,\"#f0f921\"]],\"type\":\"histogram2dcontour\"}],\"histogram2d\":[{\"colorbar\":{\"outlinewidth\":0,\"ticks\":\"\"},\"colorscale\":[[0.0,\"#0d0887\"],[0.1111111111111111,\"#46039f\"],[0.2222222222222222,\"#7201a8\"],[0.3333333333333333,\"#9c179e\"],[0.4444444444444444,\"#bd3786\"],[0.5555555555555556,\"#d8576b\"],[0.6666666666666666,\"#ed7953\"],[0.7777777777777778,\"#fb9f3a\"],[0.8888888888888888,\"#fdca26\"],[1.0,\"#f0f921\"]],\"type\":\"histogram2d\"}],\"histogram\":[{\"marker\":{\"pattern\":{\"fillmode\":\"overlay\",\"size\":10,\"solidity\":0.2}},\"type\":\"histogram\"}],\"mesh3d\":[{\"colorbar\":{\"outlinewidth\":0,\"ticks\":\"\"},\"type\":\"mesh3d\"}],\"parcoords\":[{\"line\":{\"colorbar\":{\"outlinewidth\":0,\"ticks\":\"\"}},\"type\":\"parcoords\"}],\"pie\":[{\"automargin\":true,\"type\":\"pie\"}],\"scatter3d\":[{\"line\":{\"colorbar\":{\"outlinewidth\":0,\"ticks\":\"\"}},\"marker\":{\"colorbar\":{\"outlinewidth\":0,\"ticks\":\"\"}},\"type\":\"scatter3d\"}],\"scattercarpet\":[{\"marker\":{\"colorbar\":{\"outlinewidth\":0,\"ticks\":\"\"}},\"type\":\"scattercarpet\"}],\"scattergeo\":[{\"marker\":{\"colorbar\":{\"outlinewidth\":0,\"ticks\":\"\"}},\"type\":\"scattergeo\"}],\"scattergl\":[{\"marker\":{\"colorbar\":{\"outlinewidth\":0,\"ticks\":\"\"}},\"type\":\"scattergl\"}],\"scattermapbox\":[{\"marker\":{\"colorbar\":{\"outlinewidth\":0,\"ticks\":\"\"}},\"type\":\"scattermapbox\"}],\"scatterpolargl\":[{\"marker\":{\"colorbar\":{\"outlinewidth\":0,\"ticks\":\"\"}},\"type\":\"scatterpolargl\"}],\"scatterpolar\":[{\"marker\":{\"colorbar\":{\"outlinewidth\":0,\"ticks\":\"\"}},\"type\":\"scatterpolar\"}],\"scatter\":[{\"fillpattern\":{\"fillmode\":\"overlay\",\"size\":10,\"solidity\":0.2},\"type\":\"scatter\"}],\"scatterternary\":[{\"marker\":{\"colorbar\":{\"outlinewidth\":0,\"ticks\":\"\"}},\"type\":\"scatterternary\"}],\"surface\":[{\"colorbar\":{\"outlinewidth\":0,\"ticks\":\"\"},\"colorscale\":[[0.0,\"#0d0887\"],[0.1111111111111111,\"#46039f\"],[0.2222222222222222,\"#7201a8\"],[0.3333333333333333,\"#9c179e\"],[0.4444444444444444,\"#bd3786\"],[0.5555555555555556,\"#d8576b\"],[0.6666666666666666,\"#ed7953\"],[0.7777777777777778,\"#fb9f3a\"],[0.8888888888888888,\"#fdca26\"],[1.0,\"#f0f921\"]],\"type\":\"surface\"}],\"table\":[{\"cells\":{\"fill\":{\"color\":\"#EBF0F8\"},\"line\":{\"color\":\"white\"}},\"header\":{\"fill\":{\"color\":\"#C8D4E3\"},\"line\":{\"color\":\"white\"}},\"type\":\"table\"}]},\"layout\":{\"annotationdefaults\":{\"arrowcolor\":\"#2a3f5f\",\"arrowhead\":0,\"arrowwidth\":1},\"autotypenumbers\":\"strict\",\"coloraxis\":{\"colorbar\":{\"outlinewidth\":0,\"ticks\":\"\"}},\"colorscale\":{\"diverging\":[[0,\"#8e0152\"],[0.1,\"#c51b7d\"],[0.2,\"#de77ae\"],[0.3,\"#f1b6da\"],[0.4,\"#fde0ef\"],[0.5,\"#f7f7f7\"],[0.6,\"#e6f5d0\"],[0.7,\"#b8e186\"],[0.8,\"#7fbc41\"],[0.9,\"#4d9221\"],[1,\"#276419\"]],\"sequential\":[[0.0,\"#0d0887\"],[0.1111111111111111,\"#46039f\"],[0.2222222222222222,\"#7201a8\"],[0.3333333333333333,\"#9c179e\"],[0.4444444444444444,\"#bd3786\"],[0.5555555555555556,\"#d8576b\"],[0.6666666666666666,\"#ed7953\"],[0.7777777777777778,\"#fb9f3a\"],[0.8888888888888888,\"#fdca26\"],[1.0,\"#f0f921\"]],\"sequentialminus\":[[0.0,\"#0d0887\"],[0.1111111111111111,\"#46039f\"],[0.2222222222222222,\"#7201a8\"],[0.3333333333333333,\"#9c179e\"],[0.4444444444444444,\"#bd3786\"],[0.5555555555555556,\"#d8576b\"],[0.6666666666666666,\"#ed7953\"],[0.7777777777777778,\"#fb9f3a\"],[0.8888888888888888,\"#fdca26\"],[1.0,\"#f0f921\"]]},\"colorway\":[\"#636efa\",\"#EF553B\",\"#00cc96\",\"#ab63fa\",\"#FFA15A\",\"#19d3f3\",\"#FF6692\",\"#B6E880\",\"#FF97FF\",\"#FECB52\"],\"font\":{\"color\":\"#2a3f5f\"},\"geo\":{\"bgcolor\":\"white\",\"lakecolor\":\"white\",\"landcolor\":\"#E5ECF6\",\"showlakes\":true,\"showland\":true,\"subunitcolor\":\"white\"},\"hoverlabel\":{\"align\":\"left\"},\"hovermode\":\"closest\",\"mapbox\":{\"style\":\"light\"},\"paper_bgcolor\":\"white\",\"plot_bgcolor\":\"#E5ECF6\",\"polar\":{\"angularaxis\":{\"gridcolor\":\"white\",\"linecolor\":\"white\",\"ticks\":\"\"},\"bgcolor\":\"#E5ECF6\",\"radialaxis\":{\"gridcolor\":\"white\",\"linecolor\":\"white\",\"ticks\":\"\"}},\"scene\":{\"xaxis\":{\"backgroundcolor\":\"#E5ECF6\",\"gridcolor\":\"white\",\"gridwidth\":2,\"linecolor\":\"white\",\"showbackground\":true,\"ticks\":\"\",\"zerolinecolor\":\"white\"},\"yaxis\":{\"backgroundcolor\":\"#E5ECF6\",\"gridcolor\":\"white\",\"gridwidth\":2,\"linecolor\":\"white\",\"showbackground\":true,\"ticks\":\"\",\"zerolinecolor\":\"white\"},\"zaxis\":{\"backgroundcolor\":\"#E5ECF6\",\"gridcolor\":\"white\",\"gridwidth\":2,\"linecolor\":\"white\",\"showbackground\":true,\"ticks\":\"\",\"zerolinecolor\":\"white\"}},\"shapedefaults\":{\"line\":{\"color\":\"#2a3f5f\"}},\"ternary\":{\"aaxis\":{\"gridcolor\":\"white\",\"linecolor\":\"white\",\"ticks\":\"\"},\"baxis\":{\"gridcolor\":\"white\",\"linecolor\":\"white\",\"ticks\":\"\"},\"bgcolor\":\"#E5ECF6\",\"caxis\":{\"gridcolor\":\"white\",\"linecolor\":\"white\",\"ticks\":\"\"}},\"title\":{\"x\":0.05},\"xaxis\":{\"automargin\":true,\"gridcolor\":\"white\",\"linecolor\":\"white\",\"ticks\":\"\",\"title\":{\"standoff\":15},\"zerolinecolor\":\"white\",\"zerolinewidth\":2},\"yaxis\":{\"automargin\":true,\"gridcolor\":\"white\",\"linecolor\":\"white\",\"ticks\":\"\",\"title\":{\"standoff\":15},\"zerolinecolor\":\"white\",\"zerolinewidth\":2}}},\"title\":{\"font\":{\"color\":\"#4D5663\"}},\"xaxis\":{\"gridcolor\":\"#E1E5ED\",\"showgrid\":true,\"tickfont\":{\"color\":\"#4D5663\"},\"title\":{\"font\":{\"color\":\"#4D5663\"},\"text\":\"\"},\"zerolinecolor\":\"#E1E5ED\"},\"yaxis\":{\"gridcolor\":\"#E1E5ED\",\"showgrid\":true,\"tickfont\":{\"color\":\"#4D5663\"},\"title\":{\"font\":{\"color\":\"#4D5663\"},\"text\":\"\"},\"zerolinecolor\":\"#E1E5ED\"}},                        {\"showLink\": true, \"linkText\": \"Export to plot.ly\", \"plotlyServerURL\": \"https://plot.ly\", \"responsive\": true}                    ).then(function(){\n",
       "                            \n",
       "var gd = document.getElementById('b082469c-4897-4dc8-8730-99ada22bd834');\n",
       "var x = new MutationObserver(function (mutations, observer) {{\n",
       "        var display = window.getComputedStyle(gd).display;\n",
       "        if (!display || display === 'none') {{\n",
       "            console.log([gd, 'removed!']);\n",
       "            Plotly.purge(gd);\n",
       "            observer.disconnect();\n",
       "        }}\n",
       "}});\n",
       "\n",
       "// Listen for the removal of the full notebook cells\n",
       "var notebookContainer = gd.closest('#notebook-container');\n",
       "if (notebookContainer) {{\n",
       "    x.observe(notebookContainer, {childList: true});\n",
       "}}\n",
       "\n",
       "// Listen for the clearing of the current output cell\n",
       "var outputEl = gd.closest('.output');\n",
       "if (outputEl) {{\n",
       "    x.observe(outputEl, {childList: true});\n",
       "}}\n",
       "\n",
       "                        })                };                });            </script>        </div>"
      ]
     },
     "metadata": {},
     "output_type": "display_data"
    }
   ],
   "source": [
    "df.iplot(kind = 'box')"
   ]
  },
  {
   "cell_type": "code",
   "execution_count": 34,
   "metadata": {},
   "outputs": [],
   "source": [
    "df3 = pd.DataFrame({'x': [1, 2, 3, 4, 5], 'y': [10, 11, 12, 13, 14], 'z': [20, 21, 22, 23, 24]})"
   ]
  },
  {
   "cell_type": "code",
   "execution_count": 35,
   "metadata": {},
   "outputs": [
    {
     "data": {
      "text/html": [
       "<div>\n",
       "<style scoped>\n",
       "    .dataframe tbody tr th:only-of-type {\n",
       "        vertical-align: middle;\n",
       "    }\n",
       "\n",
       "    .dataframe tbody tr th {\n",
       "        vertical-align: top;\n",
       "    }\n",
       "\n",
       "    .dataframe thead th {\n",
       "        text-align: right;\n",
       "    }\n",
       "</style>\n",
       "<table border=\"1\" class=\"dataframe\">\n",
       "  <thead>\n",
       "    <tr style=\"text-align: right;\">\n",
       "      <th></th>\n",
       "      <th>x</th>\n",
       "      <th>y</th>\n",
       "      <th>z</th>\n",
       "    </tr>\n",
       "  </thead>\n",
       "  <tbody>\n",
       "    <tr>\n",
       "      <th>0</th>\n",
       "      <td>1</td>\n",
       "      <td>10</td>\n",
       "      <td>20</td>\n",
       "    </tr>\n",
       "    <tr>\n",
       "      <th>1</th>\n",
       "      <td>2</td>\n",
       "      <td>11</td>\n",
       "      <td>21</td>\n",
       "    </tr>\n",
       "    <tr>\n",
       "      <th>2</th>\n",
       "      <td>3</td>\n",
       "      <td>12</td>\n",
       "      <td>22</td>\n",
       "    </tr>\n",
       "    <tr>\n",
       "      <th>3</th>\n",
       "      <td>4</td>\n",
       "      <td>13</td>\n",
       "      <td>23</td>\n",
       "    </tr>\n",
       "    <tr>\n",
       "      <th>4</th>\n",
       "      <td>5</td>\n",
       "      <td>14</td>\n",
       "      <td>24</td>\n",
       "    </tr>\n",
       "  </tbody>\n",
       "</table>\n",
       "</div>"
      ],
      "text/plain": [
       "   x   y   z\n",
       "0  1  10  20\n",
       "1  2  11  21\n",
       "2  3  12  22\n",
       "3  4  13  23\n",
       "4  5  14  24"
      ]
     },
     "execution_count": 35,
     "metadata": {},
     "output_type": "execute_result"
    }
   ],
   "source": [
    "df3"
   ]
  },
  {
   "cell_type": "code",
   "execution_count": 37,
   "metadata": {},
   "outputs": [
    {
     "data": {
      "application/vnd.plotly.v1+json": {
       "config": {
        "linkText": "Export to plot.ly",
        "plotlyServerURL": "https://plot.ly",
        "showLink": true
       },
       "data": [
        {
         "colorscale": [
          [
           0,
           "rgb(255, 153, 51)"
          ],
          [
           0.1111111111111111,
           "rgb(55, 128, 191)"
          ],
          [
           0.2222222222222222,
           "rgb(50, 171, 96)"
          ],
          [
           0.3333333333333333,
           "rgb(128, 0, 128)"
          ],
          [
           0.4444444444444444,
           "rgb(219, 64, 82)"
          ],
          [
           0.5555555555555556,
           "rgb(0, 128, 128)"
          ],
          [
           0.6666666666666666,
           "rgb(255, 255, 51)"
          ],
          [
           0.7777777777777778,
           "rgb(128, 128, 0)"
          ],
          [
           0.8888888888888888,
           "rgb(251, 128, 114)"
          ],
          [
           1,
           "rgb(128, 177, 211)"
          ]
         ],
         "type": "surface",
         "x": [
          0,
          1,
          2,
          3,
          4
         ],
         "y": [
          "x",
          "y",
          "z"
         ],
         "z": [
          [
           1,
           2,
           3,
           4,
           5
          ],
          [
           10,
           11,
           12,
           13,
           14
          ],
          [
           20,
           21,
           22,
           23,
           24
          ]
         ]
        }
       ],
       "layout": {
        "legend": {
         "bgcolor": "#F5F6F9",
         "font": {
          "color": "#4D5663"
         }
        },
        "paper_bgcolor": "#F5F6F9",
        "plot_bgcolor": "#F5F6F9",
        "template": {
         "data": {
          "bar": [
           {
            "error_x": {
             "color": "#2a3f5f"
            },
            "error_y": {
             "color": "#2a3f5f"
            },
            "marker": {
             "line": {
              "color": "#E5ECF6",
              "width": 0.5
             },
             "pattern": {
              "fillmode": "overlay",
              "size": 10,
              "solidity": 0.2
             }
            },
            "type": "bar"
           }
          ],
          "barpolar": [
           {
            "marker": {
             "line": {
              "color": "#E5ECF6",
              "width": 0.5
             },
             "pattern": {
              "fillmode": "overlay",
              "size": 10,
              "solidity": 0.2
             }
            },
            "type": "barpolar"
           }
          ],
          "carpet": [
           {
            "aaxis": {
             "endlinecolor": "#2a3f5f",
             "gridcolor": "white",
             "linecolor": "white",
             "minorgridcolor": "white",
             "startlinecolor": "#2a3f5f"
            },
            "baxis": {
             "endlinecolor": "#2a3f5f",
             "gridcolor": "white",
             "linecolor": "white",
             "minorgridcolor": "white",
             "startlinecolor": "#2a3f5f"
            },
            "type": "carpet"
           }
          ],
          "choropleth": [
           {
            "colorbar": {
             "outlinewidth": 0,
             "ticks": ""
            },
            "type": "choropleth"
           }
          ],
          "contour": [
           {
            "colorbar": {
             "outlinewidth": 0,
             "ticks": ""
            },
            "colorscale": [
             [
              0,
              "#0d0887"
             ],
             [
              0.1111111111111111,
              "#46039f"
             ],
             [
              0.2222222222222222,
              "#7201a8"
             ],
             [
              0.3333333333333333,
              "#9c179e"
             ],
             [
              0.4444444444444444,
              "#bd3786"
             ],
             [
              0.5555555555555556,
              "#d8576b"
             ],
             [
              0.6666666666666666,
              "#ed7953"
             ],
             [
              0.7777777777777778,
              "#fb9f3a"
             ],
             [
              0.8888888888888888,
              "#fdca26"
             ],
             [
              1,
              "#f0f921"
             ]
            ],
            "type": "contour"
           }
          ],
          "contourcarpet": [
           {
            "colorbar": {
             "outlinewidth": 0,
             "ticks": ""
            },
            "type": "contourcarpet"
           }
          ],
          "heatmap": [
           {
            "colorbar": {
             "outlinewidth": 0,
             "ticks": ""
            },
            "colorscale": [
             [
              0,
              "#0d0887"
             ],
             [
              0.1111111111111111,
              "#46039f"
             ],
             [
              0.2222222222222222,
              "#7201a8"
             ],
             [
              0.3333333333333333,
              "#9c179e"
             ],
             [
              0.4444444444444444,
              "#bd3786"
             ],
             [
              0.5555555555555556,
              "#d8576b"
             ],
             [
              0.6666666666666666,
              "#ed7953"
             ],
             [
              0.7777777777777778,
              "#fb9f3a"
             ],
             [
              0.8888888888888888,
              "#fdca26"
             ],
             [
              1,
              "#f0f921"
             ]
            ],
            "type": "heatmap"
           }
          ],
          "heatmapgl": [
           {
            "colorbar": {
             "outlinewidth": 0,
             "ticks": ""
            },
            "colorscale": [
             [
              0,
              "#0d0887"
             ],
             [
              0.1111111111111111,
              "#46039f"
             ],
             [
              0.2222222222222222,
              "#7201a8"
             ],
             [
              0.3333333333333333,
              "#9c179e"
             ],
             [
              0.4444444444444444,
              "#bd3786"
             ],
             [
              0.5555555555555556,
              "#d8576b"
             ],
             [
              0.6666666666666666,
              "#ed7953"
             ],
             [
              0.7777777777777778,
              "#fb9f3a"
             ],
             [
              0.8888888888888888,
              "#fdca26"
             ],
             [
              1,
              "#f0f921"
             ]
            ],
            "type": "heatmapgl"
           }
          ],
          "histogram": [
           {
            "marker": {
             "pattern": {
              "fillmode": "overlay",
              "size": 10,
              "solidity": 0.2
             }
            },
            "type": "histogram"
           }
          ],
          "histogram2d": [
           {
            "colorbar": {
             "outlinewidth": 0,
             "ticks": ""
            },
            "colorscale": [
             [
              0,
              "#0d0887"
             ],
             [
              0.1111111111111111,
              "#46039f"
             ],
             [
              0.2222222222222222,
              "#7201a8"
             ],
             [
              0.3333333333333333,
              "#9c179e"
             ],
             [
              0.4444444444444444,
              "#bd3786"
             ],
             [
              0.5555555555555556,
              "#d8576b"
             ],
             [
              0.6666666666666666,
              "#ed7953"
             ],
             [
              0.7777777777777778,
              "#fb9f3a"
             ],
             [
              0.8888888888888888,
              "#fdca26"
             ],
             [
              1,
              "#f0f921"
             ]
            ],
            "type": "histogram2d"
           }
          ],
          "histogram2dcontour": [
           {
            "colorbar": {
             "outlinewidth": 0,
             "ticks": ""
            },
            "colorscale": [
             [
              0,
              "#0d0887"
             ],
             [
              0.1111111111111111,
              "#46039f"
             ],
             [
              0.2222222222222222,
              "#7201a8"
             ],
             [
              0.3333333333333333,
              "#9c179e"
             ],
             [
              0.4444444444444444,
              "#bd3786"
             ],
             [
              0.5555555555555556,
              "#d8576b"
             ],
             [
              0.6666666666666666,
              "#ed7953"
             ],
             [
              0.7777777777777778,
              "#fb9f3a"
             ],
             [
              0.8888888888888888,
              "#fdca26"
             ],
             [
              1,
              "#f0f921"
             ]
            ],
            "type": "histogram2dcontour"
           }
          ],
          "mesh3d": [
           {
            "colorbar": {
             "outlinewidth": 0,
             "ticks": ""
            },
            "type": "mesh3d"
           }
          ],
          "parcoords": [
           {
            "line": {
             "colorbar": {
              "outlinewidth": 0,
              "ticks": ""
             }
            },
            "type": "parcoords"
           }
          ],
          "pie": [
           {
            "automargin": true,
            "type": "pie"
           }
          ],
          "scatter": [
           {
            "fillpattern": {
             "fillmode": "overlay",
             "size": 10,
             "solidity": 0.2
            },
            "type": "scatter"
           }
          ],
          "scatter3d": [
           {
            "line": {
             "colorbar": {
              "outlinewidth": 0,
              "ticks": ""
             }
            },
            "marker": {
             "colorbar": {
              "outlinewidth": 0,
              "ticks": ""
             }
            },
            "type": "scatter3d"
           }
          ],
          "scattercarpet": [
           {
            "marker": {
             "colorbar": {
              "outlinewidth": 0,
              "ticks": ""
             }
            },
            "type": "scattercarpet"
           }
          ],
          "scattergeo": [
           {
            "marker": {
             "colorbar": {
              "outlinewidth": 0,
              "ticks": ""
             }
            },
            "type": "scattergeo"
           }
          ],
          "scattergl": [
           {
            "marker": {
             "colorbar": {
              "outlinewidth": 0,
              "ticks": ""
             }
            },
            "type": "scattergl"
           }
          ],
          "scattermapbox": [
           {
            "marker": {
             "colorbar": {
              "outlinewidth": 0,
              "ticks": ""
             }
            },
            "type": "scattermapbox"
           }
          ],
          "scatterpolar": [
           {
            "marker": {
             "colorbar": {
              "outlinewidth": 0,
              "ticks": ""
             }
            },
            "type": "scatterpolar"
           }
          ],
          "scatterpolargl": [
           {
            "marker": {
             "colorbar": {
              "outlinewidth": 0,
              "ticks": ""
             }
            },
            "type": "scatterpolargl"
           }
          ],
          "scatterternary": [
           {
            "marker": {
             "colorbar": {
              "outlinewidth": 0,
              "ticks": ""
             }
            },
            "type": "scatterternary"
           }
          ],
          "surface": [
           {
            "colorbar": {
             "outlinewidth": 0,
             "ticks": ""
            },
            "colorscale": [
             [
              0,
              "#0d0887"
             ],
             [
              0.1111111111111111,
              "#46039f"
             ],
             [
              0.2222222222222222,
              "#7201a8"
             ],
             [
              0.3333333333333333,
              "#9c179e"
             ],
             [
              0.4444444444444444,
              "#bd3786"
             ],
             [
              0.5555555555555556,
              "#d8576b"
             ],
             [
              0.6666666666666666,
              "#ed7953"
             ],
             [
              0.7777777777777778,
              "#fb9f3a"
             ],
             [
              0.8888888888888888,
              "#fdca26"
             ],
             [
              1,
              "#f0f921"
             ]
            ],
            "type": "surface"
           }
          ],
          "table": [
           {
            "cells": {
             "fill": {
              "color": "#EBF0F8"
             },
             "line": {
              "color": "white"
             }
            },
            "header": {
             "fill": {
              "color": "#C8D4E3"
             },
             "line": {
              "color": "white"
             }
            },
            "type": "table"
           }
          ]
         },
         "layout": {
          "annotationdefaults": {
           "arrowcolor": "#2a3f5f",
           "arrowhead": 0,
           "arrowwidth": 1
          },
          "autotypenumbers": "strict",
          "coloraxis": {
           "colorbar": {
            "outlinewidth": 0,
            "ticks": ""
           }
          },
          "colorscale": {
           "diverging": [
            [
             0,
             "#8e0152"
            ],
            [
             0.1,
             "#c51b7d"
            ],
            [
             0.2,
             "#de77ae"
            ],
            [
             0.3,
             "#f1b6da"
            ],
            [
             0.4,
             "#fde0ef"
            ],
            [
             0.5,
             "#f7f7f7"
            ],
            [
             0.6,
             "#e6f5d0"
            ],
            [
             0.7,
             "#b8e186"
            ],
            [
             0.8,
             "#7fbc41"
            ],
            [
             0.9,
             "#4d9221"
            ],
            [
             1,
             "#276419"
            ]
           ],
           "sequential": [
            [
             0,
             "#0d0887"
            ],
            [
             0.1111111111111111,
             "#46039f"
            ],
            [
             0.2222222222222222,
             "#7201a8"
            ],
            [
             0.3333333333333333,
             "#9c179e"
            ],
            [
             0.4444444444444444,
             "#bd3786"
            ],
            [
             0.5555555555555556,
             "#d8576b"
            ],
            [
             0.6666666666666666,
             "#ed7953"
            ],
            [
             0.7777777777777778,
             "#fb9f3a"
            ],
            [
             0.8888888888888888,
             "#fdca26"
            ],
            [
             1,
             "#f0f921"
            ]
           ],
           "sequentialminus": [
            [
             0,
             "#0d0887"
            ],
            [
             0.1111111111111111,
             "#46039f"
            ],
            [
             0.2222222222222222,
             "#7201a8"
            ],
            [
             0.3333333333333333,
             "#9c179e"
            ],
            [
             0.4444444444444444,
             "#bd3786"
            ],
            [
             0.5555555555555556,
             "#d8576b"
            ],
            [
             0.6666666666666666,
             "#ed7953"
            ],
            [
             0.7777777777777778,
             "#fb9f3a"
            ],
            [
             0.8888888888888888,
             "#fdca26"
            ],
            [
             1,
             "#f0f921"
            ]
           ]
          },
          "colorway": [
           "#636efa",
           "#EF553B",
           "#00cc96",
           "#ab63fa",
           "#FFA15A",
           "#19d3f3",
           "#FF6692",
           "#B6E880",
           "#FF97FF",
           "#FECB52"
          ],
          "font": {
           "color": "#2a3f5f"
          },
          "geo": {
           "bgcolor": "white",
           "lakecolor": "white",
           "landcolor": "#E5ECF6",
           "showlakes": true,
           "showland": true,
           "subunitcolor": "white"
          },
          "hoverlabel": {
           "align": "left"
          },
          "hovermode": "closest",
          "mapbox": {
           "style": "light"
          },
          "paper_bgcolor": "white",
          "plot_bgcolor": "#E5ECF6",
          "polar": {
           "angularaxis": {
            "gridcolor": "white",
            "linecolor": "white",
            "ticks": ""
           },
           "bgcolor": "#E5ECF6",
           "radialaxis": {
            "gridcolor": "white",
            "linecolor": "white",
            "ticks": ""
           }
          },
          "scene": {
           "xaxis": {
            "backgroundcolor": "#E5ECF6",
            "gridcolor": "white",
            "gridwidth": 2,
            "linecolor": "white",
            "showbackground": true,
            "ticks": "",
            "zerolinecolor": "white"
           },
           "yaxis": {
            "backgroundcolor": "#E5ECF6",
            "gridcolor": "white",
            "gridwidth": 2,
            "linecolor": "white",
            "showbackground": true,
            "ticks": "",
            "zerolinecolor": "white"
           },
           "zaxis": {
            "backgroundcolor": "#E5ECF6",
            "gridcolor": "white",
            "gridwidth": 2,
            "linecolor": "white",
            "showbackground": true,
            "ticks": "",
            "zerolinecolor": "white"
           }
          },
          "shapedefaults": {
           "line": {
            "color": "#2a3f5f"
           }
          },
          "ternary": {
           "aaxis": {
            "gridcolor": "white",
            "linecolor": "white",
            "ticks": ""
           },
           "baxis": {
            "gridcolor": "white",
            "linecolor": "white",
            "ticks": ""
           },
           "bgcolor": "#E5ECF6",
           "caxis": {
            "gridcolor": "white",
            "linecolor": "white",
            "ticks": ""
           }
          },
          "title": {
           "x": 0.05
          },
          "xaxis": {
           "automargin": true,
           "gridcolor": "white",
           "linecolor": "white",
           "ticks": "",
           "title": {
            "standoff": 15
           },
           "zerolinecolor": "white",
           "zerolinewidth": 2
          },
          "yaxis": {
           "automargin": true,
           "gridcolor": "white",
           "linecolor": "white",
           "ticks": "",
           "title": {
            "standoff": 15
           },
           "zerolinecolor": "white",
           "zerolinewidth": 2
          }
         }
        },
        "title": {
         "font": {
          "color": "#4D5663"
         }
        },
        "xaxis": {
         "gridcolor": "#E1E5ED",
         "showgrid": true,
         "tickfont": {
          "color": "#4D5663"
         },
         "title": {
          "font": {
           "color": "#4D5663"
          },
          "text": ""
         },
         "zerolinecolor": "#E1E5ED"
        },
        "yaxis": {
         "gridcolor": "#E1E5ED",
         "showgrid": true,
         "tickfont": {
          "color": "#4D5663"
         },
         "title": {
          "font": {
           "color": "#4D5663"
          },
          "text": ""
         },
         "zerolinecolor": "#E1E5ED"
        }
       }
      },
      "text/html": [
       "<div>                            <div id=\"0ac1d7a5-4b12-4d23-bf2c-ee4731c3e520\" class=\"plotly-graph-div\" style=\"height:525px; width:100%;\"></div>            <script type=\"text/javascript\">                require([\"plotly\"], function(Plotly) {                    window.PLOTLYENV=window.PLOTLYENV || {};\n",
       "                    window.PLOTLYENV.BASE_URL='https://plot.ly';                                    if (document.getElementById(\"0ac1d7a5-4b12-4d23-bf2c-ee4731c3e520\")) {                    Plotly.newPlot(                        \"0ac1d7a5-4b12-4d23-bf2c-ee4731c3e520\",                        [{\"colorscale\":[[0.0,\"rgb(255, 153, 51)\"],[0.1111111111111111,\"rgb(55, 128, 191)\"],[0.2222222222222222,\"rgb(50, 171, 96)\"],[0.3333333333333333,\"rgb(128, 0, 128)\"],[0.4444444444444444,\"rgb(219, 64, 82)\"],[0.5555555555555556,\"rgb(0, 128, 128)\"],[0.6666666666666666,\"rgb(255, 255, 51)\"],[0.7777777777777778,\"rgb(128, 128, 0)\"],[0.8888888888888888,\"rgb(251, 128, 114)\"],[1.0,\"rgb(128, 177, 211)\"]],\"x\":[0,1,2,3,4],\"y\":[\"x\",\"y\",\"z\"],\"z\":[[1,2,3,4,5],[10,11,12,13,14],[20,21,22,23,24]],\"type\":\"surface\"}],                        {\"legend\":{\"bgcolor\":\"#F5F6F9\",\"font\":{\"color\":\"#4D5663\"}},\"paper_bgcolor\":\"#F5F6F9\",\"plot_bgcolor\":\"#F5F6F9\",\"template\":{\"data\":{\"barpolar\":[{\"marker\":{\"line\":{\"color\":\"#E5ECF6\",\"width\":0.5},\"pattern\":{\"fillmode\":\"overlay\",\"size\":10,\"solidity\":0.2}},\"type\":\"barpolar\"}],\"bar\":[{\"error_x\":{\"color\":\"#2a3f5f\"},\"error_y\":{\"color\":\"#2a3f5f\"},\"marker\":{\"line\":{\"color\":\"#E5ECF6\",\"width\":0.5},\"pattern\":{\"fillmode\":\"overlay\",\"size\":10,\"solidity\":0.2}},\"type\":\"bar\"}],\"carpet\":[{\"aaxis\":{\"endlinecolor\":\"#2a3f5f\",\"gridcolor\":\"white\",\"linecolor\":\"white\",\"minorgridcolor\":\"white\",\"startlinecolor\":\"#2a3f5f\"},\"baxis\":{\"endlinecolor\":\"#2a3f5f\",\"gridcolor\":\"white\",\"linecolor\":\"white\",\"minorgridcolor\":\"white\",\"startlinecolor\":\"#2a3f5f\"},\"type\":\"carpet\"}],\"choropleth\":[{\"colorbar\":{\"outlinewidth\":0,\"ticks\":\"\"},\"type\":\"choropleth\"}],\"contourcarpet\":[{\"colorbar\":{\"outlinewidth\":0,\"ticks\":\"\"},\"type\":\"contourcarpet\"}],\"contour\":[{\"colorbar\":{\"outlinewidth\":0,\"ticks\":\"\"},\"colorscale\":[[0.0,\"#0d0887\"],[0.1111111111111111,\"#46039f\"],[0.2222222222222222,\"#7201a8\"],[0.3333333333333333,\"#9c179e\"],[0.4444444444444444,\"#bd3786\"],[0.5555555555555556,\"#d8576b\"],[0.6666666666666666,\"#ed7953\"],[0.7777777777777778,\"#fb9f3a\"],[0.8888888888888888,\"#fdca26\"],[1.0,\"#f0f921\"]],\"type\":\"contour\"}],\"heatmapgl\":[{\"colorbar\":{\"outlinewidth\":0,\"ticks\":\"\"},\"colorscale\":[[0.0,\"#0d0887\"],[0.1111111111111111,\"#46039f\"],[0.2222222222222222,\"#7201a8\"],[0.3333333333333333,\"#9c179e\"],[0.4444444444444444,\"#bd3786\"],[0.5555555555555556,\"#d8576b\"],[0.6666666666666666,\"#ed7953\"],[0.7777777777777778,\"#fb9f3a\"],[0.8888888888888888,\"#fdca26\"],[1.0,\"#f0f921\"]],\"type\":\"heatmapgl\"}],\"heatmap\":[{\"colorbar\":{\"outlinewidth\":0,\"ticks\":\"\"},\"colorscale\":[[0.0,\"#0d0887\"],[0.1111111111111111,\"#46039f\"],[0.2222222222222222,\"#7201a8\"],[0.3333333333333333,\"#9c179e\"],[0.4444444444444444,\"#bd3786\"],[0.5555555555555556,\"#d8576b\"],[0.6666666666666666,\"#ed7953\"],[0.7777777777777778,\"#fb9f3a\"],[0.8888888888888888,\"#fdca26\"],[1.0,\"#f0f921\"]],\"type\":\"heatmap\"}],\"histogram2dcontour\":[{\"colorbar\":{\"outlinewidth\":0,\"ticks\":\"\"},\"colorscale\":[[0.0,\"#0d0887\"],[0.1111111111111111,\"#46039f\"],[0.2222222222222222,\"#7201a8\"],[0.3333333333333333,\"#9c179e\"],[0.4444444444444444,\"#bd3786\"],[0.5555555555555556,\"#d8576b\"],[0.6666666666666666,\"#ed7953\"],[0.7777777777777778,\"#fb9f3a\"],[0.8888888888888888,\"#fdca26\"],[1.0,\"#f0f921\"]],\"type\":\"histogram2dcontour\"}],\"histogram2d\":[{\"colorbar\":{\"outlinewidth\":0,\"ticks\":\"\"},\"colorscale\":[[0.0,\"#0d0887\"],[0.1111111111111111,\"#46039f\"],[0.2222222222222222,\"#7201a8\"],[0.3333333333333333,\"#9c179e\"],[0.4444444444444444,\"#bd3786\"],[0.5555555555555556,\"#d8576b\"],[0.6666666666666666,\"#ed7953\"],[0.7777777777777778,\"#fb9f3a\"],[0.8888888888888888,\"#fdca26\"],[1.0,\"#f0f921\"]],\"type\":\"histogram2d\"}],\"histogram\":[{\"marker\":{\"pattern\":{\"fillmode\":\"overlay\",\"size\":10,\"solidity\":0.2}},\"type\":\"histogram\"}],\"mesh3d\":[{\"colorbar\":{\"outlinewidth\":0,\"ticks\":\"\"},\"type\":\"mesh3d\"}],\"parcoords\":[{\"line\":{\"colorbar\":{\"outlinewidth\":0,\"ticks\":\"\"}},\"type\":\"parcoords\"}],\"pie\":[{\"automargin\":true,\"type\":\"pie\"}],\"scatter3d\":[{\"line\":{\"colorbar\":{\"outlinewidth\":0,\"ticks\":\"\"}},\"marker\":{\"colorbar\":{\"outlinewidth\":0,\"ticks\":\"\"}},\"type\":\"scatter3d\"}],\"scattercarpet\":[{\"marker\":{\"colorbar\":{\"outlinewidth\":0,\"ticks\":\"\"}},\"type\":\"scattercarpet\"}],\"scattergeo\":[{\"marker\":{\"colorbar\":{\"outlinewidth\":0,\"ticks\":\"\"}},\"type\":\"scattergeo\"}],\"scattergl\":[{\"marker\":{\"colorbar\":{\"outlinewidth\":0,\"ticks\":\"\"}},\"type\":\"scattergl\"}],\"scattermapbox\":[{\"marker\":{\"colorbar\":{\"outlinewidth\":0,\"ticks\":\"\"}},\"type\":\"scattermapbox\"}],\"scatterpolargl\":[{\"marker\":{\"colorbar\":{\"outlinewidth\":0,\"ticks\":\"\"}},\"type\":\"scatterpolargl\"}],\"scatterpolar\":[{\"marker\":{\"colorbar\":{\"outlinewidth\":0,\"ticks\":\"\"}},\"type\":\"scatterpolar\"}],\"scatter\":[{\"fillpattern\":{\"fillmode\":\"overlay\",\"size\":10,\"solidity\":0.2},\"type\":\"scatter\"}],\"scatterternary\":[{\"marker\":{\"colorbar\":{\"outlinewidth\":0,\"ticks\":\"\"}},\"type\":\"scatterternary\"}],\"surface\":[{\"colorbar\":{\"outlinewidth\":0,\"ticks\":\"\"},\"colorscale\":[[0.0,\"#0d0887\"],[0.1111111111111111,\"#46039f\"],[0.2222222222222222,\"#7201a8\"],[0.3333333333333333,\"#9c179e\"],[0.4444444444444444,\"#bd3786\"],[0.5555555555555556,\"#d8576b\"],[0.6666666666666666,\"#ed7953\"],[0.7777777777777778,\"#fb9f3a\"],[0.8888888888888888,\"#fdca26\"],[1.0,\"#f0f921\"]],\"type\":\"surface\"}],\"table\":[{\"cells\":{\"fill\":{\"color\":\"#EBF0F8\"},\"line\":{\"color\":\"white\"}},\"header\":{\"fill\":{\"color\":\"#C8D4E3\"},\"line\":{\"color\":\"white\"}},\"type\":\"table\"}]},\"layout\":{\"annotationdefaults\":{\"arrowcolor\":\"#2a3f5f\",\"arrowhead\":0,\"arrowwidth\":1},\"autotypenumbers\":\"strict\",\"coloraxis\":{\"colorbar\":{\"outlinewidth\":0,\"ticks\":\"\"}},\"colorscale\":{\"diverging\":[[0,\"#8e0152\"],[0.1,\"#c51b7d\"],[0.2,\"#de77ae\"],[0.3,\"#f1b6da\"],[0.4,\"#fde0ef\"],[0.5,\"#f7f7f7\"],[0.6,\"#e6f5d0\"],[0.7,\"#b8e186\"],[0.8,\"#7fbc41\"],[0.9,\"#4d9221\"],[1,\"#276419\"]],\"sequential\":[[0.0,\"#0d0887\"],[0.1111111111111111,\"#46039f\"],[0.2222222222222222,\"#7201a8\"],[0.3333333333333333,\"#9c179e\"],[0.4444444444444444,\"#bd3786\"],[0.5555555555555556,\"#d8576b\"],[0.6666666666666666,\"#ed7953\"],[0.7777777777777778,\"#fb9f3a\"],[0.8888888888888888,\"#fdca26\"],[1.0,\"#f0f921\"]],\"sequentialminus\":[[0.0,\"#0d0887\"],[0.1111111111111111,\"#46039f\"],[0.2222222222222222,\"#7201a8\"],[0.3333333333333333,\"#9c179e\"],[0.4444444444444444,\"#bd3786\"],[0.5555555555555556,\"#d8576b\"],[0.6666666666666666,\"#ed7953\"],[0.7777777777777778,\"#fb9f3a\"],[0.8888888888888888,\"#fdca26\"],[1.0,\"#f0f921\"]]},\"colorway\":[\"#636efa\",\"#EF553B\",\"#00cc96\",\"#ab63fa\",\"#FFA15A\",\"#19d3f3\",\"#FF6692\",\"#B6E880\",\"#FF97FF\",\"#FECB52\"],\"font\":{\"color\":\"#2a3f5f\"},\"geo\":{\"bgcolor\":\"white\",\"lakecolor\":\"white\",\"landcolor\":\"#E5ECF6\",\"showlakes\":true,\"showland\":true,\"subunitcolor\":\"white\"},\"hoverlabel\":{\"align\":\"left\"},\"hovermode\":\"closest\",\"mapbox\":{\"style\":\"light\"},\"paper_bgcolor\":\"white\",\"plot_bgcolor\":\"#E5ECF6\",\"polar\":{\"angularaxis\":{\"gridcolor\":\"white\",\"linecolor\":\"white\",\"ticks\":\"\"},\"bgcolor\":\"#E5ECF6\",\"radialaxis\":{\"gridcolor\":\"white\",\"linecolor\":\"white\",\"ticks\":\"\"}},\"scene\":{\"xaxis\":{\"backgroundcolor\":\"#E5ECF6\",\"gridcolor\":\"white\",\"gridwidth\":2,\"linecolor\":\"white\",\"showbackground\":true,\"ticks\":\"\",\"zerolinecolor\":\"white\"},\"yaxis\":{\"backgroundcolor\":\"#E5ECF6\",\"gridcolor\":\"white\",\"gridwidth\":2,\"linecolor\":\"white\",\"showbackground\":true,\"ticks\":\"\",\"zerolinecolor\":\"white\"},\"zaxis\":{\"backgroundcolor\":\"#E5ECF6\",\"gridcolor\":\"white\",\"gridwidth\":2,\"linecolor\":\"white\",\"showbackground\":true,\"ticks\":\"\",\"zerolinecolor\":\"white\"}},\"shapedefaults\":{\"line\":{\"color\":\"#2a3f5f\"}},\"ternary\":{\"aaxis\":{\"gridcolor\":\"white\",\"linecolor\":\"white\",\"ticks\":\"\"},\"baxis\":{\"gridcolor\":\"white\",\"linecolor\":\"white\",\"ticks\":\"\"},\"bgcolor\":\"#E5ECF6\",\"caxis\":{\"gridcolor\":\"white\",\"linecolor\":\"white\",\"ticks\":\"\"}},\"title\":{\"x\":0.05},\"xaxis\":{\"automargin\":true,\"gridcolor\":\"white\",\"linecolor\":\"white\",\"ticks\":\"\",\"title\":{\"standoff\":15},\"zerolinecolor\":\"white\",\"zerolinewidth\":2},\"yaxis\":{\"automargin\":true,\"gridcolor\":\"white\",\"linecolor\":\"white\",\"ticks\":\"\",\"title\":{\"standoff\":15},\"zerolinecolor\":\"white\",\"zerolinewidth\":2}}},\"title\":{\"font\":{\"color\":\"#4D5663\"}},\"xaxis\":{\"gridcolor\":\"#E1E5ED\",\"showgrid\":true,\"tickfont\":{\"color\":\"#4D5663\"},\"title\":{\"font\":{\"color\":\"#4D5663\"},\"text\":\"\"},\"zerolinecolor\":\"#E1E5ED\"},\"yaxis\":{\"gridcolor\":\"#E1E5ED\",\"showgrid\":true,\"tickfont\":{\"color\":\"#4D5663\"},\"title\":{\"font\":{\"color\":\"#4D5663\"},\"text\":\"\"},\"zerolinecolor\":\"#E1E5ED\"}},                        {\"showLink\": true, \"linkText\": \"Export to plot.ly\", \"plotlyServerURL\": \"https://plot.ly\", \"responsive\": true}                    ).then(function(){\n",
       "                            \n",
       "var gd = document.getElementById('0ac1d7a5-4b12-4d23-bf2c-ee4731c3e520');\n",
       "var x = new MutationObserver(function (mutations, observer) {{\n",
       "        var display = window.getComputedStyle(gd).display;\n",
       "        if (!display || display === 'none') {{\n",
       "            console.log([gd, 'removed!']);\n",
       "            Plotly.purge(gd);\n",
       "            observer.disconnect();\n",
       "        }}\n",
       "}});\n",
       "\n",
       "// Listen for the removal of the full notebook cells\n",
       "var notebookContainer = gd.closest('#notebook-container');\n",
       "if (notebookContainer) {{\n",
       "    x.observe(notebookContainer, {childList: true});\n",
       "}}\n",
       "\n",
       "// Listen for the clearing of the current output cell\n",
       "var outputEl = gd.closest('.output');\n",
       "if (outputEl) {{\n",
       "    x.observe(outputEl, {childList: true});\n",
       "}}\n",
       "\n",
       "                        })                };                });            </script>        </div>"
      ]
     },
     "metadata": {},
     "output_type": "display_data"
    }
   ],
   "source": [
    "df3.iplot(kind = 'surface')"
   ]
  },
  {
   "cell_type": "code",
   "execution_count": 60,
   "metadata": {},
   "outputs": [
    {
     "data": {
      "text/plain": [
       "array([0.        , 0.01123596, 0.02247191, 0.03370787, 0.04494382,\n",
       "       0.05617978, 0.06741573, 0.07865169, 0.08988764, 0.1011236 ,\n",
       "       0.11235955, 0.12359551, 0.13483146, 0.14606742, 0.15730337,\n",
       "       0.16853933, 0.17977528, 0.19101124, 0.20224719, 0.21348315,\n",
       "       0.2247191 , 0.23595506, 0.24719101, 0.25842697, 0.26966292,\n",
       "       0.28089888, 0.29213483, 0.30337079, 0.31460674, 0.3258427 ,\n",
       "       0.33707865, 0.34831461, 0.35955056, 0.37078652, 0.38202247,\n",
       "       0.39325843, 0.40449438, 0.41573034, 0.42696629, 0.43820225,\n",
       "       0.4494382 , 0.46067416, 0.47191011, 0.48314607, 0.49438202,\n",
       "       0.50561798, 0.51685393, 0.52808989, 0.53932584, 0.5505618 ,\n",
       "       0.56179775, 0.57303371, 0.58426966, 0.59550562, 0.60674157,\n",
       "       0.61797753, 0.62921348, 0.64044944, 0.65168539, 0.66292135,\n",
       "       0.6741573 , 0.68539326, 0.69662921, 0.70786517, 0.71910112,\n",
       "       0.73033708, 0.74157303, 0.75280899, 0.76404494, 0.7752809 ,\n",
       "       0.78651685, 0.79775281, 0.80898876, 0.82022472, 0.83146067,\n",
       "       0.84269663, 0.85393258, 0.86516854, 0.87640449, 0.88764045,\n",
       "       0.8988764 , 0.91011236, 0.92134831, 0.93258427, 0.94382022,\n",
       "       0.95505618, 0.96629213, 0.97752809, 0.98876404, 1.        ])"
      ]
     },
     "execution_count": 60,
     "metadata": {},
     "output_type": "execute_result"
    }
   ],
   "source": [
    "x = np.linspace(0, 1, 90)\n",
    "x"
   ]
  },
  {
   "cell_type": "code",
   "execution_count": 61,
   "metadata": {},
   "outputs": [
    {
     "data": {
      "text/html": [
       "<div>\n",
       "<style scoped>\n",
       "    .dataframe tbody tr th:only-of-type {\n",
       "        vertical-align: middle;\n",
       "    }\n",
       "\n",
       "    .dataframe tbody tr th {\n",
       "        vertical-align: top;\n",
       "    }\n",
       "\n",
       "    .dataframe thead th {\n",
       "        text-align: right;\n",
       "    }\n",
       "</style>\n",
       "<table border=\"1\" class=\"dataframe\">\n",
       "  <thead>\n",
       "    <tr style=\"text-align: right;\">\n",
       "      <th></th>\n",
       "      <th>Angle</th>\n",
       "    </tr>\n",
       "  </thead>\n",
       "  <tbody>\n",
       "    <tr>\n",
       "      <th>0</th>\n",
       "      <td>0.000000</td>\n",
       "    </tr>\n",
       "    <tr>\n",
       "      <th>1</th>\n",
       "      <td>0.011236</td>\n",
       "    </tr>\n",
       "    <tr>\n",
       "      <th>2</th>\n",
       "      <td>0.022472</td>\n",
       "    </tr>\n",
       "    <tr>\n",
       "      <th>3</th>\n",
       "      <td>0.033708</td>\n",
       "    </tr>\n",
       "    <tr>\n",
       "      <th>4</th>\n",
       "      <td>0.044944</td>\n",
       "    </tr>\n",
       "    <tr>\n",
       "      <th>...</th>\n",
       "      <td>...</td>\n",
       "    </tr>\n",
       "    <tr>\n",
       "      <th>85</th>\n",
       "      <td>0.955056</td>\n",
       "    </tr>\n",
       "    <tr>\n",
       "      <th>86</th>\n",
       "      <td>0.966292</td>\n",
       "    </tr>\n",
       "    <tr>\n",
       "      <th>87</th>\n",
       "      <td>0.977528</td>\n",
       "    </tr>\n",
       "    <tr>\n",
       "      <th>88</th>\n",
       "      <td>0.988764</td>\n",
       "    </tr>\n",
       "    <tr>\n",
       "      <th>89</th>\n",
       "      <td>1.000000</td>\n",
       "    </tr>\n",
       "  </tbody>\n",
       "</table>\n",
       "<p>90 rows × 1 columns</p>\n",
       "</div>"
      ],
      "text/plain": [
       "       Angle\n",
       "0   0.000000\n",
       "1   0.011236\n",
       "2   0.022472\n",
       "3   0.033708\n",
       "4   0.044944\n",
       "..       ...\n",
       "85  0.955056\n",
       "86  0.966292\n",
       "87  0.977528\n",
       "88  0.988764\n",
       "89  1.000000\n",
       "\n",
       "[90 rows x 1 columns]"
      ]
     },
     "execution_count": 61,
     "metadata": {},
     "output_type": "execute_result"
    }
   ],
   "source": [
    "df4 = pd.DataFrame(data = x, columns = ['Angle'])\n",
    "df4"
   ]
  },
  {
   "cell_type": "code",
   "execution_count": 64,
   "metadata": {},
   "outputs": [],
   "source": [
    "df4['Sin'] = df4['Angle'].apply(math.asin)\n",
    "df4['Cos'] = df4['Angle'].apply(math.acos)"
   ]
  },
  {
   "cell_type": "code",
   "execution_count": 65,
   "metadata": {},
   "outputs": [
    {
     "data": {
      "text/html": [
       "<div>\n",
       "<style scoped>\n",
       "    .dataframe tbody tr th:only-of-type {\n",
       "        vertical-align: middle;\n",
       "    }\n",
       "\n",
       "    .dataframe tbody tr th {\n",
       "        vertical-align: top;\n",
       "    }\n",
       "\n",
       "    .dataframe thead th {\n",
       "        text-align: right;\n",
       "    }\n",
       "</style>\n",
       "<table border=\"1\" class=\"dataframe\">\n",
       "  <thead>\n",
       "    <tr style=\"text-align: right;\">\n",
       "      <th></th>\n",
       "      <th>Angle</th>\n",
       "      <th>Sin</th>\n",
       "      <th>Cos</th>\n",
       "    </tr>\n",
       "  </thead>\n",
       "  <tbody>\n",
       "    <tr>\n",
       "      <th>0</th>\n",
       "      <td>0.000000</td>\n",
       "      <td>0.000000</td>\n",
       "      <td>1.570796</td>\n",
       "    </tr>\n",
       "    <tr>\n",
       "      <th>1</th>\n",
       "      <td>0.011236</td>\n",
       "      <td>0.011236</td>\n",
       "      <td>1.559560</td>\n",
       "    </tr>\n",
       "    <tr>\n",
       "      <th>2</th>\n",
       "      <td>0.022472</td>\n",
       "      <td>0.022474</td>\n",
       "      <td>1.548323</td>\n",
       "    </tr>\n",
       "    <tr>\n",
       "      <th>3</th>\n",
       "      <td>0.033708</td>\n",
       "      <td>0.033714</td>\n",
       "      <td>1.537082</td>\n",
       "    </tr>\n",
       "    <tr>\n",
       "      <th>4</th>\n",
       "      <td>0.044944</td>\n",
       "      <td>0.044959</td>\n",
       "      <td>1.525837</td>\n",
       "    </tr>\n",
       "    <tr>\n",
       "      <th>...</th>\n",
       "      <td>...</td>\n",
       "      <td>...</td>\n",
       "      <td>...</td>\n",
       "    </tr>\n",
       "    <tr>\n",
       "      <th>85</th>\n",
       "      <td>0.955056</td>\n",
       "      <td>1.269849</td>\n",
       "      <td>0.300947</td>\n",
       "    </tr>\n",
       "    <tr>\n",
       "      <th>86</th>\n",
       "      <td>0.966292</td>\n",
       "      <td>1.310416</td>\n",
       "      <td>0.260380</td>\n",
       "    </tr>\n",
       "    <tr>\n",
       "      <th>87</th>\n",
       "      <td>0.977528</td>\n",
       "      <td>1.358398</td>\n",
       "      <td>0.212399</td>\n",
       "    </tr>\n",
       "    <tr>\n",
       "      <th>88</th>\n",
       "      <td>0.988764</td>\n",
       "      <td>1.420749</td>\n",
       "      <td>0.150047</td>\n",
       "    </tr>\n",
       "    <tr>\n",
       "      <th>89</th>\n",
       "      <td>1.000000</td>\n",
       "      <td>1.570796</td>\n",
       "      <td>0.000000</td>\n",
       "    </tr>\n",
       "  </tbody>\n",
       "</table>\n",
       "<p>90 rows × 3 columns</p>\n",
       "</div>"
      ],
      "text/plain": [
       "       Angle       Sin       Cos\n",
       "0   0.000000  0.000000  1.570796\n",
       "1   0.011236  0.011236  1.559560\n",
       "2   0.022472  0.022474  1.548323\n",
       "3   0.033708  0.033714  1.537082\n",
       "4   0.044944  0.044959  1.525837\n",
       "..       ...       ...       ...\n",
       "85  0.955056  1.269849  0.300947\n",
       "86  0.966292  1.310416  0.260380\n",
       "87  0.977528  1.358398  0.212399\n",
       "88  0.988764  1.420749  0.150047\n",
       "89  1.000000  1.570796  0.000000\n",
       "\n",
       "[90 rows x 3 columns]"
      ]
     },
     "execution_count": 65,
     "metadata": {},
     "output_type": "execute_result"
    }
   ],
   "source": [
    "df4"
   ]
  },
  {
   "cell_type": "code",
   "execution_count": 70,
   "metadata": {},
   "outputs": [
    {
     "data": {
      "application/vnd.plotly.v1+json": {
       "config": {
        "linkText": "Export to plot.ly",
        "plotlyServerURL": "https://plot.ly",
        "showLink": true
       },
       "data": [
        {
         "colorscale": [
          [
           0,
           "rgb(165,0,38)"
          ],
          [
           0.1,
           "rgb(215,48,39)"
          ],
          [
           0.2,
           "rgb(244,109,67)"
          ],
          [
           0.3,
           "rgb(253,174,97)"
          ],
          [
           0.4,
           "rgb(254,224,144)"
          ],
          [
           0.5,
           "rgb(255,255,191)"
          ],
          [
           0.6,
           "rgb(224,243,248)"
          ],
          [
           0.7,
           "rgb(171,217,233)"
          ],
          [
           0.8,
           "rgb(116,173,209)"
          ],
          [
           0.9,
           "rgb(69,117,180)"
          ],
          [
           1,
           "rgb(49,54,149)"
          ]
         ],
         "type": "surface",
         "x": [
          0,
          1,
          2,
          3,
          4,
          5,
          6,
          7,
          8,
          9,
          10,
          11,
          12,
          13,
          14,
          15,
          16,
          17,
          18,
          19,
          20,
          21,
          22,
          23,
          24,
          25,
          26,
          27,
          28,
          29,
          30,
          31,
          32,
          33,
          34,
          35,
          36,
          37,
          38,
          39,
          40,
          41,
          42,
          43,
          44,
          45,
          46,
          47,
          48,
          49,
          50,
          51,
          52,
          53,
          54,
          55,
          56,
          57,
          58,
          59,
          60,
          61,
          62,
          63,
          64,
          65,
          66,
          67,
          68,
          69,
          70,
          71,
          72,
          73,
          74,
          75,
          76,
          77,
          78,
          79,
          80,
          81,
          82,
          83,
          84,
          85,
          86,
          87,
          88,
          89
         ],
         "y": [
          "Angle",
          "Sin",
          "Cos"
         ],
         "z": [
          [
           0,
           0.011235955056179775,
           0.02247191011235955,
           0.033707865168539325,
           0.0449438202247191,
           0.056179775280898875,
           0.06741573033707865,
           0.07865168539325842,
           0.0898876404494382,
           0.10112359550561797,
           0.11235955056179775,
           0.12359550561797752,
           0.1348314606741573,
           0.14606741573033707,
           0.15730337078651685,
           0.16853932584269662,
           0.1797752808988764,
           0.19101123595505617,
           0.20224719101123595,
           0.21348314606741572,
           0.2247191011235955,
           0.23595505617977527,
           0.24719101123595505,
           0.2584269662921348,
           0.2696629213483146,
           0.2808988764044944,
           0.29213483146067415,
           0.3033707865168539,
           0.3146067415730337,
           0.3258426966292135,
           0.33707865168539325,
           0.348314606741573,
           0.3595505617977528,
           0.3707865168539326,
           0.38202247191011235,
           0.3932584269662921,
           0.4044943820224719,
           0.4157303370786517,
           0.42696629213483145,
           0.4382022471910112,
           0.449438202247191,
           0.4606741573033708,
           0.47191011235955055,
           0.4831460674157303,
           0.4943820224719101,
           0.5056179775280899,
           0.5168539325842696,
           0.5280898876404494,
           0.5393258426966292,
           0.550561797752809,
           0.5617977528089888,
           0.5730337078651685,
           0.5842696629213483,
           0.5955056179775281,
           0.6067415730337078,
           0.6179775280898876,
           0.6292134831460674,
           0.6404494382022472,
           0.651685393258427,
           0.6629213483146067,
           0.6741573033707865,
           0.6853932584269663,
           0.696629213483146,
           0.7078651685393258,
           0.7191011235955056,
           0.7303370786516854,
           0.7415730337078652,
           0.7528089887640449,
           0.7640449438202247,
           0.7752808988764045,
           0.7865168539325842,
           0.797752808988764,
           0.8089887640449438,
           0.8202247191011236,
           0.8314606741573034,
           0.8426966292134831,
           0.8539325842696629,
           0.8651685393258427,
           0.8764044943820224,
           0.8876404494382022,
           0.898876404494382,
           0.9101123595505618,
           0.9213483146067416,
           0.9325842696629213,
           0.9438202247191011,
           0.9550561797752809,
           0.9662921348314606,
           0.9775280898876404,
           0.9887640449438202,
           1
          ],
          [
           0,
           0.0112361914866269,
           0.022473801878403855,
           0.033714251693908764,
           0.04495896468367527,
           0.05620936945895234,
           0.06746690113589068,
           0.07873300300044773,
           0.09000912819943202,
           0.10129674146327317,
           0.1125973208663049,
           0.12391235963058865,
           0.13524336797958683,
           0.14659187504832139,
           0.15795943085702643,
           0.16934760835573082,
           0.1807580055476887,
           0.19219224770012275,
           0.20365198965135825,
           0.215138918224118,
           0.2266547547555229,
           0.23820125775521336,
           0.24978022570398173,
           0.2613935000063999,
           0.27304296811215273,
           0.28473056682216413,
           0.2964582857971484,
           0.3082281712879565,
           0.32004233010904215,
           0.33190293387857434,
           0.34381222355120905,
           0.3557725142723405,
           0.3677862005858299,
           0.3798557620308144,
           0.39198376916729405,
           0.40417289007485274,
           0.4164258973741852,
           0.4287456758271806,
           0.4411352305782735,
           0.4535976961077717,
           0.4661363459770773,
           0.47875460345634724,
           0.4914560531374482,
           0.504244453649345,
           0.5171237516096979,
           0.5300980969658786,
           0.5431718599013835,
           0.5563496495104033,
           0.5696363344749001,
           0.5830370660159788,
           0.5965573034358364,
           0.61020284261971,
           0.6239798479309642,
           0.6378948880091925,
           0.6519549760740968,
           0.6661676154508613,
           0.6805408511708586,
           0.6950833286713374,
           0.7098043608277433,
           0.7247140048136596,
           0.7398231506107062,
           0.755143623403672,
           0.7706883026209326,
           0.7864712610524651,
           0.8025079283462659,
           0.8188152843163157,
           0.8354120889860214,
           0.8523191582746295,
           0.8695596969035138,
           0.8871597037363116,
           0.9051484697893567,
           0.9235591961869238,
           0.9424297693582019,
           0.9618037453001346,
           0.9817316162040961,
           1.0022724651873682,
           1.0234961651001602,
           1.0454863573258042,
           1.0683445778033418,
           1.0921961211202902,
           1.1171986306871249,
           1.1435551442229095,
           1.1715347916796035,
           1.2015074685364107,
           1.2340060985622072,
           1.2698492479239765,
           1.3104160047012863,
           1.3583977269954215,
           1.420749271217941,
           1.5707963267948966
          ],
          [
           1.5707963267948966,
           1.5595601353082698,
           1.5483225249164927,
           1.537082075100988,
           1.5258373621112213,
           1.5145869573359443,
           1.503329425659006,
           1.492063323794449,
           1.4807871985954646,
           1.4694995853316235,
           1.4581990059285916,
           1.446883967164308,
           1.4355529588153098,
           1.4242044517465753,
           1.41283689593787,
           1.4014487184391657,
           1.3900383212472078,
           1.3786040790947738,
           1.3671443371435383,
           1.3556574085707787,
           1.3441415720393737,
           1.3325950690396833,
           1.321016101090915,
           1.3094028267884967,
           1.2977533586827439,
           1.2860657599727325,
           1.2743380409977483,
           1.2625681555069401,
           1.2507539966858545,
           1.2388933929163224,
           1.2269841032436877,
           1.215023812522556,
           1.2030101262090667,
           1.1909405647640823,
           1.1788125576276025,
           1.1666234367200439,
           1.1543704294207113,
           1.142050650967716,
           1.1296610962166231,
           1.1171986306871249,
           1.1046599808178192,
           1.0920417233385493,
           1.0793402736574484,
           1.0665518731455517,
           1.0536725751851987,
           1.040698229829018,
           1.027624466893513,
           1.0144466772844933,
           1.0011599923199965,
           0.9877592607789177,
           0.9742390233590602,
           0.9605934841751865,
           0.9468164788639325,
           0.9329014387857041,
           0.9188413507207999,
           0.9046287113440353,
           0.8902554756240381,
           0.8757129981235592,
           0.8609919659671533,
           0.8460823219812371,
           0.8309731761841903,
           0.8156527033912246,
           0.800108024173964,
           0.7843250657424314,
           0.7682883984486306,
           0.751981042478581,
           0.7353842378088752,
           0.7184771685202672,
           0.7012366298913829,
           0.6836366230585851,
           0.6656478570055399,
           0.6472371306079728,
           0.6283665574366947,
           0.608992581494762,
           0.5890647105908006,
           0.5685238616075284,
           0.5473001616947364,
           0.5253099694690924,
           0.5024517489915548,
           0.47860020567460654,
           0.4535976961077718,
           0.42724118257198707,
           0.3992615351152931,
           0.36928885825848606,
           0.33679022823268945,
           0.30094707887092004,
           0.2603803220936104,
           0.21239859979947517,
           0.15004705557695563,
           0
          ]
         ]
        }
       ],
       "layout": {
        "legend": {
         "bgcolor": "#F5F6F9",
         "font": {
          "color": "#4D5663"
         }
        },
        "paper_bgcolor": "#F5F6F9",
        "plot_bgcolor": "#F5F6F9",
        "template": {
         "data": {
          "bar": [
           {
            "error_x": {
             "color": "#2a3f5f"
            },
            "error_y": {
             "color": "#2a3f5f"
            },
            "marker": {
             "line": {
              "color": "#E5ECF6",
              "width": 0.5
             },
             "pattern": {
              "fillmode": "overlay",
              "size": 10,
              "solidity": 0.2
             }
            },
            "type": "bar"
           }
          ],
          "barpolar": [
           {
            "marker": {
             "line": {
              "color": "#E5ECF6",
              "width": 0.5
             },
             "pattern": {
              "fillmode": "overlay",
              "size": 10,
              "solidity": 0.2
             }
            },
            "type": "barpolar"
           }
          ],
          "carpet": [
           {
            "aaxis": {
             "endlinecolor": "#2a3f5f",
             "gridcolor": "white",
             "linecolor": "white",
             "minorgridcolor": "white",
             "startlinecolor": "#2a3f5f"
            },
            "baxis": {
             "endlinecolor": "#2a3f5f",
             "gridcolor": "white",
             "linecolor": "white",
             "minorgridcolor": "white",
             "startlinecolor": "#2a3f5f"
            },
            "type": "carpet"
           }
          ],
          "choropleth": [
           {
            "colorbar": {
             "outlinewidth": 0,
             "ticks": ""
            },
            "type": "choropleth"
           }
          ],
          "contour": [
           {
            "colorbar": {
             "outlinewidth": 0,
             "ticks": ""
            },
            "colorscale": [
             [
              0,
              "#0d0887"
             ],
             [
              0.1111111111111111,
              "#46039f"
             ],
             [
              0.2222222222222222,
              "#7201a8"
             ],
             [
              0.3333333333333333,
              "#9c179e"
             ],
             [
              0.4444444444444444,
              "#bd3786"
             ],
             [
              0.5555555555555556,
              "#d8576b"
             ],
             [
              0.6666666666666666,
              "#ed7953"
             ],
             [
              0.7777777777777778,
              "#fb9f3a"
             ],
             [
              0.8888888888888888,
              "#fdca26"
             ],
             [
              1,
              "#f0f921"
             ]
            ],
            "type": "contour"
           }
          ],
          "contourcarpet": [
           {
            "colorbar": {
             "outlinewidth": 0,
             "ticks": ""
            },
            "type": "contourcarpet"
           }
          ],
          "heatmap": [
           {
            "colorbar": {
             "outlinewidth": 0,
             "ticks": ""
            },
            "colorscale": [
             [
              0,
              "#0d0887"
             ],
             [
              0.1111111111111111,
              "#46039f"
             ],
             [
              0.2222222222222222,
              "#7201a8"
             ],
             [
              0.3333333333333333,
              "#9c179e"
             ],
             [
              0.4444444444444444,
              "#bd3786"
             ],
             [
              0.5555555555555556,
              "#d8576b"
             ],
             [
              0.6666666666666666,
              "#ed7953"
             ],
             [
              0.7777777777777778,
              "#fb9f3a"
             ],
             [
              0.8888888888888888,
              "#fdca26"
             ],
             [
              1,
              "#f0f921"
             ]
            ],
            "type": "heatmap"
           }
          ],
          "heatmapgl": [
           {
            "colorbar": {
             "outlinewidth": 0,
             "ticks": ""
            },
            "colorscale": [
             [
              0,
              "#0d0887"
             ],
             [
              0.1111111111111111,
              "#46039f"
             ],
             [
              0.2222222222222222,
              "#7201a8"
             ],
             [
              0.3333333333333333,
              "#9c179e"
             ],
             [
              0.4444444444444444,
              "#bd3786"
             ],
             [
              0.5555555555555556,
              "#d8576b"
             ],
             [
              0.6666666666666666,
              "#ed7953"
             ],
             [
              0.7777777777777778,
              "#fb9f3a"
             ],
             [
              0.8888888888888888,
              "#fdca26"
             ],
             [
              1,
              "#f0f921"
             ]
            ],
            "type": "heatmapgl"
           }
          ],
          "histogram": [
           {
            "marker": {
             "pattern": {
              "fillmode": "overlay",
              "size": 10,
              "solidity": 0.2
             }
            },
            "type": "histogram"
           }
          ],
          "histogram2d": [
           {
            "colorbar": {
             "outlinewidth": 0,
             "ticks": ""
            },
            "colorscale": [
             [
              0,
              "#0d0887"
             ],
             [
              0.1111111111111111,
              "#46039f"
             ],
             [
              0.2222222222222222,
              "#7201a8"
             ],
             [
              0.3333333333333333,
              "#9c179e"
             ],
             [
              0.4444444444444444,
              "#bd3786"
             ],
             [
              0.5555555555555556,
              "#d8576b"
             ],
             [
              0.6666666666666666,
              "#ed7953"
             ],
             [
              0.7777777777777778,
              "#fb9f3a"
             ],
             [
              0.8888888888888888,
              "#fdca26"
             ],
             [
              1,
              "#f0f921"
             ]
            ],
            "type": "histogram2d"
           }
          ],
          "histogram2dcontour": [
           {
            "colorbar": {
             "outlinewidth": 0,
             "ticks": ""
            },
            "colorscale": [
             [
              0,
              "#0d0887"
             ],
             [
              0.1111111111111111,
              "#46039f"
             ],
             [
              0.2222222222222222,
              "#7201a8"
             ],
             [
              0.3333333333333333,
              "#9c179e"
             ],
             [
              0.4444444444444444,
              "#bd3786"
             ],
             [
              0.5555555555555556,
              "#d8576b"
             ],
             [
              0.6666666666666666,
              "#ed7953"
             ],
             [
              0.7777777777777778,
              "#fb9f3a"
             ],
             [
              0.8888888888888888,
              "#fdca26"
             ],
             [
              1,
              "#f0f921"
             ]
            ],
            "type": "histogram2dcontour"
           }
          ],
          "mesh3d": [
           {
            "colorbar": {
             "outlinewidth": 0,
             "ticks": ""
            },
            "type": "mesh3d"
           }
          ],
          "parcoords": [
           {
            "line": {
             "colorbar": {
              "outlinewidth": 0,
              "ticks": ""
             }
            },
            "type": "parcoords"
           }
          ],
          "pie": [
           {
            "automargin": true,
            "type": "pie"
           }
          ],
          "scatter": [
           {
            "fillpattern": {
             "fillmode": "overlay",
             "size": 10,
             "solidity": 0.2
            },
            "type": "scatter"
           }
          ],
          "scatter3d": [
           {
            "line": {
             "colorbar": {
              "outlinewidth": 0,
              "ticks": ""
             }
            },
            "marker": {
             "colorbar": {
              "outlinewidth": 0,
              "ticks": ""
             }
            },
            "type": "scatter3d"
           }
          ],
          "scattercarpet": [
           {
            "marker": {
             "colorbar": {
              "outlinewidth": 0,
              "ticks": ""
             }
            },
            "type": "scattercarpet"
           }
          ],
          "scattergeo": [
           {
            "marker": {
             "colorbar": {
              "outlinewidth": 0,
              "ticks": ""
             }
            },
            "type": "scattergeo"
           }
          ],
          "scattergl": [
           {
            "marker": {
             "colorbar": {
              "outlinewidth": 0,
              "ticks": ""
             }
            },
            "type": "scattergl"
           }
          ],
          "scattermapbox": [
           {
            "marker": {
             "colorbar": {
              "outlinewidth": 0,
              "ticks": ""
             }
            },
            "type": "scattermapbox"
           }
          ],
          "scatterpolar": [
           {
            "marker": {
             "colorbar": {
              "outlinewidth": 0,
              "ticks": ""
             }
            },
            "type": "scatterpolar"
           }
          ],
          "scatterpolargl": [
           {
            "marker": {
             "colorbar": {
              "outlinewidth": 0,
              "ticks": ""
             }
            },
            "type": "scatterpolargl"
           }
          ],
          "scatterternary": [
           {
            "marker": {
             "colorbar": {
              "outlinewidth": 0,
              "ticks": ""
             }
            },
            "type": "scatterternary"
           }
          ],
          "surface": [
           {
            "colorbar": {
             "outlinewidth": 0,
             "ticks": ""
            },
            "colorscale": [
             [
              0,
              "#0d0887"
             ],
             [
              0.1111111111111111,
              "#46039f"
             ],
             [
              0.2222222222222222,
              "#7201a8"
             ],
             [
              0.3333333333333333,
              "#9c179e"
             ],
             [
              0.4444444444444444,
              "#bd3786"
             ],
             [
              0.5555555555555556,
              "#d8576b"
             ],
             [
              0.6666666666666666,
              "#ed7953"
             ],
             [
              0.7777777777777778,
              "#fb9f3a"
             ],
             [
              0.8888888888888888,
              "#fdca26"
             ],
             [
              1,
              "#f0f921"
             ]
            ],
            "type": "surface"
           }
          ],
          "table": [
           {
            "cells": {
             "fill": {
              "color": "#EBF0F8"
             },
             "line": {
              "color": "white"
             }
            },
            "header": {
             "fill": {
              "color": "#C8D4E3"
             },
             "line": {
              "color": "white"
             }
            },
            "type": "table"
           }
          ]
         },
         "layout": {
          "annotationdefaults": {
           "arrowcolor": "#2a3f5f",
           "arrowhead": 0,
           "arrowwidth": 1
          },
          "autotypenumbers": "strict",
          "coloraxis": {
           "colorbar": {
            "outlinewidth": 0,
            "ticks": ""
           }
          },
          "colorscale": {
           "diverging": [
            [
             0,
             "#8e0152"
            ],
            [
             0.1,
             "#c51b7d"
            ],
            [
             0.2,
             "#de77ae"
            ],
            [
             0.3,
             "#f1b6da"
            ],
            [
             0.4,
             "#fde0ef"
            ],
            [
             0.5,
             "#f7f7f7"
            ],
            [
             0.6,
             "#e6f5d0"
            ],
            [
             0.7,
             "#b8e186"
            ],
            [
             0.8,
             "#7fbc41"
            ],
            [
             0.9,
             "#4d9221"
            ],
            [
             1,
             "#276419"
            ]
           ],
           "sequential": [
            [
             0,
             "#0d0887"
            ],
            [
             0.1111111111111111,
             "#46039f"
            ],
            [
             0.2222222222222222,
             "#7201a8"
            ],
            [
             0.3333333333333333,
             "#9c179e"
            ],
            [
             0.4444444444444444,
             "#bd3786"
            ],
            [
             0.5555555555555556,
             "#d8576b"
            ],
            [
             0.6666666666666666,
             "#ed7953"
            ],
            [
             0.7777777777777778,
             "#fb9f3a"
            ],
            [
             0.8888888888888888,
             "#fdca26"
            ],
            [
             1,
             "#f0f921"
            ]
           ],
           "sequentialminus": [
            [
             0,
             "#0d0887"
            ],
            [
             0.1111111111111111,
             "#46039f"
            ],
            [
             0.2222222222222222,
             "#7201a8"
            ],
            [
             0.3333333333333333,
             "#9c179e"
            ],
            [
             0.4444444444444444,
             "#bd3786"
            ],
            [
             0.5555555555555556,
             "#d8576b"
            ],
            [
             0.6666666666666666,
             "#ed7953"
            ],
            [
             0.7777777777777778,
             "#fb9f3a"
            ],
            [
             0.8888888888888888,
             "#fdca26"
            ],
            [
             1,
             "#f0f921"
            ]
           ]
          },
          "colorway": [
           "#636efa",
           "#EF553B",
           "#00cc96",
           "#ab63fa",
           "#FFA15A",
           "#19d3f3",
           "#FF6692",
           "#B6E880",
           "#FF97FF",
           "#FECB52"
          ],
          "font": {
           "color": "#2a3f5f"
          },
          "geo": {
           "bgcolor": "white",
           "lakecolor": "white",
           "landcolor": "#E5ECF6",
           "showlakes": true,
           "showland": true,
           "subunitcolor": "white"
          },
          "hoverlabel": {
           "align": "left"
          },
          "hovermode": "closest",
          "mapbox": {
           "style": "light"
          },
          "paper_bgcolor": "white",
          "plot_bgcolor": "#E5ECF6",
          "polar": {
           "angularaxis": {
            "gridcolor": "white",
            "linecolor": "white",
            "ticks": ""
           },
           "bgcolor": "#E5ECF6",
           "radialaxis": {
            "gridcolor": "white",
            "linecolor": "white",
            "ticks": ""
           }
          },
          "scene": {
           "xaxis": {
            "backgroundcolor": "#E5ECF6",
            "gridcolor": "white",
            "gridwidth": 2,
            "linecolor": "white",
            "showbackground": true,
            "ticks": "",
            "zerolinecolor": "white"
           },
           "yaxis": {
            "backgroundcolor": "#E5ECF6",
            "gridcolor": "white",
            "gridwidth": 2,
            "linecolor": "white",
            "showbackground": true,
            "ticks": "",
            "zerolinecolor": "white"
           },
           "zaxis": {
            "backgroundcolor": "#E5ECF6",
            "gridcolor": "white",
            "gridwidth": 2,
            "linecolor": "white",
            "showbackground": true,
            "ticks": "",
            "zerolinecolor": "white"
           }
          },
          "shapedefaults": {
           "line": {
            "color": "#2a3f5f"
           }
          },
          "ternary": {
           "aaxis": {
            "gridcolor": "white",
            "linecolor": "white",
            "ticks": ""
           },
           "baxis": {
            "gridcolor": "white",
            "linecolor": "white",
            "ticks": ""
           },
           "bgcolor": "#E5ECF6",
           "caxis": {
            "gridcolor": "white",
            "linecolor": "white",
            "ticks": ""
           }
          },
          "title": {
           "x": 0.05
          },
          "xaxis": {
           "automargin": true,
           "gridcolor": "white",
           "linecolor": "white",
           "ticks": "",
           "title": {
            "standoff": 15
           },
           "zerolinecolor": "white",
           "zerolinewidth": 2
          },
          "yaxis": {
           "automargin": true,
           "gridcolor": "white",
           "linecolor": "white",
           "ticks": "",
           "title": {
            "standoff": 15
           },
           "zerolinecolor": "white",
           "zerolinewidth": 2
          }
         }
        },
        "title": {
         "font": {
          "color": "#4D5663"
         }
        },
        "xaxis": {
         "gridcolor": "#E1E5ED",
         "showgrid": true,
         "tickfont": {
          "color": "#4D5663"
         },
         "title": {
          "font": {
           "color": "#4D5663"
          },
          "text": ""
         },
         "zerolinecolor": "#E1E5ED"
        },
        "yaxis": {
         "gridcolor": "#E1E5ED",
         "showgrid": true,
         "tickfont": {
          "color": "#4D5663"
         },
         "title": {
          "font": {
           "color": "#4D5663"
          },
          "text": ""
         },
         "zerolinecolor": "#E1E5ED"
        }
       }
      },
      "text/html": [
       "<div>                            <div id=\"99bc3feb-7a28-493c-878c-06724bd48155\" class=\"plotly-graph-div\" style=\"height:525px; width:100%;\"></div>            <script type=\"text/javascript\">                require([\"plotly\"], function(Plotly) {                    window.PLOTLYENV=window.PLOTLYENV || {};\n",
       "                    window.PLOTLYENV.BASE_URL='https://plot.ly';                                    if (document.getElementById(\"99bc3feb-7a28-493c-878c-06724bd48155\")) {                    Plotly.newPlot(                        \"99bc3feb-7a28-493c-878c-06724bd48155\",                        [{\"colorscale\":[[0.0,\"rgb(165,0,38)\"],[0.1,\"rgb(215,48,39)\"],[0.2,\"rgb(244,109,67)\"],[0.3,\"rgb(253,174,97)\"],[0.4,\"rgb(254,224,144)\"],[0.5,\"rgb(255,255,191)\"],[0.6,\"rgb(224,243,248)\"],[0.7,\"rgb(171,217,233)\"],[0.8,\"rgb(116,173,209)\"],[0.9,\"rgb(69,117,180)\"],[1.0,\"rgb(49,54,149)\"]],\"x\":[0,1,2,3,4,5,6,7,8,9,10,11,12,13,14,15,16,17,18,19,20,21,22,23,24,25,26,27,28,29,30,31,32,33,34,35,36,37,38,39,40,41,42,43,44,45,46,47,48,49,50,51,52,53,54,55,56,57,58,59,60,61,62,63,64,65,66,67,68,69,70,71,72,73,74,75,76,77,78,79,80,81,82,83,84,85,86,87,88,89],\"y\":[\"Angle\",\"Sin\",\"Cos\"],\"z\":[[0.0,0.011235955056179775,0.02247191011235955,0.033707865168539325,0.0449438202247191,0.056179775280898875,0.06741573033707865,0.07865168539325842,0.0898876404494382,0.10112359550561797,0.11235955056179775,0.12359550561797752,0.1348314606741573,0.14606741573033707,0.15730337078651685,0.16853932584269662,0.1797752808988764,0.19101123595505617,0.20224719101123595,0.21348314606741572,0.2247191011235955,0.23595505617977527,0.24719101123595505,0.2584269662921348,0.2696629213483146,0.2808988764044944,0.29213483146067415,0.3033707865168539,0.3146067415730337,0.3258426966292135,0.33707865168539325,0.348314606741573,0.3595505617977528,0.3707865168539326,0.38202247191011235,0.3932584269662921,0.4044943820224719,0.4157303370786517,0.42696629213483145,0.4382022471910112,0.449438202247191,0.4606741573033708,0.47191011235955055,0.4831460674157303,0.4943820224719101,0.5056179775280899,0.5168539325842696,0.5280898876404494,0.5393258426966292,0.550561797752809,0.5617977528089888,0.5730337078651685,0.5842696629213483,0.5955056179775281,0.6067415730337078,0.6179775280898876,0.6292134831460674,0.6404494382022472,0.651685393258427,0.6629213483146067,0.6741573033707865,0.6853932584269663,0.696629213483146,0.7078651685393258,0.7191011235955056,0.7303370786516854,0.7415730337078652,0.7528089887640449,0.7640449438202247,0.7752808988764045,0.7865168539325842,0.797752808988764,0.8089887640449438,0.8202247191011236,0.8314606741573034,0.8426966292134831,0.8539325842696629,0.8651685393258427,0.8764044943820224,0.8876404494382022,0.898876404494382,0.9101123595505618,0.9213483146067416,0.9325842696629213,0.9438202247191011,0.9550561797752809,0.9662921348314606,0.9775280898876404,0.9887640449438202,1.0],[0.0,0.0112361914866269,0.022473801878403855,0.033714251693908764,0.04495896468367527,0.05620936945895234,0.06746690113589068,0.07873300300044773,0.09000912819943202,0.10129674146327317,0.1125973208663049,0.12391235963058865,0.13524336797958683,0.14659187504832139,0.15795943085702643,0.16934760835573082,0.1807580055476887,0.19219224770012275,0.20365198965135825,0.215138918224118,0.2266547547555229,0.23820125775521336,0.24978022570398173,0.2613935000063999,0.27304296811215273,0.28473056682216413,0.2964582857971484,0.3082281712879565,0.32004233010904215,0.33190293387857434,0.34381222355120905,0.3557725142723405,0.3677862005858299,0.3798557620308144,0.39198376916729405,0.40417289007485274,0.4164258973741852,0.4287456758271806,0.4411352305782735,0.4535976961077717,0.4661363459770773,0.47875460345634724,0.4914560531374482,0.504244453649345,0.5171237516096979,0.5300980969658786,0.5431718599013835,0.5563496495104033,0.5696363344749001,0.5830370660159788,0.5965573034358364,0.61020284261971,0.6239798479309642,0.6378948880091925,0.6519549760740968,0.6661676154508613,0.6805408511708586,0.6950833286713374,0.7098043608277433,0.7247140048136596,0.7398231506107062,0.755143623403672,0.7706883026209326,0.7864712610524651,0.8025079283462659,0.8188152843163157,0.8354120889860214,0.8523191582746295,0.8695596969035138,0.8871597037363116,0.9051484697893567,0.9235591961869238,0.9424297693582019,0.9618037453001346,0.9817316162040961,1.0022724651873682,1.0234961651001602,1.0454863573258042,1.0683445778033418,1.0921961211202902,1.1171986306871249,1.1435551442229095,1.1715347916796035,1.2015074685364107,1.2340060985622072,1.2698492479239765,1.3104160047012863,1.3583977269954215,1.420749271217941,1.5707963267948966],[1.5707963267948966,1.5595601353082698,1.5483225249164927,1.537082075100988,1.5258373621112213,1.5145869573359443,1.503329425659006,1.492063323794449,1.4807871985954646,1.4694995853316235,1.4581990059285916,1.446883967164308,1.4355529588153098,1.4242044517465753,1.41283689593787,1.4014487184391657,1.3900383212472078,1.3786040790947738,1.3671443371435383,1.3556574085707787,1.3441415720393737,1.3325950690396833,1.321016101090915,1.3094028267884967,1.2977533586827439,1.2860657599727325,1.2743380409977483,1.2625681555069401,1.2507539966858545,1.2388933929163224,1.2269841032436877,1.215023812522556,1.2030101262090667,1.1909405647640823,1.1788125576276025,1.1666234367200439,1.1543704294207113,1.142050650967716,1.1296610962166231,1.1171986306871249,1.1046599808178192,1.0920417233385493,1.0793402736574484,1.0665518731455517,1.0536725751851987,1.040698229829018,1.027624466893513,1.0144466772844933,1.0011599923199965,0.9877592607789177,0.9742390233590602,0.9605934841751865,0.9468164788639325,0.9329014387857041,0.9188413507207999,0.9046287113440353,0.8902554756240381,0.8757129981235592,0.8609919659671533,0.8460823219812371,0.8309731761841903,0.8156527033912246,0.800108024173964,0.7843250657424314,0.7682883984486306,0.751981042478581,0.7353842378088752,0.7184771685202672,0.7012366298913829,0.6836366230585851,0.6656478570055399,0.6472371306079728,0.6283665574366947,0.608992581494762,0.5890647105908006,0.5685238616075284,0.5473001616947364,0.5253099694690924,0.5024517489915548,0.47860020567460654,0.4535976961077718,0.42724118257198707,0.3992615351152931,0.36928885825848606,0.33679022823268945,0.30094707887092004,0.2603803220936104,0.21239859979947517,0.15004705557695563,0.0]],\"type\":\"surface\"}],                        {\"legend\":{\"bgcolor\":\"#F5F6F9\",\"font\":{\"color\":\"#4D5663\"}},\"paper_bgcolor\":\"#F5F6F9\",\"plot_bgcolor\":\"#F5F6F9\",\"template\":{\"data\":{\"barpolar\":[{\"marker\":{\"line\":{\"color\":\"#E5ECF6\",\"width\":0.5},\"pattern\":{\"fillmode\":\"overlay\",\"size\":10,\"solidity\":0.2}},\"type\":\"barpolar\"}],\"bar\":[{\"error_x\":{\"color\":\"#2a3f5f\"},\"error_y\":{\"color\":\"#2a3f5f\"},\"marker\":{\"line\":{\"color\":\"#E5ECF6\",\"width\":0.5},\"pattern\":{\"fillmode\":\"overlay\",\"size\":10,\"solidity\":0.2}},\"type\":\"bar\"}],\"carpet\":[{\"aaxis\":{\"endlinecolor\":\"#2a3f5f\",\"gridcolor\":\"white\",\"linecolor\":\"white\",\"minorgridcolor\":\"white\",\"startlinecolor\":\"#2a3f5f\"},\"baxis\":{\"endlinecolor\":\"#2a3f5f\",\"gridcolor\":\"white\",\"linecolor\":\"white\",\"minorgridcolor\":\"white\",\"startlinecolor\":\"#2a3f5f\"},\"type\":\"carpet\"}],\"choropleth\":[{\"colorbar\":{\"outlinewidth\":0,\"ticks\":\"\"},\"type\":\"choropleth\"}],\"contourcarpet\":[{\"colorbar\":{\"outlinewidth\":0,\"ticks\":\"\"},\"type\":\"contourcarpet\"}],\"contour\":[{\"colorbar\":{\"outlinewidth\":0,\"ticks\":\"\"},\"colorscale\":[[0.0,\"#0d0887\"],[0.1111111111111111,\"#46039f\"],[0.2222222222222222,\"#7201a8\"],[0.3333333333333333,\"#9c179e\"],[0.4444444444444444,\"#bd3786\"],[0.5555555555555556,\"#d8576b\"],[0.6666666666666666,\"#ed7953\"],[0.7777777777777778,\"#fb9f3a\"],[0.8888888888888888,\"#fdca26\"],[1.0,\"#f0f921\"]],\"type\":\"contour\"}],\"heatmapgl\":[{\"colorbar\":{\"outlinewidth\":0,\"ticks\":\"\"},\"colorscale\":[[0.0,\"#0d0887\"],[0.1111111111111111,\"#46039f\"],[0.2222222222222222,\"#7201a8\"],[0.3333333333333333,\"#9c179e\"],[0.4444444444444444,\"#bd3786\"],[0.5555555555555556,\"#d8576b\"],[0.6666666666666666,\"#ed7953\"],[0.7777777777777778,\"#fb9f3a\"],[0.8888888888888888,\"#fdca26\"],[1.0,\"#f0f921\"]],\"type\":\"heatmapgl\"}],\"heatmap\":[{\"colorbar\":{\"outlinewidth\":0,\"ticks\":\"\"},\"colorscale\":[[0.0,\"#0d0887\"],[0.1111111111111111,\"#46039f\"],[0.2222222222222222,\"#7201a8\"],[0.3333333333333333,\"#9c179e\"],[0.4444444444444444,\"#bd3786\"],[0.5555555555555556,\"#d8576b\"],[0.6666666666666666,\"#ed7953\"],[0.7777777777777778,\"#fb9f3a\"],[0.8888888888888888,\"#fdca26\"],[1.0,\"#f0f921\"]],\"type\":\"heatmap\"}],\"histogram2dcontour\":[{\"colorbar\":{\"outlinewidth\":0,\"ticks\":\"\"},\"colorscale\":[[0.0,\"#0d0887\"],[0.1111111111111111,\"#46039f\"],[0.2222222222222222,\"#7201a8\"],[0.3333333333333333,\"#9c179e\"],[0.4444444444444444,\"#bd3786\"],[0.5555555555555556,\"#d8576b\"],[0.6666666666666666,\"#ed7953\"],[0.7777777777777778,\"#fb9f3a\"],[0.8888888888888888,\"#fdca26\"],[1.0,\"#f0f921\"]],\"type\":\"histogram2dcontour\"}],\"histogram2d\":[{\"colorbar\":{\"outlinewidth\":0,\"ticks\":\"\"},\"colorscale\":[[0.0,\"#0d0887\"],[0.1111111111111111,\"#46039f\"],[0.2222222222222222,\"#7201a8\"],[0.3333333333333333,\"#9c179e\"],[0.4444444444444444,\"#bd3786\"],[0.5555555555555556,\"#d8576b\"],[0.6666666666666666,\"#ed7953\"],[0.7777777777777778,\"#fb9f3a\"],[0.8888888888888888,\"#fdca26\"],[1.0,\"#f0f921\"]],\"type\":\"histogram2d\"}],\"histogram\":[{\"marker\":{\"pattern\":{\"fillmode\":\"overlay\",\"size\":10,\"solidity\":0.2}},\"type\":\"histogram\"}],\"mesh3d\":[{\"colorbar\":{\"outlinewidth\":0,\"ticks\":\"\"},\"type\":\"mesh3d\"}],\"parcoords\":[{\"line\":{\"colorbar\":{\"outlinewidth\":0,\"ticks\":\"\"}},\"type\":\"parcoords\"}],\"pie\":[{\"automargin\":true,\"type\":\"pie\"}],\"scatter3d\":[{\"line\":{\"colorbar\":{\"outlinewidth\":0,\"ticks\":\"\"}},\"marker\":{\"colorbar\":{\"outlinewidth\":0,\"ticks\":\"\"}},\"type\":\"scatter3d\"}],\"scattercarpet\":[{\"marker\":{\"colorbar\":{\"outlinewidth\":0,\"ticks\":\"\"}},\"type\":\"scattercarpet\"}],\"scattergeo\":[{\"marker\":{\"colorbar\":{\"outlinewidth\":0,\"ticks\":\"\"}},\"type\":\"scattergeo\"}],\"scattergl\":[{\"marker\":{\"colorbar\":{\"outlinewidth\":0,\"ticks\":\"\"}},\"type\":\"scattergl\"}],\"scattermapbox\":[{\"marker\":{\"colorbar\":{\"outlinewidth\":0,\"ticks\":\"\"}},\"type\":\"scattermapbox\"}],\"scatterpolargl\":[{\"marker\":{\"colorbar\":{\"outlinewidth\":0,\"ticks\":\"\"}},\"type\":\"scatterpolargl\"}],\"scatterpolar\":[{\"marker\":{\"colorbar\":{\"outlinewidth\":0,\"ticks\":\"\"}},\"type\":\"scatterpolar\"}],\"scatter\":[{\"fillpattern\":{\"fillmode\":\"overlay\",\"size\":10,\"solidity\":0.2},\"type\":\"scatter\"}],\"scatterternary\":[{\"marker\":{\"colorbar\":{\"outlinewidth\":0,\"ticks\":\"\"}},\"type\":\"scatterternary\"}],\"surface\":[{\"colorbar\":{\"outlinewidth\":0,\"ticks\":\"\"},\"colorscale\":[[0.0,\"#0d0887\"],[0.1111111111111111,\"#46039f\"],[0.2222222222222222,\"#7201a8\"],[0.3333333333333333,\"#9c179e\"],[0.4444444444444444,\"#bd3786\"],[0.5555555555555556,\"#d8576b\"],[0.6666666666666666,\"#ed7953\"],[0.7777777777777778,\"#fb9f3a\"],[0.8888888888888888,\"#fdca26\"],[1.0,\"#f0f921\"]],\"type\":\"surface\"}],\"table\":[{\"cells\":{\"fill\":{\"color\":\"#EBF0F8\"},\"line\":{\"color\":\"white\"}},\"header\":{\"fill\":{\"color\":\"#C8D4E3\"},\"line\":{\"color\":\"white\"}},\"type\":\"table\"}]},\"layout\":{\"annotationdefaults\":{\"arrowcolor\":\"#2a3f5f\",\"arrowhead\":0,\"arrowwidth\":1},\"autotypenumbers\":\"strict\",\"coloraxis\":{\"colorbar\":{\"outlinewidth\":0,\"ticks\":\"\"}},\"colorscale\":{\"diverging\":[[0,\"#8e0152\"],[0.1,\"#c51b7d\"],[0.2,\"#de77ae\"],[0.3,\"#f1b6da\"],[0.4,\"#fde0ef\"],[0.5,\"#f7f7f7\"],[0.6,\"#e6f5d0\"],[0.7,\"#b8e186\"],[0.8,\"#7fbc41\"],[0.9,\"#4d9221\"],[1,\"#276419\"]],\"sequential\":[[0.0,\"#0d0887\"],[0.1111111111111111,\"#46039f\"],[0.2222222222222222,\"#7201a8\"],[0.3333333333333333,\"#9c179e\"],[0.4444444444444444,\"#bd3786\"],[0.5555555555555556,\"#d8576b\"],[0.6666666666666666,\"#ed7953\"],[0.7777777777777778,\"#fb9f3a\"],[0.8888888888888888,\"#fdca26\"],[1.0,\"#f0f921\"]],\"sequentialminus\":[[0.0,\"#0d0887\"],[0.1111111111111111,\"#46039f\"],[0.2222222222222222,\"#7201a8\"],[0.3333333333333333,\"#9c179e\"],[0.4444444444444444,\"#bd3786\"],[0.5555555555555556,\"#d8576b\"],[0.6666666666666666,\"#ed7953\"],[0.7777777777777778,\"#fb9f3a\"],[0.8888888888888888,\"#fdca26\"],[1.0,\"#f0f921\"]]},\"colorway\":[\"#636efa\",\"#EF553B\",\"#00cc96\",\"#ab63fa\",\"#FFA15A\",\"#19d3f3\",\"#FF6692\",\"#B6E880\",\"#FF97FF\",\"#FECB52\"],\"font\":{\"color\":\"#2a3f5f\"},\"geo\":{\"bgcolor\":\"white\",\"lakecolor\":\"white\",\"landcolor\":\"#E5ECF6\",\"showlakes\":true,\"showland\":true,\"subunitcolor\":\"white\"},\"hoverlabel\":{\"align\":\"left\"},\"hovermode\":\"closest\",\"mapbox\":{\"style\":\"light\"},\"paper_bgcolor\":\"white\",\"plot_bgcolor\":\"#E5ECF6\",\"polar\":{\"angularaxis\":{\"gridcolor\":\"white\",\"linecolor\":\"white\",\"ticks\":\"\"},\"bgcolor\":\"#E5ECF6\",\"radialaxis\":{\"gridcolor\":\"white\",\"linecolor\":\"white\",\"ticks\":\"\"}},\"scene\":{\"xaxis\":{\"backgroundcolor\":\"#E5ECF6\",\"gridcolor\":\"white\",\"gridwidth\":2,\"linecolor\":\"white\",\"showbackground\":true,\"ticks\":\"\",\"zerolinecolor\":\"white\"},\"yaxis\":{\"backgroundcolor\":\"#E5ECF6\",\"gridcolor\":\"white\",\"gridwidth\":2,\"linecolor\":\"white\",\"showbackground\":true,\"ticks\":\"\",\"zerolinecolor\":\"white\"},\"zaxis\":{\"backgroundcolor\":\"#E5ECF6\",\"gridcolor\":\"white\",\"gridwidth\":2,\"linecolor\":\"white\",\"showbackground\":true,\"ticks\":\"\",\"zerolinecolor\":\"white\"}},\"shapedefaults\":{\"line\":{\"color\":\"#2a3f5f\"}},\"ternary\":{\"aaxis\":{\"gridcolor\":\"white\",\"linecolor\":\"white\",\"ticks\":\"\"},\"baxis\":{\"gridcolor\":\"white\",\"linecolor\":\"white\",\"ticks\":\"\"},\"bgcolor\":\"#E5ECF6\",\"caxis\":{\"gridcolor\":\"white\",\"linecolor\":\"white\",\"ticks\":\"\"}},\"title\":{\"x\":0.05},\"xaxis\":{\"automargin\":true,\"gridcolor\":\"white\",\"linecolor\":\"white\",\"ticks\":\"\",\"title\":{\"standoff\":15},\"zerolinecolor\":\"white\",\"zerolinewidth\":2},\"yaxis\":{\"automargin\":true,\"gridcolor\":\"white\",\"linecolor\":\"white\",\"ticks\":\"\",\"title\":{\"standoff\":15},\"zerolinecolor\":\"white\",\"zerolinewidth\":2}}},\"title\":{\"font\":{\"color\":\"#4D5663\"}},\"xaxis\":{\"gridcolor\":\"#E1E5ED\",\"showgrid\":true,\"tickfont\":{\"color\":\"#4D5663\"},\"title\":{\"font\":{\"color\":\"#4D5663\"},\"text\":\"\"},\"zerolinecolor\":\"#E1E5ED\"},\"yaxis\":{\"gridcolor\":\"#E1E5ED\",\"showgrid\":true,\"tickfont\":{\"color\":\"#4D5663\"},\"title\":{\"font\":{\"color\":\"#4D5663\"},\"text\":\"\"},\"zerolinecolor\":\"#E1E5ED\"}},                        {\"showLink\": true, \"linkText\": \"Export to plot.ly\", \"plotlyServerURL\": \"https://plot.ly\", \"responsive\": true}                    ).then(function(){\n",
       "                            \n",
       "var gd = document.getElementById('99bc3feb-7a28-493c-878c-06724bd48155');\n",
       "var x = new MutationObserver(function (mutations, observer) {{\n",
       "        var display = window.getComputedStyle(gd).display;\n",
       "        if (!display || display === 'none') {{\n",
       "            console.log([gd, 'removed!']);\n",
       "            Plotly.purge(gd);\n",
       "            observer.disconnect();\n",
       "        }}\n",
       "}});\n",
       "\n",
       "// Listen for the removal of the full notebook cells\n",
       "var notebookContainer = gd.closest('#notebook-container');\n",
       "if (notebookContainer) {{\n",
       "    x.observe(notebookContainer, {childList: true});\n",
       "}}\n",
       "\n",
       "// Listen for the clearing of the current output cell\n",
       "var outputEl = gd.closest('.output');\n",
       "if (outputEl) {{\n",
       "    x.observe(outputEl, {childList: true});\n",
       "}}\n",
       "\n",
       "                        })                };                });            </script>        </div>"
      ]
     },
     "metadata": {},
     "output_type": "display_data"
    }
   ],
   "source": [
    "df4.iplot(kind = 'surface', colorscale = 'rdylbu')"
   ]
  },
  {
   "cell_type": "code",
   "execution_count": 71,
   "metadata": {},
   "outputs": [
    {
     "name": "stderr",
     "output_type": "stream",
     "text": [
      "/home/ardent/.local/lib/python3.10/site-packages/cufflinks/plotlytools.py:849: FutureWarning:\n",
      "\n",
      "The pandas.np module is deprecated and will be removed from pandas in a future version. Import numpy directly instead.\n",
      "\n",
      "/home/ardent/.local/lib/python3.10/site-packages/cufflinks/plotlytools.py:850: FutureWarning:\n",
      "\n",
      "The pandas.np module is deprecated and will be removed from pandas in a future version. Import numpy directly instead.\n",
      "\n"
     ]
    },
    {
     "data": {
      "application/vnd.plotly.v1+json": {
       "config": {
        "linkText": "Export to plot.ly",
        "plotlyServerURL": "https://plot.ly",
        "showLink": true
       },
       "data": [
        {
         "line": {
          "color": "rgba(255, 153, 51, 1.0)",
          "dash": "solid",
          "shape": "linear",
          "width": 1.3
         },
         "mode": "lines",
         "name": "Sin",
         "text": "",
         "type": "scatter",
         "x": [
          0,
          1,
          2,
          3,
          4,
          5,
          6,
          7,
          8,
          9,
          10,
          11,
          12,
          13,
          14,
          15,
          16,
          17,
          18,
          19,
          20,
          21,
          22,
          23,
          24,
          25,
          26,
          27,
          28,
          29,
          30,
          31,
          32,
          33,
          34,
          35,
          36,
          37,
          38,
          39,
          40,
          41,
          42,
          43,
          44,
          45,
          46,
          47,
          48,
          49,
          50,
          51,
          52,
          53,
          54,
          55,
          56,
          57,
          58,
          59,
          60,
          61,
          62,
          63,
          64,
          65,
          66,
          67,
          68,
          69,
          70,
          71,
          72,
          73,
          74,
          75,
          76,
          77,
          78,
          79,
          80,
          81,
          82,
          83,
          84,
          85,
          86,
          87,
          88,
          89
         ],
         "y": [
          0,
          0.0112361914866269,
          0.022473801878403855,
          0.033714251693908764,
          0.04495896468367527,
          0.05620936945895234,
          0.06746690113589068,
          0.07873300300044773,
          0.09000912819943202,
          0.10129674146327317,
          0.1125973208663049,
          0.12391235963058865,
          0.13524336797958683,
          0.14659187504832139,
          0.15795943085702643,
          0.16934760835573082,
          0.1807580055476887,
          0.19219224770012275,
          0.20365198965135825,
          0.215138918224118,
          0.2266547547555229,
          0.23820125775521336,
          0.24978022570398173,
          0.2613935000063999,
          0.27304296811215273,
          0.28473056682216413,
          0.2964582857971484,
          0.3082281712879565,
          0.32004233010904215,
          0.33190293387857434,
          0.34381222355120905,
          0.3557725142723405,
          0.3677862005858299,
          0.3798557620308144,
          0.39198376916729405,
          0.40417289007485274,
          0.4164258973741852,
          0.4287456758271806,
          0.4411352305782735,
          0.4535976961077717,
          0.4661363459770773,
          0.47875460345634724,
          0.4914560531374482,
          0.504244453649345,
          0.5171237516096979,
          0.5300980969658786,
          0.5431718599013835,
          0.5563496495104033,
          0.5696363344749001,
          0.5830370660159788,
          0.5965573034358364,
          0.61020284261971,
          0.6239798479309642,
          0.6378948880091925,
          0.6519549760740968,
          0.6661676154508613,
          0.6805408511708586,
          0.6950833286713374,
          0.7098043608277433,
          0.7247140048136596,
          0.7398231506107062,
          0.755143623403672,
          0.7706883026209326,
          0.7864712610524651,
          0.8025079283462659,
          0.8188152843163157,
          0.8354120889860214,
          0.8523191582746295,
          0.8695596969035138,
          0.8871597037363116,
          0.9051484697893567,
          0.9235591961869238,
          0.9424297693582019,
          0.9618037453001346,
          0.9817316162040961,
          1.0022724651873682,
          1.0234961651001602,
          1.0454863573258042,
          1.0683445778033418,
          1.0921961211202902,
          1.1171986306871249,
          1.1435551442229095,
          1.1715347916796035,
          1.2015074685364107,
          1.2340060985622072,
          1.2698492479239765,
          1.3104160047012863,
          1.3583977269954215,
          1.420749271217941,
          1.5707963267948966
         ]
        },
        {
         "line": {
          "color": "rgba(55, 128, 191, 1.0)",
          "dash": "solid",
          "shape": "linear",
          "width": 1.3
         },
         "mode": "lines",
         "name": "Cos",
         "text": "",
         "type": "scatter",
         "x": [
          0,
          1,
          2,
          3,
          4,
          5,
          6,
          7,
          8,
          9,
          10,
          11,
          12,
          13,
          14,
          15,
          16,
          17,
          18,
          19,
          20,
          21,
          22,
          23,
          24,
          25,
          26,
          27,
          28,
          29,
          30,
          31,
          32,
          33,
          34,
          35,
          36,
          37,
          38,
          39,
          40,
          41,
          42,
          43,
          44,
          45,
          46,
          47,
          48,
          49,
          50,
          51,
          52,
          53,
          54,
          55,
          56,
          57,
          58,
          59,
          60,
          61,
          62,
          63,
          64,
          65,
          66,
          67,
          68,
          69,
          70,
          71,
          72,
          73,
          74,
          75,
          76,
          77,
          78,
          79,
          80,
          81,
          82,
          83,
          84,
          85,
          86,
          87,
          88,
          89
         ],
         "y": [
          1.5707963267948966,
          1.5595601353082698,
          1.5483225249164927,
          1.537082075100988,
          1.5258373621112213,
          1.5145869573359443,
          1.503329425659006,
          1.492063323794449,
          1.4807871985954646,
          1.4694995853316235,
          1.4581990059285916,
          1.446883967164308,
          1.4355529588153098,
          1.4242044517465753,
          1.41283689593787,
          1.4014487184391657,
          1.3900383212472078,
          1.3786040790947738,
          1.3671443371435383,
          1.3556574085707787,
          1.3441415720393737,
          1.3325950690396833,
          1.321016101090915,
          1.3094028267884967,
          1.2977533586827439,
          1.2860657599727325,
          1.2743380409977483,
          1.2625681555069401,
          1.2507539966858545,
          1.2388933929163224,
          1.2269841032436877,
          1.215023812522556,
          1.2030101262090667,
          1.1909405647640823,
          1.1788125576276025,
          1.1666234367200439,
          1.1543704294207113,
          1.142050650967716,
          1.1296610962166231,
          1.1171986306871249,
          1.1046599808178192,
          1.0920417233385493,
          1.0793402736574484,
          1.0665518731455517,
          1.0536725751851987,
          1.040698229829018,
          1.027624466893513,
          1.0144466772844933,
          1.0011599923199965,
          0.9877592607789177,
          0.9742390233590602,
          0.9605934841751865,
          0.9468164788639325,
          0.9329014387857041,
          0.9188413507207999,
          0.9046287113440353,
          0.8902554756240381,
          0.8757129981235592,
          0.8609919659671533,
          0.8460823219812371,
          0.8309731761841903,
          0.8156527033912246,
          0.800108024173964,
          0.7843250657424314,
          0.7682883984486306,
          0.751981042478581,
          0.7353842378088752,
          0.7184771685202672,
          0.7012366298913829,
          0.6836366230585851,
          0.6656478570055399,
          0.6472371306079728,
          0.6283665574366947,
          0.608992581494762,
          0.5890647105908006,
          0.5685238616075284,
          0.5473001616947364,
          0.5253099694690924,
          0.5024517489915548,
          0.47860020567460654,
          0.4535976961077718,
          0.42724118257198707,
          0.3992615351152931,
          0.36928885825848606,
          0.33679022823268945,
          0.30094707887092004,
          0.2603803220936104,
          0.21239859979947517,
          0.15004705557695563,
          0
         ]
        },
        {
         "connectgaps": false,
         "fill": "tozeroy",
         "line": {
          "color": "green",
          "dash": "solid",
          "shape": "linear",
          "width": 0.5
         },
         "mode": "lines",
         "name": "Spread",
         "showlegend": false,
         "type": "scatter",
         "x": [
          0,
          1,
          2,
          3,
          4,
          5,
          6,
          7,
          8,
          9,
          10,
          11,
          12,
          13,
          14,
          15,
          16,
          17,
          18,
          19,
          20,
          21,
          22,
          23,
          24,
          25,
          26,
          27,
          28,
          29,
          30,
          31,
          32,
          33,
          34,
          35,
          36,
          37,
          38,
          39,
          40,
          41,
          42,
          43,
          44,
          45,
          46,
          47,
          48,
          49,
          50,
          51,
          52,
          53,
          54,
          55,
          56,
          57,
          58,
          59,
          60,
          61,
          62,
          63,
          64,
          65,
          66,
          67,
          68,
          69,
          70,
          71,
          72,
          73,
          74,
          75,
          76,
          77,
          78,
          79,
          80,
          81,
          82,
          83,
          84,
          85,
          86,
          87,
          88,
          89
         ],
         "xaxis": "x2",
         "y": [
          "",
          "",
          "",
          "",
          "",
          "",
          "",
          "",
          "",
          "",
          "",
          "",
          "",
          "",
          "",
          "",
          "",
          "",
          "",
          "",
          "",
          "",
          "",
          "",
          "",
          "",
          "",
          "",
          "",
          "",
          "",
          "",
          "",
          "",
          "",
          "",
          "",
          "",
          "",
          "",
          "",
          "",
          "",
          "",
          "",
          "",
          "",
          "",
          "",
          "",
          "",
          "",
          "",
          "",
          "",
          "",
          "",
          "",
          "",
          "",
          "",
          "",
          "",
          0.002146195310033683,
          0.034219529897635326,
          0.06683424183773468,
          0.10002785117714619,
          0.13384198975436223,
          0.16832306701213084,
          0.2035230806777265,
          0.23950061278381685,
          0.276322065578951,
          0.3140632119215072,
          0.3528111638053726,
          0.39266690561329554,
          0.4337486035798398,
          0.4761960034054238,
          0.5201763878567118,
          0.565892828811787,
          0.6135959154456836,
          0.6636009345793531,
          0.7163139616509224,
          0.7722732565643105,
          0.8322186102779245,
          0.8972158703295178,
          0.9689021690530564,
          1.050035682607676,
          1.1459991271959464,
          1.2707022156409855,
          1.5707963267948966
         ],
         "yaxis": "y2"
        },
        {
         "connectgaps": false,
         "fill": "tozeroy",
         "line": {
          "color": "red",
          "dash": "solid",
          "shape": "linear",
          "width": 0.5
         },
         "mode": "lines",
         "name": "Spread",
         "showlegend": false,
         "type": "scatter",
         "x": [
          0,
          1,
          2,
          3,
          4,
          5,
          6,
          7,
          8,
          9,
          10,
          11,
          12,
          13,
          14,
          15,
          16,
          17,
          18,
          19,
          20,
          21,
          22,
          23,
          24,
          25,
          26,
          27,
          28,
          29,
          30,
          31,
          32,
          33,
          34,
          35,
          36,
          37,
          38,
          39,
          40,
          41,
          42,
          43,
          44,
          45,
          46,
          47,
          48,
          49,
          50,
          51,
          52,
          53,
          54,
          55,
          56,
          57,
          58,
          59,
          60,
          61,
          62,
          63,
          64,
          65,
          66,
          67,
          68,
          69,
          70,
          71,
          72,
          73,
          74,
          75,
          76,
          77,
          78,
          79,
          80,
          81,
          82,
          83,
          84,
          85,
          86,
          87,
          88,
          89
         ],
         "xaxis": "x2",
         "y": [
          -1.5707963267948966,
          -1.548323943821643,
          -1.5258487230380888,
          -1.503367823407079,
          -1.4808783974275461,
          -1.458377587876992,
          -1.4358625245231154,
          -1.4133303207940011,
          -1.3907780703960326,
          -1.3682028438683504,
          -1.3456016850622867,
          -1.3229716075337192,
          -1.300309590835723,
          -1.277612576698254,
          -1.2548774650808436,
          -1.232101110083435,
          -1.209280315699519,
          -1.186411831394651,
          -1.1634923474921801,
          -1.1405184903466608,
          -1.1174868172838508,
          -1.09439381128447,
          -1.0712358753869333,
          -1.048009326782097,
          -1.0247103905705912,
          -1.0013351931505685,
          -0.9778797552005999,
          -0.9543399842189837,
          -0.9307116665768124,
          -0.906990459037748,
          -0.8831718796924786,
          -0.8592512982502156,
          -0.8352239256232368,
          -0.8110848027332679,
          -0.7868287884603085,
          -0.7624505466451912,
          -0.7379445320465261,
          -0.7133049751405354,
          -0.6885258656383497,
          -0.6636009345793532,
          -0.6385236348407419,
          -0.6132871198822021,
          -0.5878842205200002,
          -0.5623074194962067,
          -0.5365488235755008,
          -0.5106001328631393,
          -0.48445260699212955,
          -0.45809702777409,
          -0.4315236578450964,
          -0.4047221947629389,
          -0.37768171992322386,
          -0.3503906415554765,
          -0.3228366309329683,
          -0.2950065507765116,
          -0.26688637464670306,
          -0.238461095893174,
          -0.20971462445317945,
          -0.1806296694522218,
          -0.15118760513941,
          -0.12136831716757757,
          -0.09115002557348406,
          -0.060509079987552616,
          -0.029419721553031408,
          "",
          "",
          "",
          "",
          "",
          "",
          "",
          "",
          "",
          "",
          "",
          "",
          "",
          "",
          "",
          "",
          "",
          "",
          "",
          "",
          "",
          "",
          "",
          "",
          "",
          "",
          ""
         ],
         "yaxis": "y2"
        }
       ],
       "layout": {
        "hovermode": "x",
        "legend": {
         "bgcolor": "#F5F6F9",
         "font": {
          "color": "#4D5663"
         }
        },
        "paper_bgcolor": "#F5F6F9",
        "plot_bgcolor": "#F5F6F9",
        "template": {
         "data": {
          "bar": [
           {
            "error_x": {
             "color": "#2a3f5f"
            },
            "error_y": {
             "color": "#2a3f5f"
            },
            "marker": {
             "line": {
              "color": "#E5ECF6",
              "width": 0.5
             },
             "pattern": {
              "fillmode": "overlay",
              "size": 10,
              "solidity": 0.2
             }
            },
            "type": "bar"
           }
          ],
          "barpolar": [
           {
            "marker": {
             "line": {
              "color": "#E5ECF6",
              "width": 0.5
             },
             "pattern": {
              "fillmode": "overlay",
              "size": 10,
              "solidity": 0.2
             }
            },
            "type": "barpolar"
           }
          ],
          "carpet": [
           {
            "aaxis": {
             "endlinecolor": "#2a3f5f",
             "gridcolor": "white",
             "linecolor": "white",
             "minorgridcolor": "white",
             "startlinecolor": "#2a3f5f"
            },
            "baxis": {
             "endlinecolor": "#2a3f5f",
             "gridcolor": "white",
             "linecolor": "white",
             "minorgridcolor": "white",
             "startlinecolor": "#2a3f5f"
            },
            "type": "carpet"
           }
          ],
          "choropleth": [
           {
            "colorbar": {
             "outlinewidth": 0,
             "ticks": ""
            },
            "type": "choropleth"
           }
          ],
          "contour": [
           {
            "colorbar": {
             "outlinewidth": 0,
             "ticks": ""
            },
            "colorscale": [
             [
              0,
              "#0d0887"
             ],
             [
              0.1111111111111111,
              "#46039f"
             ],
             [
              0.2222222222222222,
              "#7201a8"
             ],
             [
              0.3333333333333333,
              "#9c179e"
             ],
             [
              0.4444444444444444,
              "#bd3786"
             ],
             [
              0.5555555555555556,
              "#d8576b"
             ],
             [
              0.6666666666666666,
              "#ed7953"
             ],
             [
              0.7777777777777778,
              "#fb9f3a"
             ],
             [
              0.8888888888888888,
              "#fdca26"
             ],
             [
              1,
              "#f0f921"
             ]
            ],
            "type": "contour"
           }
          ],
          "contourcarpet": [
           {
            "colorbar": {
             "outlinewidth": 0,
             "ticks": ""
            },
            "type": "contourcarpet"
           }
          ],
          "heatmap": [
           {
            "colorbar": {
             "outlinewidth": 0,
             "ticks": ""
            },
            "colorscale": [
             [
              0,
              "#0d0887"
             ],
             [
              0.1111111111111111,
              "#46039f"
             ],
             [
              0.2222222222222222,
              "#7201a8"
             ],
             [
              0.3333333333333333,
              "#9c179e"
             ],
             [
              0.4444444444444444,
              "#bd3786"
             ],
             [
              0.5555555555555556,
              "#d8576b"
             ],
             [
              0.6666666666666666,
              "#ed7953"
             ],
             [
              0.7777777777777778,
              "#fb9f3a"
             ],
             [
              0.8888888888888888,
              "#fdca26"
             ],
             [
              1,
              "#f0f921"
             ]
            ],
            "type": "heatmap"
           }
          ],
          "heatmapgl": [
           {
            "colorbar": {
             "outlinewidth": 0,
             "ticks": ""
            },
            "colorscale": [
             [
              0,
              "#0d0887"
             ],
             [
              0.1111111111111111,
              "#46039f"
             ],
             [
              0.2222222222222222,
              "#7201a8"
             ],
             [
              0.3333333333333333,
              "#9c179e"
             ],
             [
              0.4444444444444444,
              "#bd3786"
             ],
             [
              0.5555555555555556,
              "#d8576b"
             ],
             [
              0.6666666666666666,
              "#ed7953"
             ],
             [
              0.7777777777777778,
              "#fb9f3a"
             ],
             [
              0.8888888888888888,
              "#fdca26"
             ],
             [
              1,
              "#f0f921"
             ]
            ],
            "type": "heatmapgl"
           }
          ],
          "histogram": [
           {
            "marker": {
             "pattern": {
              "fillmode": "overlay",
              "size": 10,
              "solidity": 0.2
             }
            },
            "type": "histogram"
           }
          ],
          "histogram2d": [
           {
            "colorbar": {
             "outlinewidth": 0,
             "ticks": ""
            },
            "colorscale": [
             [
              0,
              "#0d0887"
             ],
             [
              0.1111111111111111,
              "#46039f"
             ],
             [
              0.2222222222222222,
              "#7201a8"
             ],
             [
              0.3333333333333333,
              "#9c179e"
             ],
             [
              0.4444444444444444,
              "#bd3786"
             ],
             [
              0.5555555555555556,
              "#d8576b"
             ],
             [
              0.6666666666666666,
              "#ed7953"
             ],
             [
              0.7777777777777778,
              "#fb9f3a"
             ],
             [
              0.8888888888888888,
              "#fdca26"
             ],
             [
              1,
              "#f0f921"
             ]
            ],
            "type": "histogram2d"
           }
          ],
          "histogram2dcontour": [
           {
            "colorbar": {
             "outlinewidth": 0,
             "ticks": ""
            },
            "colorscale": [
             [
              0,
              "#0d0887"
             ],
             [
              0.1111111111111111,
              "#46039f"
             ],
             [
              0.2222222222222222,
              "#7201a8"
             ],
             [
              0.3333333333333333,
              "#9c179e"
             ],
             [
              0.4444444444444444,
              "#bd3786"
             ],
             [
              0.5555555555555556,
              "#d8576b"
             ],
             [
              0.6666666666666666,
              "#ed7953"
             ],
             [
              0.7777777777777778,
              "#fb9f3a"
             ],
             [
              0.8888888888888888,
              "#fdca26"
             ],
             [
              1,
              "#f0f921"
             ]
            ],
            "type": "histogram2dcontour"
           }
          ],
          "mesh3d": [
           {
            "colorbar": {
             "outlinewidth": 0,
             "ticks": ""
            },
            "type": "mesh3d"
           }
          ],
          "parcoords": [
           {
            "line": {
             "colorbar": {
              "outlinewidth": 0,
              "ticks": ""
             }
            },
            "type": "parcoords"
           }
          ],
          "pie": [
           {
            "automargin": true,
            "type": "pie"
           }
          ],
          "scatter": [
           {
            "fillpattern": {
             "fillmode": "overlay",
             "size": 10,
             "solidity": 0.2
            },
            "type": "scatter"
           }
          ],
          "scatter3d": [
           {
            "line": {
             "colorbar": {
              "outlinewidth": 0,
              "ticks": ""
             }
            },
            "marker": {
             "colorbar": {
              "outlinewidth": 0,
              "ticks": ""
             }
            },
            "type": "scatter3d"
           }
          ],
          "scattercarpet": [
           {
            "marker": {
             "colorbar": {
              "outlinewidth": 0,
              "ticks": ""
             }
            },
            "type": "scattercarpet"
           }
          ],
          "scattergeo": [
           {
            "marker": {
             "colorbar": {
              "outlinewidth": 0,
              "ticks": ""
             }
            },
            "type": "scattergeo"
           }
          ],
          "scattergl": [
           {
            "marker": {
             "colorbar": {
              "outlinewidth": 0,
              "ticks": ""
             }
            },
            "type": "scattergl"
           }
          ],
          "scattermapbox": [
           {
            "marker": {
             "colorbar": {
              "outlinewidth": 0,
              "ticks": ""
             }
            },
            "type": "scattermapbox"
           }
          ],
          "scatterpolar": [
           {
            "marker": {
             "colorbar": {
              "outlinewidth": 0,
              "ticks": ""
             }
            },
            "type": "scatterpolar"
           }
          ],
          "scatterpolargl": [
           {
            "marker": {
             "colorbar": {
              "outlinewidth": 0,
              "ticks": ""
             }
            },
            "type": "scatterpolargl"
           }
          ],
          "scatterternary": [
           {
            "marker": {
             "colorbar": {
              "outlinewidth": 0,
              "ticks": ""
             }
            },
            "type": "scatterternary"
           }
          ],
          "surface": [
           {
            "colorbar": {
             "outlinewidth": 0,
             "ticks": ""
            },
            "colorscale": [
             [
              0,
              "#0d0887"
             ],
             [
              0.1111111111111111,
              "#46039f"
             ],
             [
              0.2222222222222222,
              "#7201a8"
             ],
             [
              0.3333333333333333,
              "#9c179e"
             ],
             [
              0.4444444444444444,
              "#bd3786"
             ],
             [
              0.5555555555555556,
              "#d8576b"
             ],
             [
              0.6666666666666666,
              "#ed7953"
             ],
             [
              0.7777777777777778,
              "#fb9f3a"
             ],
             [
              0.8888888888888888,
              "#fdca26"
             ],
             [
              1,
              "#f0f921"
             ]
            ],
            "type": "surface"
           }
          ],
          "table": [
           {
            "cells": {
             "fill": {
              "color": "#EBF0F8"
             },
             "line": {
              "color": "white"
             }
            },
            "header": {
             "fill": {
              "color": "#C8D4E3"
             },
             "line": {
              "color": "white"
             }
            },
            "type": "table"
           }
          ]
         },
         "layout": {
          "annotationdefaults": {
           "arrowcolor": "#2a3f5f",
           "arrowhead": 0,
           "arrowwidth": 1
          },
          "autotypenumbers": "strict",
          "coloraxis": {
           "colorbar": {
            "outlinewidth": 0,
            "ticks": ""
           }
          },
          "colorscale": {
           "diverging": [
            [
             0,
             "#8e0152"
            ],
            [
             0.1,
             "#c51b7d"
            ],
            [
             0.2,
             "#de77ae"
            ],
            [
             0.3,
             "#f1b6da"
            ],
            [
             0.4,
             "#fde0ef"
            ],
            [
             0.5,
             "#f7f7f7"
            ],
            [
             0.6,
             "#e6f5d0"
            ],
            [
             0.7,
             "#b8e186"
            ],
            [
             0.8,
             "#7fbc41"
            ],
            [
             0.9,
             "#4d9221"
            ],
            [
             1,
             "#276419"
            ]
           ],
           "sequential": [
            [
             0,
             "#0d0887"
            ],
            [
             0.1111111111111111,
             "#46039f"
            ],
            [
             0.2222222222222222,
             "#7201a8"
            ],
            [
             0.3333333333333333,
             "#9c179e"
            ],
            [
             0.4444444444444444,
             "#bd3786"
            ],
            [
             0.5555555555555556,
             "#d8576b"
            ],
            [
             0.6666666666666666,
             "#ed7953"
            ],
            [
             0.7777777777777778,
             "#fb9f3a"
            ],
            [
             0.8888888888888888,
             "#fdca26"
            ],
            [
             1,
             "#f0f921"
            ]
           ],
           "sequentialminus": [
            [
             0,
             "#0d0887"
            ],
            [
             0.1111111111111111,
             "#46039f"
            ],
            [
             0.2222222222222222,
             "#7201a8"
            ],
            [
             0.3333333333333333,
             "#9c179e"
            ],
            [
             0.4444444444444444,
             "#bd3786"
            ],
            [
             0.5555555555555556,
             "#d8576b"
            ],
            [
             0.6666666666666666,
             "#ed7953"
            ],
            [
             0.7777777777777778,
             "#fb9f3a"
            ],
            [
             0.8888888888888888,
             "#fdca26"
            ],
            [
             1,
             "#f0f921"
            ]
           ]
          },
          "colorway": [
           "#636efa",
           "#EF553B",
           "#00cc96",
           "#ab63fa",
           "#FFA15A",
           "#19d3f3",
           "#FF6692",
           "#B6E880",
           "#FF97FF",
           "#FECB52"
          ],
          "font": {
           "color": "#2a3f5f"
          },
          "geo": {
           "bgcolor": "white",
           "lakecolor": "white",
           "landcolor": "#E5ECF6",
           "showlakes": true,
           "showland": true,
           "subunitcolor": "white"
          },
          "hoverlabel": {
           "align": "left"
          },
          "hovermode": "closest",
          "mapbox": {
           "style": "light"
          },
          "paper_bgcolor": "white",
          "plot_bgcolor": "#E5ECF6",
          "polar": {
           "angularaxis": {
            "gridcolor": "white",
            "linecolor": "white",
            "ticks": ""
           },
           "bgcolor": "#E5ECF6",
           "radialaxis": {
            "gridcolor": "white",
            "linecolor": "white",
            "ticks": ""
           }
          },
          "scene": {
           "xaxis": {
            "backgroundcolor": "#E5ECF6",
            "gridcolor": "white",
            "gridwidth": 2,
            "linecolor": "white",
            "showbackground": true,
            "ticks": "",
            "zerolinecolor": "white"
           },
           "yaxis": {
            "backgroundcolor": "#E5ECF6",
            "gridcolor": "white",
            "gridwidth": 2,
            "linecolor": "white",
            "showbackground": true,
            "ticks": "",
            "zerolinecolor": "white"
           },
           "zaxis": {
            "backgroundcolor": "#E5ECF6",
            "gridcolor": "white",
            "gridwidth": 2,
            "linecolor": "white",
            "showbackground": true,
            "ticks": "",
            "zerolinecolor": "white"
           }
          },
          "shapedefaults": {
           "line": {
            "color": "#2a3f5f"
           }
          },
          "ternary": {
           "aaxis": {
            "gridcolor": "white",
            "linecolor": "white",
            "ticks": ""
           },
           "baxis": {
            "gridcolor": "white",
            "linecolor": "white",
            "ticks": ""
           },
           "bgcolor": "#E5ECF6",
           "caxis": {
            "gridcolor": "white",
            "linecolor": "white",
            "ticks": ""
           }
          },
          "title": {
           "x": 0.05
          },
          "xaxis": {
           "automargin": true,
           "gridcolor": "white",
           "linecolor": "white",
           "ticks": "",
           "title": {
            "standoff": 15
           },
           "zerolinecolor": "white",
           "zerolinewidth": 2
          },
          "yaxis": {
           "automargin": true,
           "gridcolor": "white",
           "linecolor": "white",
           "ticks": "",
           "title": {
            "standoff": 15
           },
           "zerolinecolor": "white",
           "zerolinewidth": 2
          }
         }
        },
        "title": {
         "font": {
          "color": "#4D5663"
         }
        },
        "xaxis": {
         "gridcolor": "#E1E5ED",
         "showgrid": true,
         "tickfont": {
          "color": "#4D5663"
         },
         "title": {
          "font": {
           "color": "#4D5663"
          },
          "text": ""
         },
         "zerolinecolor": "#E1E5ED"
        },
        "xaxis2": {
         "anchor": "y2",
         "gridcolor": "#E1E5ED",
         "showgrid": true,
         "showticklabels": false,
         "tickfont": {
          "color": "#4D5663"
         },
         "title": {
          "font": {
           "color": "#4D5663"
          },
          "text": ""
         },
         "zerolinecolor": "#E1E5ED"
        },
        "yaxis": {
         "domain": [
          0.3,
          1
         ],
         "gridcolor": "#E1E5ED",
         "showgrid": true,
         "tickfont": {
          "color": "#4D5663"
         },
         "title": {
          "font": {
           "color": "#4D5663"
          },
          "text": ""
         },
         "zerolinecolor": "#E1E5ED"
        },
        "yaxis2": {
         "domain": [
          0,
          0.25
         ],
         "gridcolor": "#E1E5ED",
         "showgrid": true,
         "tickfont": {
          "color": "#4D5663"
         },
         "title": {
          "font": {
           "color": "#4D5663"
          },
          "text": "Spread"
         },
         "zerolinecolor": "#E1E5ED"
        }
       }
      },
      "text/html": [
       "<div>                            <div id=\"3faca23e-ede6-422f-8519-6508e206dac4\" class=\"plotly-graph-div\" style=\"height:525px; width:100%;\"></div>            <script type=\"text/javascript\">                require([\"plotly\"], function(Plotly) {                    window.PLOTLYENV=window.PLOTLYENV || {};\n",
       "                    window.PLOTLYENV.BASE_URL='https://plot.ly';                                    if (document.getElementById(\"3faca23e-ede6-422f-8519-6508e206dac4\")) {                    Plotly.newPlot(                        \"3faca23e-ede6-422f-8519-6508e206dac4\",                        [{\"line\":{\"color\":\"rgba(255, 153, 51, 1.0)\",\"dash\":\"solid\",\"shape\":\"linear\",\"width\":1.3},\"mode\":\"lines\",\"name\":\"Sin\",\"text\":\"\",\"x\":[0,1,2,3,4,5,6,7,8,9,10,11,12,13,14,15,16,17,18,19,20,21,22,23,24,25,26,27,28,29,30,31,32,33,34,35,36,37,38,39,40,41,42,43,44,45,46,47,48,49,50,51,52,53,54,55,56,57,58,59,60,61,62,63,64,65,66,67,68,69,70,71,72,73,74,75,76,77,78,79,80,81,82,83,84,85,86,87,88,89],\"y\":[0.0,0.0112361914866269,0.022473801878403855,0.033714251693908764,0.04495896468367527,0.05620936945895234,0.06746690113589068,0.07873300300044773,0.09000912819943202,0.10129674146327317,0.1125973208663049,0.12391235963058865,0.13524336797958683,0.14659187504832139,0.15795943085702643,0.16934760835573082,0.1807580055476887,0.19219224770012275,0.20365198965135825,0.215138918224118,0.2266547547555229,0.23820125775521336,0.24978022570398173,0.2613935000063999,0.27304296811215273,0.28473056682216413,0.2964582857971484,0.3082281712879565,0.32004233010904215,0.33190293387857434,0.34381222355120905,0.3557725142723405,0.3677862005858299,0.3798557620308144,0.39198376916729405,0.40417289007485274,0.4164258973741852,0.4287456758271806,0.4411352305782735,0.4535976961077717,0.4661363459770773,0.47875460345634724,0.4914560531374482,0.504244453649345,0.5171237516096979,0.5300980969658786,0.5431718599013835,0.5563496495104033,0.5696363344749001,0.5830370660159788,0.5965573034358364,0.61020284261971,0.6239798479309642,0.6378948880091925,0.6519549760740968,0.6661676154508613,0.6805408511708586,0.6950833286713374,0.7098043608277433,0.7247140048136596,0.7398231506107062,0.755143623403672,0.7706883026209326,0.7864712610524651,0.8025079283462659,0.8188152843163157,0.8354120889860214,0.8523191582746295,0.8695596969035138,0.8871597037363116,0.9051484697893567,0.9235591961869238,0.9424297693582019,0.9618037453001346,0.9817316162040961,1.0022724651873682,1.0234961651001602,1.0454863573258042,1.0683445778033418,1.0921961211202902,1.1171986306871249,1.1435551442229095,1.1715347916796035,1.2015074685364107,1.2340060985622072,1.2698492479239765,1.3104160047012863,1.3583977269954215,1.420749271217941,1.5707963267948966],\"type\":\"scatter\"},{\"line\":{\"color\":\"rgba(55, 128, 191, 1.0)\",\"dash\":\"solid\",\"shape\":\"linear\",\"width\":1.3},\"mode\":\"lines\",\"name\":\"Cos\",\"text\":\"\",\"x\":[0,1,2,3,4,5,6,7,8,9,10,11,12,13,14,15,16,17,18,19,20,21,22,23,24,25,26,27,28,29,30,31,32,33,34,35,36,37,38,39,40,41,42,43,44,45,46,47,48,49,50,51,52,53,54,55,56,57,58,59,60,61,62,63,64,65,66,67,68,69,70,71,72,73,74,75,76,77,78,79,80,81,82,83,84,85,86,87,88,89],\"y\":[1.5707963267948966,1.5595601353082698,1.5483225249164927,1.537082075100988,1.5258373621112213,1.5145869573359443,1.503329425659006,1.492063323794449,1.4807871985954646,1.4694995853316235,1.4581990059285916,1.446883967164308,1.4355529588153098,1.4242044517465753,1.41283689593787,1.4014487184391657,1.3900383212472078,1.3786040790947738,1.3671443371435383,1.3556574085707787,1.3441415720393737,1.3325950690396833,1.321016101090915,1.3094028267884967,1.2977533586827439,1.2860657599727325,1.2743380409977483,1.2625681555069401,1.2507539966858545,1.2388933929163224,1.2269841032436877,1.215023812522556,1.2030101262090667,1.1909405647640823,1.1788125576276025,1.1666234367200439,1.1543704294207113,1.142050650967716,1.1296610962166231,1.1171986306871249,1.1046599808178192,1.0920417233385493,1.0793402736574484,1.0665518731455517,1.0536725751851987,1.040698229829018,1.027624466893513,1.0144466772844933,1.0011599923199965,0.9877592607789177,0.9742390233590602,0.9605934841751865,0.9468164788639325,0.9329014387857041,0.9188413507207999,0.9046287113440353,0.8902554756240381,0.8757129981235592,0.8609919659671533,0.8460823219812371,0.8309731761841903,0.8156527033912246,0.800108024173964,0.7843250657424314,0.7682883984486306,0.751981042478581,0.7353842378088752,0.7184771685202672,0.7012366298913829,0.6836366230585851,0.6656478570055399,0.6472371306079728,0.6283665574366947,0.608992581494762,0.5890647105908006,0.5685238616075284,0.5473001616947364,0.5253099694690924,0.5024517489915548,0.47860020567460654,0.4535976961077718,0.42724118257198707,0.3992615351152931,0.36928885825848606,0.33679022823268945,0.30094707887092004,0.2603803220936104,0.21239859979947517,0.15004705557695563,0.0],\"type\":\"scatter\"},{\"connectgaps\":false,\"fill\":\"tozeroy\",\"line\":{\"color\":\"green\",\"dash\":\"solid\",\"shape\":\"linear\",\"width\":0.5},\"mode\":\"lines\",\"name\":\"Spread\",\"showlegend\":false,\"x\":[0,1,2,3,4,5,6,7,8,9,10,11,12,13,14,15,16,17,18,19,20,21,22,23,24,25,26,27,28,29,30,31,32,33,34,35,36,37,38,39,40,41,42,43,44,45,46,47,48,49,50,51,52,53,54,55,56,57,58,59,60,61,62,63,64,65,66,67,68,69,70,71,72,73,74,75,76,77,78,79,80,81,82,83,84,85,86,87,88,89],\"xaxis\":\"x2\",\"y\":[\"\",\"\",\"\",\"\",\"\",\"\",\"\",\"\",\"\",\"\",\"\",\"\",\"\",\"\",\"\",\"\",\"\",\"\",\"\",\"\",\"\",\"\",\"\",\"\",\"\",\"\",\"\",\"\",\"\",\"\",\"\",\"\",\"\",\"\",\"\",\"\",\"\",\"\",\"\",\"\",\"\",\"\",\"\",\"\",\"\",\"\",\"\",\"\",\"\",\"\",\"\",\"\",\"\",\"\",\"\",\"\",\"\",\"\",\"\",\"\",\"\",\"\",\"\",0.002146195310033683,0.034219529897635326,0.06683424183773468,0.10002785117714619,0.13384198975436223,0.16832306701213084,0.2035230806777265,0.23950061278381685,0.276322065578951,0.3140632119215072,0.3528111638053726,0.39266690561329554,0.4337486035798398,0.4761960034054238,0.5201763878567118,0.565892828811787,0.6135959154456836,0.6636009345793531,0.7163139616509224,0.7722732565643105,0.8322186102779245,0.8972158703295178,0.9689021690530564,1.050035682607676,1.1459991271959464,1.2707022156409855,1.5707963267948966],\"yaxis\":\"y2\",\"type\":\"scatter\"},{\"connectgaps\":false,\"fill\":\"tozeroy\",\"line\":{\"color\":\"red\",\"dash\":\"solid\",\"shape\":\"linear\",\"width\":0.5},\"mode\":\"lines\",\"name\":\"Spread\",\"showlegend\":false,\"x\":[0,1,2,3,4,5,6,7,8,9,10,11,12,13,14,15,16,17,18,19,20,21,22,23,24,25,26,27,28,29,30,31,32,33,34,35,36,37,38,39,40,41,42,43,44,45,46,47,48,49,50,51,52,53,54,55,56,57,58,59,60,61,62,63,64,65,66,67,68,69,70,71,72,73,74,75,76,77,78,79,80,81,82,83,84,85,86,87,88,89],\"xaxis\":\"x2\",\"y\":[-1.5707963267948966,-1.548323943821643,-1.5258487230380888,-1.503367823407079,-1.4808783974275461,-1.458377587876992,-1.4358625245231154,-1.4133303207940011,-1.3907780703960326,-1.3682028438683504,-1.3456016850622867,-1.3229716075337192,-1.300309590835723,-1.277612576698254,-1.2548774650808436,-1.232101110083435,-1.209280315699519,-1.186411831394651,-1.1634923474921801,-1.1405184903466608,-1.1174868172838508,-1.09439381128447,-1.0712358753869333,-1.048009326782097,-1.0247103905705912,-1.0013351931505685,-0.9778797552005999,-0.9543399842189837,-0.9307116665768124,-0.906990459037748,-0.8831718796924786,-0.8592512982502156,-0.8352239256232368,-0.8110848027332679,-0.7868287884603085,-0.7624505466451912,-0.7379445320465261,-0.7133049751405354,-0.6885258656383497,-0.6636009345793532,-0.6385236348407419,-0.6132871198822021,-0.5878842205200002,-0.5623074194962067,-0.5365488235755008,-0.5106001328631393,-0.48445260699212955,-0.45809702777409,-0.4315236578450964,-0.4047221947629389,-0.37768171992322386,-0.3503906415554765,-0.3228366309329683,-0.2950065507765116,-0.26688637464670306,-0.238461095893174,-0.20971462445317945,-0.1806296694522218,-0.15118760513941,-0.12136831716757757,-0.09115002557348406,-0.060509079987552616,-0.029419721553031408,\"\",\"\",\"\",\"\",\"\",\"\",\"\",\"\",\"\",\"\",\"\",\"\",\"\",\"\",\"\",\"\",\"\",\"\",\"\",\"\",\"\",\"\",\"\",\"\",\"\",\"\",\"\"],\"yaxis\":\"y2\",\"type\":\"scatter\"}],                        {\"hovermode\":\"x\",\"legend\":{\"bgcolor\":\"#F5F6F9\",\"font\":{\"color\":\"#4D5663\"}},\"paper_bgcolor\":\"#F5F6F9\",\"plot_bgcolor\":\"#F5F6F9\",\"template\":{\"data\":{\"barpolar\":[{\"marker\":{\"line\":{\"color\":\"#E5ECF6\",\"width\":0.5},\"pattern\":{\"fillmode\":\"overlay\",\"size\":10,\"solidity\":0.2}},\"type\":\"barpolar\"}],\"bar\":[{\"error_x\":{\"color\":\"#2a3f5f\"},\"error_y\":{\"color\":\"#2a3f5f\"},\"marker\":{\"line\":{\"color\":\"#E5ECF6\",\"width\":0.5},\"pattern\":{\"fillmode\":\"overlay\",\"size\":10,\"solidity\":0.2}},\"type\":\"bar\"}],\"carpet\":[{\"aaxis\":{\"endlinecolor\":\"#2a3f5f\",\"gridcolor\":\"white\",\"linecolor\":\"white\",\"minorgridcolor\":\"white\",\"startlinecolor\":\"#2a3f5f\"},\"baxis\":{\"endlinecolor\":\"#2a3f5f\",\"gridcolor\":\"white\",\"linecolor\":\"white\",\"minorgridcolor\":\"white\",\"startlinecolor\":\"#2a3f5f\"},\"type\":\"carpet\"}],\"choropleth\":[{\"colorbar\":{\"outlinewidth\":0,\"ticks\":\"\"},\"type\":\"choropleth\"}],\"contourcarpet\":[{\"colorbar\":{\"outlinewidth\":0,\"ticks\":\"\"},\"type\":\"contourcarpet\"}],\"contour\":[{\"colorbar\":{\"outlinewidth\":0,\"ticks\":\"\"},\"colorscale\":[[0.0,\"#0d0887\"],[0.1111111111111111,\"#46039f\"],[0.2222222222222222,\"#7201a8\"],[0.3333333333333333,\"#9c179e\"],[0.4444444444444444,\"#bd3786\"],[0.5555555555555556,\"#d8576b\"],[0.6666666666666666,\"#ed7953\"],[0.7777777777777778,\"#fb9f3a\"],[0.8888888888888888,\"#fdca26\"],[1.0,\"#f0f921\"]],\"type\":\"contour\"}],\"heatmapgl\":[{\"colorbar\":{\"outlinewidth\":0,\"ticks\":\"\"},\"colorscale\":[[0.0,\"#0d0887\"],[0.1111111111111111,\"#46039f\"],[0.2222222222222222,\"#7201a8\"],[0.3333333333333333,\"#9c179e\"],[0.4444444444444444,\"#bd3786\"],[0.5555555555555556,\"#d8576b\"],[0.6666666666666666,\"#ed7953\"],[0.7777777777777778,\"#fb9f3a\"],[0.8888888888888888,\"#fdca26\"],[1.0,\"#f0f921\"]],\"type\":\"heatmapgl\"}],\"heatmap\":[{\"colorbar\":{\"outlinewidth\":0,\"ticks\":\"\"},\"colorscale\":[[0.0,\"#0d0887\"],[0.1111111111111111,\"#46039f\"],[0.2222222222222222,\"#7201a8\"],[0.3333333333333333,\"#9c179e\"],[0.4444444444444444,\"#bd3786\"],[0.5555555555555556,\"#d8576b\"],[0.6666666666666666,\"#ed7953\"],[0.7777777777777778,\"#fb9f3a\"],[0.8888888888888888,\"#fdca26\"],[1.0,\"#f0f921\"]],\"type\":\"heatmap\"}],\"histogram2dcontour\":[{\"colorbar\":{\"outlinewidth\":0,\"ticks\":\"\"},\"colorscale\":[[0.0,\"#0d0887\"],[0.1111111111111111,\"#46039f\"],[0.2222222222222222,\"#7201a8\"],[0.3333333333333333,\"#9c179e\"],[0.4444444444444444,\"#bd3786\"],[0.5555555555555556,\"#d8576b\"],[0.6666666666666666,\"#ed7953\"],[0.7777777777777778,\"#fb9f3a\"],[0.8888888888888888,\"#fdca26\"],[1.0,\"#f0f921\"]],\"type\":\"histogram2dcontour\"}],\"histogram2d\":[{\"colorbar\":{\"outlinewidth\":0,\"ticks\":\"\"},\"colorscale\":[[0.0,\"#0d0887\"],[0.1111111111111111,\"#46039f\"],[0.2222222222222222,\"#7201a8\"],[0.3333333333333333,\"#9c179e\"],[0.4444444444444444,\"#bd3786\"],[0.5555555555555556,\"#d8576b\"],[0.6666666666666666,\"#ed7953\"],[0.7777777777777778,\"#fb9f3a\"],[0.8888888888888888,\"#fdca26\"],[1.0,\"#f0f921\"]],\"type\":\"histogram2d\"}],\"histogram\":[{\"marker\":{\"pattern\":{\"fillmode\":\"overlay\",\"size\":10,\"solidity\":0.2}},\"type\":\"histogram\"}],\"mesh3d\":[{\"colorbar\":{\"outlinewidth\":0,\"ticks\":\"\"},\"type\":\"mesh3d\"}],\"parcoords\":[{\"line\":{\"colorbar\":{\"outlinewidth\":0,\"ticks\":\"\"}},\"type\":\"parcoords\"}],\"pie\":[{\"automargin\":true,\"type\":\"pie\"}],\"scatter3d\":[{\"line\":{\"colorbar\":{\"outlinewidth\":0,\"ticks\":\"\"}},\"marker\":{\"colorbar\":{\"outlinewidth\":0,\"ticks\":\"\"}},\"type\":\"scatter3d\"}],\"scattercarpet\":[{\"marker\":{\"colorbar\":{\"outlinewidth\":0,\"ticks\":\"\"}},\"type\":\"scattercarpet\"}],\"scattergeo\":[{\"marker\":{\"colorbar\":{\"outlinewidth\":0,\"ticks\":\"\"}},\"type\":\"scattergeo\"}],\"scattergl\":[{\"marker\":{\"colorbar\":{\"outlinewidth\":0,\"ticks\":\"\"}},\"type\":\"scattergl\"}],\"scattermapbox\":[{\"marker\":{\"colorbar\":{\"outlinewidth\":0,\"ticks\":\"\"}},\"type\":\"scattermapbox\"}],\"scatterpolargl\":[{\"marker\":{\"colorbar\":{\"outlinewidth\":0,\"ticks\":\"\"}},\"type\":\"scatterpolargl\"}],\"scatterpolar\":[{\"marker\":{\"colorbar\":{\"outlinewidth\":0,\"ticks\":\"\"}},\"type\":\"scatterpolar\"}],\"scatter\":[{\"fillpattern\":{\"fillmode\":\"overlay\",\"size\":10,\"solidity\":0.2},\"type\":\"scatter\"}],\"scatterternary\":[{\"marker\":{\"colorbar\":{\"outlinewidth\":0,\"ticks\":\"\"}},\"type\":\"scatterternary\"}],\"surface\":[{\"colorbar\":{\"outlinewidth\":0,\"ticks\":\"\"},\"colorscale\":[[0.0,\"#0d0887\"],[0.1111111111111111,\"#46039f\"],[0.2222222222222222,\"#7201a8\"],[0.3333333333333333,\"#9c179e\"],[0.4444444444444444,\"#bd3786\"],[0.5555555555555556,\"#d8576b\"],[0.6666666666666666,\"#ed7953\"],[0.7777777777777778,\"#fb9f3a\"],[0.8888888888888888,\"#fdca26\"],[1.0,\"#f0f921\"]],\"type\":\"surface\"}],\"table\":[{\"cells\":{\"fill\":{\"color\":\"#EBF0F8\"},\"line\":{\"color\":\"white\"}},\"header\":{\"fill\":{\"color\":\"#C8D4E3\"},\"line\":{\"color\":\"white\"}},\"type\":\"table\"}]},\"layout\":{\"annotationdefaults\":{\"arrowcolor\":\"#2a3f5f\",\"arrowhead\":0,\"arrowwidth\":1},\"autotypenumbers\":\"strict\",\"coloraxis\":{\"colorbar\":{\"outlinewidth\":0,\"ticks\":\"\"}},\"colorscale\":{\"diverging\":[[0,\"#8e0152\"],[0.1,\"#c51b7d\"],[0.2,\"#de77ae\"],[0.3,\"#f1b6da\"],[0.4,\"#fde0ef\"],[0.5,\"#f7f7f7\"],[0.6,\"#e6f5d0\"],[0.7,\"#b8e186\"],[0.8,\"#7fbc41\"],[0.9,\"#4d9221\"],[1,\"#276419\"]],\"sequential\":[[0.0,\"#0d0887\"],[0.1111111111111111,\"#46039f\"],[0.2222222222222222,\"#7201a8\"],[0.3333333333333333,\"#9c179e\"],[0.4444444444444444,\"#bd3786\"],[0.5555555555555556,\"#d8576b\"],[0.6666666666666666,\"#ed7953\"],[0.7777777777777778,\"#fb9f3a\"],[0.8888888888888888,\"#fdca26\"],[1.0,\"#f0f921\"]],\"sequentialminus\":[[0.0,\"#0d0887\"],[0.1111111111111111,\"#46039f\"],[0.2222222222222222,\"#7201a8\"],[0.3333333333333333,\"#9c179e\"],[0.4444444444444444,\"#bd3786\"],[0.5555555555555556,\"#d8576b\"],[0.6666666666666666,\"#ed7953\"],[0.7777777777777778,\"#fb9f3a\"],[0.8888888888888888,\"#fdca26\"],[1.0,\"#f0f921\"]]},\"colorway\":[\"#636efa\",\"#EF553B\",\"#00cc96\",\"#ab63fa\",\"#FFA15A\",\"#19d3f3\",\"#FF6692\",\"#B6E880\",\"#FF97FF\",\"#FECB52\"],\"font\":{\"color\":\"#2a3f5f\"},\"geo\":{\"bgcolor\":\"white\",\"lakecolor\":\"white\",\"landcolor\":\"#E5ECF6\",\"showlakes\":true,\"showland\":true,\"subunitcolor\":\"white\"},\"hoverlabel\":{\"align\":\"left\"},\"hovermode\":\"closest\",\"mapbox\":{\"style\":\"light\"},\"paper_bgcolor\":\"white\",\"plot_bgcolor\":\"#E5ECF6\",\"polar\":{\"angularaxis\":{\"gridcolor\":\"white\",\"linecolor\":\"white\",\"ticks\":\"\"},\"bgcolor\":\"#E5ECF6\",\"radialaxis\":{\"gridcolor\":\"white\",\"linecolor\":\"white\",\"ticks\":\"\"}},\"scene\":{\"xaxis\":{\"backgroundcolor\":\"#E5ECF6\",\"gridcolor\":\"white\",\"gridwidth\":2,\"linecolor\":\"white\",\"showbackground\":true,\"ticks\":\"\",\"zerolinecolor\":\"white\"},\"yaxis\":{\"backgroundcolor\":\"#E5ECF6\",\"gridcolor\":\"white\",\"gridwidth\":2,\"linecolor\":\"white\",\"showbackground\":true,\"ticks\":\"\",\"zerolinecolor\":\"white\"},\"zaxis\":{\"backgroundcolor\":\"#E5ECF6\",\"gridcolor\":\"white\",\"gridwidth\":2,\"linecolor\":\"white\",\"showbackground\":true,\"ticks\":\"\",\"zerolinecolor\":\"white\"}},\"shapedefaults\":{\"line\":{\"color\":\"#2a3f5f\"}},\"ternary\":{\"aaxis\":{\"gridcolor\":\"white\",\"linecolor\":\"white\",\"ticks\":\"\"},\"baxis\":{\"gridcolor\":\"white\",\"linecolor\":\"white\",\"ticks\":\"\"},\"bgcolor\":\"#E5ECF6\",\"caxis\":{\"gridcolor\":\"white\",\"linecolor\":\"white\",\"ticks\":\"\"}},\"title\":{\"x\":0.05},\"xaxis\":{\"automargin\":true,\"gridcolor\":\"white\",\"linecolor\":\"white\",\"ticks\":\"\",\"title\":{\"standoff\":15},\"zerolinecolor\":\"white\",\"zerolinewidth\":2},\"yaxis\":{\"automargin\":true,\"gridcolor\":\"white\",\"linecolor\":\"white\",\"ticks\":\"\",\"title\":{\"standoff\":15},\"zerolinecolor\":\"white\",\"zerolinewidth\":2}}},\"title\":{\"font\":{\"color\":\"#4D5663\"}},\"xaxis\":{\"gridcolor\":\"#E1E5ED\",\"showgrid\":true,\"tickfont\":{\"color\":\"#4D5663\"},\"title\":{\"font\":{\"color\":\"#4D5663\"},\"text\":\"\"},\"zerolinecolor\":\"#E1E5ED\"},\"yaxis\":{\"domain\":[0.3,1],\"gridcolor\":\"#E1E5ED\",\"showgrid\":true,\"tickfont\":{\"color\":\"#4D5663\"},\"title\":{\"font\":{\"color\":\"#4D5663\"},\"text\":\"\"},\"zerolinecolor\":\"#E1E5ED\"},\"yaxis2\":{\"domain\":[0,0.25],\"gridcolor\":\"#E1E5ED\",\"showgrid\":true,\"tickfont\":{\"color\":\"#4D5663\"},\"title\":{\"font\":{\"color\":\"#4D5663\"},\"text\":\"Spread\"},\"zerolinecolor\":\"#E1E5ED\"},\"xaxis2\":{\"anchor\":\"y2\",\"gridcolor\":\"#E1E5ED\",\"showgrid\":true,\"showticklabels\":false,\"tickfont\":{\"color\":\"#4D5663\"},\"title\":{\"font\":{\"color\":\"#4D5663\"},\"text\":\"\"},\"zerolinecolor\":\"#E1E5ED\"}},                        {\"showLink\": true, \"linkText\": \"Export to plot.ly\", \"plotlyServerURL\": \"https://plot.ly\", \"responsive\": true}                    ).then(function(){\n",
       "                            \n",
       "var gd = document.getElementById('3faca23e-ede6-422f-8519-6508e206dac4');\n",
       "var x = new MutationObserver(function (mutations, observer) {{\n",
       "        var display = window.getComputedStyle(gd).display;\n",
       "        if (!display || display === 'none') {{\n",
       "            console.log([gd, 'removed!']);\n",
       "            Plotly.purge(gd);\n",
       "            observer.disconnect();\n",
       "        }}\n",
       "}});\n",
       "\n",
       "// Listen for the removal of the full notebook cells\n",
       "var notebookContainer = gd.closest('#notebook-container');\n",
       "if (notebookContainer) {{\n",
       "    x.observe(notebookContainer, {childList: true});\n",
       "}}\n",
       "\n",
       "// Listen for the clearing of the current output cell\n",
       "var outputEl = gd.closest('.output');\n",
       "if (outputEl) {{\n",
       "    x.observe(outputEl, {childList: true});\n",
       "}}\n",
       "\n",
       "                        })                };                });            </script>        </div>"
      ]
     },
     "metadata": {},
     "output_type": "display_data"
    }
   ],
   "source": [
    "df4[['Sin', 'Cos']].iplot(kind = 'spread')"
   ]
  },
  {
   "cell_type": "code",
   "execution_count": 74,
   "metadata": {},
   "outputs": [
    {
     "data": {
      "application/vnd.plotly.v1+json": {
       "config": {
        "linkText": "Export to plot.ly",
        "plotlyServerURL": "https://plot.ly",
        "showLink": true
       },
       "data": [
        {
         "marker": {
          "color": [
           "rgb(255, 153, 51)",
           "rgb(55, 128, 191)",
           "rgb(50, 171, 96)",
           "rgb(128, 0, 128)",
           "rgb(219, 64, 82)",
           "rgb(0, 128, 128)",
           "rgb(255, 255, 51)",
           "rgb(128, 128, 0)",
           "rgb(251, 128, 114)",
           "rgb(128, 177, 211)"
          ],
          "line": {
           "width": 1.3
          },
          "size": [
           112,
           111,
           110,
           109,
           109,
           108,
           107,
           106,
           106,
           105,
           104,
           104,
           103,
           102,
           101,
           101,
           100,
           99,
           99,
           98,
           97,
           96,
           96,
           95,
           94,
           93,
           93,
           92,
           91,
           90,
           90,
           89,
           88,
           87,
           87,
           86,
           85,
           84,
           83,
           83,
           82,
           81,
           80,
           79,
           79,
           78,
           77,
           76,
           75,
           74,
           74,
           73,
           72,
           71,
           70,
           69,
           68,
           67,
           66,
           65,
           64,
           63,
           62,
           61,
           60,
           59,
           58,
           57,
           56,
           55,
           54,
           53,
           52,
           50,
           49,
           48,
           46,
           45,
           43,
           42,
           40,
           39,
           37,
           35,
           33,
           31,
           28,
           25,
           21,
           12
          ],
          "symbol": "circle"
         },
         "mode": "markers",
         "text": "",
         "type": "scatter",
         "x": [
          0,
          0.011235955056179775,
          0.02247191011235955,
          0.033707865168539325,
          0.0449438202247191,
          0.056179775280898875,
          0.06741573033707865,
          0.07865168539325842,
          0.0898876404494382,
          0.10112359550561797,
          0.11235955056179775,
          0.12359550561797752,
          0.1348314606741573,
          0.14606741573033707,
          0.15730337078651685,
          0.16853932584269662,
          0.1797752808988764,
          0.19101123595505617,
          0.20224719101123595,
          0.21348314606741572,
          0.2247191011235955,
          0.23595505617977527,
          0.24719101123595505,
          0.2584269662921348,
          0.2696629213483146,
          0.2808988764044944,
          0.29213483146067415,
          0.3033707865168539,
          0.3146067415730337,
          0.3258426966292135,
          0.33707865168539325,
          0.348314606741573,
          0.3595505617977528,
          0.3707865168539326,
          0.38202247191011235,
          0.3932584269662921,
          0.4044943820224719,
          0.4157303370786517,
          0.42696629213483145,
          0.4382022471910112,
          0.449438202247191,
          0.4606741573033708,
          0.47191011235955055,
          0.4831460674157303,
          0.4943820224719101,
          0.5056179775280899,
          0.5168539325842696,
          0.5280898876404494,
          0.5393258426966292,
          0.550561797752809,
          0.5617977528089888,
          0.5730337078651685,
          0.5842696629213483,
          0.5955056179775281,
          0.6067415730337078,
          0.6179775280898876,
          0.6292134831460674,
          0.6404494382022472,
          0.651685393258427,
          0.6629213483146067,
          0.6741573033707865,
          0.6853932584269663,
          0.696629213483146,
          0.7078651685393258,
          0.7191011235955056,
          0.7303370786516854,
          0.7415730337078652,
          0.7528089887640449,
          0.7640449438202247,
          0.7752808988764045,
          0.7865168539325842,
          0.797752808988764,
          0.8089887640449438,
          0.8202247191011236,
          0.8314606741573034,
          0.8426966292134831,
          0.8539325842696629,
          0.8651685393258427,
          0.8764044943820224,
          0.8876404494382022,
          0.898876404494382,
          0.9101123595505618,
          0.9213483146067416,
          0.9325842696629213,
          0.9438202247191011,
          0.9550561797752809,
          0.9662921348314606,
          0.9775280898876404,
          0.9887640449438202,
          1
         ],
         "y": [
          0,
          0.0112361914866269,
          0.022473801878403855,
          0.033714251693908764,
          0.04495896468367527,
          0.05620936945895234,
          0.06746690113589068,
          0.07873300300044773,
          0.09000912819943202,
          0.10129674146327317,
          0.1125973208663049,
          0.12391235963058865,
          0.13524336797958683,
          0.14659187504832139,
          0.15795943085702643,
          0.16934760835573082,
          0.1807580055476887,
          0.19219224770012275,
          0.20365198965135825,
          0.215138918224118,
          0.2266547547555229,
          0.23820125775521336,
          0.24978022570398173,
          0.2613935000063999,
          0.27304296811215273,
          0.28473056682216413,
          0.2964582857971484,
          0.3082281712879565,
          0.32004233010904215,
          0.33190293387857434,
          0.34381222355120905,
          0.3557725142723405,
          0.3677862005858299,
          0.3798557620308144,
          0.39198376916729405,
          0.40417289007485274,
          0.4164258973741852,
          0.4287456758271806,
          0.4411352305782735,
          0.4535976961077717,
          0.4661363459770773,
          0.47875460345634724,
          0.4914560531374482,
          0.504244453649345,
          0.5171237516096979,
          0.5300980969658786,
          0.5431718599013835,
          0.5563496495104033,
          0.5696363344749001,
          0.5830370660159788,
          0.5965573034358364,
          0.61020284261971,
          0.6239798479309642,
          0.6378948880091925,
          0.6519549760740968,
          0.6661676154508613,
          0.6805408511708586,
          0.6950833286713374,
          0.7098043608277433,
          0.7247140048136596,
          0.7398231506107062,
          0.755143623403672,
          0.7706883026209326,
          0.7864712610524651,
          0.8025079283462659,
          0.8188152843163157,
          0.8354120889860214,
          0.8523191582746295,
          0.8695596969035138,
          0.8871597037363116,
          0.9051484697893567,
          0.9235591961869238,
          0.9424297693582019,
          0.9618037453001346,
          0.9817316162040961,
          1.0022724651873682,
          1.0234961651001602,
          1.0454863573258042,
          1.0683445778033418,
          1.0921961211202902,
          1.1171986306871249,
          1.1435551442229095,
          1.1715347916796035,
          1.2015074685364107,
          1.2340060985622072,
          1.2698492479239765,
          1.3104160047012863,
          1.3583977269954215,
          1.420749271217941,
          1.5707963267948966
         ]
        }
       ],
       "layout": {
        "legend": {
         "bgcolor": "#F5F6F9",
         "font": {
          "color": "#4D5663"
         }
        },
        "paper_bgcolor": "#F5F6F9",
        "plot_bgcolor": "#F5F6F9",
        "template": {
         "data": {
          "bar": [
           {
            "error_x": {
             "color": "#2a3f5f"
            },
            "error_y": {
             "color": "#2a3f5f"
            },
            "marker": {
             "line": {
              "color": "#E5ECF6",
              "width": 0.5
             },
             "pattern": {
              "fillmode": "overlay",
              "size": 10,
              "solidity": 0.2
             }
            },
            "type": "bar"
           }
          ],
          "barpolar": [
           {
            "marker": {
             "line": {
              "color": "#E5ECF6",
              "width": 0.5
             },
             "pattern": {
              "fillmode": "overlay",
              "size": 10,
              "solidity": 0.2
             }
            },
            "type": "barpolar"
           }
          ],
          "carpet": [
           {
            "aaxis": {
             "endlinecolor": "#2a3f5f",
             "gridcolor": "white",
             "linecolor": "white",
             "minorgridcolor": "white",
             "startlinecolor": "#2a3f5f"
            },
            "baxis": {
             "endlinecolor": "#2a3f5f",
             "gridcolor": "white",
             "linecolor": "white",
             "minorgridcolor": "white",
             "startlinecolor": "#2a3f5f"
            },
            "type": "carpet"
           }
          ],
          "choropleth": [
           {
            "colorbar": {
             "outlinewidth": 0,
             "ticks": ""
            },
            "type": "choropleth"
           }
          ],
          "contour": [
           {
            "colorbar": {
             "outlinewidth": 0,
             "ticks": ""
            },
            "colorscale": [
             [
              0,
              "#0d0887"
             ],
             [
              0.1111111111111111,
              "#46039f"
             ],
             [
              0.2222222222222222,
              "#7201a8"
             ],
             [
              0.3333333333333333,
              "#9c179e"
             ],
             [
              0.4444444444444444,
              "#bd3786"
             ],
             [
              0.5555555555555556,
              "#d8576b"
             ],
             [
              0.6666666666666666,
              "#ed7953"
             ],
             [
              0.7777777777777778,
              "#fb9f3a"
             ],
             [
              0.8888888888888888,
              "#fdca26"
             ],
             [
              1,
              "#f0f921"
             ]
            ],
            "type": "contour"
           }
          ],
          "contourcarpet": [
           {
            "colorbar": {
             "outlinewidth": 0,
             "ticks": ""
            },
            "type": "contourcarpet"
           }
          ],
          "heatmap": [
           {
            "colorbar": {
             "outlinewidth": 0,
             "ticks": ""
            },
            "colorscale": [
             [
              0,
              "#0d0887"
             ],
             [
              0.1111111111111111,
              "#46039f"
             ],
             [
              0.2222222222222222,
              "#7201a8"
             ],
             [
              0.3333333333333333,
              "#9c179e"
             ],
             [
              0.4444444444444444,
              "#bd3786"
             ],
             [
              0.5555555555555556,
              "#d8576b"
             ],
             [
              0.6666666666666666,
              "#ed7953"
             ],
             [
              0.7777777777777778,
              "#fb9f3a"
             ],
             [
              0.8888888888888888,
              "#fdca26"
             ],
             [
              1,
              "#f0f921"
             ]
            ],
            "type": "heatmap"
           }
          ],
          "heatmapgl": [
           {
            "colorbar": {
             "outlinewidth": 0,
             "ticks": ""
            },
            "colorscale": [
             [
              0,
              "#0d0887"
             ],
             [
              0.1111111111111111,
              "#46039f"
             ],
             [
              0.2222222222222222,
              "#7201a8"
             ],
             [
              0.3333333333333333,
              "#9c179e"
             ],
             [
              0.4444444444444444,
              "#bd3786"
             ],
             [
              0.5555555555555556,
              "#d8576b"
             ],
             [
              0.6666666666666666,
              "#ed7953"
             ],
             [
              0.7777777777777778,
              "#fb9f3a"
             ],
             [
              0.8888888888888888,
              "#fdca26"
             ],
             [
              1,
              "#f0f921"
             ]
            ],
            "type": "heatmapgl"
           }
          ],
          "histogram": [
           {
            "marker": {
             "pattern": {
              "fillmode": "overlay",
              "size": 10,
              "solidity": 0.2
             }
            },
            "type": "histogram"
           }
          ],
          "histogram2d": [
           {
            "colorbar": {
             "outlinewidth": 0,
             "ticks": ""
            },
            "colorscale": [
             [
              0,
              "#0d0887"
             ],
             [
              0.1111111111111111,
              "#46039f"
             ],
             [
              0.2222222222222222,
              "#7201a8"
             ],
             [
              0.3333333333333333,
              "#9c179e"
             ],
             [
              0.4444444444444444,
              "#bd3786"
             ],
             [
              0.5555555555555556,
              "#d8576b"
             ],
             [
              0.6666666666666666,
              "#ed7953"
             ],
             [
              0.7777777777777778,
              "#fb9f3a"
             ],
             [
              0.8888888888888888,
              "#fdca26"
             ],
             [
              1,
              "#f0f921"
             ]
            ],
            "type": "histogram2d"
           }
          ],
          "histogram2dcontour": [
           {
            "colorbar": {
             "outlinewidth": 0,
             "ticks": ""
            },
            "colorscale": [
             [
              0,
              "#0d0887"
             ],
             [
              0.1111111111111111,
              "#46039f"
             ],
             [
              0.2222222222222222,
              "#7201a8"
             ],
             [
              0.3333333333333333,
              "#9c179e"
             ],
             [
              0.4444444444444444,
              "#bd3786"
             ],
             [
              0.5555555555555556,
              "#d8576b"
             ],
             [
              0.6666666666666666,
              "#ed7953"
             ],
             [
              0.7777777777777778,
              "#fb9f3a"
             ],
             [
              0.8888888888888888,
              "#fdca26"
             ],
             [
              1,
              "#f0f921"
             ]
            ],
            "type": "histogram2dcontour"
           }
          ],
          "mesh3d": [
           {
            "colorbar": {
             "outlinewidth": 0,
             "ticks": ""
            },
            "type": "mesh3d"
           }
          ],
          "parcoords": [
           {
            "line": {
             "colorbar": {
              "outlinewidth": 0,
              "ticks": ""
             }
            },
            "type": "parcoords"
           }
          ],
          "pie": [
           {
            "automargin": true,
            "type": "pie"
           }
          ],
          "scatter": [
           {
            "fillpattern": {
             "fillmode": "overlay",
             "size": 10,
             "solidity": 0.2
            },
            "type": "scatter"
           }
          ],
          "scatter3d": [
           {
            "line": {
             "colorbar": {
              "outlinewidth": 0,
              "ticks": ""
             }
            },
            "marker": {
             "colorbar": {
              "outlinewidth": 0,
              "ticks": ""
             }
            },
            "type": "scatter3d"
           }
          ],
          "scattercarpet": [
           {
            "marker": {
             "colorbar": {
              "outlinewidth": 0,
              "ticks": ""
             }
            },
            "type": "scattercarpet"
           }
          ],
          "scattergeo": [
           {
            "marker": {
             "colorbar": {
              "outlinewidth": 0,
              "ticks": ""
             }
            },
            "type": "scattergeo"
           }
          ],
          "scattergl": [
           {
            "marker": {
             "colorbar": {
              "outlinewidth": 0,
              "ticks": ""
             }
            },
            "type": "scattergl"
           }
          ],
          "scattermapbox": [
           {
            "marker": {
             "colorbar": {
              "outlinewidth": 0,
              "ticks": ""
             }
            },
            "type": "scattermapbox"
           }
          ],
          "scatterpolar": [
           {
            "marker": {
             "colorbar": {
              "outlinewidth": 0,
              "ticks": ""
             }
            },
            "type": "scatterpolar"
           }
          ],
          "scatterpolargl": [
           {
            "marker": {
             "colorbar": {
              "outlinewidth": 0,
              "ticks": ""
             }
            },
            "type": "scatterpolargl"
           }
          ],
          "scatterternary": [
           {
            "marker": {
             "colorbar": {
              "outlinewidth": 0,
              "ticks": ""
             }
            },
            "type": "scatterternary"
           }
          ],
          "surface": [
           {
            "colorbar": {
             "outlinewidth": 0,
             "ticks": ""
            },
            "colorscale": [
             [
              0,
              "#0d0887"
             ],
             [
              0.1111111111111111,
              "#46039f"
             ],
             [
              0.2222222222222222,
              "#7201a8"
             ],
             [
              0.3333333333333333,
              "#9c179e"
             ],
             [
              0.4444444444444444,
              "#bd3786"
             ],
             [
              0.5555555555555556,
              "#d8576b"
             ],
             [
              0.6666666666666666,
              "#ed7953"
             ],
             [
              0.7777777777777778,
              "#fb9f3a"
             ],
             [
              0.8888888888888888,
              "#fdca26"
             ],
             [
              1,
              "#f0f921"
             ]
            ],
            "type": "surface"
           }
          ],
          "table": [
           {
            "cells": {
             "fill": {
              "color": "#EBF0F8"
             },
             "line": {
              "color": "white"
             }
            },
            "header": {
             "fill": {
              "color": "#C8D4E3"
             },
             "line": {
              "color": "white"
             }
            },
            "type": "table"
           }
          ]
         },
         "layout": {
          "annotationdefaults": {
           "arrowcolor": "#2a3f5f",
           "arrowhead": 0,
           "arrowwidth": 1
          },
          "autotypenumbers": "strict",
          "coloraxis": {
           "colorbar": {
            "outlinewidth": 0,
            "ticks": ""
           }
          },
          "colorscale": {
           "diverging": [
            [
             0,
             "#8e0152"
            ],
            [
             0.1,
             "#c51b7d"
            ],
            [
             0.2,
             "#de77ae"
            ],
            [
             0.3,
             "#f1b6da"
            ],
            [
             0.4,
             "#fde0ef"
            ],
            [
             0.5,
             "#f7f7f7"
            ],
            [
             0.6,
             "#e6f5d0"
            ],
            [
             0.7,
             "#b8e186"
            ],
            [
             0.8,
             "#7fbc41"
            ],
            [
             0.9,
             "#4d9221"
            ],
            [
             1,
             "#276419"
            ]
           ],
           "sequential": [
            [
             0,
             "#0d0887"
            ],
            [
             0.1111111111111111,
             "#46039f"
            ],
            [
             0.2222222222222222,
             "#7201a8"
            ],
            [
             0.3333333333333333,
             "#9c179e"
            ],
            [
             0.4444444444444444,
             "#bd3786"
            ],
            [
             0.5555555555555556,
             "#d8576b"
            ],
            [
             0.6666666666666666,
             "#ed7953"
            ],
            [
             0.7777777777777778,
             "#fb9f3a"
            ],
            [
             0.8888888888888888,
             "#fdca26"
            ],
            [
             1,
             "#f0f921"
            ]
           ],
           "sequentialminus": [
            [
             0,
             "#0d0887"
            ],
            [
             0.1111111111111111,
             "#46039f"
            ],
            [
             0.2222222222222222,
             "#7201a8"
            ],
            [
             0.3333333333333333,
             "#9c179e"
            ],
            [
             0.4444444444444444,
             "#bd3786"
            ],
            [
             0.5555555555555556,
             "#d8576b"
            ],
            [
             0.6666666666666666,
             "#ed7953"
            ],
            [
             0.7777777777777778,
             "#fb9f3a"
            ],
            [
             0.8888888888888888,
             "#fdca26"
            ],
            [
             1,
             "#f0f921"
            ]
           ]
          },
          "colorway": [
           "#636efa",
           "#EF553B",
           "#00cc96",
           "#ab63fa",
           "#FFA15A",
           "#19d3f3",
           "#FF6692",
           "#B6E880",
           "#FF97FF",
           "#FECB52"
          ],
          "font": {
           "color": "#2a3f5f"
          },
          "geo": {
           "bgcolor": "white",
           "lakecolor": "white",
           "landcolor": "#E5ECF6",
           "showlakes": true,
           "showland": true,
           "subunitcolor": "white"
          },
          "hoverlabel": {
           "align": "left"
          },
          "hovermode": "closest",
          "mapbox": {
           "style": "light"
          },
          "paper_bgcolor": "white",
          "plot_bgcolor": "#E5ECF6",
          "polar": {
           "angularaxis": {
            "gridcolor": "white",
            "linecolor": "white",
            "ticks": ""
           },
           "bgcolor": "#E5ECF6",
           "radialaxis": {
            "gridcolor": "white",
            "linecolor": "white",
            "ticks": ""
           }
          },
          "scene": {
           "xaxis": {
            "backgroundcolor": "#E5ECF6",
            "gridcolor": "white",
            "gridwidth": 2,
            "linecolor": "white",
            "showbackground": true,
            "ticks": "",
            "zerolinecolor": "white"
           },
           "yaxis": {
            "backgroundcolor": "#E5ECF6",
            "gridcolor": "white",
            "gridwidth": 2,
            "linecolor": "white",
            "showbackground": true,
            "ticks": "",
            "zerolinecolor": "white"
           },
           "zaxis": {
            "backgroundcolor": "#E5ECF6",
            "gridcolor": "white",
            "gridwidth": 2,
            "linecolor": "white",
            "showbackground": true,
            "ticks": "",
            "zerolinecolor": "white"
           }
          },
          "shapedefaults": {
           "line": {
            "color": "#2a3f5f"
           }
          },
          "ternary": {
           "aaxis": {
            "gridcolor": "white",
            "linecolor": "white",
            "ticks": ""
           },
           "baxis": {
            "gridcolor": "white",
            "linecolor": "white",
            "ticks": ""
           },
           "bgcolor": "#E5ECF6",
           "caxis": {
            "gridcolor": "white",
            "linecolor": "white",
            "ticks": ""
           }
          },
          "title": {
           "x": 0.05
          },
          "xaxis": {
           "automargin": true,
           "gridcolor": "white",
           "linecolor": "white",
           "ticks": "",
           "title": {
            "standoff": 15
           },
           "zerolinecolor": "white",
           "zerolinewidth": 2
          },
          "yaxis": {
           "automargin": true,
           "gridcolor": "white",
           "linecolor": "white",
           "ticks": "",
           "title": {
            "standoff": 15
           },
           "zerolinecolor": "white",
           "zerolinewidth": 2
          }
         }
        },
        "title": {
         "font": {
          "color": "#4D5663"
         }
        },
        "xaxis": {
         "gridcolor": "#E1E5ED",
         "showgrid": true,
         "tickfont": {
          "color": "#4D5663"
         },
         "title": {
          "font": {
           "color": "#4D5663"
          },
          "text": ""
         },
         "zerolinecolor": "#E1E5ED"
        },
        "yaxis": {
         "gridcolor": "#E1E5ED",
         "showgrid": true,
         "tickfont": {
          "color": "#4D5663"
         },
         "title": {
          "font": {
           "color": "#4D5663"
          },
          "text": ""
         },
         "zerolinecolor": "#E1E5ED"
        }
       }
      },
      "text/html": [
       "<div>                            <div id=\"f0181231-cef9-4536-a882-207428527cea\" class=\"plotly-graph-div\" style=\"height:525px; width:100%;\"></div>            <script type=\"text/javascript\">                require([\"plotly\"], function(Plotly) {                    window.PLOTLYENV=window.PLOTLYENV || {};\n",
       "                    window.PLOTLYENV.BASE_URL='https://plot.ly';                                    if (document.getElementById(\"f0181231-cef9-4536-a882-207428527cea\")) {                    Plotly.newPlot(                        \"f0181231-cef9-4536-a882-207428527cea\",                        [{\"marker\":{\"color\":[\"rgb(255, 153, 51)\",\"rgb(55, 128, 191)\",\"rgb(50, 171, 96)\",\"rgb(128, 0, 128)\",\"rgb(219, 64, 82)\",\"rgb(0, 128, 128)\",\"rgb(255, 255, 51)\",\"rgb(128, 128, 0)\",\"rgb(251, 128, 114)\",\"rgb(128, 177, 211)\"],\"line\":{\"width\":1.3},\"size\":[112,111,110,109,109,108,107,106,106,105,104,104,103,102,101,101,100,99,99,98,97,96,96,95,94,93,93,92,91,90,90,89,88,87,87,86,85,84,83,83,82,81,80,79,79,78,77,76,75,74,74,73,72,71,70,69,68,67,66,65,64,63,62,61,60,59,58,57,56,55,54,53,52,50,49,48,46,45,43,42,40,39,37,35,33,31,28,25,21,12],\"symbol\":\"circle\"},\"mode\":\"markers\",\"text\":\"\",\"x\":[0.0,0.011235955056179775,0.02247191011235955,0.033707865168539325,0.0449438202247191,0.056179775280898875,0.06741573033707865,0.07865168539325842,0.0898876404494382,0.10112359550561797,0.11235955056179775,0.12359550561797752,0.1348314606741573,0.14606741573033707,0.15730337078651685,0.16853932584269662,0.1797752808988764,0.19101123595505617,0.20224719101123595,0.21348314606741572,0.2247191011235955,0.23595505617977527,0.24719101123595505,0.2584269662921348,0.2696629213483146,0.2808988764044944,0.29213483146067415,0.3033707865168539,0.3146067415730337,0.3258426966292135,0.33707865168539325,0.348314606741573,0.3595505617977528,0.3707865168539326,0.38202247191011235,0.3932584269662921,0.4044943820224719,0.4157303370786517,0.42696629213483145,0.4382022471910112,0.449438202247191,0.4606741573033708,0.47191011235955055,0.4831460674157303,0.4943820224719101,0.5056179775280899,0.5168539325842696,0.5280898876404494,0.5393258426966292,0.550561797752809,0.5617977528089888,0.5730337078651685,0.5842696629213483,0.5955056179775281,0.6067415730337078,0.6179775280898876,0.6292134831460674,0.6404494382022472,0.651685393258427,0.6629213483146067,0.6741573033707865,0.6853932584269663,0.696629213483146,0.7078651685393258,0.7191011235955056,0.7303370786516854,0.7415730337078652,0.7528089887640449,0.7640449438202247,0.7752808988764045,0.7865168539325842,0.797752808988764,0.8089887640449438,0.8202247191011236,0.8314606741573034,0.8426966292134831,0.8539325842696629,0.8651685393258427,0.8764044943820224,0.8876404494382022,0.898876404494382,0.9101123595505618,0.9213483146067416,0.9325842696629213,0.9438202247191011,0.9550561797752809,0.9662921348314606,0.9775280898876404,0.9887640449438202,1.0],\"y\":[0.0,0.0112361914866269,0.022473801878403855,0.033714251693908764,0.04495896468367527,0.05620936945895234,0.06746690113589068,0.07873300300044773,0.09000912819943202,0.10129674146327317,0.1125973208663049,0.12391235963058865,0.13524336797958683,0.14659187504832139,0.15795943085702643,0.16934760835573082,0.1807580055476887,0.19219224770012275,0.20365198965135825,0.215138918224118,0.2266547547555229,0.23820125775521336,0.24978022570398173,0.2613935000063999,0.27304296811215273,0.28473056682216413,0.2964582857971484,0.3082281712879565,0.32004233010904215,0.33190293387857434,0.34381222355120905,0.3557725142723405,0.3677862005858299,0.3798557620308144,0.39198376916729405,0.40417289007485274,0.4164258973741852,0.4287456758271806,0.4411352305782735,0.4535976961077717,0.4661363459770773,0.47875460345634724,0.4914560531374482,0.504244453649345,0.5171237516096979,0.5300980969658786,0.5431718599013835,0.5563496495104033,0.5696363344749001,0.5830370660159788,0.5965573034358364,0.61020284261971,0.6239798479309642,0.6378948880091925,0.6519549760740968,0.6661676154508613,0.6805408511708586,0.6950833286713374,0.7098043608277433,0.7247140048136596,0.7398231506107062,0.755143623403672,0.7706883026209326,0.7864712610524651,0.8025079283462659,0.8188152843163157,0.8354120889860214,0.8523191582746295,0.8695596969035138,0.8871597037363116,0.9051484697893567,0.9235591961869238,0.9424297693582019,0.9618037453001346,0.9817316162040961,1.0022724651873682,1.0234961651001602,1.0454863573258042,1.0683445778033418,1.0921961211202902,1.1171986306871249,1.1435551442229095,1.1715347916796035,1.2015074685364107,1.2340060985622072,1.2698492479239765,1.3104160047012863,1.3583977269954215,1.420749271217941,1.5707963267948966],\"type\":\"scatter\"}],                        {\"legend\":{\"bgcolor\":\"#F5F6F9\",\"font\":{\"color\":\"#4D5663\"}},\"paper_bgcolor\":\"#F5F6F9\",\"plot_bgcolor\":\"#F5F6F9\",\"template\":{\"data\":{\"barpolar\":[{\"marker\":{\"line\":{\"color\":\"#E5ECF6\",\"width\":0.5},\"pattern\":{\"fillmode\":\"overlay\",\"size\":10,\"solidity\":0.2}},\"type\":\"barpolar\"}],\"bar\":[{\"error_x\":{\"color\":\"#2a3f5f\"},\"error_y\":{\"color\":\"#2a3f5f\"},\"marker\":{\"line\":{\"color\":\"#E5ECF6\",\"width\":0.5},\"pattern\":{\"fillmode\":\"overlay\",\"size\":10,\"solidity\":0.2}},\"type\":\"bar\"}],\"carpet\":[{\"aaxis\":{\"endlinecolor\":\"#2a3f5f\",\"gridcolor\":\"white\",\"linecolor\":\"white\",\"minorgridcolor\":\"white\",\"startlinecolor\":\"#2a3f5f\"},\"baxis\":{\"endlinecolor\":\"#2a3f5f\",\"gridcolor\":\"white\",\"linecolor\":\"white\",\"minorgridcolor\":\"white\",\"startlinecolor\":\"#2a3f5f\"},\"type\":\"carpet\"}],\"choropleth\":[{\"colorbar\":{\"outlinewidth\":0,\"ticks\":\"\"},\"type\":\"choropleth\"}],\"contourcarpet\":[{\"colorbar\":{\"outlinewidth\":0,\"ticks\":\"\"},\"type\":\"contourcarpet\"}],\"contour\":[{\"colorbar\":{\"outlinewidth\":0,\"ticks\":\"\"},\"colorscale\":[[0.0,\"#0d0887\"],[0.1111111111111111,\"#46039f\"],[0.2222222222222222,\"#7201a8\"],[0.3333333333333333,\"#9c179e\"],[0.4444444444444444,\"#bd3786\"],[0.5555555555555556,\"#d8576b\"],[0.6666666666666666,\"#ed7953\"],[0.7777777777777778,\"#fb9f3a\"],[0.8888888888888888,\"#fdca26\"],[1.0,\"#f0f921\"]],\"type\":\"contour\"}],\"heatmapgl\":[{\"colorbar\":{\"outlinewidth\":0,\"ticks\":\"\"},\"colorscale\":[[0.0,\"#0d0887\"],[0.1111111111111111,\"#46039f\"],[0.2222222222222222,\"#7201a8\"],[0.3333333333333333,\"#9c179e\"],[0.4444444444444444,\"#bd3786\"],[0.5555555555555556,\"#d8576b\"],[0.6666666666666666,\"#ed7953\"],[0.7777777777777778,\"#fb9f3a\"],[0.8888888888888888,\"#fdca26\"],[1.0,\"#f0f921\"]],\"type\":\"heatmapgl\"}],\"heatmap\":[{\"colorbar\":{\"outlinewidth\":0,\"ticks\":\"\"},\"colorscale\":[[0.0,\"#0d0887\"],[0.1111111111111111,\"#46039f\"],[0.2222222222222222,\"#7201a8\"],[0.3333333333333333,\"#9c179e\"],[0.4444444444444444,\"#bd3786\"],[0.5555555555555556,\"#d8576b\"],[0.6666666666666666,\"#ed7953\"],[0.7777777777777778,\"#fb9f3a\"],[0.8888888888888888,\"#fdca26\"],[1.0,\"#f0f921\"]],\"type\":\"heatmap\"}],\"histogram2dcontour\":[{\"colorbar\":{\"outlinewidth\":0,\"ticks\":\"\"},\"colorscale\":[[0.0,\"#0d0887\"],[0.1111111111111111,\"#46039f\"],[0.2222222222222222,\"#7201a8\"],[0.3333333333333333,\"#9c179e\"],[0.4444444444444444,\"#bd3786\"],[0.5555555555555556,\"#d8576b\"],[0.6666666666666666,\"#ed7953\"],[0.7777777777777778,\"#fb9f3a\"],[0.8888888888888888,\"#fdca26\"],[1.0,\"#f0f921\"]],\"type\":\"histogram2dcontour\"}],\"histogram2d\":[{\"colorbar\":{\"outlinewidth\":0,\"ticks\":\"\"},\"colorscale\":[[0.0,\"#0d0887\"],[0.1111111111111111,\"#46039f\"],[0.2222222222222222,\"#7201a8\"],[0.3333333333333333,\"#9c179e\"],[0.4444444444444444,\"#bd3786\"],[0.5555555555555556,\"#d8576b\"],[0.6666666666666666,\"#ed7953\"],[0.7777777777777778,\"#fb9f3a\"],[0.8888888888888888,\"#fdca26\"],[1.0,\"#f0f921\"]],\"type\":\"histogram2d\"}],\"histogram\":[{\"marker\":{\"pattern\":{\"fillmode\":\"overlay\",\"size\":10,\"solidity\":0.2}},\"type\":\"histogram\"}],\"mesh3d\":[{\"colorbar\":{\"outlinewidth\":0,\"ticks\":\"\"},\"type\":\"mesh3d\"}],\"parcoords\":[{\"line\":{\"colorbar\":{\"outlinewidth\":0,\"ticks\":\"\"}},\"type\":\"parcoords\"}],\"pie\":[{\"automargin\":true,\"type\":\"pie\"}],\"scatter3d\":[{\"line\":{\"colorbar\":{\"outlinewidth\":0,\"ticks\":\"\"}},\"marker\":{\"colorbar\":{\"outlinewidth\":0,\"ticks\":\"\"}},\"type\":\"scatter3d\"}],\"scattercarpet\":[{\"marker\":{\"colorbar\":{\"outlinewidth\":0,\"ticks\":\"\"}},\"type\":\"scattercarpet\"}],\"scattergeo\":[{\"marker\":{\"colorbar\":{\"outlinewidth\":0,\"ticks\":\"\"}},\"type\":\"scattergeo\"}],\"scattergl\":[{\"marker\":{\"colorbar\":{\"outlinewidth\":0,\"ticks\":\"\"}},\"type\":\"scattergl\"}],\"scattermapbox\":[{\"marker\":{\"colorbar\":{\"outlinewidth\":0,\"ticks\":\"\"}},\"type\":\"scattermapbox\"}],\"scatterpolargl\":[{\"marker\":{\"colorbar\":{\"outlinewidth\":0,\"ticks\":\"\"}},\"type\":\"scatterpolargl\"}],\"scatterpolar\":[{\"marker\":{\"colorbar\":{\"outlinewidth\":0,\"ticks\":\"\"}},\"type\":\"scatterpolar\"}],\"scatter\":[{\"fillpattern\":{\"fillmode\":\"overlay\",\"size\":10,\"solidity\":0.2},\"type\":\"scatter\"}],\"scatterternary\":[{\"marker\":{\"colorbar\":{\"outlinewidth\":0,\"ticks\":\"\"}},\"type\":\"scatterternary\"}],\"surface\":[{\"colorbar\":{\"outlinewidth\":0,\"ticks\":\"\"},\"colorscale\":[[0.0,\"#0d0887\"],[0.1111111111111111,\"#46039f\"],[0.2222222222222222,\"#7201a8\"],[0.3333333333333333,\"#9c179e\"],[0.4444444444444444,\"#bd3786\"],[0.5555555555555556,\"#d8576b\"],[0.6666666666666666,\"#ed7953\"],[0.7777777777777778,\"#fb9f3a\"],[0.8888888888888888,\"#fdca26\"],[1.0,\"#f0f921\"]],\"type\":\"surface\"}],\"table\":[{\"cells\":{\"fill\":{\"color\":\"#EBF0F8\"},\"line\":{\"color\":\"white\"}},\"header\":{\"fill\":{\"color\":\"#C8D4E3\"},\"line\":{\"color\":\"white\"}},\"type\":\"table\"}]},\"layout\":{\"annotationdefaults\":{\"arrowcolor\":\"#2a3f5f\",\"arrowhead\":0,\"arrowwidth\":1},\"autotypenumbers\":\"strict\",\"coloraxis\":{\"colorbar\":{\"outlinewidth\":0,\"ticks\":\"\"}},\"colorscale\":{\"diverging\":[[0,\"#8e0152\"],[0.1,\"#c51b7d\"],[0.2,\"#de77ae\"],[0.3,\"#f1b6da\"],[0.4,\"#fde0ef\"],[0.5,\"#f7f7f7\"],[0.6,\"#e6f5d0\"],[0.7,\"#b8e186\"],[0.8,\"#7fbc41\"],[0.9,\"#4d9221\"],[1,\"#276419\"]],\"sequential\":[[0.0,\"#0d0887\"],[0.1111111111111111,\"#46039f\"],[0.2222222222222222,\"#7201a8\"],[0.3333333333333333,\"#9c179e\"],[0.4444444444444444,\"#bd3786\"],[0.5555555555555556,\"#d8576b\"],[0.6666666666666666,\"#ed7953\"],[0.7777777777777778,\"#fb9f3a\"],[0.8888888888888888,\"#fdca26\"],[1.0,\"#f0f921\"]],\"sequentialminus\":[[0.0,\"#0d0887\"],[0.1111111111111111,\"#46039f\"],[0.2222222222222222,\"#7201a8\"],[0.3333333333333333,\"#9c179e\"],[0.4444444444444444,\"#bd3786\"],[0.5555555555555556,\"#d8576b\"],[0.6666666666666666,\"#ed7953\"],[0.7777777777777778,\"#fb9f3a\"],[0.8888888888888888,\"#fdca26\"],[1.0,\"#f0f921\"]]},\"colorway\":[\"#636efa\",\"#EF553B\",\"#00cc96\",\"#ab63fa\",\"#FFA15A\",\"#19d3f3\",\"#FF6692\",\"#B6E880\",\"#FF97FF\",\"#FECB52\"],\"font\":{\"color\":\"#2a3f5f\"},\"geo\":{\"bgcolor\":\"white\",\"lakecolor\":\"white\",\"landcolor\":\"#E5ECF6\",\"showlakes\":true,\"showland\":true,\"subunitcolor\":\"white\"},\"hoverlabel\":{\"align\":\"left\"},\"hovermode\":\"closest\",\"mapbox\":{\"style\":\"light\"},\"paper_bgcolor\":\"white\",\"plot_bgcolor\":\"#E5ECF6\",\"polar\":{\"angularaxis\":{\"gridcolor\":\"white\",\"linecolor\":\"white\",\"ticks\":\"\"},\"bgcolor\":\"#E5ECF6\",\"radialaxis\":{\"gridcolor\":\"white\",\"linecolor\":\"white\",\"ticks\":\"\"}},\"scene\":{\"xaxis\":{\"backgroundcolor\":\"#E5ECF6\",\"gridcolor\":\"white\",\"gridwidth\":2,\"linecolor\":\"white\",\"showbackground\":true,\"ticks\":\"\",\"zerolinecolor\":\"white\"},\"yaxis\":{\"backgroundcolor\":\"#E5ECF6\",\"gridcolor\":\"white\",\"gridwidth\":2,\"linecolor\":\"white\",\"showbackground\":true,\"ticks\":\"\",\"zerolinecolor\":\"white\"},\"zaxis\":{\"backgroundcolor\":\"#E5ECF6\",\"gridcolor\":\"white\",\"gridwidth\":2,\"linecolor\":\"white\",\"showbackground\":true,\"ticks\":\"\",\"zerolinecolor\":\"white\"}},\"shapedefaults\":{\"line\":{\"color\":\"#2a3f5f\"}},\"ternary\":{\"aaxis\":{\"gridcolor\":\"white\",\"linecolor\":\"white\",\"ticks\":\"\"},\"baxis\":{\"gridcolor\":\"white\",\"linecolor\":\"white\",\"ticks\":\"\"},\"bgcolor\":\"#E5ECF6\",\"caxis\":{\"gridcolor\":\"white\",\"linecolor\":\"white\",\"ticks\":\"\"}},\"title\":{\"x\":0.05},\"xaxis\":{\"automargin\":true,\"gridcolor\":\"white\",\"linecolor\":\"white\",\"ticks\":\"\",\"title\":{\"standoff\":15},\"zerolinecolor\":\"white\",\"zerolinewidth\":2},\"yaxis\":{\"automargin\":true,\"gridcolor\":\"white\",\"linecolor\":\"white\",\"ticks\":\"\",\"title\":{\"standoff\":15},\"zerolinecolor\":\"white\",\"zerolinewidth\":2}}},\"title\":{\"font\":{\"color\":\"#4D5663\"}},\"xaxis\":{\"gridcolor\":\"#E1E5ED\",\"showgrid\":true,\"tickfont\":{\"color\":\"#4D5663\"},\"title\":{\"font\":{\"color\":\"#4D5663\"},\"text\":\"\"},\"zerolinecolor\":\"#E1E5ED\"},\"yaxis\":{\"gridcolor\":\"#E1E5ED\",\"showgrid\":true,\"tickfont\":{\"color\":\"#4D5663\"},\"title\":{\"font\":{\"color\":\"#4D5663\"},\"text\":\"\"},\"zerolinecolor\":\"#E1E5ED\"}},                        {\"showLink\": true, \"linkText\": \"Export to plot.ly\", \"plotlyServerURL\": \"https://plot.ly\", \"responsive\": true}                    ).then(function(){\n",
       "                            \n",
       "var gd = document.getElementById('f0181231-cef9-4536-a882-207428527cea');\n",
       "var x = new MutationObserver(function (mutations, observer) {{\n",
       "        var display = window.getComputedStyle(gd).display;\n",
       "        if (!display || display === 'none') {{\n",
       "            console.log([gd, 'removed!']);\n",
       "            Plotly.purge(gd);\n",
       "            observer.disconnect();\n",
       "        }}\n",
       "}});\n",
       "\n",
       "// Listen for the removal of the full notebook cells\n",
       "var notebookContainer = gd.closest('#notebook-container');\n",
       "if (notebookContainer) {{\n",
       "    x.observe(notebookContainer, {childList: true});\n",
       "}}\n",
       "\n",
       "// Listen for the clearing of the current output cell\n",
       "var outputEl = gd.closest('.output');\n",
       "if (outputEl) {{\n",
       "    x.observe(outputEl, {childList: true});\n",
       "}}\n",
       "\n",
       "                        })                };                });            </script>        </div>"
      ]
     },
     "metadata": {},
     "output_type": "display_data"
    }
   ],
   "source": [
    "df4.iplot(kind = \"bubble\", x = 'Angle', size = 'Cos', y = 'Sin')"
   ]
  },
  {
   "cell_type": "code",
   "execution_count": 75,
   "metadata": {},
   "outputs": [
    {
     "data": {
      "application/vnd.plotly.v1+json": {
       "config": {
        "linkText": "Export to plot.ly",
        "plotlyServerURL": "https://plot.ly",
        "showLink": true
       },
       "data": [
        {
         "histfunc": "count",
         "histnorm": "",
         "marker": {
          "color": "rgba(255, 153, 51, 1.0)",
          "line": {
           "color": "#4D5663",
           "width": 1.3
          }
         },
         "name": "Angle",
         "nbinsx": 10,
         "opacity": 0.8,
         "orientation": "v",
         "type": "histogram",
         "x": [
          0,
          0.011235955056179775,
          0.02247191011235955,
          0.033707865168539325,
          0.0449438202247191,
          0.056179775280898875,
          0.06741573033707865,
          0.07865168539325842,
          0.0898876404494382,
          0.10112359550561797,
          0.11235955056179775,
          0.12359550561797752,
          0.1348314606741573,
          0.14606741573033707,
          0.15730337078651685,
          0.16853932584269662,
          0.1797752808988764,
          0.19101123595505617,
          0.20224719101123595,
          0.21348314606741572,
          0.2247191011235955,
          0.23595505617977527,
          0.24719101123595505,
          0.2584269662921348,
          0.2696629213483146,
          0.2808988764044944,
          0.29213483146067415,
          0.3033707865168539,
          0.3146067415730337,
          0.3258426966292135,
          0.33707865168539325,
          0.348314606741573,
          0.3595505617977528,
          0.3707865168539326,
          0.38202247191011235,
          0.3932584269662921,
          0.4044943820224719,
          0.4157303370786517,
          0.42696629213483145,
          0.4382022471910112,
          0.449438202247191,
          0.4606741573033708,
          0.47191011235955055,
          0.4831460674157303,
          0.4943820224719101,
          0.5056179775280899,
          0.5168539325842696,
          0.5280898876404494,
          0.5393258426966292,
          0.550561797752809,
          0.5617977528089888,
          0.5730337078651685,
          0.5842696629213483,
          0.5955056179775281,
          0.6067415730337078,
          0.6179775280898876,
          0.6292134831460674,
          0.6404494382022472,
          0.651685393258427,
          0.6629213483146067,
          0.6741573033707865,
          0.6853932584269663,
          0.696629213483146,
          0.7078651685393258,
          0.7191011235955056,
          0.7303370786516854,
          0.7415730337078652,
          0.7528089887640449,
          0.7640449438202247,
          0.7752808988764045,
          0.7865168539325842,
          0.797752808988764,
          0.8089887640449438,
          0.8202247191011236,
          0.8314606741573034,
          0.8426966292134831,
          0.8539325842696629,
          0.8651685393258427,
          0.8764044943820224,
          0.8876404494382022,
          0.898876404494382,
          0.9101123595505618,
          0.9213483146067416,
          0.9325842696629213,
          0.9438202247191011,
          0.9550561797752809,
          0.9662921348314606,
          0.9775280898876404,
          0.9887640449438202,
          1
         ],
         "xaxis": "x",
         "yaxis": "y"
        },
        {
         "line": {
          "color": "rgba(128, 128, 128, 1.0)",
          "dash": "solid",
          "shape": "linear",
          "width": 1.3
         },
         "marker": {
          "size": 2,
          "symbol": "circle"
         },
         "mode": "markers",
         "name": "Angle",
         "text": "",
         "type": "scatter",
         "x": [
          0,
          0.0112361914866269,
          0.022473801878403855,
          0.033714251693908764,
          0.04495896468367527,
          0.05620936945895234,
          0.06746690113589068,
          0.07873300300044773,
          0.09000912819943202,
          0.10129674146327317,
          0.1125973208663049,
          0.12391235963058865,
          0.13524336797958683,
          0.14659187504832139,
          0.15795943085702643,
          0.16934760835573082,
          0.1807580055476887,
          0.19219224770012275,
          0.20365198965135825,
          0.215138918224118,
          0.2266547547555229,
          0.23820125775521336,
          0.24978022570398173,
          0.2613935000063999,
          0.27304296811215273,
          0.28473056682216413,
          0.2964582857971484,
          0.3082281712879565,
          0.32004233010904215,
          0.33190293387857434,
          0.34381222355120905,
          0.3557725142723405,
          0.3677862005858299,
          0.3798557620308144,
          0.39198376916729405,
          0.40417289007485274,
          0.4164258973741852,
          0.4287456758271806,
          0.4411352305782735,
          0.4535976961077717,
          0.4661363459770773,
          0.47875460345634724,
          0.4914560531374482,
          0.504244453649345,
          0.5171237516096979,
          0.5300980969658786,
          0.5431718599013835,
          0.5563496495104033,
          0.5696363344749001,
          0.5830370660159788,
          0.5965573034358364,
          0.61020284261971,
          0.6239798479309642,
          0.6378948880091925,
          0.6519549760740968,
          0.6661676154508613,
          0.6805408511708586,
          0.6950833286713374,
          0.7098043608277433,
          0.7247140048136596,
          0.7398231506107062,
          0.755143623403672,
          0.7706883026209326,
          0.7864712610524651,
          0.8025079283462659,
          0.8188152843163157,
          0.8354120889860214,
          0.8523191582746295,
          0.8695596969035138,
          0.8871597037363116,
          0.9051484697893567,
          0.9235591961869238,
          0.9424297693582019,
          0.9618037453001346,
          0.9817316162040961,
          1.0022724651873682,
          1.0234961651001602,
          1.0454863573258042,
          1.0683445778033418,
          1.0921961211202902,
          1.1171986306871249,
          1.1435551442229095,
          1.1715347916796035,
          1.2015074685364107,
          1.2340060985622072,
          1.2698492479239765,
          1.3104160047012863,
          1.3583977269954215,
          1.420749271217941,
          1.5707963267948966
         ],
         "xaxis": "x2",
         "y": [
          0,
          0.011235955056179775,
          0.02247191011235955,
          0.033707865168539325,
          0.0449438202247191,
          0.056179775280898875,
          0.06741573033707865,
          0.07865168539325842,
          0.0898876404494382,
          0.10112359550561797,
          0.11235955056179775,
          0.12359550561797752,
          0.1348314606741573,
          0.14606741573033707,
          0.15730337078651685,
          0.16853932584269662,
          0.1797752808988764,
          0.19101123595505617,
          0.20224719101123595,
          0.21348314606741572,
          0.2247191011235955,
          0.23595505617977527,
          0.24719101123595505,
          0.2584269662921348,
          0.2696629213483146,
          0.2808988764044944,
          0.29213483146067415,
          0.3033707865168539,
          0.3146067415730337,
          0.3258426966292135,
          0.33707865168539325,
          0.348314606741573,
          0.3595505617977528,
          0.3707865168539326,
          0.38202247191011235,
          0.3932584269662921,
          0.4044943820224719,
          0.4157303370786517,
          0.42696629213483145,
          0.4382022471910112,
          0.449438202247191,
          0.4606741573033708,
          0.47191011235955055,
          0.4831460674157303,
          0.4943820224719101,
          0.5056179775280899,
          0.5168539325842696,
          0.5280898876404494,
          0.5393258426966292,
          0.550561797752809,
          0.5617977528089888,
          0.5730337078651685,
          0.5842696629213483,
          0.5955056179775281,
          0.6067415730337078,
          0.6179775280898876,
          0.6292134831460674,
          0.6404494382022472,
          0.651685393258427,
          0.6629213483146067,
          0.6741573033707865,
          0.6853932584269663,
          0.696629213483146,
          0.7078651685393258,
          0.7191011235955056,
          0.7303370786516854,
          0.7415730337078652,
          0.7528089887640449,
          0.7640449438202247,
          0.7752808988764045,
          0.7865168539325842,
          0.797752808988764,
          0.8089887640449438,
          0.8202247191011236,
          0.8314606741573034,
          0.8426966292134831,
          0.8539325842696629,
          0.8651685393258427,
          0.8764044943820224,
          0.8876404494382022,
          0.898876404494382,
          0.9101123595505618,
          0.9213483146067416,
          0.9325842696629213,
          0.9438202247191011,
          0.9550561797752809,
          0.9662921348314606,
          0.9775280898876404,
          0.9887640449438202,
          1
         ],
         "yaxis": "y2"
        },
        {
         "line": {
          "color": "rgba(128, 128, 128, 1.0)",
          "dash": "solid",
          "shape": "linear",
          "width": 1.3
         },
         "marker": {
          "size": 2,
          "symbol": "circle"
         },
         "mode": "markers",
         "name": "Angle",
         "text": "",
         "type": "scatter",
         "x": [
          1.5707963267948966,
          1.5595601353082698,
          1.5483225249164927,
          1.537082075100988,
          1.5258373621112213,
          1.5145869573359443,
          1.503329425659006,
          1.492063323794449,
          1.4807871985954646,
          1.4694995853316235,
          1.4581990059285916,
          1.446883967164308,
          1.4355529588153098,
          1.4242044517465753,
          1.41283689593787,
          1.4014487184391657,
          1.3900383212472078,
          1.3786040790947738,
          1.3671443371435383,
          1.3556574085707787,
          1.3441415720393737,
          1.3325950690396833,
          1.321016101090915,
          1.3094028267884967,
          1.2977533586827439,
          1.2860657599727325,
          1.2743380409977483,
          1.2625681555069401,
          1.2507539966858545,
          1.2388933929163224,
          1.2269841032436877,
          1.215023812522556,
          1.2030101262090667,
          1.1909405647640823,
          1.1788125576276025,
          1.1666234367200439,
          1.1543704294207113,
          1.142050650967716,
          1.1296610962166231,
          1.1171986306871249,
          1.1046599808178192,
          1.0920417233385493,
          1.0793402736574484,
          1.0665518731455517,
          1.0536725751851987,
          1.040698229829018,
          1.027624466893513,
          1.0144466772844933,
          1.0011599923199965,
          0.9877592607789177,
          0.9742390233590602,
          0.9605934841751865,
          0.9468164788639325,
          0.9329014387857041,
          0.9188413507207999,
          0.9046287113440353,
          0.8902554756240381,
          0.8757129981235592,
          0.8609919659671533,
          0.8460823219812371,
          0.8309731761841903,
          0.8156527033912246,
          0.800108024173964,
          0.7843250657424314,
          0.7682883984486306,
          0.751981042478581,
          0.7353842378088752,
          0.7184771685202672,
          0.7012366298913829,
          0.6836366230585851,
          0.6656478570055399,
          0.6472371306079728,
          0.6283665574366947,
          0.608992581494762,
          0.5890647105908006,
          0.5685238616075284,
          0.5473001616947364,
          0.5253099694690924,
          0.5024517489915548,
          0.47860020567460654,
          0.4535976961077718,
          0.42724118257198707,
          0.3992615351152931,
          0.36928885825848606,
          0.33679022823268945,
          0.30094707887092004,
          0.2603803220936104,
          0.21239859979947517,
          0.15004705557695563,
          0
         ],
         "xaxis": "x3",
         "y": [
          0,
          0.011235955056179775,
          0.02247191011235955,
          0.033707865168539325,
          0.0449438202247191,
          0.056179775280898875,
          0.06741573033707865,
          0.07865168539325842,
          0.0898876404494382,
          0.10112359550561797,
          0.11235955056179775,
          0.12359550561797752,
          0.1348314606741573,
          0.14606741573033707,
          0.15730337078651685,
          0.16853932584269662,
          0.1797752808988764,
          0.19101123595505617,
          0.20224719101123595,
          0.21348314606741572,
          0.2247191011235955,
          0.23595505617977527,
          0.24719101123595505,
          0.2584269662921348,
          0.2696629213483146,
          0.2808988764044944,
          0.29213483146067415,
          0.3033707865168539,
          0.3146067415730337,
          0.3258426966292135,
          0.33707865168539325,
          0.348314606741573,
          0.3595505617977528,
          0.3707865168539326,
          0.38202247191011235,
          0.3932584269662921,
          0.4044943820224719,
          0.4157303370786517,
          0.42696629213483145,
          0.4382022471910112,
          0.449438202247191,
          0.4606741573033708,
          0.47191011235955055,
          0.4831460674157303,
          0.4943820224719101,
          0.5056179775280899,
          0.5168539325842696,
          0.5280898876404494,
          0.5393258426966292,
          0.550561797752809,
          0.5617977528089888,
          0.5730337078651685,
          0.5842696629213483,
          0.5955056179775281,
          0.6067415730337078,
          0.6179775280898876,
          0.6292134831460674,
          0.6404494382022472,
          0.651685393258427,
          0.6629213483146067,
          0.6741573033707865,
          0.6853932584269663,
          0.696629213483146,
          0.7078651685393258,
          0.7191011235955056,
          0.7303370786516854,
          0.7415730337078652,
          0.7528089887640449,
          0.7640449438202247,
          0.7752808988764045,
          0.7865168539325842,
          0.797752808988764,
          0.8089887640449438,
          0.8202247191011236,
          0.8314606741573034,
          0.8426966292134831,
          0.8539325842696629,
          0.8651685393258427,
          0.8764044943820224,
          0.8876404494382022,
          0.898876404494382,
          0.9101123595505618,
          0.9213483146067416,
          0.9325842696629213,
          0.9438202247191011,
          0.9550561797752809,
          0.9662921348314606,
          0.9775280898876404,
          0.9887640449438202,
          1
         ],
         "yaxis": "y3"
        },
        {
         "line": {
          "color": "rgba(128, 128, 128, 1.0)",
          "dash": "solid",
          "shape": "linear",
          "width": 1.3
         },
         "marker": {
          "size": 2,
          "symbol": "circle"
         },
         "mode": "markers",
         "name": "Sin",
         "text": "",
         "type": "scatter",
         "x": [
          0,
          0.011235955056179775,
          0.02247191011235955,
          0.033707865168539325,
          0.0449438202247191,
          0.056179775280898875,
          0.06741573033707865,
          0.07865168539325842,
          0.0898876404494382,
          0.10112359550561797,
          0.11235955056179775,
          0.12359550561797752,
          0.1348314606741573,
          0.14606741573033707,
          0.15730337078651685,
          0.16853932584269662,
          0.1797752808988764,
          0.19101123595505617,
          0.20224719101123595,
          0.21348314606741572,
          0.2247191011235955,
          0.23595505617977527,
          0.24719101123595505,
          0.2584269662921348,
          0.2696629213483146,
          0.2808988764044944,
          0.29213483146067415,
          0.3033707865168539,
          0.3146067415730337,
          0.3258426966292135,
          0.33707865168539325,
          0.348314606741573,
          0.3595505617977528,
          0.3707865168539326,
          0.38202247191011235,
          0.3932584269662921,
          0.4044943820224719,
          0.4157303370786517,
          0.42696629213483145,
          0.4382022471910112,
          0.449438202247191,
          0.4606741573033708,
          0.47191011235955055,
          0.4831460674157303,
          0.4943820224719101,
          0.5056179775280899,
          0.5168539325842696,
          0.5280898876404494,
          0.5393258426966292,
          0.550561797752809,
          0.5617977528089888,
          0.5730337078651685,
          0.5842696629213483,
          0.5955056179775281,
          0.6067415730337078,
          0.6179775280898876,
          0.6292134831460674,
          0.6404494382022472,
          0.651685393258427,
          0.6629213483146067,
          0.6741573033707865,
          0.6853932584269663,
          0.696629213483146,
          0.7078651685393258,
          0.7191011235955056,
          0.7303370786516854,
          0.7415730337078652,
          0.7528089887640449,
          0.7640449438202247,
          0.7752808988764045,
          0.7865168539325842,
          0.797752808988764,
          0.8089887640449438,
          0.8202247191011236,
          0.8314606741573034,
          0.8426966292134831,
          0.8539325842696629,
          0.8651685393258427,
          0.8764044943820224,
          0.8876404494382022,
          0.898876404494382,
          0.9101123595505618,
          0.9213483146067416,
          0.9325842696629213,
          0.9438202247191011,
          0.9550561797752809,
          0.9662921348314606,
          0.9775280898876404,
          0.9887640449438202,
          1
         ],
         "xaxis": "x4",
         "y": [
          0,
          0.0112361914866269,
          0.022473801878403855,
          0.033714251693908764,
          0.04495896468367527,
          0.05620936945895234,
          0.06746690113589068,
          0.07873300300044773,
          0.09000912819943202,
          0.10129674146327317,
          0.1125973208663049,
          0.12391235963058865,
          0.13524336797958683,
          0.14659187504832139,
          0.15795943085702643,
          0.16934760835573082,
          0.1807580055476887,
          0.19219224770012275,
          0.20365198965135825,
          0.215138918224118,
          0.2266547547555229,
          0.23820125775521336,
          0.24978022570398173,
          0.2613935000063999,
          0.27304296811215273,
          0.28473056682216413,
          0.2964582857971484,
          0.3082281712879565,
          0.32004233010904215,
          0.33190293387857434,
          0.34381222355120905,
          0.3557725142723405,
          0.3677862005858299,
          0.3798557620308144,
          0.39198376916729405,
          0.40417289007485274,
          0.4164258973741852,
          0.4287456758271806,
          0.4411352305782735,
          0.4535976961077717,
          0.4661363459770773,
          0.47875460345634724,
          0.4914560531374482,
          0.504244453649345,
          0.5171237516096979,
          0.5300980969658786,
          0.5431718599013835,
          0.5563496495104033,
          0.5696363344749001,
          0.5830370660159788,
          0.5965573034358364,
          0.61020284261971,
          0.6239798479309642,
          0.6378948880091925,
          0.6519549760740968,
          0.6661676154508613,
          0.6805408511708586,
          0.6950833286713374,
          0.7098043608277433,
          0.7247140048136596,
          0.7398231506107062,
          0.755143623403672,
          0.7706883026209326,
          0.7864712610524651,
          0.8025079283462659,
          0.8188152843163157,
          0.8354120889860214,
          0.8523191582746295,
          0.8695596969035138,
          0.8871597037363116,
          0.9051484697893567,
          0.9235591961869238,
          0.9424297693582019,
          0.9618037453001346,
          0.9817316162040961,
          1.0022724651873682,
          1.0234961651001602,
          1.0454863573258042,
          1.0683445778033418,
          1.0921961211202902,
          1.1171986306871249,
          1.1435551442229095,
          1.1715347916796035,
          1.2015074685364107,
          1.2340060985622072,
          1.2698492479239765,
          1.3104160047012863,
          1.3583977269954215,
          1.420749271217941,
          1.5707963267948966
         ],
         "yaxis": "y4"
        },
        {
         "histfunc": "count",
         "histnorm": "",
         "marker": {
          "color": "rgba(55, 128, 191, 1.0)",
          "line": {
           "color": "#4D5663",
           "width": 1.3
          }
         },
         "name": "Sin",
         "nbinsx": 10,
         "opacity": 0.8,
         "orientation": "v",
         "type": "histogram",
         "x": [
          0,
          0.0112361914866269,
          0.022473801878403855,
          0.033714251693908764,
          0.04495896468367527,
          0.05620936945895234,
          0.06746690113589068,
          0.07873300300044773,
          0.09000912819943202,
          0.10129674146327317,
          0.1125973208663049,
          0.12391235963058865,
          0.13524336797958683,
          0.14659187504832139,
          0.15795943085702643,
          0.16934760835573082,
          0.1807580055476887,
          0.19219224770012275,
          0.20365198965135825,
          0.215138918224118,
          0.2266547547555229,
          0.23820125775521336,
          0.24978022570398173,
          0.2613935000063999,
          0.27304296811215273,
          0.28473056682216413,
          0.2964582857971484,
          0.3082281712879565,
          0.32004233010904215,
          0.33190293387857434,
          0.34381222355120905,
          0.3557725142723405,
          0.3677862005858299,
          0.3798557620308144,
          0.39198376916729405,
          0.40417289007485274,
          0.4164258973741852,
          0.4287456758271806,
          0.4411352305782735,
          0.4535976961077717,
          0.4661363459770773,
          0.47875460345634724,
          0.4914560531374482,
          0.504244453649345,
          0.5171237516096979,
          0.5300980969658786,
          0.5431718599013835,
          0.5563496495104033,
          0.5696363344749001,
          0.5830370660159788,
          0.5965573034358364,
          0.61020284261971,
          0.6239798479309642,
          0.6378948880091925,
          0.6519549760740968,
          0.6661676154508613,
          0.6805408511708586,
          0.6950833286713374,
          0.7098043608277433,
          0.7247140048136596,
          0.7398231506107062,
          0.755143623403672,
          0.7706883026209326,
          0.7864712610524651,
          0.8025079283462659,
          0.8188152843163157,
          0.8354120889860214,
          0.8523191582746295,
          0.8695596969035138,
          0.8871597037363116,
          0.9051484697893567,
          0.9235591961869238,
          0.9424297693582019,
          0.9618037453001346,
          0.9817316162040961,
          1.0022724651873682,
          1.0234961651001602,
          1.0454863573258042,
          1.0683445778033418,
          1.0921961211202902,
          1.1171986306871249,
          1.1435551442229095,
          1.1715347916796035,
          1.2015074685364107,
          1.2340060985622072,
          1.2698492479239765,
          1.3104160047012863,
          1.3583977269954215,
          1.420749271217941,
          1.5707963267948966
         ],
         "xaxis": "x5",
         "yaxis": "y5"
        },
        {
         "line": {
          "color": "rgba(128, 128, 128, 1.0)",
          "dash": "solid",
          "shape": "linear",
          "width": 1.3
         },
         "marker": {
          "size": 2,
          "symbol": "circle"
         },
         "mode": "markers",
         "name": "Sin",
         "text": "",
         "type": "scatter",
         "x": [
          1.5707963267948966,
          1.5595601353082698,
          1.5483225249164927,
          1.537082075100988,
          1.5258373621112213,
          1.5145869573359443,
          1.503329425659006,
          1.492063323794449,
          1.4807871985954646,
          1.4694995853316235,
          1.4581990059285916,
          1.446883967164308,
          1.4355529588153098,
          1.4242044517465753,
          1.41283689593787,
          1.4014487184391657,
          1.3900383212472078,
          1.3786040790947738,
          1.3671443371435383,
          1.3556574085707787,
          1.3441415720393737,
          1.3325950690396833,
          1.321016101090915,
          1.3094028267884967,
          1.2977533586827439,
          1.2860657599727325,
          1.2743380409977483,
          1.2625681555069401,
          1.2507539966858545,
          1.2388933929163224,
          1.2269841032436877,
          1.215023812522556,
          1.2030101262090667,
          1.1909405647640823,
          1.1788125576276025,
          1.1666234367200439,
          1.1543704294207113,
          1.142050650967716,
          1.1296610962166231,
          1.1171986306871249,
          1.1046599808178192,
          1.0920417233385493,
          1.0793402736574484,
          1.0665518731455517,
          1.0536725751851987,
          1.040698229829018,
          1.027624466893513,
          1.0144466772844933,
          1.0011599923199965,
          0.9877592607789177,
          0.9742390233590602,
          0.9605934841751865,
          0.9468164788639325,
          0.9329014387857041,
          0.9188413507207999,
          0.9046287113440353,
          0.8902554756240381,
          0.8757129981235592,
          0.8609919659671533,
          0.8460823219812371,
          0.8309731761841903,
          0.8156527033912246,
          0.800108024173964,
          0.7843250657424314,
          0.7682883984486306,
          0.751981042478581,
          0.7353842378088752,
          0.7184771685202672,
          0.7012366298913829,
          0.6836366230585851,
          0.6656478570055399,
          0.6472371306079728,
          0.6283665574366947,
          0.608992581494762,
          0.5890647105908006,
          0.5685238616075284,
          0.5473001616947364,
          0.5253099694690924,
          0.5024517489915548,
          0.47860020567460654,
          0.4535976961077718,
          0.42724118257198707,
          0.3992615351152931,
          0.36928885825848606,
          0.33679022823268945,
          0.30094707887092004,
          0.2603803220936104,
          0.21239859979947517,
          0.15004705557695563,
          0
         ],
         "xaxis": "x6",
         "y": [
          0,
          0.0112361914866269,
          0.022473801878403855,
          0.033714251693908764,
          0.04495896468367527,
          0.05620936945895234,
          0.06746690113589068,
          0.07873300300044773,
          0.09000912819943202,
          0.10129674146327317,
          0.1125973208663049,
          0.12391235963058865,
          0.13524336797958683,
          0.14659187504832139,
          0.15795943085702643,
          0.16934760835573082,
          0.1807580055476887,
          0.19219224770012275,
          0.20365198965135825,
          0.215138918224118,
          0.2266547547555229,
          0.23820125775521336,
          0.24978022570398173,
          0.2613935000063999,
          0.27304296811215273,
          0.28473056682216413,
          0.2964582857971484,
          0.3082281712879565,
          0.32004233010904215,
          0.33190293387857434,
          0.34381222355120905,
          0.3557725142723405,
          0.3677862005858299,
          0.3798557620308144,
          0.39198376916729405,
          0.40417289007485274,
          0.4164258973741852,
          0.4287456758271806,
          0.4411352305782735,
          0.4535976961077717,
          0.4661363459770773,
          0.47875460345634724,
          0.4914560531374482,
          0.504244453649345,
          0.5171237516096979,
          0.5300980969658786,
          0.5431718599013835,
          0.5563496495104033,
          0.5696363344749001,
          0.5830370660159788,
          0.5965573034358364,
          0.61020284261971,
          0.6239798479309642,
          0.6378948880091925,
          0.6519549760740968,
          0.6661676154508613,
          0.6805408511708586,
          0.6950833286713374,
          0.7098043608277433,
          0.7247140048136596,
          0.7398231506107062,
          0.755143623403672,
          0.7706883026209326,
          0.7864712610524651,
          0.8025079283462659,
          0.8188152843163157,
          0.8354120889860214,
          0.8523191582746295,
          0.8695596969035138,
          0.8871597037363116,
          0.9051484697893567,
          0.9235591961869238,
          0.9424297693582019,
          0.9618037453001346,
          0.9817316162040961,
          1.0022724651873682,
          1.0234961651001602,
          1.0454863573258042,
          1.0683445778033418,
          1.0921961211202902,
          1.1171986306871249,
          1.1435551442229095,
          1.1715347916796035,
          1.2015074685364107,
          1.2340060985622072,
          1.2698492479239765,
          1.3104160047012863,
          1.3583977269954215,
          1.420749271217941,
          1.5707963267948966
         ],
         "yaxis": "y6"
        },
        {
         "line": {
          "color": "rgba(128, 128, 128, 1.0)",
          "dash": "solid",
          "shape": "linear",
          "width": 1.3
         },
         "marker": {
          "size": 2,
          "symbol": "circle"
         },
         "mode": "markers",
         "name": "Cos",
         "text": "",
         "type": "scatter",
         "x": [
          0,
          0.011235955056179775,
          0.02247191011235955,
          0.033707865168539325,
          0.0449438202247191,
          0.056179775280898875,
          0.06741573033707865,
          0.07865168539325842,
          0.0898876404494382,
          0.10112359550561797,
          0.11235955056179775,
          0.12359550561797752,
          0.1348314606741573,
          0.14606741573033707,
          0.15730337078651685,
          0.16853932584269662,
          0.1797752808988764,
          0.19101123595505617,
          0.20224719101123595,
          0.21348314606741572,
          0.2247191011235955,
          0.23595505617977527,
          0.24719101123595505,
          0.2584269662921348,
          0.2696629213483146,
          0.2808988764044944,
          0.29213483146067415,
          0.3033707865168539,
          0.3146067415730337,
          0.3258426966292135,
          0.33707865168539325,
          0.348314606741573,
          0.3595505617977528,
          0.3707865168539326,
          0.38202247191011235,
          0.3932584269662921,
          0.4044943820224719,
          0.4157303370786517,
          0.42696629213483145,
          0.4382022471910112,
          0.449438202247191,
          0.4606741573033708,
          0.47191011235955055,
          0.4831460674157303,
          0.4943820224719101,
          0.5056179775280899,
          0.5168539325842696,
          0.5280898876404494,
          0.5393258426966292,
          0.550561797752809,
          0.5617977528089888,
          0.5730337078651685,
          0.5842696629213483,
          0.5955056179775281,
          0.6067415730337078,
          0.6179775280898876,
          0.6292134831460674,
          0.6404494382022472,
          0.651685393258427,
          0.6629213483146067,
          0.6741573033707865,
          0.6853932584269663,
          0.696629213483146,
          0.7078651685393258,
          0.7191011235955056,
          0.7303370786516854,
          0.7415730337078652,
          0.7528089887640449,
          0.7640449438202247,
          0.7752808988764045,
          0.7865168539325842,
          0.797752808988764,
          0.8089887640449438,
          0.8202247191011236,
          0.8314606741573034,
          0.8426966292134831,
          0.8539325842696629,
          0.8651685393258427,
          0.8764044943820224,
          0.8876404494382022,
          0.898876404494382,
          0.9101123595505618,
          0.9213483146067416,
          0.9325842696629213,
          0.9438202247191011,
          0.9550561797752809,
          0.9662921348314606,
          0.9775280898876404,
          0.9887640449438202,
          1
         ],
         "xaxis": "x7",
         "y": [
          1.5707963267948966,
          1.5595601353082698,
          1.5483225249164927,
          1.537082075100988,
          1.5258373621112213,
          1.5145869573359443,
          1.503329425659006,
          1.492063323794449,
          1.4807871985954646,
          1.4694995853316235,
          1.4581990059285916,
          1.446883967164308,
          1.4355529588153098,
          1.4242044517465753,
          1.41283689593787,
          1.4014487184391657,
          1.3900383212472078,
          1.3786040790947738,
          1.3671443371435383,
          1.3556574085707787,
          1.3441415720393737,
          1.3325950690396833,
          1.321016101090915,
          1.3094028267884967,
          1.2977533586827439,
          1.2860657599727325,
          1.2743380409977483,
          1.2625681555069401,
          1.2507539966858545,
          1.2388933929163224,
          1.2269841032436877,
          1.215023812522556,
          1.2030101262090667,
          1.1909405647640823,
          1.1788125576276025,
          1.1666234367200439,
          1.1543704294207113,
          1.142050650967716,
          1.1296610962166231,
          1.1171986306871249,
          1.1046599808178192,
          1.0920417233385493,
          1.0793402736574484,
          1.0665518731455517,
          1.0536725751851987,
          1.040698229829018,
          1.027624466893513,
          1.0144466772844933,
          1.0011599923199965,
          0.9877592607789177,
          0.9742390233590602,
          0.9605934841751865,
          0.9468164788639325,
          0.9329014387857041,
          0.9188413507207999,
          0.9046287113440353,
          0.8902554756240381,
          0.8757129981235592,
          0.8609919659671533,
          0.8460823219812371,
          0.8309731761841903,
          0.8156527033912246,
          0.800108024173964,
          0.7843250657424314,
          0.7682883984486306,
          0.751981042478581,
          0.7353842378088752,
          0.7184771685202672,
          0.7012366298913829,
          0.6836366230585851,
          0.6656478570055399,
          0.6472371306079728,
          0.6283665574366947,
          0.608992581494762,
          0.5890647105908006,
          0.5685238616075284,
          0.5473001616947364,
          0.5253099694690924,
          0.5024517489915548,
          0.47860020567460654,
          0.4535976961077718,
          0.42724118257198707,
          0.3992615351152931,
          0.36928885825848606,
          0.33679022823268945,
          0.30094707887092004,
          0.2603803220936104,
          0.21239859979947517,
          0.15004705557695563,
          0
         ],
         "yaxis": "y7"
        },
        {
         "line": {
          "color": "rgba(128, 128, 128, 1.0)",
          "dash": "solid",
          "shape": "linear",
          "width": 1.3
         },
         "marker": {
          "size": 2,
          "symbol": "circle"
         },
         "mode": "markers",
         "name": "Cos",
         "text": "",
         "type": "scatter",
         "x": [
          0,
          0.0112361914866269,
          0.022473801878403855,
          0.033714251693908764,
          0.04495896468367527,
          0.05620936945895234,
          0.06746690113589068,
          0.07873300300044773,
          0.09000912819943202,
          0.10129674146327317,
          0.1125973208663049,
          0.12391235963058865,
          0.13524336797958683,
          0.14659187504832139,
          0.15795943085702643,
          0.16934760835573082,
          0.1807580055476887,
          0.19219224770012275,
          0.20365198965135825,
          0.215138918224118,
          0.2266547547555229,
          0.23820125775521336,
          0.24978022570398173,
          0.2613935000063999,
          0.27304296811215273,
          0.28473056682216413,
          0.2964582857971484,
          0.3082281712879565,
          0.32004233010904215,
          0.33190293387857434,
          0.34381222355120905,
          0.3557725142723405,
          0.3677862005858299,
          0.3798557620308144,
          0.39198376916729405,
          0.40417289007485274,
          0.4164258973741852,
          0.4287456758271806,
          0.4411352305782735,
          0.4535976961077717,
          0.4661363459770773,
          0.47875460345634724,
          0.4914560531374482,
          0.504244453649345,
          0.5171237516096979,
          0.5300980969658786,
          0.5431718599013835,
          0.5563496495104033,
          0.5696363344749001,
          0.5830370660159788,
          0.5965573034358364,
          0.61020284261971,
          0.6239798479309642,
          0.6378948880091925,
          0.6519549760740968,
          0.6661676154508613,
          0.6805408511708586,
          0.6950833286713374,
          0.7098043608277433,
          0.7247140048136596,
          0.7398231506107062,
          0.755143623403672,
          0.7706883026209326,
          0.7864712610524651,
          0.8025079283462659,
          0.8188152843163157,
          0.8354120889860214,
          0.8523191582746295,
          0.8695596969035138,
          0.8871597037363116,
          0.9051484697893567,
          0.9235591961869238,
          0.9424297693582019,
          0.9618037453001346,
          0.9817316162040961,
          1.0022724651873682,
          1.0234961651001602,
          1.0454863573258042,
          1.0683445778033418,
          1.0921961211202902,
          1.1171986306871249,
          1.1435551442229095,
          1.1715347916796035,
          1.2015074685364107,
          1.2340060985622072,
          1.2698492479239765,
          1.3104160047012863,
          1.3583977269954215,
          1.420749271217941,
          1.5707963267948966
         ],
         "xaxis": "x8",
         "y": [
          1.5707963267948966,
          1.5595601353082698,
          1.5483225249164927,
          1.537082075100988,
          1.5258373621112213,
          1.5145869573359443,
          1.503329425659006,
          1.492063323794449,
          1.4807871985954646,
          1.4694995853316235,
          1.4581990059285916,
          1.446883967164308,
          1.4355529588153098,
          1.4242044517465753,
          1.41283689593787,
          1.4014487184391657,
          1.3900383212472078,
          1.3786040790947738,
          1.3671443371435383,
          1.3556574085707787,
          1.3441415720393737,
          1.3325950690396833,
          1.321016101090915,
          1.3094028267884967,
          1.2977533586827439,
          1.2860657599727325,
          1.2743380409977483,
          1.2625681555069401,
          1.2507539966858545,
          1.2388933929163224,
          1.2269841032436877,
          1.215023812522556,
          1.2030101262090667,
          1.1909405647640823,
          1.1788125576276025,
          1.1666234367200439,
          1.1543704294207113,
          1.142050650967716,
          1.1296610962166231,
          1.1171986306871249,
          1.1046599808178192,
          1.0920417233385493,
          1.0793402736574484,
          1.0665518731455517,
          1.0536725751851987,
          1.040698229829018,
          1.027624466893513,
          1.0144466772844933,
          1.0011599923199965,
          0.9877592607789177,
          0.9742390233590602,
          0.9605934841751865,
          0.9468164788639325,
          0.9329014387857041,
          0.9188413507207999,
          0.9046287113440353,
          0.8902554756240381,
          0.8757129981235592,
          0.8609919659671533,
          0.8460823219812371,
          0.8309731761841903,
          0.8156527033912246,
          0.800108024173964,
          0.7843250657424314,
          0.7682883984486306,
          0.751981042478581,
          0.7353842378088752,
          0.7184771685202672,
          0.7012366298913829,
          0.6836366230585851,
          0.6656478570055399,
          0.6472371306079728,
          0.6283665574366947,
          0.608992581494762,
          0.5890647105908006,
          0.5685238616075284,
          0.5473001616947364,
          0.5253099694690924,
          0.5024517489915548,
          0.47860020567460654,
          0.4535976961077718,
          0.42724118257198707,
          0.3992615351152931,
          0.36928885825848606,
          0.33679022823268945,
          0.30094707887092004,
          0.2603803220936104,
          0.21239859979947517,
          0.15004705557695563,
          0
         ],
         "yaxis": "y8"
        },
        {
         "histfunc": "count",
         "histnorm": "",
         "marker": {
          "color": "rgba(50, 171, 96, 1.0)",
          "line": {
           "color": "#4D5663",
           "width": 1.3
          }
         },
         "name": "Cos",
         "nbinsx": 10,
         "opacity": 0.8,
         "orientation": "v",
         "type": "histogram",
         "x": [
          1.5707963267948966,
          1.5595601353082698,
          1.5483225249164927,
          1.537082075100988,
          1.5258373621112213,
          1.5145869573359443,
          1.503329425659006,
          1.492063323794449,
          1.4807871985954646,
          1.4694995853316235,
          1.4581990059285916,
          1.446883967164308,
          1.4355529588153098,
          1.4242044517465753,
          1.41283689593787,
          1.4014487184391657,
          1.3900383212472078,
          1.3786040790947738,
          1.3671443371435383,
          1.3556574085707787,
          1.3441415720393737,
          1.3325950690396833,
          1.321016101090915,
          1.3094028267884967,
          1.2977533586827439,
          1.2860657599727325,
          1.2743380409977483,
          1.2625681555069401,
          1.2507539966858545,
          1.2388933929163224,
          1.2269841032436877,
          1.215023812522556,
          1.2030101262090667,
          1.1909405647640823,
          1.1788125576276025,
          1.1666234367200439,
          1.1543704294207113,
          1.142050650967716,
          1.1296610962166231,
          1.1171986306871249,
          1.1046599808178192,
          1.0920417233385493,
          1.0793402736574484,
          1.0665518731455517,
          1.0536725751851987,
          1.040698229829018,
          1.027624466893513,
          1.0144466772844933,
          1.0011599923199965,
          0.9877592607789177,
          0.9742390233590602,
          0.9605934841751865,
          0.9468164788639325,
          0.9329014387857041,
          0.9188413507207999,
          0.9046287113440353,
          0.8902554756240381,
          0.8757129981235592,
          0.8609919659671533,
          0.8460823219812371,
          0.8309731761841903,
          0.8156527033912246,
          0.800108024173964,
          0.7843250657424314,
          0.7682883984486306,
          0.751981042478581,
          0.7353842378088752,
          0.7184771685202672,
          0.7012366298913829,
          0.6836366230585851,
          0.6656478570055399,
          0.6472371306079728,
          0.6283665574366947,
          0.608992581494762,
          0.5890647105908006,
          0.5685238616075284,
          0.5473001616947364,
          0.5253099694690924,
          0.5024517489915548,
          0.47860020567460654,
          0.4535976961077718,
          0.42724118257198707,
          0.3992615351152931,
          0.36928885825848606,
          0.33679022823268945,
          0.30094707887092004,
          0.2603803220936104,
          0.21239859979947517,
          0.15004705557695563,
          0
         ],
         "xaxis": "x9",
         "yaxis": "y9"
        }
       ],
       "layout": {
        "bargap": 0.02,
        "legend": {
         "bgcolor": "#F5F6F9",
         "font": {
          "color": "#4D5663"
         }
        },
        "paper_bgcolor": "#F5F6F9",
        "plot_bgcolor": "#F5F6F9",
        "showlegend": false,
        "template": {
         "data": {
          "bar": [
           {
            "error_x": {
             "color": "#2a3f5f"
            },
            "error_y": {
             "color": "#2a3f5f"
            },
            "marker": {
             "line": {
              "color": "#E5ECF6",
              "width": 0.5
             },
             "pattern": {
              "fillmode": "overlay",
              "size": 10,
              "solidity": 0.2
             }
            },
            "type": "bar"
           }
          ],
          "barpolar": [
           {
            "marker": {
             "line": {
              "color": "#E5ECF6",
              "width": 0.5
             },
             "pattern": {
              "fillmode": "overlay",
              "size": 10,
              "solidity": 0.2
             }
            },
            "type": "barpolar"
           }
          ],
          "carpet": [
           {
            "aaxis": {
             "endlinecolor": "#2a3f5f",
             "gridcolor": "white",
             "linecolor": "white",
             "minorgridcolor": "white",
             "startlinecolor": "#2a3f5f"
            },
            "baxis": {
             "endlinecolor": "#2a3f5f",
             "gridcolor": "white",
             "linecolor": "white",
             "minorgridcolor": "white",
             "startlinecolor": "#2a3f5f"
            },
            "type": "carpet"
           }
          ],
          "choropleth": [
           {
            "colorbar": {
             "outlinewidth": 0,
             "ticks": ""
            },
            "type": "choropleth"
           }
          ],
          "contour": [
           {
            "colorbar": {
             "outlinewidth": 0,
             "ticks": ""
            },
            "colorscale": [
             [
              0,
              "#0d0887"
             ],
             [
              0.1111111111111111,
              "#46039f"
             ],
             [
              0.2222222222222222,
              "#7201a8"
             ],
             [
              0.3333333333333333,
              "#9c179e"
             ],
             [
              0.4444444444444444,
              "#bd3786"
             ],
             [
              0.5555555555555556,
              "#d8576b"
             ],
             [
              0.6666666666666666,
              "#ed7953"
             ],
             [
              0.7777777777777778,
              "#fb9f3a"
             ],
             [
              0.8888888888888888,
              "#fdca26"
             ],
             [
              1,
              "#f0f921"
             ]
            ],
            "type": "contour"
           }
          ],
          "contourcarpet": [
           {
            "colorbar": {
             "outlinewidth": 0,
             "ticks": ""
            },
            "type": "contourcarpet"
           }
          ],
          "heatmap": [
           {
            "colorbar": {
             "outlinewidth": 0,
             "ticks": ""
            },
            "colorscale": [
             [
              0,
              "#0d0887"
             ],
             [
              0.1111111111111111,
              "#46039f"
             ],
             [
              0.2222222222222222,
              "#7201a8"
             ],
             [
              0.3333333333333333,
              "#9c179e"
             ],
             [
              0.4444444444444444,
              "#bd3786"
             ],
             [
              0.5555555555555556,
              "#d8576b"
             ],
             [
              0.6666666666666666,
              "#ed7953"
             ],
             [
              0.7777777777777778,
              "#fb9f3a"
             ],
             [
              0.8888888888888888,
              "#fdca26"
             ],
             [
              1,
              "#f0f921"
             ]
            ],
            "type": "heatmap"
           }
          ],
          "heatmapgl": [
           {
            "colorbar": {
             "outlinewidth": 0,
             "ticks": ""
            },
            "colorscale": [
             [
              0,
              "#0d0887"
             ],
             [
              0.1111111111111111,
              "#46039f"
             ],
             [
              0.2222222222222222,
              "#7201a8"
             ],
             [
              0.3333333333333333,
              "#9c179e"
             ],
             [
              0.4444444444444444,
              "#bd3786"
             ],
             [
              0.5555555555555556,
              "#d8576b"
             ],
             [
              0.6666666666666666,
              "#ed7953"
             ],
             [
              0.7777777777777778,
              "#fb9f3a"
             ],
             [
              0.8888888888888888,
              "#fdca26"
             ],
             [
              1,
              "#f0f921"
             ]
            ],
            "type": "heatmapgl"
           }
          ],
          "histogram": [
           {
            "marker": {
             "pattern": {
              "fillmode": "overlay",
              "size": 10,
              "solidity": 0.2
             }
            },
            "type": "histogram"
           }
          ],
          "histogram2d": [
           {
            "colorbar": {
             "outlinewidth": 0,
             "ticks": ""
            },
            "colorscale": [
             [
              0,
              "#0d0887"
             ],
             [
              0.1111111111111111,
              "#46039f"
             ],
             [
              0.2222222222222222,
              "#7201a8"
             ],
             [
              0.3333333333333333,
              "#9c179e"
             ],
             [
              0.4444444444444444,
              "#bd3786"
             ],
             [
              0.5555555555555556,
              "#d8576b"
             ],
             [
              0.6666666666666666,
              "#ed7953"
             ],
             [
              0.7777777777777778,
              "#fb9f3a"
             ],
             [
              0.8888888888888888,
              "#fdca26"
             ],
             [
              1,
              "#f0f921"
             ]
            ],
            "type": "histogram2d"
           }
          ],
          "histogram2dcontour": [
           {
            "colorbar": {
             "outlinewidth": 0,
             "ticks": ""
            },
            "colorscale": [
             [
              0,
              "#0d0887"
             ],
             [
              0.1111111111111111,
              "#46039f"
             ],
             [
              0.2222222222222222,
              "#7201a8"
             ],
             [
              0.3333333333333333,
              "#9c179e"
             ],
             [
              0.4444444444444444,
              "#bd3786"
             ],
             [
              0.5555555555555556,
              "#d8576b"
             ],
             [
              0.6666666666666666,
              "#ed7953"
             ],
             [
              0.7777777777777778,
              "#fb9f3a"
             ],
             [
              0.8888888888888888,
              "#fdca26"
             ],
             [
              1,
              "#f0f921"
             ]
            ],
            "type": "histogram2dcontour"
           }
          ],
          "mesh3d": [
           {
            "colorbar": {
             "outlinewidth": 0,
             "ticks": ""
            },
            "type": "mesh3d"
           }
          ],
          "parcoords": [
           {
            "line": {
             "colorbar": {
              "outlinewidth": 0,
              "ticks": ""
             }
            },
            "type": "parcoords"
           }
          ],
          "pie": [
           {
            "automargin": true,
            "type": "pie"
           }
          ],
          "scatter": [
           {
            "fillpattern": {
             "fillmode": "overlay",
             "size": 10,
             "solidity": 0.2
            },
            "type": "scatter"
           }
          ],
          "scatter3d": [
           {
            "line": {
             "colorbar": {
              "outlinewidth": 0,
              "ticks": ""
             }
            },
            "marker": {
             "colorbar": {
              "outlinewidth": 0,
              "ticks": ""
             }
            },
            "type": "scatter3d"
           }
          ],
          "scattercarpet": [
           {
            "marker": {
             "colorbar": {
              "outlinewidth": 0,
              "ticks": ""
             }
            },
            "type": "scattercarpet"
           }
          ],
          "scattergeo": [
           {
            "marker": {
             "colorbar": {
              "outlinewidth": 0,
              "ticks": ""
             }
            },
            "type": "scattergeo"
           }
          ],
          "scattergl": [
           {
            "marker": {
             "colorbar": {
              "outlinewidth": 0,
              "ticks": ""
             }
            },
            "type": "scattergl"
           }
          ],
          "scattermapbox": [
           {
            "marker": {
             "colorbar": {
              "outlinewidth": 0,
              "ticks": ""
             }
            },
            "type": "scattermapbox"
           }
          ],
          "scatterpolar": [
           {
            "marker": {
             "colorbar": {
              "outlinewidth": 0,
              "ticks": ""
             }
            },
            "type": "scatterpolar"
           }
          ],
          "scatterpolargl": [
           {
            "marker": {
             "colorbar": {
              "outlinewidth": 0,
              "ticks": ""
             }
            },
            "type": "scatterpolargl"
           }
          ],
          "scatterternary": [
           {
            "marker": {
             "colorbar": {
              "outlinewidth": 0,
              "ticks": ""
             }
            },
            "type": "scatterternary"
           }
          ],
          "surface": [
           {
            "colorbar": {
             "outlinewidth": 0,
             "ticks": ""
            },
            "colorscale": [
             [
              0,
              "#0d0887"
             ],
             [
              0.1111111111111111,
              "#46039f"
             ],
             [
              0.2222222222222222,
              "#7201a8"
             ],
             [
              0.3333333333333333,
              "#9c179e"
             ],
             [
              0.4444444444444444,
              "#bd3786"
             ],
             [
              0.5555555555555556,
              "#d8576b"
             ],
             [
              0.6666666666666666,
              "#ed7953"
             ],
             [
              0.7777777777777778,
              "#fb9f3a"
             ],
             [
              0.8888888888888888,
              "#fdca26"
             ],
             [
              1,
              "#f0f921"
             ]
            ],
            "type": "surface"
           }
          ],
          "table": [
           {
            "cells": {
             "fill": {
              "color": "#EBF0F8"
             },
             "line": {
              "color": "white"
             }
            },
            "header": {
             "fill": {
              "color": "#C8D4E3"
             },
             "line": {
              "color": "white"
             }
            },
            "type": "table"
           }
          ]
         },
         "layout": {
          "annotationdefaults": {
           "arrowcolor": "#2a3f5f",
           "arrowhead": 0,
           "arrowwidth": 1
          },
          "autotypenumbers": "strict",
          "coloraxis": {
           "colorbar": {
            "outlinewidth": 0,
            "ticks": ""
           }
          },
          "colorscale": {
           "diverging": [
            [
             0,
             "#8e0152"
            ],
            [
             0.1,
             "#c51b7d"
            ],
            [
             0.2,
             "#de77ae"
            ],
            [
             0.3,
             "#f1b6da"
            ],
            [
             0.4,
             "#fde0ef"
            ],
            [
             0.5,
             "#f7f7f7"
            ],
            [
             0.6,
             "#e6f5d0"
            ],
            [
             0.7,
             "#b8e186"
            ],
            [
             0.8,
             "#7fbc41"
            ],
            [
             0.9,
             "#4d9221"
            ],
            [
             1,
             "#276419"
            ]
           ],
           "sequential": [
            [
             0,
             "#0d0887"
            ],
            [
             0.1111111111111111,
             "#46039f"
            ],
            [
             0.2222222222222222,
             "#7201a8"
            ],
            [
             0.3333333333333333,
             "#9c179e"
            ],
            [
             0.4444444444444444,
             "#bd3786"
            ],
            [
             0.5555555555555556,
             "#d8576b"
            ],
            [
             0.6666666666666666,
             "#ed7953"
            ],
            [
             0.7777777777777778,
             "#fb9f3a"
            ],
            [
             0.8888888888888888,
             "#fdca26"
            ],
            [
             1,
             "#f0f921"
            ]
           ],
           "sequentialminus": [
            [
             0,
             "#0d0887"
            ],
            [
             0.1111111111111111,
             "#46039f"
            ],
            [
             0.2222222222222222,
             "#7201a8"
            ],
            [
             0.3333333333333333,
             "#9c179e"
            ],
            [
             0.4444444444444444,
             "#bd3786"
            ],
            [
             0.5555555555555556,
             "#d8576b"
            ],
            [
             0.6666666666666666,
             "#ed7953"
            ],
            [
             0.7777777777777778,
             "#fb9f3a"
            ],
            [
             0.8888888888888888,
             "#fdca26"
            ],
            [
             1,
             "#f0f921"
            ]
           ]
          },
          "colorway": [
           "#636efa",
           "#EF553B",
           "#00cc96",
           "#ab63fa",
           "#FFA15A",
           "#19d3f3",
           "#FF6692",
           "#B6E880",
           "#FF97FF",
           "#FECB52"
          ],
          "font": {
           "color": "#2a3f5f"
          },
          "geo": {
           "bgcolor": "white",
           "lakecolor": "white",
           "landcolor": "#E5ECF6",
           "showlakes": true,
           "showland": true,
           "subunitcolor": "white"
          },
          "hoverlabel": {
           "align": "left"
          },
          "hovermode": "closest",
          "mapbox": {
           "style": "light"
          },
          "paper_bgcolor": "white",
          "plot_bgcolor": "#E5ECF6",
          "polar": {
           "angularaxis": {
            "gridcolor": "white",
            "linecolor": "white",
            "ticks": ""
           },
           "bgcolor": "#E5ECF6",
           "radialaxis": {
            "gridcolor": "white",
            "linecolor": "white",
            "ticks": ""
           }
          },
          "scene": {
           "xaxis": {
            "backgroundcolor": "#E5ECF6",
            "gridcolor": "white",
            "gridwidth": 2,
            "linecolor": "white",
            "showbackground": true,
            "ticks": "",
            "zerolinecolor": "white"
           },
           "yaxis": {
            "backgroundcolor": "#E5ECF6",
            "gridcolor": "white",
            "gridwidth": 2,
            "linecolor": "white",
            "showbackground": true,
            "ticks": "",
            "zerolinecolor": "white"
           },
           "zaxis": {
            "backgroundcolor": "#E5ECF6",
            "gridcolor": "white",
            "gridwidth": 2,
            "linecolor": "white",
            "showbackground": true,
            "ticks": "",
            "zerolinecolor": "white"
           }
          },
          "shapedefaults": {
           "line": {
            "color": "#2a3f5f"
           }
          },
          "ternary": {
           "aaxis": {
            "gridcolor": "white",
            "linecolor": "white",
            "ticks": ""
           },
           "baxis": {
            "gridcolor": "white",
            "linecolor": "white",
            "ticks": ""
           },
           "bgcolor": "#E5ECF6",
           "caxis": {
            "gridcolor": "white",
            "linecolor": "white",
            "ticks": ""
           }
          },
          "title": {
           "x": 0.05
          },
          "xaxis": {
           "automargin": true,
           "gridcolor": "white",
           "linecolor": "white",
           "ticks": "",
           "title": {
            "standoff": 15
           },
           "zerolinecolor": "white",
           "zerolinewidth": 2
          },
          "yaxis": {
           "automargin": true,
           "gridcolor": "white",
           "linecolor": "white",
           "ticks": "",
           "title": {
            "standoff": 15
           },
           "zerolinecolor": "white",
           "zerolinewidth": 2
          }
         }
        },
        "title": {
         "font": {
          "color": "#4D5663"
         }
        },
        "xaxis": {
         "anchor": "y",
         "domain": [
          0,
          0.3
         ],
         "gridcolor": "#E1E5ED",
         "showgrid": false,
         "tickfont": {
          "color": "#4D5663"
         },
         "title": {
          "font": {
           "color": "#4D5663"
          },
          "text": ""
         },
         "zerolinecolor": "#E1E5ED"
        },
        "xaxis2": {
         "anchor": "y2",
         "domain": [
          0.35,
          0.6499999999999999
         ],
         "gridcolor": "#E1E5ED",
         "showgrid": false,
         "tickfont": {
          "color": "#4D5663"
         },
         "title": {
          "font": {
           "color": "#4D5663"
          },
          "text": ""
         },
         "zerolinecolor": "#E1E5ED"
        },
        "xaxis3": {
         "anchor": "y3",
         "domain": [
          0.7,
          1
         ],
         "gridcolor": "#E1E5ED",
         "showgrid": false,
         "tickfont": {
          "color": "#4D5663"
         },
         "title": {
          "font": {
           "color": "#4D5663"
          },
          "text": ""
         },
         "zerolinecolor": "#E1E5ED"
        },
        "xaxis4": {
         "anchor": "y4",
         "domain": [
          0,
          0.3
         ],
         "gridcolor": "#E1E5ED",
         "showgrid": false,
         "tickfont": {
          "color": "#4D5663"
         },
         "title": {
          "font": {
           "color": "#4D5663"
          },
          "text": ""
         },
         "zerolinecolor": "#E1E5ED"
        },
        "xaxis5": {
         "anchor": "y5",
         "domain": [
          0.35,
          0.6499999999999999
         ],
         "gridcolor": "#E1E5ED",
         "showgrid": false,
         "tickfont": {
          "color": "#4D5663"
         },
         "title": {
          "font": {
           "color": "#4D5663"
          },
          "text": ""
         },
         "zerolinecolor": "#E1E5ED"
        },
        "xaxis6": {
         "anchor": "y6",
         "domain": [
          0.7,
          1
         ],
         "gridcolor": "#E1E5ED",
         "showgrid": false,
         "tickfont": {
          "color": "#4D5663"
         },
         "title": {
          "font": {
           "color": "#4D5663"
          },
          "text": ""
         },
         "zerolinecolor": "#E1E5ED"
        },
        "xaxis7": {
         "anchor": "y7",
         "domain": [
          0,
          0.3
         ],
         "gridcolor": "#E1E5ED",
         "showgrid": false,
         "tickfont": {
          "color": "#4D5663"
         },
         "title": {
          "font": {
           "color": "#4D5663"
          },
          "text": ""
         },
         "zerolinecolor": "#E1E5ED"
        },
        "xaxis8": {
         "anchor": "y8",
         "domain": [
          0.35,
          0.6499999999999999
         ],
         "gridcolor": "#E1E5ED",
         "showgrid": false,
         "tickfont": {
          "color": "#4D5663"
         },
         "title": {
          "font": {
           "color": "#4D5663"
          },
          "text": ""
         },
         "zerolinecolor": "#E1E5ED"
        },
        "xaxis9": {
         "anchor": "y9",
         "domain": [
          0.7,
          1
         ],
         "gridcolor": "#E1E5ED",
         "showgrid": false,
         "tickfont": {
          "color": "#4D5663"
         },
         "title": {
          "font": {
           "color": "#4D5663"
          },
          "text": ""
         },
         "zerolinecolor": "#E1E5ED"
        },
        "yaxis": {
         "anchor": "x",
         "domain": [
          0.7133333333333334,
          1
         ],
         "gridcolor": "#E1E5ED",
         "showgrid": false,
         "tickfont": {
          "color": "#4D5663"
         },
         "title": {
          "font": {
           "color": "#4D5663"
          },
          "text": ""
         },
         "zerolinecolor": "#E1E5ED"
        },
        "yaxis2": {
         "anchor": "x2",
         "domain": [
          0.7133333333333334,
          1
         ],
         "gridcolor": "#E1E5ED",
         "showgrid": false,
         "tickfont": {
          "color": "#4D5663"
         },
         "title": {
          "font": {
           "color": "#4D5663"
          },
          "text": ""
         },
         "zerolinecolor": "#E1E5ED"
        },
        "yaxis3": {
         "anchor": "x3",
         "domain": [
          0.7133333333333334,
          1
         ],
         "gridcolor": "#E1E5ED",
         "showgrid": false,
         "tickfont": {
          "color": "#4D5663"
         },
         "title": {
          "font": {
           "color": "#4D5663"
          },
          "text": ""
         },
         "zerolinecolor": "#E1E5ED"
        },
        "yaxis4": {
         "anchor": "x4",
         "domain": [
          0.3566666666666667,
          0.6433333333333333
         ],
         "gridcolor": "#E1E5ED",
         "showgrid": false,
         "tickfont": {
          "color": "#4D5663"
         },
         "title": {
          "font": {
           "color": "#4D5663"
          },
          "text": ""
         },
         "zerolinecolor": "#E1E5ED"
        },
        "yaxis5": {
         "anchor": "x5",
         "domain": [
          0.3566666666666667,
          0.6433333333333333
         ],
         "gridcolor": "#E1E5ED",
         "showgrid": false,
         "tickfont": {
          "color": "#4D5663"
         },
         "title": {
          "font": {
           "color": "#4D5663"
          },
          "text": ""
         },
         "zerolinecolor": "#E1E5ED"
        },
        "yaxis6": {
         "anchor": "x6",
         "domain": [
          0.3566666666666667,
          0.6433333333333333
         ],
         "gridcolor": "#E1E5ED",
         "showgrid": false,
         "tickfont": {
          "color": "#4D5663"
         },
         "title": {
          "font": {
           "color": "#4D5663"
          },
          "text": ""
         },
         "zerolinecolor": "#E1E5ED"
        },
        "yaxis7": {
         "anchor": "x7",
         "domain": [
          0,
          0.2866666666666667
         ],
         "gridcolor": "#E1E5ED",
         "showgrid": false,
         "tickfont": {
          "color": "#4D5663"
         },
         "title": {
          "font": {
           "color": "#4D5663"
          },
          "text": ""
         },
         "zerolinecolor": "#E1E5ED"
        },
        "yaxis8": {
         "anchor": "x8",
         "domain": [
          0,
          0.2866666666666667
         ],
         "gridcolor": "#E1E5ED",
         "showgrid": false,
         "tickfont": {
          "color": "#4D5663"
         },
         "title": {
          "font": {
           "color": "#4D5663"
          },
          "text": ""
         },
         "zerolinecolor": "#E1E5ED"
        },
        "yaxis9": {
         "anchor": "x9",
         "domain": [
          0,
          0.2866666666666667
         ],
         "gridcolor": "#E1E5ED",
         "showgrid": false,
         "tickfont": {
          "color": "#4D5663"
         },
         "title": {
          "font": {
           "color": "#4D5663"
          },
          "text": ""
         },
         "zerolinecolor": "#E1E5ED"
        }
       }
      },
      "text/html": [
       "<div>                            <div id=\"bb6691b6-52e6-4214-b89c-fa1f74ed228c\" class=\"plotly-graph-div\" style=\"height:525px; width:100%;\"></div>            <script type=\"text/javascript\">                require([\"plotly\"], function(Plotly) {                    window.PLOTLYENV=window.PLOTLYENV || {};\n",
       "                    window.PLOTLYENV.BASE_URL='https://plot.ly';                                    if (document.getElementById(\"bb6691b6-52e6-4214-b89c-fa1f74ed228c\")) {                    Plotly.newPlot(                        \"bb6691b6-52e6-4214-b89c-fa1f74ed228c\",                        [{\"histfunc\":\"count\",\"histnorm\":\"\",\"marker\":{\"color\":\"rgba(255, 153, 51, 1.0)\",\"line\":{\"color\":\"#4D5663\",\"width\":1.3}},\"name\":\"Angle\",\"nbinsx\":10,\"opacity\":0.8,\"orientation\":\"v\",\"x\":[0.0,0.011235955056179775,0.02247191011235955,0.033707865168539325,0.0449438202247191,0.056179775280898875,0.06741573033707865,0.07865168539325842,0.0898876404494382,0.10112359550561797,0.11235955056179775,0.12359550561797752,0.1348314606741573,0.14606741573033707,0.15730337078651685,0.16853932584269662,0.1797752808988764,0.19101123595505617,0.20224719101123595,0.21348314606741572,0.2247191011235955,0.23595505617977527,0.24719101123595505,0.2584269662921348,0.2696629213483146,0.2808988764044944,0.29213483146067415,0.3033707865168539,0.3146067415730337,0.3258426966292135,0.33707865168539325,0.348314606741573,0.3595505617977528,0.3707865168539326,0.38202247191011235,0.3932584269662921,0.4044943820224719,0.4157303370786517,0.42696629213483145,0.4382022471910112,0.449438202247191,0.4606741573033708,0.47191011235955055,0.4831460674157303,0.4943820224719101,0.5056179775280899,0.5168539325842696,0.5280898876404494,0.5393258426966292,0.550561797752809,0.5617977528089888,0.5730337078651685,0.5842696629213483,0.5955056179775281,0.6067415730337078,0.6179775280898876,0.6292134831460674,0.6404494382022472,0.651685393258427,0.6629213483146067,0.6741573033707865,0.6853932584269663,0.696629213483146,0.7078651685393258,0.7191011235955056,0.7303370786516854,0.7415730337078652,0.7528089887640449,0.7640449438202247,0.7752808988764045,0.7865168539325842,0.797752808988764,0.8089887640449438,0.8202247191011236,0.8314606741573034,0.8426966292134831,0.8539325842696629,0.8651685393258427,0.8764044943820224,0.8876404494382022,0.898876404494382,0.9101123595505618,0.9213483146067416,0.9325842696629213,0.9438202247191011,0.9550561797752809,0.9662921348314606,0.9775280898876404,0.9887640449438202,1.0],\"xaxis\":\"x\",\"yaxis\":\"y\",\"type\":\"histogram\"},{\"line\":{\"color\":\"rgba(128, 128, 128, 1.0)\",\"dash\":\"solid\",\"shape\":\"linear\",\"width\":1.3},\"marker\":{\"size\":2,\"symbol\":\"circle\"},\"mode\":\"markers\",\"name\":\"Angle\",\"text\":\"\",\"x\":[0.0,0.0112361914866269,0.022473801878403855,0.033714251693908764,0.04495896468367527,0.05620936945895234,0.06746690113589068,0.07873300300044773,0.09000912819943202,0.10129674146327317,0.1125973208663049,0.12391235963058865,0.13524336797958683,0.14659187504832139,0.15795943085702643,0.16934760835573082,0.1807580055476887,0.19219224770012275,0.20365198965135825,0.215138918224118,0.2266547547555229,0.23820125775521336,0.24978022570398173,0.2613935000063999,0.27304296811215273,0.28473056682216413,0.2964582857971484,0.3082281712879565,0.32004233010904215,0.33190293387857434,0.34381222355120905,0.3557725142723405,0.3677862005858299,0.3798557620308144,0.39198376916729405,0.40417289007485274,0.4164258973741852,0.4287456758271806,0.4411352305782735,0.4535976961077717,0.4661363459770773,0.47875460345634724,0.4914560531374482,0.504244453649345,0.5171237516096979,0.5300980969658786,0.5431718599013835,0.5563496495104033,0.5696363344749001,0.5830370660159788,0.5965573034358364,0.61020284261971,0.6239798479309642,0.6378948880091925,0.6519549760740968,0.6661676154508613,0.6805408511708586,0.6950833286713374,0.7098043608277433,0.7247140048136596,0.7398231506107062,0.755143623403672,0.7706883026209326,0.7864712610524651,0.8025079283462659,0.8188152843163157,0.8354120889860214,0.8523191582746295,0.8695596969035138,0.8871597037363116,0.9051484697893567,0.9235591961869238,0.9424297693582019,0.9618037453001346,0.9817316162040961,1.0022724651873682,1.0234961651001602,1.0454863573258042,1.0683445778033418,1.0921961211202902,1.1171986306871249,1.1435551442229095,1.1715347916796035,1.2015074685364107,1.2340060985622072,1.2698492479239765,1.3104160047012863,1.3583977269954215,1.420749271217941,1.5707963267948966],\"xaxis\":\"x2\",\"y\":[0.0,0.011235955056179775,0.02247191011235955,0.033707865168539325,0.0449438202247191,0.056179775280898875,0.06741573033707865,0.07865168539325842,0.0898876404494382,0.10112359550561797,0.11235955056179775,0.12359550561797752,0.1348314606741573,0.14606741573033707,0.15730337078651685,0.16853932584269662,0.1797752808988764,0.19101123595505617,0.20224719101123595,0.21348314606741572,0.2247191011235955,0.23595505617977527,0.24719101123595505,0.2584269662921348,0.2696629213483146,0.2808988764044944,0.29213483146067415,0.3033707865168539,0.3146067415730337,0.3258426966292135,0.33707865168539325,0.348314606741573,0.3595505617977528,0.3707865168539326,0.38202247191011235,0.3932584269662921,0.4044943820224719,0.4157303370786517,0.42696629213483145,0.4382022471910112,0.449438202247191,0.4606741573033708,0.47191011235955055,0.4831460674157303,0.4943820224719101,0.5056179775280899,0.5168539325842696,0.5280898876404494,0.5393258426966292,0.550561797752809,0.5617977528089888,0.5730337078651685,0.5842696629213483,0.5955056179775281,0.6067415730337078,0.6179775280898876,0.6292134831460674,0.6404494382022472,0.651685393258427,0.6629213483146067,0.6741573033707865,0.6853932584269663,0.696629213483146,0.7078651685393258,0.7191011235955056,0.7303370786516854,0.7415730337078652,0.7528089887640449,0.7640449438202247,0.7752808988764045,0.7865168539325842,0.797752808988764,0.8089887640449438,0.8202247191011236,0.8314606741573034,0.8426966292134831,0.8539325842696629,0.8651685393258427,0.8764044943820224,0.8876404494382022,0.898876404494382,0.9101123595505618,0.9213483146067416,0.9325842696629213,0.9438202247191011,0.9550561797752809,0.9662921348314606,0.9775280898876404,0.9887640449438202,1.0],\"yaxis\":\"y2\",\"type\":\"scatter\"},{\"line\":{\"color\":\"rgba(128, 128, 128, 1.0)\",\"dash\":\"solid\",\"shape\":\"linear\",\"width\":1.3},\"marker\":{\"size\":2,\"symbol\":\"circle\"},\"mode\":\"markers\",\"name\":\"Angle\",\"text\":\"\",\"x\":[1.5707963267948966,1.5595601353082698,1.5483225249164927,1.537082075100988,1.5258373621112213,1.5145869573359443,1.503329425659006,1.492063323794449,1.4807871985954646,1.4694995853316235,1.4581990059285916,1.446883967164308,1.4355529588153098,1.4242044517465753,1.41283689593787,1.4014487184391657,1.3900383212472078,1.3786040790947738,1.3671443371435383,1.3556574085707787,1.3441415720393737,1.3325950690396833,1.321016101090915,1.3094028267884967,1.2977533586827439,1.2860657599727325,1.2743380409977483,1.2625681555069401,1.2507539966858545,1.2388933929163224,1.2269841032436877,1.215023812522556,1.2030101262090667,1.1909405647640823,1.1788125576276025,1.1666234367200439,1.1543704294207113,1.142050650967716,1.1296610962166231,1.1171986306871249,1.1046599808178192,1.0920417233385493,1.0793402736574484,1.0665518731455517,1.0536725751851987,1.040698229829018,1.027624466893513,1.0144466772844933,1.0011599923199965,0.9877592607789177,0.9742390233590602,0.9605934841751865,0.9468164788639325,0.9329014387857041,0.9188413507207999,0.9046287113440353,0.8902554756240381,0.8757129981235592,0.8609919659671533,0.8460823219812371,0.8309731761841903,0.8156527033912246,0.800108024173964,0.7843250657424314,0.7682883984486306,0.751981042478581,0.7353842378088752,0.7184771685202672,0.7012366298913829,0.6836366230585851,0.6656478570055399,0.6472371306079728,0.6283665574366947,0.608992581494762,0.5890647105908006,0.5685238616075284,0.5473001616947364,0.5253099694690924,0.5024517489915548,0.47860020567460654,0.4535976961077718,0.42724118257198707,0.3992615351152931,0.36928885825848606,0.33679022823268945,0.30094707887092004,0.2603803220936104,0.21239859979947517,0.15004705557695563,0.0],\"xaxis\":\"x3\",\"y\":[0.0,0.011235955056179775,0.02247191011235955,0.033707865168539325,0.0449438202247191,0.056179775280898875,0.06741573033707865,0.07865168539325842,0.0898876404494382,0.10112359550561797,0.11235955056179775,0.12359550561797752,0.1348314606741573,0.14606741573033707,0.15730337078651685,0.16853932584269662,0.1797752808988764,0.19101123595505617,0.20224719101123595,0.21348314606741572,0.2247191011235955,0.23595505617977527,0.24719101123595505,0.2584269662921348,0.2696629213483146,0.2808988764044944,0.29213483146067415,0.3033707865168539,0.3146067415730337,0.3258426966292135,0.33707865168539325,0.348314606741573,0.3595505617977528,0.3707865168539326,0.38202247191011235,0.3932584269662921,0.4044943820224719,0.4157303370786517,0.42696629213483145,0.4382022471910112,0.449438202247191,0.4606741573033708,0.47191011235955055,0.4831460674157303,0.4943820224719101,0.5056179775280899,0.5168539325842696,0.5280898876404494,0.5393258426966292,0.550561797752809,0.5617977528089888,0.5730337078651685,0.5842696629213483,0.5955056179775281,0.6067415730337078,0.6179775280898876,0.6292134831460674,0.6404494382022472,0.651685393258427,0.6629213483146067,0.6741573033707865,0.6853932584269663,0.696629213483146,0.7078651685393258,0.7191011235955056,0.7303370786516854,0.7415730337078652,0.7528089887640449,0.7640449438202247,0.7752808988764045,0.7865168539325842,0.797752808988764,0.8089887640449438,0.8202247191011236,0.8314606741573034,0.8426966292134831,0.8539325842696629,0.8651685393258427,0.8764044943820224,0.8876404494382022,0.898876404494382,0.9101123595505618,0.9213483146067416,0.9325842696629213,0.9438202247191011,0.9550561797752809,0.9662921348314606,0.9775280898876404,0.9887640449438202,1.0],\"yaxis\":\"y3\",\"type\":\"scatter\"},{\"line\":{\"color\":\"rgba(128, 128, 128, 1.0)\",\"dash\":\"solid\",\"shape\":\"linear\",\"width\":1.3},\"marker\":{\"size\":2,\"symbol\":\"circle\"},\"mode\":\"markers\",\"name\":\"Sin\",\"text\":\"\",\"x\":[0.0,0.011235955056179775,0.02247191011235955,0.033707865168539325,0.0449438202247191,0.056179775280898875,0.06741573033707865,0.07865168539325842,0.0898876404494382,0.10112359550561797,0.11235955056179775,0.12359550561797752,0.1348314606741573,0.14606741573033707,0.15730337078651685,0.16853932584269662,0.1797752808988764,0.19101123595505617,0.20224719101123595,0.21348314606741572,0.2247191011235955,0.23595505617977527,0.24719101123595505,0.2584269662921348,0.2696629213483146,0.2808988764044944,0.29213483146067415,0.3033707865168539,0.3146067415730337,0.3258426966292135,0.33707865168539325,0.348314606741573,0.3595505617977528,0.3707865168539326,0.38202247191011235,0.3932584269662921,0.4044943820224719,0.4157303370786517,0.42696629213483145,0.4382022471910112,0.449438202247191,0.4606741573033708,0.47191011235955055,0.4831460674157303,0.4943820224719101,0.5056179775280899,0.5168539325842696,0.5280898876404494,0.5393258426966292,0.550561797752809,0.5617977528089888,0.5730337078651685,0.5842696629213483,0.5955056179775281,0.6067415730337078,0.6179775280898876,0.6292134831460674,0.6404494382022472,0.651685393258427,0.6629213483146067,0.6741573033707865,0.6853932584269663,0.696629213483146,0.7078651685393258,0.7191011235955056,0.7303370786516854,0.7415730337078652,0.7528089887640449,0.7640449438202247,0.7752808988764045,0.7865168539325842,0.797752808988764,0.8089887640449438,0.8202247191011236,0.8314606741573034,0.8426966292134831,0.8539325842696629,0.8651685393258427,0.8764044943820224,0.8876404494382022,0.898876404494382,0.9101123595505618,0.9213483146067416,0.9325842696629213,0.9438202247191011,0.9550561797752809,0.9662921348314606,0.9775280898876404,0.9887640449438202,1.0],\"xaxis\":\"x4\",\"y\":[0.0,0.0112361914866269,0.022473801878403855,0.033714251693908764,0.04495896468367527,0.05620936945895234,0.06746690113589068,0.07873300300044773,0.09000912819943202,0.10129674146327317,0.1125973208663049,0.12391235963058865,0.13524336797958683,0.14659187504832139,0.15795943085702643,0.16934760835573082,0.1807580055476887,0.19219224770012275,0.20365198965135825,0.215138918224118,0.2266547547555229,0.23820125775521336,0.24978022570398173,0.2613935000063999,0.27304296811215273,0.28473056682216413,0.2964582857971484,0.3082281712879565,0.32004233010904215,0.33190293387857434,0.34381222355120905,0.3557725142723405,0.3677862005858299,0.3798557620308144,0.39198376916729405,0.40417289007485274,0.4164258973741852,0.4287456758271806,0.4411352305782735,0.4535976961077717,0.4661363459770773,0.47875460345634724,0.4914560531374482,0.504244453649345,0.5171237516096979,0.5300980969658786,0.5431718599013835,0.5563496495104033,0.5696363344749001,0.5830370660159788,0.5965573034358364,0.61020284261971,0.6239798479309642,0.6378948880091925,0.6519549760740968,0.6661676154508613,0.6805408511708586,0.6950833286713374,0.7098043608277433,0.7247140048136596,0.7398231506107062,0.755143623403672,0.7706883026209326,0.7864712610524651,0.8025079283462659,0.8188152843163157,0.8354120889860214,0.8523191582746295,0.8695596969035138,0.8871597037363116,0.9051484697893567,0.9235591961869238,0.9424297693582019,0.9618037453001346,0.9817316162040961,1.0022724651873682,1.0234961651001602,1.0454863573258042,1.0683445778033418,1.0921961211202902,1.1171986306871249,1.1435551442229095,1.1715347916796035,1.2015074685364107,1.2340060985622072,1.2698492479239765,1.3104160047012863,1.3583977269954215,1.420749271217941,1.5707963267948966],\"yaxis\":\"y4\",\"type\":\"scatter\"},{\"histfunc\":\"count\",\"histnorm\":\"\",\"marker\":{\"color\":\"rgba(55, 128, 191, 1.0)\",\"line\":{\"color\":\"#4D5663\",\"width\":1.3}},\"name\":\"Sin\",\"nbinsx\":10,\"opacity\":0.8,\"orientation\":\"v\",\"x\":[0.0,0.0112361914866269,0.022473801878403855,0.033714251693908764,0.04495896468367527,0.05620936945895234,0.06746690113589068,0.07873300300044773,0.09000912819943202,0.10129674146327317,0.1125973208663049,0.12391235963058865,0.13524336797958683,0.14659187504832139,0.15795943085702643,0.16934760835573082,0.1807580055476887,0.19219224770012275,0.20365198965135825,0.215138918224118,0.2266547547555229,0.23820125775521336,0.24978022570398173,0.2613935000063999,0.27304296811215273,0.28473056682216413,0.2964582857971484,0.3082281712879565,0.32004233010904215,0.33190293387857434,0.34381222355120905,0.3557725142723405,0.3677862005858299,0.3798557620308144,0.39198376916729405,0.40417289007485274,0.4164258973741852,0.4287456758271806,0.4411352305782735,0.4535976961077717,0.4661363459770773,0.47875460345634724,0.4914560531374482,0.504244453649345,0.5171237516096979,0.5300980969658786,0.5431718599013835,0.5563496495104033,0.5696363344749001,0.5830370660159788,0.5965573034358364,0.61020284261971,0.6239798479309642,0.6378948880091925,0.6519549760740968,0.6661676154508613,0.6805408511708586,0.6950833286713374,0.7098043608277433,0.7247140048136596,0.7398231506107062,0.755143623403672,0.7706883026209326,0.7864712610524651,0.8025079283462659,0.8188152843163157,0.8354120889860214,0.8523191582746295,0.8695596969035138,0.8871597037363116,0.9051484697893567,0.9235591961869238,0.9424297693582019,0.9618037453001346,0.9817316162040961,1.0022724651873682,1.0234961651001602,1.0454863573258042,1.0683445778033418,1.0921961211202902,1.1171986306871249,1.1435551442229095,1.1715347916796035,1.2015074685364107,1.2340060985622072,1.2698492479239765,1.3104160047012863,1.3583977269954215,1.420749271217941,1.5707963267948966],\"xaxis\":\"x5\",\"yaxis\":\"y5\",\"type\":\"histogram\"},{\"line\":{\"color\":\"rgba(128, 128, 128, 1.0)\",\"dash\":\"solid\",\"shape\":\"linear\",\"width\":1.3},\"marker\":{\"size\":2,\"symbol\":\"circle\"},\"mode\":\"markers\",\"name\":\"Sin\",\"text\":\"\",\"x\":[1.5707963267948966,1.5595601353082698,1.5483225249164927,1.537082075100988,1.5258373621112213,1.5145869573359443,1.503329425659006,1.492063323794449,1.4807871985954646,1.4694995853316235,1.4581990059285916,1.446883967164308,1.4355529588153098,1.4242044517465753,1.41283689593787,1.4014487184391657,1.3900383212472078,1.3786040790947738,1.3671443371435383,1.3556574085707787,1.3441415720393737,1.3325950690396833,1.321016101090915,1.3094028267884967,1.2977533586827439,1.2860657599727325,1.2743380409977483,1.2625681555069401,1.2507539966858545,1.2388933929163224,1.2269841032436877,1.215023812522556,1.2030101262090667,1.1909405647640823,1.1788125576276025,1.1666234367200439,1.1543704294207113,1.142050650967716,1.1296610962166231,1.1171986306871249,1.1046599808178192,1.0920417233385493,1.0793402736574484,1.0665518731455517,1.0536725751851987,1.040698229829018,1.027624466893513,1.0144466772844933,1.0011599923199965,0.9877592607789177,0.9742390233590602,0.9605934841751865,0.9468164788639325,0.9329014387857041,0.9188413507207999,0.9046287113440353,0.8902554756240381,0.8757129981235592,0.8609919659671533,0.8460823219812371,0.8309731761841903,0.8156527033912246,0.800108024173964,0.7843250657424314,0.7682883984486306,0.751981042478581,0.7353842378088752,0.7184771685202672,0.7012366298913829,0.6836366230585851,0.6656478570055399,0.6472371306079728,0.6283665574366947,0.608992581494762,0.5890647105908006,0.5685238616075284,0.5473001616947364,0.5253099694690924,0.5024517489915548,0.47860020567460654,0.4535976961077718,0.42724118257198707,0.3992615351152931,0.36928885825848606,0.33679022823268945,0.30094707887092004,0.2603803220936104,0.21239859979947517,0.15004705557695563,0.0],\"xaxis\":\"x6\",\"y\":[0.0,0.0112361914866269,0.022473801878403855,0.033714251693908764,0.04495896468367527,0.05620936945895234,0.06746690113589068,0.07873300300044773,0.09000912819943202,0.10129674146327317,0.1125973208663049,0.12391235963058865,0.13524336797958683,0.14659187504832139,0.15795943085702643,0.16934760835573082,0.1807580055476887,0.19219224770012275,0.20365198965135825,0.215138918224118,0.2266547547555229,0.23820125775521336,0.24978022570398173,0.2613935000063999,0.27304296811215273,0.28473056682216413,0.2964582857971484,0.3082281712879565,0.32004233010904215,0.33190293387857434,0.34381222355120905,0.3557725142723405,0.3677862005858299,0.3798557620308144,0.39198376916729405,0.40417289007485274,0.4164258973741852,0.4287456758271806,0.4411352305782735,0.4535976961077717,0.4661363459770773,0.47875460345634724,0.4914560531374482,0.504244453649345,0.5171237516096979,0.5300980969658786,0.5431718599013835,0.5563496495104033,0.5696363344749001,0.5830370660159788,0.5965573034358364,0.61020284261971,0.6239798479309642,0.6378948880091925,0.6519549760740968,0.6661676154508613,0.6805408511708586,0.6950833286713374,0.7098043608277433,0.7247140048136596,0.7398231506107062,0.755143623403672,0.7706883026209326,0.7864712610524651,0.8025079283462659,0.8188152843163157,0.8354120889860214,0.8523191582746295,0.8695596969035138,0.8871597037363116,0.9051484697893567,0.9235591961869238,0.9424297693582019,0.9618037453001346,0.9817316162040961,1.0022724651873682,1.0234961651001602,1.0454863573258042,1.0683445778033418,1.0921961211202902,1.1171986306871249,1.1435551442229095,1.1715347916796035,1.2015074685364107,1.2340060985622072,1.2698492479239765,1.3104160047012863,1.3583977269954215,1.420749271217941,1.5707963267948966],\"yaxis\":\"y6\",\"type\":\"scatter\"},{\"line\":{\"color\":\"rgba(128, 128, 128, 1.0)\",\"dash\":\"solid\",\"shape\":\"linear\",\"width\":1.3},\"marker\":{\"size\":2,\"symbol\":\"circle\"},\"mode\":\"markers\",\"name\":\"Cos\",\"text\":\"\",\"x\":[0.0,0.011235955056179775,0.02247191011235955,0.033707865168539325,0.0449438202247191,0.056179775280898875,0.06741573033707865,0.07865168539325842,0.0898876404494382,0.10112359550561797,0.11235955056179775,0.12359550561797752,0.1348314606741573,0.14606741573033707,0.15730337078651685,0.16853932584269662,0.1797752808988764,0.19101123595505617,0.20224719101123595,0.21348314606741572,0.2247191011235955,0.23595505617977527,0.24719101123595505,0.2584269662921348,0.2696629213483146,0.2808988764044944,0.29213483146067415,0.3033707865168539,0.3146067415730337,0.3258426966292135,0.33707865168539325,0.348314606741573,0.3595505617977528,0.3707865168539326,0.38202247191011235,0.3932584269662921,0.4044943820224719,0.4157303370786517,0.42696629213483145,0.4382022471910112,0.449438202247191,0.4606741573033708,0.47191011235955055,0.4831460674157303,0.4943820224719101,0.5056179775280899,0.5168539325842696,0.5280898876404494,0.5393258426966292,0.550561797752809,0.5617977528089888,0.5730337078651685,0.5842696629213483,0.5955056179775281,0.6067415730337078,0.6179775280898876,0.6292134831460674,0.6404494382022472,0.651685393258427,0.6629213483146067,0.6741573033707865,0.6853932584269663,0.696629213483146,0.7078651685393258,0.7191011235955056,0.7303370786516854,0.7415730337078652,0.7528089887640449,0.7640449438202247,0.7752808988764045,0.7865168539325842,0.797752808988764,0.8089887640449438,0.8202247191011236,0.8314606741573034,0.8426966292134831,0.8539325842696629,0.8651685393258427,0.8764044943820224,0.8876404494382022,0.898876404494382,0.9101123595505618,0.9213483146067416,0.9325842696629213,0.9438202247191011,0.9550561797752809,0.9662921348314606,0.9775280898876404,0.9887640449438202,1.0],\"xaxis\":\"x7\",\"y\":[1.5707963267948966,1.5595601353082698,1.5483225249164927,1.537082075100988,1.5258373621112213,1.5145869573359443,1.503329425659006,1.492063323794449,1.4807871985954646,1.4694995853316235,1.4581990059285916,1.446883967164308,1.4355529588153098,1.4242044517465753,1.41283689593787,1.4014487184391657,1.3900383212472078,1.3786040790947738,1.3671443371435383,1.3556574085707787,1.3441415720393737,1.3325950690396833,1.321016101090915,1.3094028267884967,1.2977533586827439,1.2860657599727325,1.2743380409977483,1.2625681555069401,1.2507539966858545,1.2388933929163224,1.2269841032436877,1.215023812522556,1.2030101262090667,1.1909405647640823,1.1788125576276025,1.1666234367200439,1.1543704294207113,1.142050650967716,1.1296610962166231,1.1171986306871249,1.1046599808178192,1.0920417233385493,1.0793402736574484,1.0665518731455517,1.0536725751851987,1.040698229829018,1.027624466893513,1.0144466772844933,1.0011599923199965,0.9877592607789177,0.9742390233590602,0.9605934841751865,0.9468164788639325,0.9329014387857041,0.9188413507207999,0.9046287113440353,0.8902554756240381,0.8757129981235592,0.8609919659671533,0.8460823219812371,0.8309731761841903,0.8156527033912246,0.800108024173964,0.7843250657424314,0.7682883984486306,0.751981042478581,0.7353842378088752,0.7184771685202672,0.7012366298913829,0.6836366230585851,0.6656478570055399,0.6472371306079728,0.6283665574366947,0.608992581494762,0.5890647105908006,0.5685238616075284,0.5473001616947364,0.5253099694690924,0.5024517489915548,0.47860020567460654,0.4535976961077718,0.42724118257198707,0.3992615351152931,0.36928885825848606,0.33679022823268945,0.30094707887092004,0.2603803220936104,0.21239859979947517,0.15004705557695563,0.0],\"yaxis\":\"y7\",\"type\":\"scatter\"},{\"line\":{\"color\":\"rgba(128, 128, 128, 1.0)\",\"dash\":\"solid\",\"shape\":\"linear\",\"width\":1.3},\"marker\":{\"size\":2,\"symbol\":\"circle\"},\"mode\":\"markers\",\"name\":\"Cos\",\"text\":\"\",\"x\":[0.0,0.0112361914866269,0.022473801878403855,0.033714251693908764,0.04495896468367527,0.05620936945895234,0.06746690113589068,0.07873300300044773,0.09000912819943202,0.10129674146327317,0.1125973208663049,0.12391235963058865,0.13524336797958683,0.14659187504832139,0.15795943085702643,0.16934760835573082,0.1807580055476887,0.19219224770012275,0.20365198965135825,0.215138918224118,0.2266547547555229,0.23820125775521336,0.24978022570398173,0.2613935000063999,0.27304296811215273,0.28473056682216413,0.2964582857971484,0.3082281712879565,0.32004233010904215,0.33190293387857434,0.34381222355120905,0.3557725142723405,0.3677862005858299,0.3798557620308144,0.39198376916729405,0.40417289007485274,0.4164258973741852,0.4287456758271806,0.4411352305782735,0.4535976961077717,0.4661363459770773,0.47875460345634724,0.4914560531374482,0.504244453649345,0.5171237516096979,0.5300980969658786,0.5431718599013835,0.5563496495104033,0.5696363344749001,0.5830370660159788,0.5965573034358364,0.61020284261971,0.6239798479309642,0.6378948880091925,0.6519549760740968,0.6661676154508613,0.6805408511708586,0.6950833286713374,0.7098043608277433,0.7247140048136596,0.7398231506107062,0.755143623403672,0.7706883026209326,0.7864712610524651,0.8025079283462659,0.8188152843163157,0.8354120889860214,0.8523191582746295,0.8695596969035138,0.8871597037363116,0.9051484697893567,0.9235591961869238,0.9424297693582019,0.9618037453001346,0.9817316162040961,1.0022724651873682,1.0234961651001602,1.0454863573258042,1.0683445778033418,1.0921961211202902,1.1171986306871249,1.1435551442229095,1.1715347916796035,1.2015074685364107,1.2340060985622072,1.2698492479239765,1.3104160047012863,1.3583977269954215,1.420749271217941,1.5707963267948966],\"xaxis\":\"x8\",\"y\":[1.5707963267948966,1.5595601353082698,1.5483225249164927,1.537082075100988,1.5258373621112213,1.5145869573359443,1.503329425659006,1.492063323794449,1.4807871985954646,1.4694995853316235,1.4581990059285916,1.446883967164308,1.4355529588153098,1.4242044517465753,1.41283689593787,1.4014487184391657,1.3900383212472078,1.3786040790947738,1.3671443371435383,1.3556574085707787,1.3441415720393737,1.3325950690396833,1.321016101090915,1.3094028267884967,1.2977533586827439,1.2860657599727325,1.2743380409977483,1.2625681555069401,1.2507539966858545,1.2388933929163224,1.2269841032436877,1.215023812522556,1.2030101262090667,1.1909405647640823,1.1788125576276025,1.1666234367200439,1.1543704294207113,1.142050650967716,1.1296610962166231,1.1171986306871249,1.1046599808178192,1.0920417233385493,1.0793402736574484,1.0665518731455517,1.0536725751851987,1.040698229829018,1.027624466893513,1.0144466772844933,1.0011599923199965,0.9877592607789177,0.9742390233590602,0.9605934841751865,0.9468164788639325,0.9329014387857041,0.9188413507207999,0.9046287113440353,0.8902554756240381,0.8757129981235592,0.8609919659671533,0.8460823219812371,0.8309731761841903,0.8156527033912246,0.800108024173964,0.7843250657424314,0.7682883984486306,0.751981042478581,0.7353842378088752,0.7184771685202672,0.7012366298913829,0.6836366230585851,0.6656478570055399,0.6472371306079728,0.6283665574366947,0.608992581494762,0.5890647105908006,0.5685238616075284,0.5473001616947364,0.5253099694690924,0.5024517489915548,0.47860020567460654,0.4535976961077718,0.42724118257198707,0.3992615351152931,0.36928885825848606,0.33679022823268945,0.30094707887092004,0.2603803220936104,0.21239859979947517,0.15004705557695563,0.0],\"yaxis\":\"y8\",\"type\":\"scatter\"},{\"histfunc\":\"count\",\"histnorm\":\"\",\"marker\":{\"color\":\"rgba(50, 171, 96, 1.0)\",\"line\":{\"color\":\"#4D5663\",\"width\":1.3}},\"name\":\"Cos\",\"nbinsx\":10,\"opacity\":0.8,\"orientation\":\"v\",\"x\":[1.5707963267948966,1.5595601353082698,1.5483225249164927,1.537082075100988,1.5258373621112213,1.5145869573359443,1.503329425659006,1.492063323794449,1.4807871985954646,1.4694995853316235,1.4581990059285916,1.446883967164308,1.4355529588153098,1.4242044517465753,1.41283689593787,1.4014487184391657,1.3900383212472078,1.3786040790947738,1.3671443371435383,1.3556574085707787,1.3441415720393737,1.3325950690396833,1.321016101090915,1.3094028267884967,1.2977533586827439,1.2860657599727325,1.2743380409977483,1.2625681555069401,1.2507539966858545,1.2388933929163224,1.2269841032436877,1.215023812522556,1.2030101262090667,1.1909405647640823,1.1788125576276025,1.1666234367200439,1.1543704294207113,1.142050650967716,1.1296610962166231,1.1171986306871249,1.1046599808178192,1.0920417233385493,1.0793402736574484,1.0665518731455517,1.0536725751851987,1.040698229829018,1.027624466893513,1.0144466772844933,1.0011599923199965,0.9877592607789177,0.9742390233590602,0.9605934841751865,0.9468164788639325,0.9329014387857041,0.9188413507207999,0.9046287113440353,0.8902554756240381,0.8757129981235592,0.8609919659671533,0.8460823219812371,0.8309731761841903,0.8156527033912246,0.800108024173964,0.7843250657424314,0.7682883984486306,0.751981042478581,0.7353842378088752,0.7184771685202672,0.7012366298913829,0.6836366230585851,0.6656478570055399,0.6472371306079728,0.6283665574366947,0.608992581494762,0.5890647105908006,0.5685238616075284,0.5473001616947364,0.5253099694690924,0.5024517489915548,0.47860020567460654,0.4535976961077718,0.42724118257198707,0.3992615351152931,0.36928885825848606,0.33679022823268945,0.30094707887092004,0.2603803220936104,0.21239859979947517,0.15004705557695563,0.0],\"xaxis\":\"x9\",\"yaxis\":\"y9\",\"type\":\"histogram\"}],                        {\"bargap\":0.02,\"legend\":{\"bgcolor\":\"#F5F6F9\",\"font\":{\"color\":\"#4D5663\"}},\"paper_bgcolor\":\"#F5F6F9\",\"plot_bgcolor\":\"#F5F6F9\",\"showlegend\":false,\"template\":{\"data\":{\"barpolar\":[{\"marker\":{\"line\":{\"color\":\"#E5ECF6\",\"width\":0.5},\"pattern\":{\"fillmode\":\"overlay\",\"size\":10,\"solidity\":0.2}},\"type\":\"barpolar\"}],\"bar\":[{\"error_x\":{\"color\":\"#2a3f5f\"},\"error_y\":{\"color\":\"#2a3f5f\"},\"marker\":{\"line\":{\"color\":\"#E5ECF6\",\"width\":0.5},\"pattern\":{\"fillmode\":\"overlay\",\"size\":10,\"solidity\":0.2}},\"type\":\"bar\"}],\"carpet\":[{\"aaxis\":{\"endlinecolor\":\"#2a3f5f\",\"gridcolor\":\"white\",\"linecolor\":\"white\",\"minorgridcolor\":\"white\",\"startlinecolor\":\"#2a3f5f\"},\"baxis\":{\"endlinecolor\":\"#2a3f5f\",\"gridcolor\":\"white\",\"linecolor\":\"white\",\"minorgridcolor\":\"white\",\"startlinecolor\":\"#2a3f5f\"},\"type\":\"carpet\"}],\"choropleth\":[{\"colorbar\":{\"outlinewidth\":0,\"ticks\":\"\"},\"type\":\"choropleth\"}],\"contourcarpet\":[{\"colorbar\":{\"outlinewidth\":0,\"ticks\":\"\"},\"type\":\"contourcarpet\"}],\"contour\":[{\"colorbar\":{\"outlinewidth\":0,\"ticks\":\"\"},\"colorscale\":[[0.0,\"#0d0887\"],[0.1111111111111111,\"#46039f\"],[0.2222222222222222,\"#7201a8\"],[0.3333333333333333,\"#9c179e\"],[0.4444444444444444,\"#bd3786\"],[0.5555555555555556,\"#d8576b\"],[0.6666666666666666,\"#ed7953\"],[0.7777777777777778,\"#fb9f3a\"],[0.8888888888888888,\"#fdca26\"],[1.0,\"#f0f921\"]],\"type\":\"contour\"}],\"heatmapgl\":[{\"colorbar\":{\"outlinewidth\":0,\"ticks\":\"\"},\"colorscale\":[[0.0,\"#0d0887\"],[0.1111111111111111,\"#46039f\"],[0.2222222222222222,\"#7201a8\"],[0.3333333333333333,\"#9c179e\"],[0.4444444444444444,\"#bd3786\"],[0.5555555555555556,\"#d8576b\"],[0.6666666666666666,\"#ed7953\"],[0.7777777777777778,\"#fb9f3a\"],[0.8888888888888888,\"#fdca26\"],[1.0,\"#f0f921\"]],\"type\":\"heatmapgl\"}],\"heatmap\":[{\"colorbar\":{\"outlinewidth\":0,\"ticks\":\"\"},\"colorscale\":[[0.0,\"#0d0887\"],[0.1111111111111111,\"#46039f\"],[0.2222222222222222,\"#7201a8\"],[0.3333333333333333,\"#9c179e\"],[0.4444444444444444,\"#bd3786\"],[0.5555555555555556,\"#d8576b\"],[0.6666666666666666,\"#ed7953\"],[0.7777777777777778,\"#fb9f3a\"],[0.8888888888888888,\"#fdca26\"],[1.0,\"#f0f921\"]],\"type\":\"heatmap\"}],\"histogram2dcontour\":[{\"colorbar\":{\"outlinewidth\":0,\"ticks\":\"\"},\"colorscale\":[[0.0,\"#0d0887\"],[0.1111111111111111,\"#46039f\"],[0.2222222222222222,\"#7201a8\"],[0.3333333333333333,\"#9c179e\"],[0.4444444444444444,\"#bd3786\"],[0.5555555555555556,\"#d8576b\"],[0.6666666666666666,\"#ed7953\"],[0.7777777777777778,\"#fb9f3a\"],[0.8888888888888888,\"#fdca26\"],[1.0,\"#f0f921\"]],\"type\":\"histogram2dcontour\"}],\"histogram2d\":[{\"colorbar\":{\"outlinewidth\":0,\"ticks\":\"\"},\"colorscale\":[[0.0,\"#0d0887\"],[0.1111111111111111,\"#46039f\"],[0.2222222222222222,\"#7201a8\"],[0.3333333333333333,\"#9c179e\"],[0.4444444444444444,\"#bd3786\"],[0.5555555555555556,\"#d8576b\"],[0.6666666666666666,\"#ed7953\"],[0.7777777777777778,\"#fb9f3a\"],[0.8888888888888888,\"#fdca26\"],[1.0,\"#f0f921\"]],\"type\":\"histogram2d\"}],\"histogram\":[{\"marker\":{\"pattern\":{\"fillmode\":\"overlay\",\"size\":10,\"solidity\":0.2}},\"type\":\"histogram\"}],\"mesh3d\":[{\"colorbar\":{\"outlinewidth\":0,\"ticks\":\"\"},\"type\":\"mesh3d\"}],\"parcoords\":[{\"line\":{\"colorbar\":{\"outlinewidth\":0,\"ticks\":\"\"}},\"type\":\"parcoords\"}],\"pie\":[{\"automargin\":true,\"type\":\"pie\"}],\"scatter3d\":[{\"line\":{\"colorbar\":{\"outlinewidth\":0,\"ticks\":\"\"}},\"marker\":{\"colorbar\":{\"outlinewidth\":0,\"ticks\":\"\"}},\"type\":\"scatter3d\"}],\"scattercarpet\":[{\"marker\":{\"colorbar\":{\"outlinewidth\":0,\"ticks\":\"\"}},\"type\":\"scattercarpet\"}],\"scattergeo\":[{\"marker\":{\"colorbar\":{\"outlinewidth\":0,\"ticks\":\"\"}},\"type\":\"scattergeo\"}],\"scattergl\":[{\"marker\":{\"colorbar\":{\"outlinewidth\":0,\"ticks\":\"\"}},\"type\":\"scattergl\"}],\"scattermapbox\":[{\"marker\":{\"colorbar\":{\"outlinewidth\":0,\"ticks\":\"\"}},\"type\":\"scattermapbox\"}],\"scatterpolargl\":[{\"marker\":{\"colorbar\":{\"outlinewidth\":0,\"ticks\":\"\"}},\"type\":\"scatterpolargl\"}],\"scatterpolar\":[{\"marker\":{\"colorbar\":{\"outlinewidth\":0,\"ticks\":\"\"}},\"type\":\"scatterpolar\"}],\"scatter\":[{\"fillpattern\":{\"fillmode\":\"overlay\",\"size\":10,\"solidity\":0.2},\"type\":\"scatter\"}],\"scatterternary\":[{\"marker\":{\"colorbar\":{\"outlinewidth\":0,\"ticks\":\"\"}},\"type\":\"scatterternary\"}],\"surface\":[{\"colorbar\":{\"outlinewidth\":0,\"ticks\":\"\"},\"colorscale\":[[0.0,\"#0d0887\"],[0.1111111111111111,\"#46039f\"],[0.2222222222222222,\"#7201a8\"],[0.3333333333333333,\"#9c179e\"],[0.4444444444444444,\"#bd3786\"],[0.5555555555555556,\"#d8576b\"],[0.6666666666666666,\"#ed7953\"],[0.7777777777777778,\"#fb9f3a\"],[0.8888888888888888,\"#fdca26\"],[1.0,\"#f0f921\"]],\"type\":\"surface\"}],\"table\":[{\"cells\":{\"fill\":{\"color\":\"#EBF0F8\"},\"line\":{\"color\":\"white\"}},\"header\":{\"fill\":{\"color\":\"#C8D4E3\"},\"line\":{\"color\":\"white\"}},\"type\":\"table\"}]},\"layout\":{\"annotationdefaults\":{\"arrowcolor\":\"#2a3f5f\",\"arrowhead\":0,\"arrowwidth\":1},\"autotypenumbers\":\"strict\",\"coloraxis\":{\"colorbar\":{\"outlinewidth\":0,\"ticks\":\"\"}},\"colorscale\":{\"diverging\":[[0,\"#8e0152\"],[0.1,\"#c51b7d\"],[0.2,\"#de77ae\"],[0.3,\"#f1b6da\"],[0.4,\"#fde0ef\"],[0.5,\"#f7f7f7\"],[0.6,\"#e6f5d0\"],[0.7,\"#b8e186\"],[0.8,\"#7fbc41\"],[0.9,\"#4d9221\"],[1,\"#276419\"]],\"sequential\":[[0.0,\"#0d0887\"],[0.1111111111111111,\"#46039f\"],[0.2222222222222222,\"#7201a8\"],[0.3333333333333333,\"#9c179e\"],[0.4444444444444444,\"#bd3786\"],[0.5555555555555556,\"#d8576b\"],[0.6666666666666666,\"#ed7953\"],[0.7777777777777778,\"#fb9f3a\"],[0.8888888888888888,\"#fdca26\"],[1.0,\"#f0f921\"]],\"sequentialminus\":[[0.0,\"#0d0887\"],[0.1111111111111111,\"#46039f\"],[0.2222222222222222,\"#7201a8\"],[0.3333333333333333,\"#9c179e\"],[0.4444444444444444,\"#bd3786\"],[0.5555555555555556,\"#d8576b\"],[0.6666666666666666,\"#ed7953\"],[0.7777777777777778,\"#fb9f3a\"],[0.8888888888888888,\"#fdca26\"],[1.0,\"#f0f921\"]]},\"colorway\":[\"#636efa\",\"#EF553B\",\"#00cc96\",\"#ab63fa\",\"#FFA15A\",\"#19d3f3\",\"#FF6692\",\"#B6E880\",\"#FF97FF\",\"#FECB52\"],\"font\":{\"color\":\"#2a3f5f\"},\"geo\":{\"bgcolor\":\"white\",\"lakecolor\":\"white\",\"landcolor\":\"#E5ECF6\",\"showlakes\":true,\"showland\":true,\"subunitcolor\":\"white\"},\"hoverlabel\":{\"align\":\"left\"},\"hovermode\":\"closest\",\"mapbox\":{\"style\":\"light\"},\"paper_bgcolor\":\"white\",\"plot_bgcolor\":\"#E5ECF6\",\"polar\":{\"angularaxis\":{\"gridcolor\":\"white\",\"linecolor\":\"white\",\"ticks\":\"\"},\"bgcolor\":\"#E5ECF6\",\"radialaxis\":{\"gridcolor\":\"white\",\"linecolor\":\"white\",\"ticks\":\"\"}},\"scene\":{\"xaxis\":{\"backgroundcolor\":\"#E5ECF6\",\"gridcolor\":\"white\",\"gridwidth\":2,\"linecolor\":\"white\",\"showbackground\":true,\"ticks\":\"\",\"zerolinecolor\":\"white\"},\"yaxis\":{\"backgroundcolor\":\"#E5ECF6\",\"gridcolor\":\"white\",\"gridwidth\":2,\"linecolor\":\"white\",\"showbackground\":true,\"ticks\":\"\",\"zerolinecolor\":\"white\"},\"zaxis\":{\"backgroundcolor\":\"#E5ECF6\",\"gridcolor\":\"white\",\"gridwidth\":2,\"linecolor\":\"white\",\"showbackground\":true,\"ticks\":\"\",\"zerolinecolor\":\"white\"}},\"shapedefaults\":{\"line\":{\"color\":\"#2a3f5f\"}},\"ternary\":{\"aaxis\":{\"gridcolor\":\"white\",\"linecolor\":\"white\",\"ticks\":\"\"},\"baxis\":{\"gridcolor\":\"white\",\"linecolor\":\"white\",\"ticks\":\"\"},\"bgcolor\":\"#E5ECF6\",\"caxis\":{\"gridcolor\":\"white\",\"linecolor\":\"white\",\"ticks\":\"\"}},\"title\":{\"x\":0.05},\"xaxis\":{\"automargin\":true,\"gridcolor\":\"white\",\"linecolor\":\"white\",\"ticks\":\"\",\"title\":{\"standoff\":15},\"zerolinecolor\":\"white\",\"zerolinewidth\":2},\"yaxis\":{\"automargin\":true,\"gridcolor\":\"white\",\"linecolor\":\"white\",\"ticks\":\"\",\"title\":{\"standoff\":15},\"zerolinecolor\":\"white\",\"zerolinewidth\":2}}},\"title\":{\"font\":{\"color\":\"#4D5663\"}},\"xaxis\":{\"anchor\":\"y\",\"domain\":[0.0,0.3],\"gridcolor\":\"#E1E5ED\",\"showgrid\":false,\"tickfont\":{\"color\":\"#4D5663\"},\"title\":{\"font\":{\"color\":\"#4D5663\"},\"text\":\"\"},\"zerolinecolor\":\"#E1E5ED\"},\"yaxis\":{\"anchor\":\"x\",\"domain\":[0.7133333333333334,1.0],\"gridcolor\":\"#E1E5ED\",\"showgrid\":false,\"tickfont\":{\"color\":\"#4D5663\"},\"title\":{\"font\":{\"color\":\"#4D5663\"},\"text\":\"\"},\"zerolinecolor\":\"#E1E5ED\"},\"xaxis2\":{\"anchor\":\"y2\",\"domain\":[0.35,0.6499999999999999],\"gridcolor\":\"#E1E5ED\",\"showgrid\":false,\"tickfont\":{\"color\":\"#4D5663\"},\"title\":{\"font\":{\"color\":\"#4D5663\"},\"text\":\"\"},\"zerolinecolor\":\"#E1E5ED\"},\"yaxis2\":{\"anchor\":\"x2\",\"domain\":[0.7133333333333334,1.0],\"gridcolor\":\"#E1E5ED\",\"showgrid\":false,\"tickfont\":{\"color\":\"#4D5663\"},\"title\":{\"font\":{\"color\":\"#4D5663\"},\"text\":\"\"},\"zerolinecolor\":\"#E1E5ED\"},\"xaxis3\":{\"anchor\":\"y3\",\"domain\":[0.7,1.0],\"gridcolor\":\"#E1E5ED\",\"showgrid\":false,\"tickfont\":{\"color\":\"#4D5663\"},\"title\":{\"font\":{\"color\":\"#4D5663\"},\"text\":\"\"},\"zerolinecolor\":\"#E1E5ED\"},\"yaxis3\":{\"anchor\":\"x3\",\"domain\":[0.7133333333333334,1.0],\"gridcolor\":\"#E1E5ED\",\"showgrid\":false,\"tickfont\":{\"color\":\"#4D5663\"},\"title\":{\"font\":{\"color\":\"#4D5663\"},\"text\":\"\"},\"zerolinecolor\":\"#E1E5ED\"},\"xaxis4\":{\"anchor\":\"y4\",\"domain\":[0.0,0.3],\"gridcolor\":\"#E1E5ED\",\"showgrid\":false,\"tickfont\":{\"color\":\"#4D5663\"},\"title\":{\"font\":{\"color\":\"#4D5663\"},\"text\":\"\"},\"zerolinecolor\":\"#E1E5ED\"},\"yaxis4\":{\"anchor\":\"x4\",\"domain\":[0.3566666666666667,0.6433333333333333],\"gridcolor\":\"#E1E5ED\",\"showgrid\":false,\"tickfont\":{\"color\":\"#4D5663\"},\"title\":{\"font\":{\"color\":\"#4D5663\"},\"text\":\"\"},\"zerolinecolor\":\"#E1E5ED\"},\"xaxis5\":{\"anchor\":\"y5\",\"domain\":[0.35,0.6499999999999999],\"gridcolor\":\"#E1E5ED\",\"showgrid\":false,\"tickfont\":{\"color\":\"#4D5663\"},\"title\":{\"font\":{\"color\":\"#4D5663\"},\"text\":\"\"},\"zerolinecolor\":\"#E1E5ED\"},\"yaxis5\":{\"anchor\":\"x5\",\"domain\":[0.3566666666666667,0.6433333333333333],\"gridcolor\":\"#E1E5ED\",\"showgrid\":false,\"tickfont\":{\"color\":\"#4D5663\"},\"title\":{\"font\":{\"color\":\"#4D5663\"},\"text\":\"\"},\"zerolinecolor\":\"#E1E5ED\"},\"xaxis6\":{\"anchor\":\"y6\",\"domain\":[0.7,1.0],\"gridcolor\":\"#E1E5ED\",\"showgrid\":false,\"tickfont\":{\"color\":\"#4D5663\"},\"title\":{\"font\":{\"color\":\"#4D5663\"},\"text\":\"\"},\"zerolinecolor\":\"#E1E5ED\"},\"yaxis6\":{\"anchor\":\"x6\",\"domain\":[0.3566666666666667,0.6433333333333333],\"gridcolor\":\"#E1E5ED\",\"showgrid\":false,\"tickfont\":{\"color\":\"#4D5663\"},\"title\":{\"font\":{\"color\":\"#4D5663\"},\"text\":\"\"},\"zerolinecolor\":\"#E1E5ED\"},\"xaxis7\":{\"anchor\":\"y7\",\"domain\":[0.0,0.3],\"gridcolor\":\"#E1E5ED\",\"showgrid\":false,\"tickfont\":{\"color\":\"#4D5663\"},\"title\":{\"font\":{\"color\":\"#4D5663\"},\"text\":\"\"},\"zerolinecolor\":\"#E1E5ED\"},\"yaxis7\":{\"anchor\":\"x7\",\"domain\":[0.0,0.2866666666666667],\"gridcolor\":\"#E1E5ED\",\"showgrid\":false,\"tickfont\":{\"color\":\"#4D5663\"},\"title\":{\"font\":{\"color\":\"#4D5663\"},\"text\":\"\"},\"zerolinecolor\":\"#E1E5ED\"},\"xaxis8\":{\"anchor\":\"y8\",\"domain\":[0.35,0.6499999999999999],\"gridcolor\":\"#E1E5ED\",\"showgrid\":false,\"tickfont\":{\"color\":\"#4D5663\"},\"title\":{\"font\":{\"color\":\"#4D5663\"},\"text\":\"\"},\"zerolinecolor\":\"#E1E5ED\"},\"yaxis8\":{\"anchor\":\"x8\",\"domain\":[0.0,0.2866666666666667],\"gridcolor\":\"#E1E5ED\",\"showgrid\":false,\"tickfont\":{\"color\":\"#4D5663\"},\"title\":{\"font\":{\"color\":\"#4D5663\"},\"text\":\"\"},\"zerolinecolor\":\"#E1E5ED\"},\"xaxis9\":{\"anchor\":\"y9\",\"domain\":[0.7,1.0],\"gridcolor\":\"#E1E5ED\",\"showgrid\":false,\"tickfont\":{\"color\":\"#4D5663\"},\"title\":{\"font\":{\"color\":\"#4D5663\"},\"text\":\"\"},\"zerolinecolor\":\"#E1E5ED\"},\"yaxis9\":{\"anchor\":\"x9\",\"domain\":[0.0,0.2866666666666667],\"gridcolor\":\"#E1E5ED\",\"showgrid\":false,\"tickfont\":{\"color\":\"#4D5663\"},\"title\":{\"font\":{\"color\":\"#4D5663\"},\"text\":\"\"},\"zerolinecolor\":\"#E1E5ED\"}},                        {\"showLink\": true, \"linkText\": \"Export to plot.ly\", \"plotlyServerURL\": \"https://plot.ly\", \"responsive\": true}                    ).then(function(){\n",
       "                            \n",
       "var gd = document.getElementById('bb6691b6-52e6-4214-b89c-fa1f74ed228c');\n",
       "var x = new MutationObserver(function (mutations, observer) {{\n",
       "        var display = window.getComputedStyle(gd).display;\n",
       "        if (!display || display === 'none') {{\n",
       "            console.log([gd, 'removed!']);\n",
       "            Plotly.purge(gd);\n",
       "            observer.disconnect();\n",
       "        }}\n",
       "}});\n",
       "\n",
       "// Listen for the removal of the full notebook cells\n",
       "var notebookContainer = gd.closest('#notebook-container');\n",
       "if (notebookContainer) {{\n",
       "    x.observe(notebookContainer, {childList: true});\n",
       "}}\n",
       "\n",
       "// Listen for the clearing of the current output cell\n",
       "var outputEl = gd.closest('.output');\n",
       "if (outputEl) {{\n",
       "    x.observe(outputEl, {childList: true});\n",
       "}}\n",
       "\n",
       "                        })                };                });            </script>        </div>"
      ]
     },
     "metadata": {},
     "output_type": "display_data"
    }
   ],
   "source": [
    "df4.scatter_matrix()"
   ]
  },
  {
   "cell_type": "code",
   "execution_count": null,
   "metadata": {},
   "outputs": [],
   "source": []
  }
 ],
 "metadata": {
  "kernelspec": {
   "display_name": "Python 3.10.4 64-bit",
   "language": "python",
   "name": "python3"
  },
  "language_info": {
   "codemirror_mode": {
    "name": "ipython",
    "version": 3
   },
   "file_extension": ".py",
   "mimetype": "text/x-python",
   "name": "python",
   "nbconvert_exporter": "python",
   "pygments_lexer": "ipython3",
   "version": "3.10.4"
  },
  "orig_nbformat": 4,
  "vscode": {
   "interpreter": {
    "hash": "916dbcbb3f70747c44a77c7bcd40155683ae19c65e1c03b4aa3499c5328201f1"
   }
  }
 },
 "nbformat": 4,
 "nbformat_minor": 2
}
