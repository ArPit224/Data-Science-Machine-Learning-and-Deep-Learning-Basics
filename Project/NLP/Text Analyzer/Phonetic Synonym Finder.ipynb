{
 "cells": [
  {
   "cell_type": "code",
   "execution_count": 105,
   "metadata": {},
   "outputs": [],
   "source": [
    "import pandas as pd\n",
    "from nltk.corpus import words\n",
    "import string"
   ]
  },
  {
   "cell_type": "code",
   "execution_count": 106,
   "metadata": {},
   "outputs": [],
   "source": [
    "def soundex(input):\n",
    "    \n",
    "    output = []\n",
    "    input = input.lower()\n",
    "    \n",
    "    temp = [c for c in input if c not in [\"a\", \"e\", \"i\", \"o\", \"u\"]]\n",
    "    \n",
    "    temp = temp[1:len(temp)]\n",
    "    for i in temp:\n",
    "        \n",
    "        if(i in [\"b\", \"f\", \"p\", \"v\"]):\n",
    "            output.append(\"1\")\n",
    "            \n",
    "        elif(i in [\"c\", \"g\", \"j\", \"k\", \"q\", \"s\", \"x\", \"z\"]):\n",
    "            output.append(\"2\")\n",
    "            \n",
    "        elif(i in [\"d\", \"t\"]):\n",
    "            output.append(\"3\")\n",
    "        \n",
    "        elif(i in [\"l\"]):\n",
    "            output.append(\"4\")\n",
    "            \n",
    "        elif(i in [\"m\", \"n\"]):\n",
    "            output.append(\"5\")\n",
    "            \n",
    "        elif(i in [\"r\"]):\n",
    "            output.append(\"6\")\n",
    "            \n",
    "        elif(i in [\"h\", \"w\", \"y\"]):\n",
    "            #asch is french phoneme for h\n",
    "            if(True):\n",
    "                output.append(i.upper()) \n",
    "        else:\n",
    "            output.append(\"\")\n",
    "    return output"
   ]
  },
  {
   "cell_type": "code",
   "execution_count": 107,
   "metadata": {},
   "outputs": [],
   "source": [
    "def soundexCleaner(input, mainInput):\n",
    "    output = []\n",
    "    output_ = []\n",
    "    \n",
    "    output.append(mainInput[0].upper())\n",
    "    \n",
    "    i = 1\n",
    "    \n",
    "    while(i < len(input)):\n",
    "        \n",
    "        if(i != len(input)):\n",
    "    \n",
    "            try:\n",
    "                if(input[i] != input[i + 1]):\n",
    "                \n",
    "                    output.append(input[i])\n",
    "                    #Sets are unordered, Fuck\n",
    "                    \n",
    "            except:\n",
    "                output.append(input[len(input) - 1])\n",
    "        \n",
    "        i += 1\n",
    "                \n",
    "            \n",
    "\n",
    "                #Sets are unordered, Fuck\n",
    "                \n",
    "    if(len(output) < 8):\n",
    "        for i in range(8 - len(output)):\n",
    "            output.append(\"0\")\n",
    "            \n",
    "    \n",
    "\n",
    "        \n",
    "    return (\"\".join(output[0 : 8]))"
   ]
  },
  {
   "cell_type": "code",
   "execution_count": 108,
   "metadata": {},
   "outputs": [],
   "source": [
    "def phonemeGen(input):\n",
    "    \n",
    "    input = input.lower()\n",
    "    \n",
    "    return soundexCleaner(soundex(input), input)\n",
    "    "
   ]
  },
  {
   "cell_type": "code",
   "execution_count": 109,
   "metadata": {},
   "outputs": [
    {
     "data": {
      "text/plain": [
       "'H4000000'"
      ]
     },
     "execution_count": 109,
     "metadata": {},
     "output_type": "execute_result"
    }
   ],
   "source": [
    "phonemeGen(\"hello\")"
   ]
  },
  {
   "cell_type": "code",
   "execution_count": 110,
   "metadata": {},
   "outputs": [],
   "source": [
    "dictEn = pd.DataFrame(data = words.words(), columns = [\"words\"])"
   ]
  },
  {
   "cell_type": "code",
   "execution_count": 111,
   "metadata": {},
   "outputs": [],
   "source": [
    "dictEn[\"phonetic\"] = dictEn[\"words\"].apply(phonemeGen)"
   ]
  },
  {
   "cell_type": "code",
   "execution_count": 112,
   "metadata": {},
   "outputs": [],
   "source": [
    "#Now the big boy coding"
   ]
  },
  {
   "cell_type": "code",
   "execution_count": null,
   "metadata": {},
   "outputs": [],
   "source": []
  },
  {
   "cell_type": "code",
   "execution_count": null,
   "metadata": {},
   "outputs": [],
   "source": []
  },
  {
   "cell_type": "code",
   "execution_count": 113,
   "metadata": {},
   "outputs": [],
   "source": [
    "def phonemeSyn(a, b):\n",
    "    \n",
    "    a = [c for c in a]\n",
    "    b = [c for c in b]\n",
    "    \n",
    "    count = 0\n",
    "    \n",
    "    for i in range(4):\n",
    "        if(a[i] == b[i]):\n",
    "            count += 1\n",
    "            \n",
    "        \n",
    "    \n",
    "    return count "
   ]
  },
  {
   "cell_type": "code",
   "execution_count": 114,
   "metadata": {},
   "outputs": [],
   "source": [
    "dictEn.sort_values(by = \"phonetic\", inplace = True)"
   ]
  },
  {
   "cell_type": "code",
   "execution_count": 115,
   "metadata": {},
   "outputs": [],
   "source": [
    "dictEn.reset_index(drop = True, inplace = True)"
   ]
  },
  {
   "cell_type": "code",
   "execution_count": 116,
   "metadata": {},
   "outputs": [],
   "source": [
    "dictIndex = dictEn.copy(deep = True)\n",
    "dictIndex = dictIndex.set_index(\"words\")"
   ]
  },
  {
   "cell_type": "code",
   "execution_count": 117,
   "metadata": {},
   "outputs": [
    {
     "data": {
      "text/html": [
       "<div>\n",
       "<style scoped>\n",
       "    .dataframe tbody tr th:only-of-type {\n",
       "        vertical-align: middle;\n",
       "    }\n",
       "\n",
       "    .dataframe tbody tr th {\n",
       "        vertical-align: top;\n",
       "    }\n",
       "\n",
       "    .dataframe thead th {\n",
       "        text-align: right;\n",
       "    }\n",
       "</style>\n",
       "<table border=\"1\" class=\"dataframe\">\n",
       "  <thead>\n",
       "    <tr style=\"text-align: right;\">\n",
       "      <th></th>\n",
       "      <th>phonetic</th>\n",
       "    </tr>\n",
       "    <tr>\n",
       "      <th>words</th>\n",
       "      <th></th>\n",
       "    </tr>\n",
       "  </thead>\n",
       "  <tbody>\n",
       "    <tr>\n",
       "      <th>A</th>\n",
       "      <td>A0000000</td>\n",
       "    </tr>\n",
       "    <tr>\n",
       "      <th>Akawai</th>\n",
       "      <td>A0000000</td>\n",
       "    </tr>\n",
       "    <tr>\n",
       "      <th>ake</th>\n",
       "      <td>A0000000</td>\n",
       "    </tr>\n",
       "    <tr>\n",
       "      <th>akeake</th>\n",
       "      <td>A0000000</td>\n",
       "    </tr>\n",
       "    <tr>\n",
       "      <th>akebi</th>\n",
       "      <td>A0000000</td>\n",
       "    </tr>\n",
       "    <tr>\n",
       "      <th>...</th>\n",
       "      <td>...</td>\n",
       "    </tr>\n",
       "    <tr>\n",
       "      <th>zoocytium</th>\n",
       "      <td>ZY350000</td>\n",
       "    </tr>\n",
       "    <tr>\n",
       "      <th>zooerythrin</th>\n",
       "      <td>ZY3H6500</td>\n",
       "    </tr>\n",
       "    <tr>\n",
       "      <th>zoodynamic</th>\n",
       "      <td>ZY520000</td>\n",
       "    </tr>\n",
       "    <tr>\n",
       "      <th>zinyamunga</th>\n",
       "      <td>ZY520000</td>\n",
       "    </tr>\n",
       "    <tr>\n",
       "      <th>zoodynamics</th>\n",
       "      <td>ZY520000</td>\n",
       "    </tr>\n",
       "  </tbody>\n",
       "</table>\n",
       "<p>236736 rows × 1 columns</p>\n",
       "</div>"
      ],
      "text/plain": [
       "             phonetic\n",
       "words                \n",
       "A            A0000000\n",
       "Akawai       A0000000\n",
       "ake          A0000000\n",
       "akeake       A0000000\n",
       "akebi        A0000000\n",
       "...               ...\n",
       "zoocytium    ZY350000\n",
       "zooerythrin  ZY3H6500\n",
       "zoodynamic   ZY520000\n",
       "zinyamunga   ZY520000\n",
       "zoodynamics  ZY520000\n",
       "\n",
       "[236736 rows x 1 columns]"
      ]
     },
     "execution_count": 117,
     "metadata": {},
     "output_type": "execute_result"
    }
   ],
   "source": [
    "dictIndex"
   ]
  },
  {
   "cell_type": "code",
   "execution_count": 118,
   "metadata": {},
   "outputs": [],
   "source": [
    "indexRange = range(len(dictEn))"
   ]
  },
  {
   "cell_type": "code",
   "execution_count": 119,
   "metadata": {},
   "outputs": [],
   "source": [
    "dictIndex[\"index\"] = indexRange"
   ]
  },
  {
   "cell_type": "code",
   "execution_count": 120,
   "metadata": {},
   "outputs": [
    {
     "data": {
      "text/html": [
       "<div>\n",
       "<style scoped>\n",
       "    .dataframe tbody tr th:only-of-type {\n",
       "        vertical-align: middle;\n",
       "    }\n",
       "\n",
       "    .dataframe tbody tr th {\n",
       "        vertical-align: top;\n",
       "    }\n",
       "\n",
       "    .dataframe thead th {\n",
       "        text-align: right;\n",
       "    }\n",
       "</style>\n",
       "<table border=\"1\" class=\"dataframe\">\n",
       "  <thead>\n",
       "    <tr style=\"text-align: right;\">\n",
       "      <th></th>\n",
       "      <th>phonetic</th>\n",
       "      <th>index</th>\n",
       "    </tr>\n",
       "    <tr>\n",
       "      <th>words</th>\n",
       "      <th></th>\n",
       "      <th></th>\n",
       "    </tr>\n",
       "  </thead>\n",
       "  <tbody>\n",
       "    <tr>\n",
       "      <th>A</th>\n",
       "      <td>A0000000</td>\n",
       "      <td>0</td>\n",
       "    </tr>\n",
       "    <tr>\n",
       "      <th>Akawai</th>\n",
       "      <td>A0000000</td>\n",
       "      <td>1</td>\n",
       "    </tr>\n",
       "    <tr>\n",
       "      <th>ake</th>\n",
       "      <td>A0000000</td>\n",
       "      <td>2</td>\n",
       "    </tr>\n",
       "    <tr>\n",
       "      <th>akeake</th>\n",
       "      <td>A0000000</td>\n",
       "      <td>3</td>\n",
       "    </tr>\n",
       "    <tr>\n",
       "      <th>akebi</th>\n",
       "      <td>A0000000</td>\n",
       "      <td>4</td>\n",
       "    </tr>\n",
       "    <tr>\n",
       "      <th>...</th>\n",
       "      <td>...</td>\n",
       "      <td>...</td>\n",
       "    </tr>\n",
       "    <tr>\n",
       "      <th>zoocytium</th>\n",
       "      <td>ZY350000</td>\n",
       "      <td>236731</td>\n",
       "    </tr>\n",
       "    <tr>\n",
       "      <th>zooerythrin</th>\n",
       "      <td>ZY3H6500</td>\n",
       "      <td>236732</td>\n",
       "    </tr>\n",
       "    <tr>\n",
       "      <th>zoodynamic</th>\n",
       "      <td>ZY520000</td>\n",
       "      <td>236733</td>\n",
       "    </tr>\n",
       "    <tr>\n",
       "      <th>zinyamunga</th>\n",
       "      <td>ZY520000</td>\n",
       "      <td>236734</td>\n",
       "    </tr>\n",
       "    <tr>\n",
       "      <th>zoodynamics</th>\n",
       "      <td>ZY520000</td>\n",
       "      <td>236735</td>\n",
       "    </tr>\n",
       "  </tbody>\n",
       "</table>\n",
       "<p>236736 rows × 2 columns</p>\n",
       "</div>"
      ],
      "text/plain": [
       "             phonetic   index\n",
       "words                        \n",
       "A            A0000000       0\n",
       "Akawai       A0000000       1\n",
       "ake          A0000000       2\n",
       "akeake       A0000000       3\n",
       "akebi        A0000000       4\n",
       "...               ...     ...\n",
       "zoocytium    ZY350000  236731\n",
       "zooerythrin  ZY3H6500  236732\n",
       "zoodynamic   ZY520000  236733\n",
       "zinyamunga   ZY520000  236734\n",
       "zoodynamics  ZY520000  236735\n",
       "\n",
       "[236736 rows x 2 columns]"
      ]
     },
     "execution_count": 120,
     "metadata": {},
     "output_type": "execute_result"
    }
   ],
   "source": [
    "dictIndex"
   ]
  },
  {
   "cell_type": "code",
   "execution_count": 121,
   "metadata": {},
   "outputs": [],
   "source": [
    "def synGen(input):\n",
    "    \n",
    "    output = []\n",
    "    input = input.lower()\n",
    "    \n",
    "    if(input in words.words()):\n",
    "        \n",
    "        index = dictIndex.loc[input, \"index\"]\n",
    "\n",
    "        try:\n",
    "            for i in range(index - 2, index + 3):\n",
    "                output.append(dictEn[\"words\"][i])\n",
    "            \n",
    "        except:\n",
    "            try:\n",
    "                for i in range(index, index + 5):\n",
    "                    output.append(dictEn[\"words\"][i])\n",
    "                    \n",
    "            except:\n",
    "                try:\n",
    "                    for i in range(index[0] - 2, index[0] + 3):\n",
    "                        output.append(dictEn[\"words\"][i])\n",
    "                except:\n",
    "                    for i in range(index[0] - 1, index[0] + 1):\n",
    "                        output.append(dictEn[\"words\"][i])\n",
    "        return output\n",
    "    else:\n",
    "        return \"Not find in dictionary, Please Check Spelling and Try again\""
   ]
  },
  {
   "cell_type": "code",
   "execution_count": 122,
   "metadata": {},
   "outputs": [
    {
     "data": {
      "text/plain": [
       "['biliate', 'Brodie', 'bread', 'blood', 'bred']"
      ]
     },
     "execution_count": 122,
     "metadata": {},
     "output_type": "execute_result"
    }
   ],
   "source": [
    "synGen(\"bread\")"
   ]
  },
  {
   "cell_type": "code",
   "execution_count": 123,
   "metadata": {},
   "outputs": [
    {
     "data": {
      "text/html": [
       "<div>\n",
       "<style scoped>\n",
       "    .dataframe tbody tr th:only-of-type {\n",
       "        vertical-align: middle;\n",
       "    }\n",
       "\n",
       "    .dataframe tbody tr th {\n",
       "        vertical-align: top;\n",
       "    }\n",
       "\n",
       "    .dataframe thead th {\n",
       "        text-align: right;\n",
       "    }\n",
       "</style>\n",
       "<table border=\"1\" class=\"dataframe\">\n",
       "  <thead>\n",
       "    <tr style=\"text-align: right;\">\n",
       "      <th></th>\n",
       "      <th>words</th>\n",
       "      <th>phonetic</th>\n",
       "    </tr>\n",
       "  </thead>\n",
       "  <tbody>\n",
       "    <tr>\n",
       "      <th>0</th>\n",
       "      <td>A</td>\n",
       "      <td>A0000000</td>\n",
       "    </tr>\n",
       "    <tr>\n",
       "      <th>1</th>\n",
       "      <td>Akawai</td>\n",
       "      <td>A0000000</td>\n",
       "    </tr>\n",
       "    <tr>\n",
       "      <th>2</th>\n",
       "      <td>ake</td>\n",
       "      <td>A0000000</td>\n",
       "    </tr>\n",
       "    <tr>\n",
       "      <th>3</th>\n",
       "      <td>akeake</td>\n",
       "      <td>A0000000</td>\n",
       "    </tr>\n",
       "    <tr>\n",
       "      <th>4</th>\n",
       "      <td>akebi</td>\n",
       "      <td>A0000000</td>\n",
       "    </tr>\n",
       "    <tr>\n",
       "      <th>...</th>\n",
       "      <td>...</td>\n",
       "      <td>...</td>\n",
       "    </tr>\n",
       "    <tr>\n",
       "      <th>236731</th>\n",
       "      <td>zoocytium</td>\n",
       "      <td>ZY350000</td>\n",
       "    </tr>\n",
       "    <tr>\n",
       "      <th>236732</th>\n",
       "      <td>zooerythrin</td>\n",
       "      <td>ZY3H6500</td>\n",
       "    </tr>\n",
       "    <tr>\n",
       "      <th>236733</th>\n",
       "      <td>zoodynamic</td>\n",
       "      <td>ZY520000</td>\n",
       "    </tr>\n",
       "    <tr>\n",
       "      <th>236734</th>\n",
       "      <td>zinyamunga</td>\n",
       "      <td>ZY520000</td>\n",
       "    </tr>\n",
       "    <tr>\n",
       "      <th>236735</th>\n",
       "      <td>zoodynamics</td>\n",
       "      <td>ZY520000</td>\n",
       "    </tr>\n",
       "  </tbody>\n",
       "</table>\n",
       "<p>236736 rows × 2 columns</p>\n",
       "</div>"
      ],
      "text/plain": [
       "              words  phonetic\n",
       "0                 A  A0000000\n",
       "1            Akawai  A0000000\n",
       "2               ake  A0000000\n",
       "3            akeake  A0000000\n",
       "4             akebi  A0000000\n",
       "...             ...       ...\n",
       "236731    zoocytium  ZY350000\n",
       "236732  zooerythrin  ZY3H6500\n",
       "236733   zoodynamic  ZY520000\n",
       "236734   zinyamunga  ZY520000\n",
       "236735  zoodynamics  ZY520000\n",
       "\n",
       "[236736 rows x 2 columns]"
      ]
     },
     "execution_count": 123,
     "metadata": {},
     "output_type": "execute_result"
    }
   ],
   "source": [
    "dictEn"
   ]
  },
  {
   "cell_type": "code",
   "execution_count": 124,
   "metadata": {},
   "outputs": [
    {
     "data": {
      "text/plain": [
       "['asyla', 'aswell', 'apple', 'awheel', 'aquarelle']"
      ]
     },
     "execution_count": 124,
     "metadata": {},
     "output_type": "execute_result"
    }
   ],
   "source": [
    "synGen(\"apple\")"
   ]
  },
  {
   "cell_type": "code",
   "execution_count": 125,
   "metadata": {},
   "outputs": [],
   "source": [
    "from textblob import TextBlob\n",
    "from textblob import Word"
   ]
  },
  {
   "cell_type": "code",
   "execution_count": 126,
   "metadata": {},
   "outputs": [
    {
     "data": {
      "text/plain": [
       "TextBlob(\"I am in\")"
      ]
     },
     "execution_count": 126,
     "metadata": {},
     "output_type": "execute_result"
    }
   ],
   "source": [
    "blob = TextBlob(\"I am fin\")\n",
    "blob.correct()"
   ]
  },
  {
   "cell_type": "code",
   "execution_count": 127,
   "metadata": {},
   "outputs": [],
   "source": [
    "w = Word(\"Russ\")"
   ]
  },
  {
   "cell_type": "code",
   "execution_count": 128,
   "metadata": {},
   "outputs": [
    {
     "data": {
      "text/plain": [
       "[('Fuss', 0.9166666666666666), ('Muss', 0.08333333333333333)]"
      ]
     },
     "execution_count": 128,
     "metadata": {},
     "output_type": "execute_result"
    }
   ],
   "source": [
    "w.spellcheck()"
   ]
  },
  {
   "cell_type": "code",
   "execution_count": 129,
   "metadata": {},
   "outputs": [],
   "source": [
    "def soundexV2(input):\n",
    "    \n",
    "    output = []\n",
    "    input = input.lower()\n",
    "    \n",
    "    temp = [c for c in input if c not in [\"a\", \"e\", \"i\", \"o\", \"u\"]]\n",
    "    \n",
    "    temp = temp[1:len(temp)]\n",
    "    for i in temp:\n",
    "        \n",
    "        if(i in [\"b\", \"f\", \"p\", \"v\"]):\n",
    "            output.append(\"1\")\n",
    "            \n",
    "        elif(i in [\"c\", \"g\", \"j\", \"k\", \"q\", \"s\", \"x\", \"z\"]):\n",
    "            output.append(\"2\")\n",
    "            \n",
    "        elif(i in [\"d\", \"t\"]):\n",
    "            output.append(\"3\")\n",
    "        \n",
    "        elif(i in [\"l\"]):\n",
    "            output.append(\"4\")\n",
    "            \n",
    "        elif(i in [\"m\", \"n\"]):\n",
    "            output.append(\"5\")\n",
    "            \n",
    "        elif(i in [\"r\"]):\n",
    "            output.append(\"6\")\n",
    "            \n",
    "        elif(i in [\"h\", \"w\", \"y\"]):\n",
    "            #asch is french phoneme for h\n",
    "            \n",
    "            output.append(\"0\") \n",
    "        else:\n",
    "            output.append(\"0\")\n",
    "    return output"
   ]
  },
  {
   "cell_type": "code",
   "execution_count": 130,
   "metadata": {},
   "outputs": [],
   "source": [
    "def phonemeGenV2(input):\n",
    "    \n",
    "    input = input.lower()\n",
    "    \n",
    "    return soundexCleaner(soundexV2(input), input)\n",
    "\n",
    "dictEn[\"phonetic2\"] = dictEn[\"words\"].apply(phonemeGenV2)\n",
    "    "
   ]
  },
  {
   "cell_type": "code",
   "execution_count": 131,
   "metadata": {},
   "outputs": [],
   "source": [
    "dictEn2 = dictEn.copy(deep = True).sort_values(by = \"phonetic2\")"
   ]
  },
  {
   "cell_type": "code",
   "execution_count": 132,
   "metadata": {},
   "outputs": [
    {
     "data": {
      "text/html": [
       "<div>\n",
       "<style scoped>\n",
       "    .dataframe tbody tr th:only-of-type {\n",
       "        vertical-align: middle;\n",
       "    }\n",
       "\n",
       "    .dataframe tbody tr th {\n",
       "        vertical-align: top;\n",
       "    }\n",
       "\n",
       "    .dataframe thead th {\n",
       "        text-align: right;\n",
       "    }\n",
       "</style>\n",
       "<table border=\"1\" class=\"dataframe\">\n",
       "  <thead>\n",
       "    <tr style=\"text-align: right;\">\n",
       "      <th></th>\n",
       "      <th>phonetic</th>\n",
       "      <th>phonetic2</th>\n",
       "      <th>index</th>\n",
       "    </tr>\n",
       "    <tr>\n",
       "      <th>words</th>\n",
       "      <th></th>\n",
       "      <th></th>\n",
       "      <th></th>\n",
       "    </tr>\n",
       "  </thead>\n",
       "  <tbody>\n",
       "    <tr>\n",
       "      <th>A</th>\n",
       "      <td>A0000000</td>\n",
       "      <td>A0000000</td>\n",
       "      <td>0</td>\n",
       "    </tr>\n",
       "    <tr>\n",
       "      <th>adenia</th>\n",
       "      <td>A0000000</td>\n",
       "      <td>A0000000</td>\n",
       "      <td>1</td>\n",
       "    </tr>\n",
       "    <tr>\n",
       "      <th>asoak</th>\n",
       "      <td>A0000000</td>\n",
       "      <td>A0000000</td>\n",
       "      <td>2</td>\n",
       "    </tr>\n",
       "    <tr>\n",
       "      <th>asok</th>\n",
       "      <td>A0000000</td>\n",
       "      <td>A0000000</td>\n",
       "      <td>3</td>\n",
       "    </tr>\n",
       "    <tr>\n",
       "      <th>abate</th>\n",
       "      <td>A0000000</td>\n",
       "      <td>A0000000</td>\n",
       "      <td>4</td>\n",
       "    </tr>\n",
       "    <tr>\n",
       "      <th>...</th>\n",
       "      <td>...</td>\n",
       "      <td>...</td>\n",
       "      <td>...</td>\n",
       "    </tr>\n",
       "    <tr>\n",
       "      <th>zoeform</th>\n",
       "      <td>Z6500000</td>\n",
       "      <td>Z6500000</td>\n",
       "      <td>236731</td>\n",
       "    </tr>\n",
       "    <tr>\n",
       "      <th>Zyrian</th>\n",
       "      <td>Z6500000</td>\n",
       "      <td>Z6500000</td>\n",
       "      <td>236732</td>\n",
       "    </tr>\n",
       "    <tr>\n",
       "      <th>Zyrenian</th>\n",
       "      <td>Z6500000</td>\n",
       "      <td>Z6500000</td>\n",
       "      <td>236733</td>\n",
       "    </tr>\n",
       "    <tr>\n",
       "      <th>Zaparan</th>\n",
       "      <td>Z6500000</td>\n",
       "      <td>Z6500000</td>\n",
       "      <td>236734</td>\n",
       "    </tr>\n",
       "    <tr>\n",
       "      <th>zoocurrent</th>\n",
       "      <td>Z6530000</td>\n",
       "      <td>Z6530000</td>\n",
       "      <td>236735</td>\n",
       "    </tr>\n",
       "  </tbody>\n",
       "</table>\n",
       "<p>236736 rows × 3 columns</p>\n",
       "</div>"
      ],
      "text/plain": [
       "            phonetic phonetic2   index\n",
       "words                                 \n",
       "A           A0000000  A0000000       0\n",
       "adenia      A0000000  A0000000       1\n",
       "asoak       A0000000  A0000000       2\n",
       "asok        A0000000  A0000000       3\n",
       "abate       A0000000  A0000000       4\n",
       "...              ...       ...     ...\n",
       "zoeform     Z6500000  Z6500000  236731\n",
       "Zyrian      Z6500000  Z6500000  236732\n",
       "Zyrenian    Z6500000  Z6500000  236733\n",
       "Zaparan     Z6500000  Z6500000  236734\n",
       "zoocurrent  Z6530000  Z6530000  236735\n",
       "\n",
       "[236736 rows x 3 columns]"
      ]
     },
     "execution_count": 132,
     "metadata": {},
     "output_type": "execute_result"
    }
   ],
   "source": [
    "dictIndexV2 = dictEn2.set_index(\"words\", drop = True)\n",
    "dictIndexV2[\"index\"] = range(236736)\n",
    "dictIndexV2"
   ]
  },
  {
   "cell_type": "code",
   "execution_count": 133,
   "metadata": {},
   "outputs": [],
   "source": [
    "def synGen2(input):\n",
    "    \n",
    "    output = []\n",
    "    input = input.lower()\n",
    "    \n",
    "    if(input in words.words()):\n",
    "        \n",
    "        index = dictIndexV2.loc[input, \"index\"]\n",
    "\n",
    "        try:\n",
    "            for i in range(index - 2, index + 3):\n",
    "                output.append(dictEn2[\"words\"][i])\n",
    "            \n",
    "        except:\n",
    "            try:\n",
    "                for i in range(index, index + 5):\n",
    "                    output.append(dictEn2[\"words\"][i])\n",
    "                    \n",
    "            except:\n",
    "                try:\n",
    "                    for i in range(index[0] - 2, index[0] + 3):\n",
    "                        output.append(dictEn2[\"words\"][i])\n",
    "                except:\n",
    "                    for i in range(index[0] - 1, index[0] + 1):\n",
    "                        output.append(dictEn2[\"words\"][i])\n",
    "        return output\n",
    "    else:\n",
    "        return \"Not find in dictionary, Please Check Spelling and Try again\""
   ]
  },
  {
   "cell_type": "code",
   "execution_count": 138,
   "metadata": {},
   "outputs": [],
   "source": [
    "def phoneticSynGenFinal(input):\n",
    "    print(f\"SynGen Type 1: {synGen(input)}\\nSynGen Type 2: {synGen2(input)}\")"
   ]
  },
  {
   "cell_type": "code",
   "execution_count": 139,
   "metadata": {},
   "outputs": [
    {
     "data": {
      "text/html": [
       "<div>\n",
       "<style scoped>\n",
       "    .dataframe tbody tr th:only-of-type {\n",
       "        vertical-align: middle;\n",
       "    }\n",
       "\n",
       "    .dataframe tbody tr th {\n",
       "        vertical-align: top;\n",
       "    }\n",
       "\n",
       "    .dataframe thead th {\n",
       "        text-align: right;\n",
       "    }\n",
       "</style>\n",
       "<table border=\"1\" class=\"dataframe\">\n",
       "  <thead>\n",
       "    <tr style=\"text-align: right;\">\n",
       "      <th></th>\n",
       "      <th>words</th>\n",
       "      <th>phonetic</th>\n",
       "      <th>phonetic2</th>\n",
       "    </tr>\n",
       "  </thead>\n",
       "  <tbody>\n",
       "    <tr>\n",
       "      <th>0</th>\n",
       "      <td>A</td>\n",
       "      <td>A0000000</td>\n",
       "      <td>A0000000</td>\n",
       "    </tr>\n",
       "    <tr>\n",
       "      <th>1</th>\n",
       "      <td>Akawai</td>\n",
       "      <td>A0000000</td>\n",
       "      <td>A0000000</td>\n",
       "    </tr>\n",
       "    <tr>\n",
       "      <th>2</th>\n",
       "      <td>ake</td>\n",
       "      <td>A0000000</td>\n",
       "      <td>A0000000</td>\n",
       "    </tr>\n",
       "    <tr>\n",
       "      <th>3</th>\n",
       "      <td>akeake</td>\n",
       "      <td>A0000000</td>\n",
       "      <td>A0000000</td>\n",
       "    </tr>\n",
       "    <tr>\n",
       "      <th>4</th>\n",
       "      <td>akebi</td>\n",
       "      <td>A0000000</td>\n",
       "      <td>A0000000</td>\n",
       "    </tr>\n",
       "    <tr>\n",
       "      <th>...</th>\n",
       "      <td>...</td>\n",
       "      <td>...</td>\n",
       "      <td>...</td>\n",
       "    </tr>\n",
       "    <tr>\n",
       "      <th>236731</th>\n",
       "      <td>zoocytium</td>\n",
       "      <td>ZY350000</td>\n",
       "      <td>Z0350000</td>\n",
       "    </tr>\n",
       "    <tr>\n",
       "      <th>236732</th>\n",
       "      <td>zooerythrin</td>\n",
       "      <td>ZY3H6500</td>\n",
       "      <td>Z0306500</td>\n",
       "    </tr>\n",
       "    <tr>\n",
       "      <th>236733</th>\n",
       "      <td>zoodynamic</td>\n",
       "      <td>ZY520000</td>\n",
       "      <td>Z0520000</td>\n",
       "    </tr>\n",
       "    <tr>\n",
       "      <th>236734</th>\n",
       "      <td>zinyamunga</td>\n",
       "      <td>ZY520000</td>\n",
       "      <td>Z0520000</td>\n",
       "    </tr>\n",
       "    <tr>\n",
       "      <th>236735</th>\n",
       "      <td>zoodynamics</td>\n",
       "      <td>ZY520000</td>\n",
       "      <td>Z0520000</td>\n",
       "    </tr>\n",
       "  </tbody>\n",
       "</table>\n",
       "<p>236736 rows × 3 columns</p>\n",
       "</div>"
      ],
      "text/plain": [
       "              words  phonetic phonetic2\n",
       "0                 A  A0000000  A0000000\n",
       "1            Akawai  A0000000  A0000000\n",
       "2               ake  A0000000  A0000000\n",
       "3            akeake  A0000000  A0000000\n",
       "4             akebi  A0000000  A0000000\n",
       "...             ...       ...       ...\n",
       "236731    zoocytium  ZY350000  Z0350000\n",
       "236732  zooerythrin  ZY3H6500  Z0306500\n",
       "236733   zoodynamic  ZY520000  Z0520000\n",
       "236734   zinyamunga  ZY520000  Z0520000\n",
       "236735  zoodynamics  ZY520000  Z0520000\n",
       "\n",
       "[236736 rows x 3 columns]"
      ]
     },
     "execution_count": 139,
     "metadata": {},
     "output_type": "execute_result"
    }
   ],
   "source": [
    "dictEn"
   ]
  },
  {
   "cell_type": "code",
   "execution_count": 154,
   "metadata": {},
   "outputs": [
    {
     "name": "stdout",
     "output_type": "stream",
     "text": [
      "SynGen Type 1: ['obese', 'Odin', 'opaque', 'Opata', 'ope']\n",
      "SynGen Type 2: ['olease', 'oime', 'off', 'oilcup', 'outleap']\n"
     ]
    }
   ],
   "source": [
    "phoneticSynGenFinal(\"opaque\")"
   ]
  },
  {
   "cell_type": "code",
   "execution_count": null,
   "metadata": {},
   "outputs": [],
   "source": []
  }
 ],
 "metadata": {
  "kernelspec": {
   "display_name": "Python 3.10.4 64-bit",
   "language": "python",
   "name": "python3"
  },
  "language_info": {
   "codemirror_mode": {
    "name": "ipython",
    "version": 3
   },
   "file_extension": ".py",
   "mimetype": "text/x-python",
   "name": "python",
   "nbconvert_exporter": "python",
   "pygments_lexer": "ipython3",
   "version": "3.10.4"
  },
  "orig_nbformat": 4,
  "vscode": {
   "interpreter": {
    "hash": "916dbcbb3f70747c44a77c7bcd40155683ae19c65e1c03b4aa3499c5328201f1"
   }
  }
 },
 "nbformat": 4,
 "nbformat_minor": 2
}
