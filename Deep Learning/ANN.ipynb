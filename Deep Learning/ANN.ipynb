{
 "cells": [
  {
   "cell_type": "code",
   "execution_count": 71,
   "metadata": {},
   "outputs": [],
   "source": [
    "def verifier(test, true, accuracy):\n",
    "    \n",
    "    accuracy_ = test/true\n",
    "    \n",
    "    if accuracy_ > accuracy and accuracy_ < 1:\n",
    "        return False\n",
    "    \n",
    "    else:\n",
    "        return True"
   ]
  },
  {
   "cell_type": "code",
   "execution_count": 72,
   "metadata": {},
   "outputs": [
    {
     "data": {
      "text/plain": [
       "False"
      ]
     },
     "execution_count": 72,
     "metadata": {},
     "output_type": "execute_result"
    }
   ],
   "source": [
    "verifier(12, 13, 0.9)"
   ]
  },
  {
   "cell_type": "code",
   "execution_count": 73,
   "metadata": {},
   "outputs": [],
   "source": [
    "import random\n",
    "\n",
    "def perceptron1D(xTrain, yTrain):\n",
    "    \n",
    "    k = [0, 0, 0]\n",
    "    \n",
    "    prediction = 1\n",
    "        \n",
    "    while verifier(prediction, yTrain, 0.8):\n",
    "        prediction = 0\n",
    "        \n",
    "        k = [10 * random.random(), 10 * random.random(), 10 * random.random()]\n",
    "                \n",
    "        for i in [0, 1, 2]:\n",
    "            prediction += k[i] * xTrain[i]\n",
    "            \n",
    "    \n",
    "    return {\"k\": k, \"prediction\": prediction}"
   ]
  },
  {
   "cell_type": "code",
   "execution_count": 74,
   "metadata": {},
   "outputs": [],
   "source": [
    "#input is an array of x, y, and z. We have to reach true value"
   ]
  },
  {
   "cell_type": "code",
   "execution_count": 79,
   "metadata": {},
   "outputs": [
    {
     "data": {
      "text/plain": [
       "{'k': [2.589020778371837, 0.40032956701080424, 2.147106271107045],\n",
       " 'prediction': 98.30998725714579}"
      ]
     },
     "execution_count": 79,
     "metadata": {},
     "output_type": "execute_result"
    }
   ],
   "source": [
    "perceptron1D([10, 20, 30], 100)"
   ]
  },
  {
   "cell_type": "code",
   "execution_count": null,
   "metadata": {},
   "outputs": [],
   "source": []
  }
 ],
 "metadata": {
  "kernelspec": {
   "display_name": "Python 3.10.4 64-bit",
   "language": "python",
   "name": "python3"
  },
  "language_info": {
   "codemirror_mode": {
    "name": "ipython",
    "version": 3
   },
   "file_extension": ".py",
   "mimetype": "text/x-python",
   "name": "python",
   "nbconvert_exporter": "python",
   "pygments_lexer": "ipython3",
   "version": "3.10.4"
  },
  "orig_nbformat": 4,
  "vscode": {
   "interpreter": {
    "hash": "916dbcbb3f70747c44a77c7bcd40155683ae19c65e1c03b4aa3499c5328201f1"
   }
  }
 },
 "nbformat": 4,
 "nbformat_minor": 2
}
